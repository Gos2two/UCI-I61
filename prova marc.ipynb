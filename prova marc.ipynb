{
  "cells": [
    {
      "cell_type": "markdown",
      "metadata": {},
      "source": [
        "# 🧠 Análisis de la Readmisión a la UCI en Pacientes con Hemorragia Intracerebral (MIMIC-IV)"
      ]
    },
    {
      "cell_type": "markdown",
      "metadata": {},
      "source": [
        "## 1. 🔧 Configuración Inicial"
      ]
    },
    {
      "cell_type": "code",
      "execution_count": null,
      "metadata": {},
      "outputs": [
        {
          "name": "stdout",
          "output_type": "stream",
          "text": [
            "Requirement already satisfied: google-cloud-bigquery in /opt/homebrew/Caskroom/miniforge/base/envs/ogi/lib/python3.9/site-packages (3.31.0)\n",
            "Requirement already satisfied: google-api-core<3.0.0,>=2.11.1 in /opt/homebrew/Caskroom/miniforge/base/envs/ogi/lib/python3.9/site-packages (from google-api-core[grpc]<3.0.0,>=2.11.1->google-cloud-bigquery) (2.24.2)\n",
            "Requirement already satisfied: google-auth<3.0.0,>=2.14.1 in /opt/homebrew/Caskroom/miniforge/base/envs/ogi/lib/python3.9/site-packages (from google-cloud-bigquery) (2.40.0)\n",
            "Requirement already satisfied: google-cloud-core<3.0.0,>=2.4.1 in /opt/homebrew/Caskroom/miniforge/base/envs/ogi/lib/python3.9/site-packages (from google-cloud-bigquery) (2.4.3)\n",
            "Requirement already satisfied: google-resumable-media<3.0.0,>=2.0.0 in /opt/homebrew/Caskroom/miniforge/base/envs/ogi/lib/python3.9/site-packages (from google-cloud-bigquery) (2.7.2)\n",
            "Requirement already satisfied: packaging>=24.2.0 in /opt/homebrew/Caskroom/miniforge/base/envs/ogi/lib/python3.9/site-packages (from google-cloud-bigquery) (25.0)\n",
            "Requirement already satisfied: python-dateutil<3.0.0,>=2.8.2 in /opt/homebrew/Caskroom/miniforge/base/envs/ogi/lib/python3.9/site-packages (from google-cloud-bigquery) (2.9.0.post0)\n",
            "Requirement already satisfied: requests<3.0.0,>=2.21.0 in /opt/homebrew/Caskroom/miniforge/base/envs/ogi/lib/python3.9/site-packages (from google-cloud-bigquery) (2.32.3)\n",
            "Requirement already satisfied: googleapis-common-protos<2.0.0,>=1.56.2 in /opt/homebrew/Caskroom/miniforge/base/envs/ogi/lib/python3.9/site-packages (from google-api-core<3.0.0,>=2.11.1->google-api-core[grpc]<3.0.0,>=2.11.1->google-cloud-bigquery) (1.70.0)\n",
            "Requirement already satisfied: protobuf!=3.20.0,!=3.20.1,!=4.21.0,!=4.21.1,!=4.21.2,!=4.21.3,!=4.21.4,!=4.21.5,<7.0.0,>=3.19.5 in /opt/homebrew/Caskroom/miniforge/base/envs/ogi/lib/python3.9/site-packages (from google-api-core<3.0.0,>=2.11.1->google-api-core[grpc]<3.0.0,>=2.11.1->google-cloud-bigquery) (6.31.0rc2)\n",
            "Requirement already satisfied: proto-plus<2.0.0,>=1.22.3 in /opt/homebrew/Caskroom/miniforge/base/envs/ogi/lib/python3.9/site-packages (from google-api-core<3.0.0,>=2.11.1->google-api-core[grpc]<3.0.0,>=2.11.1->google-cloud-bigquery) (1.26.1)\n",
            "Requirement already satisfied: grpcio<2.0dev,>=1.33.2 in /opt/homebrew/Caskroom/miniforge/base/envs/ogi/lib/python3.9/site-packages (from google-api-core[grpc]<3.0.0,>=2.11.1->google-cloud-bigquery) (1.72.0rc1)\n",
            "Requirement already satisfied: grpcio-status<2.0.dev0,>=1.33.2 in /opt/homebrew/Caskroom/miniforge/base/envs/ogi/lib/python3.9/site-packages (from google-api-core[grpc]<3.0.0,>=2.11.1->google-cloud-bigquery) (1.72.0rc1)\n",
            "Requirement already satisfied: cachetools<6.0,>=2.0.0 in /opt/homebrew/Caskroom/miniforge/base/envs/ogi/lib/python3.9/site-packages (from google-auth<3.0.0,>=2.14.1->google-cloud-bigquery) (5.5.2)\n",
            "Requirement already satisfied: pyasn1-modules>=0.2.1 in /opt/homebrew/Caskroom/miniforge/base/envs/ogi/lib/python3.9/site-packages (from google-auth<3.0.0,>=2.14.1->google-cloud-bigquery) (0.4.2)\n",
            "Requirement already satisfied: rsa<5,>=3.1.4 in /opt/homebrew/Caskroom/miniforge/base/envs/ogi/lib/python3.9/site-packages (from google-auth<3.0.0,>=2.14.1->google-cloud-bigquery) (4.9.1)\n",
            "Requirement already satisfied: google-crc32c<2.0dev,>=1.0 in /opt/homebrew/Caskroom/miniforge/base/envs/ogi/lib/python3.9/site-packages (from google-resumable-media<3.0.0,>=2.0.0->google-cloud-bigquery) (1.7.1)\n",
            "Requirement already satisfied: six>=1.5 in /opt/homebrew/Caskroom/miniforge/base/envs/ogi/lib/python3.9/site-packages (from python-dateutil<3.0.0,>=2.8.2->google-cloud-bigquery) (1.17.0)\n",
            "Requirement already satisfied: charset-normalizer<4,>=2 in /opt/homebrew/Caskroom/miniforge/base/envs/ogi/lib/python3.9/site-packages (from requests<3.0.0,>=2.21.0->google-cloud-bigquery) (3.4.2)\n",
            "Requirement already satisfied: idna<4,>=2.5 in /opt/homebrew/Caskroom/miniforge/base/envs/ogi/lib/python3.9/site-packages (from requests<3.0.0,>=2.21.0->google-cloud-bigquery) (3.10)\n",
            "Requirement already satisfied: urllib3<3,>=1.21.1 in /opt/homebrew/Caskroom/miniforge/base/envs/ogi/lib/python3.9/site-packages (from requests<3.0.0,>=2.21.0->google-cloud-bigquery) (2.4.0)\n",
            "Requirement already satisfied: certifi>=2017.4.17 in /opt/homebrew/Caskroom/miniforge/base/envs/ogi/lib/python3.9/site-packages (from requests<3.0.0,>=2.21.0->google-cloud-bigquery) (2025.4.26)\n",
            "Requirement already satisfied: pyasn1>=0.1.3 in /opt/homebrew/Caskroom/miniforge/base/envs/ogi/lib/python3.9/site-packages (from rsa<5,>=3.1.4->google-auth<3.0.0,>=2.14.1->google-cloud-bigquery) (0.6.1)\n",
            "Note: you may need to restart the kernel to use updated packages.\n"
          ]
        }
      ],
      "source": [
        "########################\n",
        "##### NO EXECUTAR ######\n",
        "########################\n",
        "\n",
        "pip install google-cloud-bigquery"
      ]
    },
    {
      "cell_type": "code",
      "execution_count": 1,
      "metadata": {},
      "outputs": [
        {
          "name": "stdout",
          "output_type": "stream",
          "text": [
            "Hello, World!\n"
          ]
        }
      ],
      "source": [
        "from google.cloud import bigquery\n",
        "from google.oauth2 import service_account\n",
        "\n",
        "# Path to your service account key file\n",
        "SERVICE_ACCOUNT_FILE = \"mimic-sergi.json\"\n",
        "PROJECT_ID = \"ogi-uci-i61\"\n",
        "\n",
        "# Create credentials and client\n",
        "credentials = service_account.Credentials.from_service_account_file(\n",
        "    SERVICE_ACCOUNT_FILE)\n",
        "\n",
        "client = bigquery.Client(credentials=credentials, project=PROJECT_ID)\n",
        "\n",
        "# Example query\n",
        "query = \"SELECT 'Hello, World!' AS greeting\"\n",
        "query_job = client.query(query)\n",
        "\n",
        "# Fetch results\n",
        "results = query_job.result()\n",
        "\n",
        "for row in results:\n",
        "    print(row.greeting)"
      ]
    },
    {
      "cell_type": "markdown",
      "metadata": {},
      "source": [
        "## 2. 📦 Extracción de Datos"
      ]
    },
    {
      "cell_type": "code",
      "execution_count": null,
      "metadata": {},
      "outputs": [
        {
          "name": "stdout",
          "output_type": "stream",
          "text": [
            "Defaulting to user installation because normal site-packages is not writeable\n",
            "Requirement already satisfied: pandas in /Users/marc/Library/Python/3.9/lib/python/site-packages (2.2.3)\n",
            "Requirement already satisfied: tzdata>=2022.7 in /Users/marc/Library/Python/3.9/lib/python/site-packages (from pandas) (2025.2)\n",
            "Requirement already satisfied: numpy>=1.22.4 in /Users/marc/Library/Python/3.9/lib/python/site-packages (from pandas) (1.26.4)\n",
            "Requirement already satisfied: pytz>=2020.1 in /Users/marc/Library/Python/3.9/lib/python/site-packages (from pandas) (2025.2)\n",
            "Requirement already satisfied: python-dateutil>=2.8.2 in /Users/marc/Library/Python/3.9/lib/python/site-packages (from pandas) (2.9.0.post0)\n",
            "Requirement already satisfied: six>=1.5 in /Applications/Xcode.app/Contents/Developer/Library/Frameworks/Python3.framework/Versions/3.9/lib/python3.9/site-packages (from python-dateutil>=2.8.2->pandas) (1.15.0)\n",
            "\u001b[33mWARNING: You are using pip version 21.2.4; however, version 25.1.1 is available.\n",
            "You should consider upgrading via the '/Applications/Xcode.app/Contents/Developer/usr/bin/python3 -m pip install --upgrade pip' command.\u001b[0m\n",
            "Note: you may need to restart the kernel to use updated packages.\n"
          ]
        }
      ],
      "source": [
        "########################\n",
        "##### NO EXECUTAR ######\n",
        "########################\n",
        "\n",
        "pip install pandas"
      ]
    },
    {
      "cell_type": "code",
      "execution_count": 2,
      "metadata": {},
      "outputs": [
        {
          "name": "stdout",
          "output_type": "stream",
          "text": [
            "2.1.4\n"
          ]
        }
      ],
      "source": [
        "import pandas as pd\n",
        "print(pd.__version__)  # Hauria de mostrar la versió (ex: '2.1.3')"
      ]
    },
    {
      "cell_type": "code",
      "execution_count": null,
      "metadata": {},
      "outputs": [
        {
          "name": "stdout",
          "output_type": "stream",
          "text": [
            "Defaulting to user installation because normal site-packages is not writeable\n",
            "Requirement already satisfied: pandas in /Users/marc/Library/Python/3.9/lib/python/site-packages (2.1.4)\n",
            "Collecting pandas\n",
            "  Using cached pandas-2.2.3-cp39-cp39-macosx_11_0_arm64.whl (11.3 MB)\n",
            "Requirement already satisfied: google-cloud-bigquery in /Users/marc/Library/Python/3.9/lib/python/site-packages (3.31.0)\n",
            "Requirement already satisfied: tzdata>=2022.7 in /Users/marc/Library/Python/3.9/lib/python/site-packages (from pandas) (2025.2)\n",
            "Requirement already satisfied: python-dateutil>=2.8.2 in /Users/marc/Library/Python/3.9/lib/python/site-packages (from pandas) (2.9.0.post0)\n",
            "Requirement already satisfied: pytz>=2020.1 in /Users/marc/Library/Python/3.9/lib/python/site-packages (from pandas) (2025.2)\n",
            "Requirement already satisfied: numpy>=1.22.4 in /Users/marc/Library/Python/3.9/lib/python/site-packages (from pandas) (1.26.4)\n",
            "Requirement already satisfied: google-api-core[grpc]<3.0.0,>=2.11.1 in /Users/marc/Library/Python/3.9/lib/python/site-packages (from google-cloud-bigquery) (2.24.2)\n",
            "Requirement already satisfied: google-auth<3.0.0,>=2.14.1 in /Users/marc/Library/Python/3.9/lib/python/site-packages (from google-cloud-bigquery) (2.39.0)\n",
            "Requirement already satisfied: packaging>=24.2.0 in /Users/marc/Library/Python/3.9/lib/python/site-packages (from google-cloud-bigquery) (25.0)\n",
            "Requirement already satisfied: google-cloud-core<3.0.0,>=2.4.1 in /Users/marc/Library/Python/3.9/lib/python/site-packages (from google-cloud-bigquery) (2.4.3)\n",
            "Requirement already satisfied: requests<3.0.0,>=2.21.0 in /Users/marc/Library/Python/3.9/lib/python/site-packages (from google-cloud-bigquery) (2.32.3)\n",
            "Requirement already satisfied: google-resumable-media<3.0.0,>=2.0.0 in /Users/marc/Library/Python/3.9/lib/python/site-packages (from google-cloud-bigquery) (2.7.2)\n",
            "Requirement already satisfied: protobuf!=3.20.0,!=3.20.1,!=4.21.0,!=4.21.1,!=4.21.2,!=4.21.3,!=4.21.4,!=4.21.5,<7.0.0,>=3.19.5 in /Users/marc/Library/Python/3.9/lib/python/site-packages (from google-api-core[grpc]<3.0.0,>=2.11.1->google-cloud-bigquery) (5.29.4)\n",
            "Requirement already satisfied: googleapis-common-protos<2.0.0,>=1.56.2 in /Users/marc/Library/Python/3.9/lib/python/site-packages (from google-api-core[grpc]<3.0.0,>=2.11.1->google-cloud-bigquery) (1.70.0)\n",
            "Requirement already satisfied: proto-plus<2.0.0,>=1.22.3 in /Users/marc/Library/Python/3.9/lib/python/site-packages (from google-api-core[grpc]<3.0.0,>=2.11.1->google-cloud-bigquery) (1.26.1)\n",
            "Requirement already satisfied: grpcio-status<2.0.dev0,>=1.33.2 in /Users/marc/Library/Python/3.9/lib/python/site-packages (from google-api-core[grpc]<3.0.0,>=2.11.1->google-cloud-bigquery) (1.71.0)\n",
            "Requirement already satisfied: grpcio<2.0dev,>=1.33.2 in /Users/marc/Library/Python/3.9/lib/python/site-packages (from google-api-core[grpc]<3.0.0,>=2.11.1->google-cloud-bigquery) (1.71.0)\n",
            "Requirement already satisfied: cachetools<6.0,>=2.0.0 in /Users/marc/Library/Python/3.9/lib/python/site-packages (from google-auth<3.0.0,>=2.14.1->google-cloud-bigquery) (5.5.2)\n",
            "Requirement already satisfied: rsa<5,>=3.1.4 in /Users/marc/Library/Python/3.9/lib/python/site-packages (from google-auth<3.0.0,>=2.14.1->google-cloud-bigquery) (4.9.1)\n",
            "Requirement already satisfied: pyasn1-modules>=0.2.1 in /Users/marc/Library/Python/3.9/lib/python/site-packages (from google-auth<3.0.0,>=2.14.1->google-cloud-bigquery) (0.4.2)\n",
            "Requirement already satisfied: google-crc32c<2.0dev,>=1.0 in /Users/marc/Library/Python/3.9/lib/python/site-packages (from google-resumable-media<3.0.0,>=2.0.0->google-cloud-bigquery) (1.7.1)\n",
            "Requirement already satisfied: pyasn1<0.7.0,>=0.6.1 in /Users/marc/Library/Python/3.9/lib/python/site-packages (from pyasn1-modules>=0.2.1->google-auth<3.0.0,>=2.14.1->google-cloud-bigquery) (0.6.1)\n",
            "Requirement already satisfied: six>=1.5 in /Applications/Xcode.app/Contents/Developer/Library/Frameworks/Python3.framework/Versions/3.9/lib/python3.9/site-packages (from python-dateutil>=2.8.2->pandas) (1.15.0)\n",
            "Requirement already satisfied: urllib3<3,>=1.21.1 in /Users/marc/Library/Python/3.9/lib/python/site-packages (from requests<3.0.0,>=2.21.0->google-cloud-bigquery) (2.4.0)\n",
            "Requirement already satisfied: certifi>=2017.4.17 in /Users/marc/Library/Python/3.9/lib/python/site-packages (from requests<3.0.0,>=2.21.0->google-cloud-bigquery) (2025.4.26)\n",
            "Requirement already satisfied: charset-normalizer<4,>=2 in /Users/marc/Library/Python/3.9/lib/python/site-packages (from requests<3.0.0,>=2.21.0->google-cloud-bigquery) (3.4.2)\n",
            "Requirement already satisfied: idna<4,>=2.5 in /Users/marc/Library/Python/3.9/lib/python/site-packages (from requests<3.0.0,>=2.21.0->google-cloud-bigquery) (3.10)\n",
            "Installing collected packages: pandas\n",
            "  Attempting uninstall: pandas\n",
            "    Found existing installation: pandas 2.1.4\n",
            "    Uninstalling pandas-2.1.4:\n",
            "      Successfully uninstalled pandas-2.1.4\n",
            "\u001b[31mERROR: pip's dependency resolver does not currently take into account all the packages that are installed. This behaviour is the source of the following dependency conflicts.\n",
            "sktime 0.26.0 requires pandas<2.2.0,>=1.1, but you have pandas 2.2.3 which is incompatible.\n",
            "pycaret 3.3.2 requires pandas<2.2.0, but you have pandas 2.2.3 which is incompatible.\u001b[0m\n",
            "Successfully installed pandas-2.2.3\n",
            "\u001b[33mWARNING: You are using pip version 21.2.4; however, version 25.1.1 is available.\n",
            "You should consider upgrading via the '/Applications/Xcode.app/Contents/Developer/usr/bin/python3 -m pip install --upgrade pip' command.\u001b[0m\n",
            "Note: you may need to restart the kernel to use updated packages.\n"
          ]
        }
      ],
      "source": [
        "########################\n",
        "##### NO EXECUTAR ######\n",
        "########################\n",
        "\n",
        "pip install --upgrade pandas google-cloud-bigquery"
      ]
    },
    {
      "cell_type": "code",
      "execution_count": 3,
      "metadata": {},
      "outputs": [
        {
          "name": "stdout",
          "output_type": "stream",
          "text": [
            "1.4.2\n"
          ]
        }
      ],
      "source": [
        "import db_dtypes\n",
        "print(db_dtypes.__version__)  # Hauria de mostrar la versió (ex: 1.2.0)\n"
      ]
    },
    {
      "cell_type": "code",
      "execution_count": 29,
      "metadata": {},
      "outputs": [
        {
          "data": {
            "text/html": [
              "<div>\n",
              "<style scoped>\n",
              "    .dataframe tbody tr th:only-of-type {\n",
              "        vertical-align: middle;\n",
              "    }\n",
              "\n",
              "    .dataframe tbody tr th {\n",
              "        vertical-align: top;\n",
              "    }\n",
              "\n",
              "    .dataframe thead th {\n",
              "        text-align: right;\n",
              "    }\n",
              "</style>\n",
              "<table border=\"1\" class=\"dataframe\">\n",
              "  <thead>\n",
              "    <tr style=\"text-align: right;\">\n",
              "      <th></th>\n",
              "      <th>subject_id</th>\n",
              "      <th>hadm_id</th>\n",
              "      <th>stay_id</th>\n",
              "      <th>gender</th>\n",
              "      <th>intime</th>\n",
              "      <th>outtime</th>\n",
              "      <th>icd_code</th>\n",
              "      <th>icd_version</th>\n",
              "      <th>long_title</th>\n",
              "      <th>gcs_verbal</th>\n",
              "      <th>gcs_motor</th>\n",
              "      <th>gcs_eyes</th>\n",
              "      <th>heart_rate</th>\n",
              "      <th>mbp</th>\n",
              "      <th>resp_rate</th>\n",
              "      <th>temperature</th>\n",
              "      <th>spo2</th>\n",
              "      <th>readmitted_stay</th>\n",
              "    </tr>\n",
              "  </thead>\n",
              "  <tbody>\n",
              "    <tr>\n",
              "      <th>0</th>\n",
              "      <td>10763729</td>\n",
              "      <td>25978404</td>\n",
              "      <td>36052003</td>\n",
              "      <td>M</td>\n",
              "      <td>2181-11-22 00:59:00</td>\n",
              "      <td>2181-12-07 17:27:23</td>\n",
              "      <td>431</td>\n",
              "      <td>9</td>\n",
              "      <td>Intracerebral hemorrhage</td>\n",
              "      <td>0.0</td>\n",
              "      <td>1.0</td>\n",
              "      <td>1.0</td>\n",
              "      <td>NaN</td>\n",
              "      <td>98.0</td>\n",
              "      <td>30.0</td>\n",
              "      <td>None</td>\n",
              "      <td>100.0</td>\n",
              "      <td>36052003</td>\n",
              "    </tr>\n",
              "    <tr>\n",
              "      <th>1</th>\n",
              "      <td>10763729</td>\n",
              "      <td>25978404</td>\n",
              "      <td>36434459</td>\n",
              "      <td>M</td>\n",
              "      <td>2181-12-09 01:21:42</td>\n",
              "      <td>2181-12-12 16:58:04</td>\n",
              "      <td>431</td>\n",
              "      <td>9</td>\n",
              "      <td>Intracerebral hemorrhage</td>\n",
              "      <td>4.0</td>\n",
              "      <td>6.0</td>\n",
              "      <td>4.0</td>\n",
              "      <td>NaN</td>\n",
              "      <td>90.0</td>\n",
              "      <td>NaN</td>\n",
              "      <td>None</td>\n",
              "      <td>NaN</td>\n",
              "      <td>&lt;NA&gt;</td>\n",
              "    </tr>\n",
              "    <tr>\n",
              "      <th>2</th>\n",
              "      <td>14306582</td>\n",
              "      <td>20415671</td>\n",
              "      <td>36446573</td>\n",
              "      <td>M</td>\n",
              "      <td>2158-12-01 07:36:00</td>\n",
              "      <td>2158-12-17 21:58:12</td>\n",
              "      <td>431</td>\n",
              "      <td>9</td>\n",
              "      <td>Intracerebral hemorrhage</td>\n",
              "      <td>0.0</td>\n",
              "      <td>5.0</td>\n",
              "      <td>2.0</td>\n",
              "      <td>NaN</td>\n",
              "      <td>NaN</td>\n",
              "      <td>NaN</td>\n",
              "      <td>None</td>\n",
              "      <td>NaN</td>\n",
              "      <td>&lt;NA&gt;</td>\n",
              "    </tr>\n",
              "    <tr>\n",
              "      <th>3</th>\n",
              "      <td>10173219</td>\n",
              "      <td>22913226</td>\n",
              "      <td>32333688</td>\n",
              "      <td>M</td>\n",
              "      <td>2153-11-24 17:45:48</td>\n",
              "      <td>2154-01-12 15:57:12</td>\n",
              "      <td>I69120</td>\n",
              "      <td>10</td>\n",
              "      <td>Aphasia following nontraumatic intracerebral h...</td>\n",
              "      <td>0.0</td>\n",
              "      <td>5.0</td>\n",
              "      <td>2.0</td>\n",
              "      <td>59.0</td>\n",
              "      <td>NaN</td>\n",
              "      <td>14.0</td>\n",
              "      <td>36.890000000</td>\n",
              "      <td>90.0</td>\n",
              "      <td>&lt;NA&gt;</td>\n",
              "    </tr>\n",
              "    <tr>\n",
              "      <th>4</th>\n",
              "      <td>10208612</td>\n",
              "      <td>26337634</td>\n",
              "      <td>37520781</td>\n",
              "      <td>M</td>\n",
              "      <td>2183-11-08 14:10:00</td>\n",
              "      <td>2183-11-09 13:06:17</td>\n",
              "      <td>I69122</td>\n",
              "      <td>10</td>\n",
              "      <td>Dysarthria following nontraumatic intracerebra...</td>\n",
              "      <td>1.0</td>\n",
              "      <td>4.0</td>\n",
              "      <td>1.0</td>\n",
              "      <td>69.0</td>\n",
              "      <td>NaN</td>\n",
              "      <td>15.0</td>\n",
              "      <td>None</td>\n",
              "      <td>92.0</td>\n",
              "      <td>&lt;NA&gt;</td>\n",
              "    </tr>\n",
              "    <tr>\n",
              "      <th>...</th>\n",
              "      <td>...</td>\n",
              "      <td>...</td>\n",
              "      <td>...</td>\n",
              "      <td>...</td>\n",
              "      <td>...</td>\n",
              "      <td>...</td>\n",
              "      <td>...</td>\n",
              "      <td>...</td>\n",
              "      <td>...</td>\n",
              "      <td>...</td>\n",
              "      <td>...</td>\n",
              "      <td>...</td>\n",
              "      <td>...</td>\n",
              "      <td>...</td>\n",
              "      <td>...</td>\n",
              "      <td>...</td>\n",
              "      <td>...</td>\n",
              "      <td>...</td>\n",
              "    </tr>\n",
              "    <tr>\n",
              "      <th>4155</th>\n",
              "      <td>11441946</td>\n",
              "      <td>23476544</td>\n",
              "      <td>32310637</td>\n",
              "      <td>M</td>\n",
              "      <td>2204-06-27 18:00:00</td>\n",
              "      <td>2204-07-17 14:15:10</td>\n",
              "      <td>I69120</td>\n",
              "      <td>10</td>\n",
              "      <td>Aphasia following nontraumatic intracerebral h...</td>\n",
              "      <td>0.0</td>\n",
              "      <td>6.0</td>\n",
              "      <td>4.0</td>\n",
              "      <td>NaN</td>\n",
              "      <td>NaN</td>\n",
              "      <td>NaN</td>\n",
              "      <td>None</td>\n",
              "      <td>99.0</td>\n",
              "      <td>&lt;NA&gt;</td>\n",
              "    </tr>\n",
              "    <tr>\n",
              "      <th>4156</th>\n",
              "      <td>13224789</td>\n",
              "      <td>25046035</td>\n",
              "      <td>35073158</td>\n",
              "      <td>M</td>\n",
              "      <td>2115-02-07 06:53:00</td>\n",
              "      <td>2115-02-08 21:22:08</td>\n",
              "      <td>I69198</td>\n",
              "      <td>10</td>\n",
              "      <td>Other sequelae of nontraumatic intracerebral h...</td>\n",
              "      <td>5.0</td>\n",
              "      <td>6.0</td>\n",
              "      <td>4.0</td>\n",
              "      <td>75.0</td>\n",
              "      <td>NaN</td>\n",
              "      <td>16.0</td>\n",
              "      <td>None</td>\n",
              "      <td>97.0</td>\n",
              "      <td>35073158</td>\n",
              "    </tr>\n",
              "    <tr>\n",
              "      <th>4157</th>\n",
              "      <td>17836650</td>\n",
              "      <td>25137236</td>\n",
              "      <td>36367318</td>\n",
              "      <td>F</td>\n",
              "      <td>2190-11-20 18:51:07</td>\n",
              "      <td>2190-11-25 15:40:46</td>\n",
              "      <td>I69192</td>\n",
              "      <td>10</td>\n",
              "      <td>Facial weakness following nontraumatic intrace...</td>\n",
              "      <td>5.0</td>\n",
              "      <td>6.0</td>\n",
              "      <td>4.0</td>\n",
              "      <td>80.0</td>\n",
              "      <td>NaN</td>\n",
              "      <td>12.0</td>\n",
              "      <td>None</td>\n",
              "      <td>96.0</td>\n",
              "      <td>&lt;NA&gt;</td>\n",
              "    </tr>\n",
              "    <tr>\n",
              "      <th>4158</th>\n",
              "      <td>18329507</td>\n",
              "      <td>29047609</td>\n",
              "      <td>30239029</td>\n",
              "      <td>F</td>\n",
              "      <td>2153-12-24 18:25:14</td>\n",
              "      <td>2153-12-25 22:32:45</td>\n",
              "      <td>I615</td>\n",
              "      <td>10</td>\n",
              "      <td>Nontraumatic intracerebral hemorrhage, intrave...</td>\n",
              "      <td>4.0</td>\n",
              "      <td>6.0</td>\n",
              "      <td>4.0</td>\n",
              "      <td>83.0</td>\n",
              "      <td>NaN</td>\n",
              "      <td>21.0</td>\n",
              "      <td>None</td>\n",
              "      <td>98.0</td>\n",
              "      <td>&lt;NA&gt;</td>\n",
              "    </tr>\n",
              "    <tr>\n",
              "      <th>4159</th>\n",
              "      <td>18329507</td>\n",
              "      <td>29047609</td>\n",
              "      <td>30982320</td>\n",
              "      <td>F</td>\n",
              "      <td>2153-12-14 03:11:00</td>\n",
              "      <td>2153-12-24 15:41:24</td>\n",
              "      <td>I615</td>\n",
              "      <td>10</td>\n",
              "      <td>Nontraumatic intracerebral hemorrhage, intrave...</td>\n",
              "      <td>4.0</td>\n",
              "      <td>6.0</td>\n",
              "      <td>4.0</td>\n",
              "      <td>73.0</td>\n",
              "      <td>83.0</td>\n",
              "      <td>18.0</td>\n",
              "      <td>36.830000000</td>\n",
              "      <td>95.0</td>\n",
              "      <td>30982320</td>\n",
              "    </tr>\n",
              "  </tbody>\n",
              "</table>\n",
              "<p>4160 rows × 18 columns</p>\n",
              "</div>"
            ],
            "text/plain": [
              "      subject_id   hadm_id   stay_id gender              intime  \\\n",
              "0       10763729  25978404  36052003      M 2181-11-22 00:59:00   \n",
              "1       10763729  25978404  36434459      M 2181-12-09 01:21:42   \n",
              "2       14306582  20415671  36446573      M 2158-12-01 07:36:00   \n",
              "3       10173219  22913226  32333688      M 2153-11-24 17:45:48   \n",
              "4       10208612  26337634  37520781      M 2183-11-08 14:10:00   \n",
              "...          ...       ...       ...    ...                 ...   \n",
              "4155    11441946  23476544  32310637      M 2204-06-27 18:00:00   \n",
              "4156    13224789  25046035  35073158      M 2115-02-07 06:53:00   \n",
              "4157    17836650  25137236  36367318      F 2190-11-20 18:51:07   \n",
              "4158    18329507  29047609  30239029      F 2153-12-24 18:25:14   \n",
              "4159    18329507  29047609  30982320      F 2153-12-14 03:11:00   \n",
              "\n",
              "                 outtime icd_code  icd_version  \\\n",
              "0    2181-12-07 17:27:23      431            9   \n",
              "1    2181-12-12 16:58:04      431            9   \n",
              "2    2158-12-17 21:58:12      431            9   \n",
              "3    2154-01-12 15:57:12   I69120           10   \n",
              "4    2183-11-09 13:06:17   I69122           10   \n",
              "...                  ...      ...          ...   \n",
              "4155 2204-07-17 14:15:10   I69120           10   \n",
              "4156 2115-02-08 21:22:08   I69198           10   \n",
              "4157 2190-11-25 15:40:46   I69192           10   \n",
              "4158 2153-12-25 22:32:45     I615           10   \n",
              "4159 2153-12-24 15:41:24     I615           10   \n",
              "\n",
              "                                             long_title  gcs_verbal  \\\n",
              "0                              Intracerebral hemorrhage         0.0   \n",
              "1                              Intracerebral hemorrhage         4.0   \n",
              "2                              Intracerebral hemorrhage         0.0   \n",
              "3     Aphasia following nontraumatic intracerebral h...         0.0   \n",
              "4     Dysarthria following nontraumatic intracerebra...         1.0   \n",
              "...                                                 ...         ...   \n",
              "4155  Aphasia following nontraumatic intracerebral h...         0.0   \n",
              "4156  Other sequelae of nontraumatic intracerebral h...         5.0   \n",
              "4157  Facial weakness following nontraumatic intrace...         5.0   \n",
              "4158  Nontraumatic intracerebral hemorrhage, intrave...         4.0   \n",
              "4159  Nontraumatic intracerebral hemorrhage, intrave...         4.0   \n",
              "\n",
              "      gcs_motor  gcs_eyes  heart_rate   mbp  resp_rate   temperature   spo2  \\\n",
              "0           1.0       1.0         NaN  98.0       30.0          None  100.0   \n",
              "1           6.0       4.0         NaN  90.0        NaN          None    NaN   \n",
              "2           5.0       2.0         NaN   NaN        NaN          None    NaN   \n",
              "3           5.0       2.0        59.0   NaN       14.0  36.890000000   90.0   \n",
              "4           4.0       1.0        69.0   NaN       15.0          None   92.0   \n",
              "...         ...       ...         ...   ...        ...           ...    ...   \n",
              "4155        6.0       4.0         NaN   NaN        NaN          None   99.0   \n",
              "4156        6.0       4.0        75.0   NaN       16.0          None   97.0   \n",
              "4157        6.0       4.0        80.0   NaN       12.0          None   96.0   \n",
              "4158        6.0       4.0        83.0   NaN       21.0          None   98.0   \n",
              "4159        6.0       4.0        73.0  83.0       18.0  36.830000000   95.0   \n",
              "\n",
              "      readmitted_stay  \n",
              "0            36052003  \n",
              "1                <NA>  \n",
              "2                <NA>  \n",
              "3                <NA>  \n",
              "4                <NA>  \n",
              "...               ...  \n",
              "4155             <NA>  \n",
              "4156         35073158  \n",
              "4157             <NA>  \n",
              "4158             <NA>  \n",
              "4159         30982320  \n",
              "\n",
              "[4160 rows x 18 columns]"
            ]
          },
          "execution_count": 29,
          "metadata": {},
          "output_type": "execute_result"
        }
      ],
      "source": [
        "query = \"\"\"\n",
        "SELECT\n",
        "  a.subject_id,\n",
        "  a.hadm_id,\n",
        "  a.stay_id,\n",
        "  p.gender,\n",
        "  a.intime,\n",
        "  a.outtime,\n",
        "  i.icd_code,\n",
        "  d.icd_version,\n",
        "  d.long_title,\n",
        "  s.gcs_verbal,\n",
        "  s.gcs_motor,\n",
        "  s.gcs_eyes,\n",
        "  vitals.heart_rate,\n",
        "  vitals.mbp,\n",
        "  vitals.resp_rate,\n",
        "  vitals.temperature,\n",
        "  vitals.spo2,\n",
        "  readmit.stay_id AS readmitted_stay\n",
        "FROM\n",
        "  `ogi-uci-i61.mimiciv_icu.icustays` a\n",
        "JOIN\n",
        "  `ogi-uci-i61.mimiciv_hosp.patients` p\n",
        "  ON a.subject_id = p.subject_id\n",
        "JOIN\n",
        "  `ogi-uci-i61.mimiciv_hosp.diagnoses_icd` i\n",
        "  ON a.hadm_id = i.hadm_id\n",
        "JOIN\n",
        "  `ogi-uci-i61.mimiciv_hosp.d_icd_diagnoses` d\n",
        "  ON i.icd_code = d.icd_code AND i.icd_version = d.icd_version\n",
        "LEFT JOIN (\n",
        "  -- Select first GCS per stay\n",
        "  SELECT\n",
        "    stay_id,\n",
        "    gcs_verbal,\n",
        "    gcs_motor,\n",
        "    gcs_eyes,\n",
        "    ROW_NUMBER() OVER (PARTITION BY stay_id ORDER BY charttime) AS rn\n",
        "  FROM\n",
        "    `ogi-uci-i61.mimiciv_derived.gcs`\n",
        ") s\n",
        "  ON a.stay_id = s.stay_id AND s.rn = 1\n",
        "LEFT JOIN (\n",
        "  -- Select first vitals per stay\n",
        "  SELECT\n",
        "    stay_id,\n",
        "    heart_rate,\n",
        "    mbp,\n",
        "    resp_rate,\n",
        "    temperature,\n",
        "    spo2,\n",
        "    ROW_NUMBER() OVER (PARTITION BY stay_id ORDER BY charttime) AS rn\n",
        "  FROM\n",
        "    `ogi-uci-i61.mimiciv_derived.vitalsign`\n",
        ") vitals\n",
        "  ON a.stay_id = vitals.stay_id AND vitals.rn = 1\n",
        "LEFT JOIN (\n",
        "  -- Identify next stay as readmission\n",
        "  SELECT\n",
        "    a1.subject_id,\n",
        "    a1.stay_id,\n",
        "    MIN(a2.stay_id) AS readmitted_stay\n",
        "  FROM\n",
        "    `ogi-uci-i61.mimiciv_icu.icustays` a1\n",
        "  JOIN\n",
        "    `ogi-uci-i61.mimiciv_icu.icustays` a2\n",
        "    ON a1.subject_id = a2.subject_id\n",
        "    AND a2.intime > a1.outtime\n",
        "  GROUP BY\n",
        "    a1.subject_id, a1.stay_id\n",
        ") readmit\n",
        "  ON a.subject_id = readmit.subject_id AND a.stay_id = readmit.stay_id\n",
        "WHERE\n",
        "  LOWER(d.long_title) LIKE '%intracerebral hemorrhage%'\n",
        "\"\"\"\n",
        "df = client.query(query).to_dataframe()\n",
        "\n",
        "df"
      ]
    },
    {
      "cell_type": "code",
      "execution_count": null,
      "metadata": {},
      "outputs": [
        {
          "name": "stdout",
          "output_type": "stream",
          "text": [
            "Defaulting to user installation because normal site-packages is not writeable\n",
            "Requirement already satisfied: sklearn in /Users/marc/Library/Python/3.9/lib/python/site-packages (0.0)\n",
            "Requirement already satisfied: scikit-learn in /Users/marc/Library/Python/3.9/lib/python/site-packages (from sklearn) (1.2.2)\n",
            "Requirement already satisfied: scipy>=1.3.2 in /Users/marc/Library/Python/3.9/lib/python/site-packages (from scikit-learn->sklearn) (1.13.1)\n",
            "Requirement already satisfied: joblib>=1.1.1 in /Users/marc/Library/Python/3.9/lib/python/site-packages (from scikit-learn->sklearn) (1.5.0)\n",
            "Requirement already satisfied: threadpoolctl>=2.0.0 in /Users/marc/Library/Python/3.9/lib/python/site-packages (from scikit-learn->sklearn) (3.6.0)\n",
            "Requirement already satisfied: numpy>=1.17.3 in /Users/marc/Library/Python/3.9/lib/python/site-packages (from scikit-learn->sklearn) (1.26.4)\n",
            "\u001b[33mWARNING: You are using pip version 21.2.4; however, version 25.1.1 is available.\n",
            "You should consider upgrading via the '/Applications/Xcode.app/Contents/Developer/usr/bin/python3 -m pip install --upgrade pip' command.\u001b[0m\n",
            "Note: you may need to restart the kernel to use updated packages.\n"
          ]
        }
      ],
      "source": [
        "########################\n",
        "##### NO EXECUTAR ######\n",
        "########################\n",
        "\n",
        "pip install sklearn"
      ]
    },
    {
      "cell_type": "markdown",
      "metadata": {},
      "source": [
        "## 3. 🧽 Preprocesamiento"
      ]
    },
    {
      "cell_type": "code",
      "execution_count": 5,
      "metadata": {},
      "outputs": [
        {
          "name": "stdout",
          "output_type": "stream",
          "text": [
            "subject_id                  Int64\n",
            "hadm_id                     Int64\n",
            "stay_id                     Int64\n",
            "gender                     object\n",
            "intime             datetime64[us]\n",
            "outtime            datetime64[us]\n",
            "icd_code                   object\n",
            "icd_version                 Int64\n",
            "long_title                 object\n",
            "gcs_verbal                float64\n",
            "gcs_motor                 float64\n",
            "gcs_eyes                  float64\n",
            "heart_rate                float64\n",
            "mbp                       float64\n",
            "resp_rate                 float64\n",
            "temperature                object\n",
            "spo2                      float64\n",
            "readmitted_stay             Int64\n",
            "dtype: object\n"
          ]
        }
      ],
      "source": [
        "import pandas as pd\n",
        "from sklearn.preprocessing import StandardScaler\n",
        "from sklearn.model_selection import train_test_split\n",
        "\n",
        "\n",
        "# Relleno de valores nulos\n",
        "# df.fillna(df.median(numeric_only=True), inplace=True) ## NO FUNCIONA pq estem intentant\n",
        "# reemplaçar tipus int a float.\n",
        "\n",
        "# Primer hauríem de mirar quins tipus de dades conté cada columna\n",
        "print(df.dtypes)\n",
        "\n",
        "# podem convertir totes les columnes Int64 a float64 ja que la funció median()\n",
        "# retorna sempre un valor float\n",
        "# com que hi ha columnes que contenen strings (object) no podem fer mediana , però \n",
        "# podem codificar-les amb la funció OneHotEncoder, que donarà valors 0 i 1 a strings\n",
        "# com de gènere home 'M' o dona 'F' (ex: 'M' → 0, 'F' → 1)\n"
      ]
    },
    {
      "cell_type": "code",
      "execution_count": 6,
      "metadata": {},
      "outputs": [],
      "source": [
        "from sklearn.preprocessing import OneHotEncoder\n",
        "\n",
        "# Codifica 'gender' (ex: 'M' → 0, 'F' → 1)\n",
        "encoder = OneHotEncoder()\n",
        "encoded_gender = encoder.fit_transform(df[['gender']]).toarray()\n",
        "\n",
        "# Reemplaça la columna original amb les noves columnes codificades\n",
        "df_encoded = pd.concat([df.drop(columns=['gender']), pd.DataFrame(encoded_gender, columns=encoder.get_feature_names_out(['gender']))], axis=1)"
      ]
    },
    {
      "cell_type": "code",
      "execution_count": null,
      "metadata": {},
      "outputs": [],
      "source": [
        "########################\n",
        "##### NO EXECUTAR ######\n",
        "########################\n",
        "\n",
        "# Escalado de características numéricas\n",
        "scaler = StandardScaler()\n",
        "features_scaled = scaler.fit_transform(df.select_dtypes(include='number'))\n",
        "\n",
        "# Target: readmisión\n",
        "df['readmitted'] = df['readmitted_stay'].notnull().astype(int)"
      ]
    },
    {
      "cell_type": "markdown",
      "metadata": {},
      "source": [
        "## 4. 📊 Modelado Predictivo"
      ]
    },
    {
      "cell_type": "code",
      "execution_count": 7,
      "metadata": {},
      "outputs": [
        {
          "name": "stdout",
          "output_type": "stream",
          "text": [
            "Nulls in readmitted_stay before fillna: 3222\n",
            "readmitted_stay summary: count              938.0\n",
            "mean     35030430.127932\n",
            "std       2878265.870109\n",
            "min           30024491.0\n",
            "25%           32506322.0\n",
            "50%           34949251.5\n",
            "75%          37500054.75\n",
            "max           39979862.0\n",
            "Name: readmitted_stay, dtype: Float64\n",
            "Class distribution in readmitted: readmitted\n",
            "0    3222\n",
            "1     938\n",
            "Name: count, dtype: int64\n"
          ]
        }
      ],
      "source": [
        "import pandas as pd\n",
        "from sklearn.preprocessing import StandardScaler\n",
        "from sklearn.model_selection import train_test_split\n",
        "\n",
        "# Inspect readmitted_stay\n",
        "print(\"Nulls in readmitted_stay before fillna:\", df['readmitted_stay'].isnull().sum())\n",
        "print(\"readmitted_stay summary:\", df['readmitted_stay'].describe())\n",
        "\n",
        "# Create readmitted (adjust based on readmitted_stay's meaning)\n",
        "df['readmitted'] = df['readmitted_stay'].notnull().astype(int)  # Or (df['readmitted_stay'] > 0).astype(int)\n",
        "\n",
        "# Verify readmitted\n",
        "print(\"Class distribution in readmitted:\", df['readmitted'].value_counts())\n",
        "if len(df['readmitted'].unique()) < 2:\n",
        "    raise ValueError(\"readmitted has only one class. Redefine the target.\")\n",
        "\n",
        "# Identify integer columns\n",
        "int_columns = df.select_dtypes(include=['Int64', 'int64']).columns\n",
        "\n",
        "# Fill NaNs with rounded medians for integer columns\n",
        "for col in int_columns:\n",
        "    median_val = df[col].median()\n",
        "    if not pd.isna(median_val):\n",
        "        df[col] = df[col].fillna(int(median_val))\n",
        "\n",
        "# Fill NaNs for other numeric columns, excluding readmitted_stay\n",
        "numeric_cols = df.select_dtypes(include='number').columns.difference(['readmitted_stay'])\n",
        "df[numeric_cols] = df[numeric_cols].fillna(df[numeric_cols].median())\n",
        "\n",
        "# Handle readmitted_stay separately\n",
        "df['readmitted_stay'] = df['readmitted_stay'].fillna(0)\n",
        "\n",
        "# Scale features\n",
        "\n",
        "scaler = StandardScaler()\n",
        "# Select numeric columns, excluding readmitted_stay and readmitted\n",
        "numeric_cols = df.select_dtypes(include='number').columns.difference(['readmitted_stay', 'readmitted'])\n",
        "features_scaled = scaler.fit_transform(df[numeric_cols])"
      ]
    },
    {
      "cell_type": "code",
      "execution_count": null,
      "metadata": {},
      "outputs": [
        {
          "name": "stdout",
          "output_type": "stream",
          "text": [
            "Collecting gradio\n",
            "  Downloading gradio-4.44.1-py3-none-any.whl.metadata (15 kB)\n",
            "Collecting aiofiles<24.0,>=22.0 (from gradio)\n",
            "  Downloading aiofiles-23.2.1-py3-none-any.whl.metadata (9.7 kB)\n",
            "Collecting anyio<5.0,>=3.0 (from gradio)\n",
            "  Downloading anyio-4.9.0-py3-none-any.whl.metadata (4.7 kB)\n",
            "Collecting fastapi<1.0 (from gradio)\n",
            "  Downloading fastapi-0.115.12-py3-none-any.whl.metadata (27 kB)\n",
            "Collecting ffmpy (from gradio)\n",
            "  Downloading ffmpy-0.5.0-py3-none-any.whl.metadata (3.0 kB)\n",
            "Collecting gradio-client==1.3.0 (from gradio)\n",
            "  Downloading gradio_client-1.3.0-py3-none-any.whl.metadata (7.1 kB)\n",
            "Collecting httpx>=0.24.1 (from gradio)\n",
            "  Downloading httpx-0.28.1-py3-none-any.whl.metadata (7.1 kB)\n",
            "Collecting huggingface-hub>=0.19.3 (from gradio)\n",
            "  Downloading huggingface_hub-0.30.2-py3-none-any.whl.metadata (13 kB)\n",
            "Requirement already satisfied: importlib-resources<7.0,>=1.3 in /opt/homebrew/Caskroom/miniforge/base/envs/ogi/lib/python3.9/site-packages (from gradio) (6.5.2)\n",
            "Requirement already satisfied: jinja2<4.0 in /opt/homebrew/Caskroom/miniforge/base/envs/ogi/lib/python3.9/site-packages (from gradio) (3.1.6)\n",
            "Collecting markupsafe~=2.0 (from gradio)\n",
            "  Downloading MarkupSafe-2.1.5-cp39-cp39-macosx_10_9_universal2.whl.metadata (3.0 kB)\n",
            "Requirement already satisfied: matplotlib~=3.0 in /opt/homebrew/Caskroom/miniforge/base/envs/ogi/lib/python3.9/site-packages (from gradio) (3.7.5)\n",
            "Requirement already satisfied: numpy<3.0,>=1.0 in /opt/homebrew/Caskroom/miniforge/base/envs/ogi/lib/python3.9/site-packages (from gradio) (1.26.4)\n",
            "Requirement already satisfied: orjson~=3.0 in /opt/homebrew/Caskroom/miniforge/base/envs/ogi/lib/python3.9/site-packages (from gradio) (3.10.18)\n",
            "Requirement already satisfied: packaging in /opt/homebrew/Caskroom/miniforge/base/envs/ogi/lib/python3.9/site-packages (from gradio) (25.0)\n",
            "Requirement already satisfied: pandas<3.0,>=1.0 in /opt/homebrew/Caskroom/miniforge/base/envs/ogi/lib/python3.9/site-packages (from gradio) (2.1.4)\n",
            "Collecting pillow<11.0,>=8.0 (from gradio)\n",
            "  Downloading pillow-10.4.0-cp39-cp39-macosx_11_0_arm64.whl.metadata (9.2 kB)\n",
            "Collecting pydantic>=2.0 (from gradio)\n",
            "  Downloading pydantic-2.11.4-py3-none-any.whl.metadata (66 kB)\n",
            "Collecting pydub (from gradio)\n",
            "  Downloading pydub-0.25.1-py2.py3-none-any.whl.metadata (1.4 kB)\n",
            "Collecting python-multipart>=0.0.9 (from gradio)\n",
            "  Downloading python_multipart-0.0.20-py3-none-any.whl.metadata (1.8 kB)\n",
            "Collecting pyyaml<7.0,>=5.0 (from gradio)\n",
            "  Downloading PyYAML-6.0.2-cp39-cp39-macosx_11_0_arm64.whl.metadata (2.1 kB)\n",
            "Collecting ruff>=0.2.2 (from gradio)\n",
            "  Downloading ruff-0.11.8-py3-none-macosx_11_0_arm64.whl.metadata (25 kB)\n",
            "Collecting semantic-version~=2.0 (from gradio)\n",
            "  Downloading semantic_version-2.10.0-py2.py3-none-any.whl.metadata (9.7 kB)\n",
            "Collecting tomlkit==0.12.0 (from gradio)\n",
            "  Downloading tomlkit-0.12.0-py3-none-any.whl.metadata (2.7 kB)\n",
            "Collecting typer<1.0,>=0.12 (from gradio)\n",
            "  Downloading typer-0.15.3-py3-none-any.whl.metadata (15 kB)\n",
            "Requirement already satisfied: typing-extensions~=4.0 in /opt/homebrew/Caskroom/miniforge/base/envs/ogi/lib/python3.9/site-packages (from gradio) (4.13.2)\n",
            "Requirement already satisfied: urllib3~=2.0 in /opt/homebrew/Caskroom/miniforge/base/envs/ogi/lib/python3.9/site-packages (from gradio) (2.4.0)\n",
            "Collecting uvicorn>=0.14.0 (from gradio)\n",
            "  Downloading uvicorn-0.34.2-py3-none-any.whl.metadata (6.5 kB)\n",
            "Collecting fsspec (from gradio-client==1.3.0->gradio)\n",
            "  Downloading fsspec-2025.3.2-py3-none-any.whl.metadata (11 kB)\n",
            "Collecting websockets<13.0,>=10.0 (from gradio-client==1.3.0->gradio)\n",
            "  Downloading websockets-12.0-cp39-cp39-macosx_11_0_arm64.whl.metadata (6.6 kB)\n",
            "Requirement already satisfied: exceptiongroup>=1.0.2 in /opt/homebrew/Caskroom/miniforge/base/envs/ogi/lib/python3.9/site-packages (from anyio<5.0,>=3.0->gradio) (1.2.2)\n",
            "Requirement already satisfied: idna>=2.8 in /opt/homebrew/Caskroom/miniforge/base/envs/ogi/lib/python3.9/site-packages (from anyio<5.0,>=3.0->gradio) (3.10)\n",
            "Collecting sniffio>=1.1 (from anyio<5.0,>=3.0->gradio)\n",
            "  Downloading sniffio-1.3.1-py3-none-any.whl.metadata (3.9 kB)\n",
            "Collecting starlette<0.47.0,>=0.40.0 (from fastapi<1.0->gradio)\n",
            "  Downloading starlette-0.46.2-py3-none-any.whl.metadata (6.2 kB)\n",
            "Requirement already satisfied: zipp>=3.1.0 in /opt/homebrew/Caskroom/miniforge/base/envs/ogi/lib/python3.9/site-packages (from importlib-resources<7.0,>=1.3->gradio) (3.21.0)\n",
            "Requirement already satisfied: contourpy>=1.0.1 in /opt/homebrew/Caskroom/miniforge/base/envs/ogi/lib/python3.9/site-packages (from matplotlib~=3.0->gradio) (1.3.0)\n",
            "Requirement already satisfied: cycler>=0.10 in /opt/homebrew/Caskroom/miniforge/base/envs/ogi/lib/python3.9/site-packages (from matplotlib~=3.0->gradio) (0.12.1)\n",
            "Requirement already satisfied: fonttools>=4.22.0 in /opt/homebrew/Caskroom/miniforge/base/envs/ogi/lib/python3.9/site-packages (from matplotlib~=3.0->gradio) (4.57.0)\n",
            "Requirement already satisfied: kiwisolver>=1.0.1 in /opt/homebrew/Caskroom/miniforge/base/envs/ogi/lib/python3.9/site-packages (from matplotlib~=3.0->gradio) (1.4.7)\n",
            "Requirement already satisfied: pyparsing>=2.3.1 in /opt/homebrew/Caskroom/miniforge/base/envs/ogi/lib/python3.9/site-packages (from matplotlib~=3.0->gradio) (3.2.3)\n",
            "Requirement already satisfied: python-dateutil>=2.7 in /opt/homebrew/Caskroom/miniforge/base/envs/ogi/lib/python3.9/site-packages (from matplotlib~=3.0->gradio) (2.9.0.post0)\n",
            "Requirement already satisfied: pytz>=2020.1 in /opt/homebrew/Caskroom/miniforge/base/envs/ogi/lib/python3.9/site-packages (from pandas<3.0,>=1.0->gradio) (2025.2)\n",
            "Requirement already satisfied: tzdata>=2022.1 in /opt/homebrew/Caskroom/miniforge/base/envs/ogi/lib/python3.9/site-packages (from pandas<3.0,>=1.0->gradio) (2025.2)\n",
            "Collecting annotated-types>=0.6.0 (from pydantic>=2.0->gradio)\n",
            "  Downloading annotated_types-0.7.0-py3-none-any.whl.metadata (15 kB)\n",
            "Collecting pydantic-core==2.33.2 (from pydantic>=2.0->gradio)\n",
            "  Downloading pydantic_core-2.33.2-cp39-cp39-macosx_11_0_arm64.whl.metadata (6.8 kB)\n",
            "Collecting typing-inspection>=0.4.0 (from pydantic>=2.0->gradio)\n",
            "  Downloading typing_inspection-0.4.0-py3-none-any.whl.metadata (2.6 kB)\n",
            "Requirement already satisfied: click>=8.0.0 in /opt/homebrew/Caskroom/miniforge/base/envs/ogi/lib/python3.9/site-packages (from typer<1.0,>=0.12->gradio) (8.1.8)\n",
            "Collecting shellingham>=1.3.0 (from typer<1.0,>=0.12->gradio)\n",
            "  Downloading shellingham-1.5.4-py2.py3-none-any.whl.metadata (3.5 kB)\n",
            "Collecting rich>=10.11.0 (from typer<1.0,>=0.12->gradio)\n",
            "  Downloading rich-14.0.0-py3-none-any.whl.metadata (18 kB)\n",
            "Requirement already satisfied: certifi in /opt/homebrew/Caskroom/miniforge/base/envs/ogi/lib/python3.9/site-packages (from httpx>=0.24.1->gradio) (2025.4.26)\n",
            "Collecting httpcore==1.* (from httpx>=0.24.1->gradio)\n",
            "  Downloading httpcore-1.0.9-py3-none-any.whl.metadata (21 kB)\n",
            "Collecting h11>=0.16 (from httpcore==1.*->httpx>=0.24.1->gradio)\n",
            "  Downloading h11-0.16.0-py3-none-any.whl.metadata (8.3 kB)\n",
            "Collecting filelock (from huggingface-hub>=0.19.3->gradio)\n",
            "  Downloading filelock-3.18.0-py3-none-any.whl.metadata (2.9 kB)\n",
            "Requirement already satisfied: requests in /opt/homebrew/Caskroom/miniforge/base/envs/ogi/lib/python3.9/site-packages (from huggingface-hub>=0.19.3->gradio) (2.32.3)\n",
            "Requirement already satisfied: tqdm>=4.42.1 in /opt/homebrew/Caskroom/miniforge/base/envs/ogi/lib/python3.9/site-packages (from huggingface-hub>=0.19.3->gradio) (4.67.1)\n",
            "Requirement already satisfied: six>=1.5 in /opt/homebrew/Caskroom/miniforge/base/envs/ogi/lib/python3.9/site-packages (from python-dateutil>=2.7->matplotlib~=3.0->gradio) (1.17.0)\n",
            "Collecting markdown-it-py>=2.2.0 (from rich>=10.11.0->typer<1.0,>=0.12->gradio)\n",
            "  Downloading markdown_it_py-3.0.0-py3-none-any.whl.metadata (6.9 kB)\n",
            "Requirement already satisfied: pygments<3.0.0,>=2.13.0 in /opt/homebrew/Caskroom/miniforge/base/envs/ogi/lib/python3.9/site-packages (from rich>=10.11.0->typer<1.0,>=0.12->gradio) (2.19.1)\n",
            "Collecting mdurl~=0.1 (from markdown-it-py>=2.2.0->rich>=10.11.0->typer<1.0,>=0.12->gradio)\n",
            "  Downloading mdurl-0.1.2-py3-none-any.whl.metadata (1.6 kB)\n",
            "Requirement already satisfied: charset-normalizer<4,>=2 in /opt/homebrew/Caskroom/miniforge/base/envs/ogi/lib/python3.9/site-packages (from requests->huggingface-hub>=0.19.3->gradio) (3.4.2)\n",
            "Downloading gradio-4.44.1-py3-none-any.whl (18.1 MB)\n",
            "\u001b[2K   \u001b[90m━━━━━━━━━━━━━━━━━━━━━━━━━━━━━━━━━━━━━━━━\u001b[0m \u001b[32m18.1/18.1 MB\u001b[0m \u001b[31m35.7 MB/s\u001b[0m eta \u001b[36m0:00:00\u001b[0ma \u001b[36m0:00:01\u001b[0m\n",
            "\u001b[?25hDownloading gradio_client-1.3.0-py3-none-any.whl (318 kB)\n",
            "Downloading tomlkit-0.12.0-py3-none-any.whl (37 kB)\n",
            "Downloading aiofiles-23.2.1-py3-none-any.whl (15 kB)\n",
            "Downloading anyio-4.9.0-py3-none-any.whl (100 kB)\n",
            "Downloading fastapi-0.115.12-py3-none-any.whl (95 kB)\n",
            "Downloading MarkupSafe-2.1.5-cp39-cp39-macosx_10_9_universal2.whl (18 kB)\n",
            "Downloading pillow-10.4.0-cp39-cp39-macosx_11_0_arm64.whl (3.4 MB)\n",
            "\u001b[2K   \u001b[90m━━━━━━━━━━━━━━━━━━━━━━━━━━━━━━━━━━━━━━━━\u001b[0m \u001b[32m3.4/3.4 MB\u001b[0m \u001b[31m47.6 MB/s\u001b[0m eta \u001b[36m0:00:00\u001b[0m\n",
            "\u001b[?25hDownloading pydantic-2.11.4-py3-none-any.whl (443 kB)\n",
            "Downloading pydantic_core-2.33.2-cp39-cp39-macosx_11_0_arm64.whl (1.9 MB)\n",
            "\u001b[2K   \u001b[90m━━━━━━━━━━━━━━━━━━━━━━━━━━━━━━━━━━━━━━━━\u001b[0m \u001b[32m1.9/1.9 MB\u001b[0m \u001b[31m32.1 MB/s\u001b[0m eta \u001b[36m0:00:00\u001b[0m\n",
            "\u001b[?25hDownloading PyYAML-6.0.2-cp39-cp39-macosx_11_0_arm64.whl (172 kB)\n",
            "Downloading semantic_version-2.10.0-py2.py3-none-any.whl (15 kB)\n",
            "Downloading starlette-0.46.2-py3-none-any.whl (72 kB)\n",
            "Downloading typer-0.15.3-py3-none-any.whl (45 kB)\n",
            "Downloading websockets-12.0-cp39-cp39-macosx_11_0_arm64.whl (121 kB)\n",
            "Downloading annotated_types-0.7.0-py3-none-any.whl (13 kB)\n",
            "Downloading httpx-0.28.1-py3-none-any.whl (73 kB)\n",
            "Downloading httpcore-1.0.9-py3-none-any.whl (78 kB)\n",
            "Downloading h11-0.16.0-py3-none-any.whl (37 kB)\n",
            "Downloading huggingface_hub-0.30.2-py3-none-any.whl (481 kB)\n",
            "Downloading fsspec-2025.3.2-py3-none-any.whl (194 kB)\n",
            "Downloading python_multipart-0.0.20-py3-none-any.whl (24 kB)\n",
            "Downloading rich-14.0.0-py3-none-any.whl (243 kB)\n",
            "Downloading markdown_it_py-3.0.0-py3-none-any.whl (87 kB)\n",
            "Downloading mdurl-0.1.2-py3-none-any.whl (10.0 kB)\n",
            "Downloading ruff-0.11.8-py3-none-macosx_11_0_arm64.whl (10.4 MB)\n",
            "\u001b[2K   \u001b[90m━━━━━━━━━━━━━━━━━━━━━━━━━━━━━━━━━━━━━━━━\u001b[0m \u001b[32m10.4/10.4 MB\u001b[0m \u001b[31m43.9 MB/s\u001b[0m eta \u001b[36m0:00:00\u001b[0m \u001b[36m0:00:01\u001b[0m\n",
            "\u001b[?25hDownloading shellingham-1.5.4-py2.py3-none-any.whl (9.8 kB)\n",
            "Downloading sniffio-1.3.1-py3-none-any.whl (10 kB)\n",
            "Downloading typing_inspection-0.4.0-py3-none-any.whl (14 kB)\n",
            "Downloading uvicorn-0.34.2-py3-none-any.whl (62 kB)\n",
            "Downloading ffmpy-0.5.0-py3-none-any.whl (6.0 kB)\n",
            "Downloading filelock-3.18.0-py3-none-any.whl (16 kB)\n",
            "Downloading pydub-0.25.1-py2.py3-none-any.whl (32 kB)\n",
            "Installing collected packages: pydub, websockets, typing-inspection, tomlkit, sniffio, shellingham, semantic-version, ruff, pyyaml, python-multipart, pydantic-core, pillow, mdurl, markupsafe, h11, fsspec, filelock, ffmpy, annotated-types, aiofiles, uvicorn, pydantic, markdown-it-py, huggingface-hub, httpcore, anyio, starlette, rich, httpx, typer, gradio-client, fastapi, gradio\n",
            "\u001b[2K  Attempting uninstall: pillow\u001b[90m━━━━━━━━━━━━━━━━━━━━━━━━━━━━━━━\u001b[0m \u001b[32m 7/33\u001b[0m [ruff]\n",
            "\u001b[2K    Found existing installation: pillow 11.2.1━━━━━━━━━━━━━━━━\u001b[0m \u001b[32m 7/33\u001b[0m [ruff]\n",
            "\u001b[2K    Uninstalling pillow-11.2.1:━━━━━━━━━━━━━━━━━━━━━━━━━━━━━━━\u001b[0m \u001b[32m 7/33\u001b[0m [ruff]\n",
            "\u001b[2K      Successfully uninstalled pillow-11.2.1━━━━━━━━━━━━━━━━━━\u001b[0m \u001b[32m 7/33\u001b[0m [ruff]\n",
            "\u001b[2K  Attempting uninstall: markupsafem\u001b[90m━━━━━━━━━━━━━━━━━━━━━━━━━━\u001b[0m \u001b[32m11/33\u001b[0m [pillow]\n",
            "\u001b[2K    Found existing installation: MarkupSafe 3.0.2━━━━━━━━━━━━━\u001b[0m \u001b[32m11/33\u001b[0m [pillow]\n",
            "\u001b[2K    Uninstalling MarkupSafe-3.0.2:0m━━━━━━━━━━━━━━━━━━━━━━━━━━\u001b[0m \u001b[32m11/33\u001b[0m [pillow]\n",
            "\u001b[2K      Successfully uninstalled MarkupSafe-3.0.2━━━━━━━━━━━━━━━\u001b[0m \u001b[32m11/33\u001b[0m [pillow]\n",
            "\u001b[2K   \u001b[90m━━━━━━━━━━━━━━━━━━━━━━━━━━━━━━━━━━━━━━━━\u001b[0m \u001b[32m33/33\u001b[0m [gradio]32/33\u001b[0m [gradio]face-hub]\n",
            "\u001b[1A\u001b[2KSuccessfully installed aiofiles-23.2.1 annotated-types-0.7.0 anyio-4.9.0 fastapi-0.115.12 ffmpy-0.5.0 filelock-3.18.0 fsspec-2025.3.2 gradio-4.44.1 gradio-client-1.3.0 h11-0.16.0 httpcore-1.0.9 httpx-0.28.1 huggingface-hub-0.30.2 markdown-it-py-3.0.0 markupsafe-2.1.5 mdurl-0.1.2 pillow-10.4.0 pydantic-2.11.4 pydantic-core-2.33.2 pydub-0.25.1 python-multipart-0.0.20 pyyaml-6.0.2 rich-14.0.0 ruff-0.11.8 semantic-version-2.10.0 shellingham-1.5.4 sniffio-1.3.1 starlette-0.46.2 tomlkit-0.12.0 typer-0.15.3 typing-inspection-0.4.0 uvicorn-0.34.2 websockets-12.0\n",
            "Note: you may need to restart the kernel to use updated packages.\n"
          ]
        }
      ],
      "source": [
        "########################\n",
        "##### NO EXECUTAR ######\n",
        "########################\n",
        "\n",
        "pip install gradio"
      ]
    },
    {
      "cell_type": "code",
      "execution_count": 8,
      "metadata": {},
      "outputs": [],
      "source": [
        "import gradio as gr"
      ]
    },
    {
      "cell_type": "code",
      "execution_count": null,
      "metadata": {},
      "outputs": [
        {
          "ename": "SyntaxError",
          "evalue": "invalid syntax (1558059053.py, line 3)",
          "output_type": "error",
          "traceback": [
            "\u001b[0;36m  Cell \u001b[0;32mIn[16], line 3\u001b[0;36m\u001b[0m\n\u001b[0;31m    pip install Pycaret\u001b[0m\n\u001b[0m        ^\u001b[0m\n\u001b[0;31mSyntaxError\u001b[0m\u001b[0;31m:\u001b[0m invalid syntax\n"
          ]
        }
      ],
      "source": [
        "########################\n",
        "##### NO EXECUTAR ######\n",
        "########################\n",
        "\n",
        "# Instal·lem Pycaret per provar diferents ALGORITMES DE MACHINE LEARNING\n",
        "\n",
        "pip install Pycaret"
      ]
    },
    {
      "cell_type": "code",
      "execution_count": null,
      "metadata": {},
      "outputs": [
        {
          "name": "stdout",
          "output_type": "stream",
          "text": [
            "Defaulting to user installation because normal site-packages is not writeable\n",
            "Collecting pycaret\n",
            "  Using cached pycaret-3.3.2-py3-none-any.whl (486 kB)\n",
            "Requirement already satisfied: lightgbm>=3.0.0 in /Users/marc/Library/Python/3.9/lib/python/site-packages (from pycaret) (4.6.0)\n",
            "Requirement already satisfied: matplotlib<3.8.0 in /Users/marc/Library/Python/3.9/lib/python/site-packages (from pycaret) (3.7.5)\n",
            "Requirement already satisfied: category-encoders>=2.4.0 in /Users/marc/Library/Python/3.9/lib/python/site-packages (from pycaret) (2.6.4)\n",
            "Requirement already satisfied: deprecation>=2.1.0 in /Users/marc/Library/Python/3.9/lib/python/site-packages (from pycaret) (2.1.0)\n",
            "Requirement already satisfied: schemdraw==0.15 in /Users/marc/Library/Python/3.9/lib/python/site-packages (from pycaret) (0.15)\n",
            "Requirement already satisfied: markupsafe>=2.0.1 in /Users/marc/Library/Python/3.9/lib/python/site-packages (from pycaret) (2.1.5)\n",
            "Requirement already satisfied: nbformat>=4.2.0 in /Users/marc/Library/Python/3.9/lib/python/site-packages (from pycaret) (5.10.4)\n",
            "Requirement already satisfied: tbats>=1.1.3 in /Users/marc/Library/Python/3.9/lib/python/site-packages (from pycaret) (1.1.3)\n",
            "Requirement already satisfied: plotly>=5.14.0 in /Users/marc/Library/Python/3.9/lib/python/site-packages (from pycaret) (5.24.1)\n",
            "Requirement already satisfied: importlib-metadata>=4.12.0 in /Users/marc/Library/Python/3.9/lib/python/site-packages (from pycaret) (8.7.0)\n",
            "Requirement already satisfied: xxhash in /Users/marc/Library/Python/3.9/lib/python/site-packages (from pycaret) (3.5.0)\n",
            "Requirement already satisfied: requests>=2.27.1 in /Users/marc/Library/Python/3.9/lib/python/site-packages (from pycaret) (2.32.3)\n",
            "Collecting pandas<2.2.0\n",
            "  Using cached pandas-2.1.4-cp39-cp39-macosx_11_0_arm64.whl (11.0 MB)\n",
            "Requirement already satisfied: ipywidgets>=7.6.5 in /Users/marc/Library/Python/3.9/lib/python/site-packages (from pycaret) (8.1.7)\n",
            "Requirement already satisfied: wurlitzer in /Users/marc/Library/Python/3.9/lib/python/site-packages (from pycaret) (3.1.1)\n",
            "Requirement already satisfied: plotly-resampler>=0.8.3.1 in /Users/marc/Library/Python/3.9/lib/python/site-packages (from pycaret) (0.10.0)\n",
            "Requirement already satisfied: psutil>=5.9.0 in /Users/marc/Library/Python/3.9/lib/python/site-packages (from pycaret) (7.0.0)\n",
            "Requirement already satisfied: scikit-plot>=0.3.7 in /Users/marc/Library/Python/3.9/lib/python/site-packages (from pycaret) (0.3.7)\n",
            "Requirement already satisfied: ipython>=5.5.0 in /Users/marc/Library/Python/3.9/lib/python/site-packages (from pycaret) (8.18.1)\n",
            "Requirement already satisfied: kaleido>=0.2.1 in /Users/marc/Library/Python/3.9/lib/python/site-packages (from pycaret) (0.2.1)\n",
            "Requirement already satisfied: pmdarima>=2.0.4 in /Users/marc/Library/Python/3.9/lib/python/site-packages (from pycaret) (2.0.4)\n",
            "Requirement already satisfied: imbalanced-learn>=0.12.0 in /Users/marc/Library/Python/3.9/lib/python/site-packages (from pycaret) (0.12.4)\n",
            "Requirement already satisfied: jinja2>=3 in /Users/marc/Library/Python/3.9/lib/python/site-packages (from pycaret) (3.1.6)\n",
            "Requirement already satisfied: sktime==0.26.0 in /Users/marc/Library/Python/3.9/lib/python/site-packages (from pycaret) (0.26.0)\n",
            "Requirement already satisfied: pyod>=1.1.3 in /Users/marc/Library/Python/3.9/lib/python/site-packages (from pycaret) (2.0.5)\n",
            "Collecting joblib<1.4,>=1.2.0\n",
            "  Using cached joblib-1.3.2-py3-none-any.whl (302 kB)\n",
            "Requirement already satisfied: yellowbrick>=1.4 in /Users/marc/Library/Python/3.9/lib/python/site-packages (from pycaret) (1.5)\n",
            "Requirement already satisfied: numpy<1.27,>=1.21 in /Users/marc/Library/Python/3.9/lib/python/site-packages (from pycaret) (1.26.4)\n",
            "Collecting scikit-learn>1.4.0\n",
            "  Using cached scikit_learn-1.6.1-cp39-cp39-macosx_12_0_arm64.whl (11.1 MB)\n",
            "Requirement already satisfied: statsmodels>=0.12.1 in /Users/marc/Library/Python/3.9/lib/python/site-packages (from pycaret) (0.14.4)\n",
            "Requirement already satisfied: tqdm>=4.62.0 in /Users/marc/Library/Python/3.9/lib/python/site-packages (from pycaret) (4.67.1)\n",
            "Collecting scipy<=1.11.4,>=1.6.1\n",
            "  Using cached scipy-1.11.4-cp39-cp39-macosx_12_0_arm64.whl (29.7 MB)\n",
            "Requirement already satisfied: numba>=0.55.0 in /Users/marc/Library/Python/3.9/lib/python/site-packages (from pycaret) (0.60.0)\n",
            "Requirement already satisfied: cloudpickle in /Users/marc/Library/Python/3.9/lib/python/site-packages (from pycaret) (3.1.1)\n",
            "Collecting scikit-learn>1.4.0\n",
            "  Using cached scikit_learn-1.4.2-cp39-cp39-macosx_12_0_arm64.whl (10.5 MB)\n",
            "Requirement already satisfied: packaging in /Users/marc/Library/Python/3.9/lib/python/site-packages (from sktime==0.26.0->pycaret) (25.0)\n",
            "Requirement already satisfied: scikit-base<0.8.0 in /Users/marc/Library/Python/3.9/lib/python/site-packages (from sktime==0.26.0->pycaret) (0.7.8)\n",
            "Requirement already satisfied: patsy>=0.5.1 in /Users/marc/Library/Python/3.9/lib/python/site-packages (from category-encoders>=2.4.0->pycaret) (1.0.1)\n",
            "Requirement already satisfied: threadpoolctl>=2.0.0 in /Users/marc/Library/Python/3.9/lib/python/site-packages (from imbalanced-learn>=0.12.0->pycaret) (3.6.0)\n",
            "Requirement already satisfied: zipp>=3.20 in /Users/marc/Library/Python/3.9/lib/python/site-packages (from importlib-metadata>=4.12.0->pycaret) (3.21.0)\n",
            "Requirement already satisfied: jedi>=0.16 in /Users/marc/Library/Python/3.9/lib/python/site-packages (from ipython>=5.5.0->pycaret) (0.19.2)\n",
            "Requirement already satisfied: stack-data in /Users/marc/Library/Python/3.9/lib/python/site-packages (from ipython>=5.5.0->pycaret) (0.6.3)\n",
            "Requirement already satisfied: exceptiongroup in /Users/marc/Library/Python/3.9/lib/python/site-packages (from ipython>=5.5.0->pycaret) (1.2.2)\n",
            "Requirement already satisfied: pexpect>4.3 in /Users/marc/Library/Python/3.9/lib/python/site-packages (from ipython>=5.5.0->pycaret) (4.9.0)\n",
            "Requirement already satisfied: typing-extensions in /Users/marc/Library/Python/3.9/lib/python/site-packages (from ipython>=5.5.0->pycaret) (4.13.2)\n",
            "Requirement already satisfied: pygments>=2.4.0 in /Users/marc/Library/Python/3.9/lib/python/site-packages (from ipython>=5.5.0->pycaret) (2.19.1)\n",
            "Requirement already satisfied: prompt-toolkit<3.1.0,>=3.0.41 in /Users/marc/Library/Python/3.9/lib/python/site-packages (from ipython>=5.5.0->pycaret) (3.0.51)\n",
            "Requirement already satisfied: matplotlib-inline in /Users/marc/Library/Python/3.9/lib/python/site-packages (from ipython>=5.5.0->pycaret) (0.1.7)\n",
            "Requirement already satisfied: traitlets>=5 in /Users/marc/Library/Python/3.9/lib/python/site-packages (from ipython>=5.5.0->pycaret) (5.14.3)\n",
            "Requirement already satisfied: decorator in /Users/marc/Library/Python/3.9/lib/python/site-packages (from ipython>=5.5.0->pycaret) (5.2.1)\n",
            "Requirement already satisfied: widgetsnbextension~=4.0.14 in /Users/marc/Library/Python/3.9/lib/python/site-packages (from ipywidgets>=7.6.5->pycaret) (4.0.14)\n",
            "Requirement already satisfied: jupyterlab_widgets~=3.0.15 in /Users/marc/Library/Python/3.9/lib/python/site-packages (from ipywidgets>=7.6.5->pycaret) (3.0.15)\n",
            "Requirement already satisfied: comm>=0.1.3 in /Users/marc/Library/Python/3.9/lib/python/site-packages (from ipywidgets>=7.6.5->pycaret) (0.2.2)\n",
            "Requirement already satisfied: parso<0.9.0,>=0.8.4 in /Users/marc/Library/Python/3.9/lib/python/site-packages (from jedi>=0.16->ipython>=5.5.0->pycaret) (0.8.4)\n",
            "Requirement already satisfied: cycler>=0.10 in /Users/marc/Library/Python/3.9/lib/python/site-packages (from matplotlib<3.8.0->pycaret) (0.12.1)\n",
            "Requirement already satisfied: python-dateutil>=2.7 in /Users/marc/Library/Python/3.9/lib/python/site-packages (from matplotlib<3.8.0->pycaret) (2.9.0.post0)\n",
            "Requirement already satisfied: fonttools>=4.22.0 in /Users/marc/Library/Python/3.9/lib/python/site-packages (from matplotlib<3.8.0->pycaret) (4.57.0)\n",
            "Requirement already satisfied: kiwisolver>=1.0.1 in /Users/marc/Library/Python/3.9/lib/python/site-packages (from matplotlib<3.8.0->pycaret) (1.4.7)\n",
            "Requirement already satisfied: pyparsing>=2.3.1 in /Users/marc/Library/Python/3.9/lib/python/site-packages (from matplotlib<3.8.0->pycaret) (3.2.3)\n",
            "Requirement already satisfied: contourpy>=1.0.1 in /Users/marc/Library/Python/3.9/lib/python/site-packages (from matplotlib<3.8.0->pycaret) (1.3.0)\n",
            "Requirement already satisfied: pillow>=6.2.0 in /Users/marc/Library/Python/3.9/lib/python/site-packages (from matplotlib<3.8.0->pycaret) (10.4.0)\n",
            "Requirement already satisfied: importlib-resources>=3.2.0 in /Users/marc/Library/Python/3.9/lib/python/site-packages (from matplotlib<3.8.0->pycaret) (6.5.2)\n",
            "Requirement already satisfied: fastjsonschema>=2.15 in /Users/marc/Library/Python/3.9/lib/python/site-packages (from nbformat>=4.2.0->pycaret) (2.21.1)\n",
            "Requirement already satisfied: jupyter-core!=5.0.*,>=4.12 in /Users/marc/Library/Python/3.9/lib/python/site-packages (from nbformat>=4.2.0->pycaret) (5.7.2)\n",
            "Requirement already satisfied: jsonschema>=2.6 in /Users/marc/Library/Python/3.9/lib/python/site-packages (from nbformat>=4.2.0->pycaret) (4.23.0)\n",
            "Requirement already satisfied: rpds-py>=0.7.1 in /Users/marc/Library/Python/3.9/lib/python/site-packages (from jsonschema>=2.6->nbformat>=4.2.0->pycaret) (0.24.0)\n",
            "Requirement already satisfied: referencing>=0.28.4 in /Users/marc/Library/Python/3.9/lib/python/site-packages (from jsonschema>=2.6->nbformat>=4.2.0->pycaret) (0.36.2)\n",
            "Requirement already satisfied: jsonschema-specifications>=2023.03.6 in /Users/marc/Library/Python/3.9/lib/python/site-packages (from jsonschema>=2.6->nbformat>=4.2.0->pycaret) (2025.4.1)\n",
            "Requirement already satisfied: attrs>=22.2.0 in /Users/marc/Library/Python/3.9/lib/python/site-packages (from jsonschema>=2.6->nbformat>=4.2.0->pycaret) (25.3.0)\n",
            "Requirement already satisfied: platformdirs>=2.5 in /Users/marc/Library/Python/3.9/lib/python/site-packages (from jupyter-core!=5.0.*,>=4.12->nbformat>=4.2.0->pycaret) (4.3.7)\n",
            "Requirement already satisfied: llvmlite<0.44,>=0.43.0dev0 in /Users/marc/Library/Python/3.9/lib/python/site-packages (from numba>=0.55.0->pycaret) (0.43.0)\n",
            "Requirement already satisfied: tzdata>=2022.1 in /Users/marc/Library/Python/3.9/lib/python/site-packages (from pandas<2.2.0->pycaret) (2025.2)\n",
            "Requirement already satisfied: pytz>=2020.1 in /Users/marc/Library/Python/3.9/lib/python/site-packages (from pandas<2.2.0->pycaret) (2025.2)\n",
            "Requirement already satisfied: ptyprocess>=0.5 in /Users/marc/Library/Python/3.9/lib/python/site-packages (from pexpect>4.3->ipython>=5.5.0->pycaret) (0.7.0)\n",
            "Requirement already satisfied: tenacity>=6.2.0 in /Users/marc/Library/Python/3.9/lib/python/site-packages (from plotly>=5.14.0->pycaret) (9.1.2)\n",
            "Requirement already satisfied: dash>=2.9.0 in /Users/marc/Library/Python/3.9/lib/python/site-packages (from plotly-resampler>=0.8.3.1->pycaret) (3.0.4)\n",
            "Requirement already satisfied: tsdownsample>=0.1.3 in /Users/marc/Library/Python/3.9/lib/python/site-packages (from plotly-resampler>=0.8.3.1->pycaret) (0.1.4.1)\n",
            "Requirement already satisfied: orjson<4.0.0,>=3.8.0 in /Users/marc/Library/Python/3.9/lib/python/site-packages (from plotly-resampler>=0.8.3.1->pycaret) (3.10.18)\n",
            "Requirement already satisfied: Werkzeug<3.1 in /Users/marc/Library/Python/3.9/lib/python/site-packages (from dash>=2.9.0->plotly-resampler>=0.8.3.1->pycaret) (3.0.6)\n",
            "Requirement already satisfied: Flask<3.1,>=1.0.4 in /Users/marc/Library/Python/3.9/lib/python/site-packages (from dash>=2.9.0->plotly-resampler>=0.8.3.1->pycaret) (3.0.3)\n",
            "Requirement already satisfied: setuptools in /Applications/Xcode.app/Contents/Developer/Library/Frameworks/Python3.framework/Versions/3.9/lib/python3.9/site-packages (from dash>=2.9.0->plotly-resampler>=0.8.3.1->pycaret) (58.0.4)\n",
            "Requirement already satisfied: nest-asyncio in /Users/marc/Library/Python/3.9/lib/python/site-packages (from dash>=2.9.0->plotly-resampler>=0.8.3.1->pycaret) (1.6.0)\n",
            "Requirement already satisfied: retrying in /Users/marc/Library/Python/3.9/lib/python/site-packages (from dash>=2.9.0->plotly-resampler>=0.8.3.1->pycaret) (1.3.4)\n",
            "Requirement already satisfied: itsdangerous>=2.1.2 in /Users/marc/Library/Python/3.9/lib/python/site-packages (from Flask<3.1,>=1.0.4->dash>=2.9.0->plotly-resampler>=0.8.3.1->pycaret) (2.2.0)\n",
            "Requirement already satisfied: blinker>=1.6.2 in /Users/marc/Library/Python/3.9/lib/python/site-packages (from Flask<3.1,>=1.0.4->dash>=2.9.0->plotly-resampler>=0.8.3.1->pycaret) (1.9.0)\n",
            "Requirement already satisfied: click>=8.1.3 in /Users/marc/Library/Python/3.9/lib/python/site-packages (from Flask<3.1,>=1.0.4->dash>=2.9.0->plotly-resampler>=0.8.3.1->pycaret) (8.1.8)\n",
            "Requirement already satisfied: Cython!=0.29.18,!=0.29.31,>=0.29 in /Users/marc/Library/Python/3.9/lib/python/site-packages (from pmdarima>=2.0.4->pycaret) (3.0.12)\n",
            "Requirement already satisfied: urllib3 in /Users/marc/Library/Python/3.9/lib/python/site-packages (from pmdarima>=2.0.4->pycaret) (2.4.0)\n",
            "Requirement already satisfied: wcwidth in /Users/marc/Library/Python/3.9/lib/python/site-packages (from prompt-toolkit<3.1.0,>=3.0.41->ipython>=5.5.0->pycaret) (0.2.13)\n",
            "Requirement already satisfied: six>=1.5 in /Applications/Xcode.app/Contents/Developer/Library/Frameworks/Python3.framework/Versions/3.9/lib/python3.9/site-packages (from python-dateutil>=2.7->matplotlib<3.8.0->pycaret) (1.15.0)\n",
            "Requirement already satisfied: certifi>=2017.4.17 in /Users/marc/Library/Python/3.9/lib/python/site-packages (from requests>=2.27.1->pycaret) (2025.4.26)\n",
            "Requirement already satisfied: charset-normalizer<4,>=2 in /Users/marc/Library/Python/3.9/lib/python/site-packages (from requests>=2.27.1->pycaret) (3.4.2)\n",
            "Requirement already satisfied: idna<4,>=2.5 in /Users/marc/Library/Python/3.9/lib/python/site-packages (from requests>=2.27.1->pycaret) (3.10)\n",
            "Requirement already satisfied: pure-eval in /Users/marc/Library/Python/3.9/lib/python/site-packages (from stack-data->ipython>=5.5.0->pycaret) (0.2.3)\n",
            "Requirement already satisfied: asttokens>=2.1.0 in /Users/marc/Library/Python/3.9/lib/python/site-packages (from stack-data->ipython>=5.5.0->pycaret) (3.0.0)\n",
            "Requirement already satisfied: executing>=1.2.0 in /Users/marc/Library/Python/3.9/lib/python/site-packages (from stack-data->ipython>=5.5.0->pycaret) (2.2.0)\n",
            "Installing collected packages: scipy, pandas, joblib, scikit-learn, pycaret\n",
            "  Attempting uninstall: scipy\n",
            "    Found existing installation: scipy 1.13.1\n",
            "    Uninstalling scipy-1.13.1:\n",
            "      Successfully uninstalled scipy-1.13.1\n",
            "  Attempting uninstall: pandas\n",
            "    Found existing installation: pandas 2.2.3\n",
            "    Uninstalling pandas-2.2.3:\n",
            "      Successfully uninstalled pandas-2.2.3\n",
            "  Attempting uninstall: joblib\n",
            "    Found existing installation: joblib 1.5.0\n",
            "    Uninstalling joblib-1.5.0:\n",
            "      Successfully uninstalled joblib-1.5.0\n",
            "  Attempting uninstall: scikit-learn\n",
            "    Found existing installation: scikit-learn 1.2.2\n",
            "    Uninstalling scikit-learn-1.2.2:\n",
            "      Successfully uninstalled scikit-learn-1.2.2\n",
            "Successfully installed joblib-1.3.2 pandas-2.1.4 pycaret-3.3.2 scikit-learn-1.4.2 scipy-1.11.4\n",
            "\u001b[33mWARNING: You are using pip version 21.2.4; however, version 25.1.1 is available.\n",
            "You should consider upgrading via the '/Applications/Xcode.app/Contents/Developer/usr/bin/python3 -m pip install --upgrade pip' command.\u001b[0m\n",
            "Note: you may need to restart the kernel to use updated packages.\n"
          ]
        }
      ],
      "source": [
        "########################\n",
        "##### NO EXECUTAR ######\n",
        "########################\n",
        "\n",
        "pip install --upgrade pycaret"
      ]
    },
    {
      "cell_type": "code",
      "execution_count": 9,
      "metadata": {},
      "outputs": [
        {
          "name": "stdout",
          "output_type": "stream",
          "text": [
            "scikit-learn: 1.4.2\n",
            "PyCaret: 3.3.2\n"
          ]
        }
      ],
      "source": [
        "import os\n",
        "os.environ['DYLD_LIBRARY_PATH'] = '/opt/homebrew/opt/libomp/lib'\n",
        "\n",
        "import sklearn\n",
        "print(\"scikit-learn:\", sklearn.__version__)  # Hauria de ser 1.2.2\n",
        "import pycaret\n",
        "print(\"PyCaret:\", pycaret.__version__)      # Hauria de ser >= 3.0.0"
      ]
    },
    {
      "cell_type": "code",
      "execution_count": 10,
      "metadata": {},
      "outputs": [],
      "source": [
        "# Paso 1: Importar las Bibliotecas Necesarias y Crear un Dataset Ficticio\n",
        "\n",
        "from pycaret.classification import *\n",
        "import os\n",
        "from pycaret.classification import plot_model\n",
        "from pycaret.classification import predict_model, pull, load_model\n"
      ]
    },
    {
      "cell_type": "code",
      "execution_count": 11,
      "metadata": {},
      "outputs": [
        {
          "name": "stdout",
          "output_type": "stream",
          "text": [
            "icd_code\n",
            "431       1420\n",
            "I618       573\n",
            "I615       564\n",
            "I611       499\n",
            "I619       278\n",
            "I610       231\n",
            "I614       188\n",
            "I612        91\n",
            "I613        71\n",
            "I69198      49\n",
            "I69151      43\n",
            "I616        39\n",
            "I69120      24\n",
            "I69154      23\n",
            "I69192      18\n",
            "I69122      16\n",
            "I69191      11\n",
            "I69119       3\n",
            "I69112       2\n",
            "I69193       2\n",
            "I69128       2\n",
            "I69121       2\n",
            "I69134       2\n",
            "I69131       2\n",
            "I6911        2\n",
            "I69153       1\n",
            "I69165       1\n",
            "I69152       1\n",
            "I69144       1\n",
            "I69118       1\n",
            "Name: count, dtype: int64\n"
          ]
        }
      ],
      "source": [
        "print(df['icd_code'].value_counts())"
      ]
    },
    {
      "cell_type": "code",
      "execution_count": 12,
      "metadata": {},
      "outputs": [
        {
          "data": {
            "text/html": [
              "<div>\n",
              "<style scoped>\n",
              "    .dataframe tbody tr th:only-of-type {\n",
              "        vertical-align: middle;\n",
              "    }\n",
              "\n",
              "    .dataframe tbody tr th {\n",
              "        vertical-align: top;\n",
              "    }\n",
              "\n",
              "    .dataframe thead th {\n",
              "        text-align: right;\n",
              "    }\n",
              "</style>\n",
              "<table border=\"1\" class=\"dataframe\">\n",
              "  <thead>\n",
              "    <tr style=\"text-align: right;\">\n",
              "      <th></th>\n",
              "      <th>subject_id</th>\n",
              "      <th>hadm_id</th>\n",
              "      <th>stay_id</th>\n",
              "      <th>gender</th>\n",
              "      <th>intime</th>\n",
              "      <th>outtime</th>\n",
              "      <th>icd_code</th>\n",
              "      <th>icd_version</th>\n",
              "      <th>long_title</th>\n",
              "      <th>gcs_verbal</th>\n",
              "      <th>gcs_motor</th>\n",
              "      <th>gcs_eyes</th>\n",
              "      <th>heart_rate</th>\n",
              "      <th>mbp</th>\n",
              "      <th>resp_rate</th>\n",
              "      <th>temperature</th>\n",
              "      <th>spo2</th>\n",
              "      <th>readmitted_stay</th>\n",
              "      <th>readmitted</th>\n",
              "    </tr>\n",
              "  </thead>\n",
              "  <tbody>\n",
              "    <tr>\n",
              "      <th>0</th>\n",
              "      <td>10763729</td>\n",
              "      <td>25978404</td>\n",
              "      <td>36052003</td>\n",
              "      <td>M</td>\n",
              "      <td>2181-11-22 00:59:00</td>\n",
              "      <td>2181-12-07 17:27:23</td>\n",
              "      <td>431</td>\n",
              "      <td>9</td>\n",
              "      <td>Intracerebral hemorrhage</td>\n",
              "      <td>0.0</td>\n",
              "      <td>1.0</td>\n",
              "      <td>1.0</td>\n",
              "      <td>82.0</td>\n",
              "      <td>98.0</td>\n",
              "      <td>30.0</td>\n",
              "      <td>None</td>\n",
              "      <td>100.0</td>\n",
              "      <td>36052003</td>\n",
              "      <td>1</td>\n",
              "    </tr>\n",
              "    <tr>\n",
              "      <th>1</th>\n",
              "      <td>10763729</td>\n",
              "      <td>25978404</td>\n",
              "      <td>36434459</td>\n",
              "      <td>M</td>\n",
              "      <td>2181-12-09 01:21:42</td>\n",
              "      <td>2181-12-12 16:58:04</td>\n",
              "      <td>431</td>\n",
              "      <td>9</td>\n",
              "      <td>Intracerebral hemorrhage</td>\n",
              "      <td>4.0</td>\n",
              "      <td>6.0</td>\n",
              "      <td>4.0</td>\n",
              "      <td>82.0</td>\n",
              "      <td>90.0</td>\n",
              "      <td>19.0</td>\n",
              "      <td>None</td>\n",
              "      <td>97.0</td>\n",
              "      <td>34949251</td>\n",
              "      <td>0</td>\n",
              "    </tr>\n",
              "    <tr>\n",
              "      <th>2</th>\n",
              "      <td>14306582</td>\n",
              "      <td>20415671</td>\n",
              "      <td>36446573</td>\n",
              "      <td>M</td>\n",
              "      <td>2158-12-01 07:36:00</td>\n",
              "      <td>2158-12-17 21:58:12</td>\n",
              "      <td>431</td>\n",
              "      <td>9</td>\n",
              "      <td>Intracerebral hemorrhage</td>\n",
              "      <td>0.0</td>\n",
              "      <td>5.0</td>\n",
              "      <td>2.0</td>\n",
              "      <td>82.0</td>\n",
              "      <td>92.0</td>\n",
              "      <td>19.0</td>\n",
              "      <td>None</td>\n",
              "      <td>97.0</td>\n",
              "      <td>34949251</td>\n",
              "      <td>0</td>\n",
              "    </tr>\n",
              "    <tr>\n",
              "      <th>3</th>\n",
              "      <td>10173219</td>\n",
              "      <td>22913226</td>\n",
              "      <td>32333688</td>\n",
              "      <td>M</td>\n",
              "      <td>2153-11-24 17:45:48</td>\n",
              "      <td>2154-01-12 15:57:12</td>\n",
              "      <td>I69120</td>\n",
              "      <td>10</td>\n",
              "      <td>Aphasia following nontraumatic intracerebral h...</td>\n",
              "      <td>0.0</td>\n",
              "      <td>5.0</td>\n",
              "      <td>2.0</td>\n",
              "      <td>59.0</td>\n",
              "      <td>92.0</td>\n",
              "      <td>14.0</td>\n",
              "      <td>36.890000000</td>\n",
              "      <td>90.0</td>\n",
              "      <td>34949251</td>\n",
              "      <td>0</td>\n",
              "    </tr>\n",
              "    <tr>\n",
              "      <th>4</th>\n",
              "      <td>10208612</td>\n",
              "      <td>26337634</td>\n",
              "      <td>37520781</td>\n",
              "      <td>M</td>\n",
              "      <td>2183-11-08 14:10:00</td>\n",
              "      <td>2183-11-09 13:06:17</td>\n",
              "      <td>I69122</td>\n",
              "      <td>10</td>\n",
              "      <td>Dysarthria following nontraumatic intracerebra...</td>\n",
              "      <td>1.0</td>\n",
              "      <td>4.0</td>\n",
              "      <td>1.0</td>\n",
              "      <td>69.0</td>\n",
              "      <td>92.0</td>\n",
              "      <td>15.0</td>\n",
              "      <td>None</td>\n",
              "      <td>92.0</td>\n",
              "      <td>34949251</td>\n",
              "      <td>0</td>\n",
              "    </tr>\n",
              "  </tbody>\n",
              "</table>\n",
              "</div>"
            ],
            "text/plain": [
              "   subject_id   hadm_id   stay_id gender              intime  \\\n",
              "0    10763729  25978404  36052003      M 2181-11-22 00:59:00   \n",
              "1    10763729  25978404  36434459      M 2181-12-09 01:21:42   \n",
              "2    14306582  20415671  36446573      M 2158-12-01 07:36:00   \n",
              "3    10173219  22913226  32333688      M 2153-11-24 17:45:48   \n",
              "4    10208612  26337634  37520781      M 2183-11-08 14:10:00   \n",
              "\n",
              "              outtime icd_code  icd_version  \\\n",
              "0 2181-12-07 17:27:23      431            9   \n",
              "1 2181-12-12 16:58:04      431            9   \n",
              "2 2158-12-17 21:58:12      431            9   \n",
              "3 2154-01-12 15:57:12   I69120           10   \n",
              "4 2183-11-09 13:06:17   I69122           10   \n",
              "\n",
              "                                          long_title  gcs_verbal  gcs_motor  \\\n",
              "0                           Intracerebral hemorrhage         0.0        1.0   \n",
              "1                           Intracerebral hemorrhage         4.0        6.0   \n",
              "2                           Intracerebral hemorrhage         0.0        5.0   \n",
              "3  Aphasia following nontraumatic intracerebral h...         0.0        5.0   \n",
              "4  Dysarthria following nontraumatic intracerebra...         1.0        4.0   \n",
              "\n",
              "   gcs_eyes  heart_rate   mbp  resp_rate   temperature   spo2  \\\n",
              "0       1.0        82.0  98.0       30.0          None  100.0   \n",
              "1       4.0        82.0  90.0       19.0          None   97.0   \n",
              "2       2.0        82.0  92.0       19.0          None   97.0   \n",
              "3       2.0        59.0  92.0       14.0  36.890000000   90.0   \n",
              "4       1.0        69.0  92.0       15.0          None   92.0   \n",
              "\n",
              "   readmitted_stay  readmitted  \n",
              "0         36052003           1  \n",
              "1         34949251           0  \n",
              "2         34949251           0  \n",
              "3         34949251           0  \n",
              "4         34949251           0  "
            ]
          },
          "execution_count": 12,
          "metadata": {},
          "output_type": "execute_result"
        }
      ],
      "source": [
        "df.head()"
      ]
    },
    {
      "cell_type": "code",
      "execution_count": 13,
      "metadata": {},
      "outputs": [
        {
          "name": "stdout",
          "output_type": "stream",
          "text": [
            "   subject_id   hadm_id   stay_id gender              intime  \\\n",
            "0    10763729  25978404  36052003      M 2181-11-22 00:59:00   \n",
            "1    10763729  25978404  36434459      M 2181-12-09 01:21:42   \n",
            "2    14306582  20415671  36446573      M 2158-12-01 07:36:00   \n",
            "3    10173219  22913226  32333688      M 2153-11-24 17:45:48   \n",
            "4    10208612  26337634  37520781      M 2183-11-08 14:10:00   \n",
            "\n",
            "              outtime icd_code  icd_version  \\\n",
            "0 2181-12-07 17:27:23      431            9   \n",
            "1 2181-12-12 16:58:04      431            9   \n",
            "2 2158-12-17 21:58:12      431            9   \n",
            "3 2154-01-12 15:57:12   I69120           10   \n",
            "4 2183-11-09 13:06:17   I69122           10   \n",
            "\n",
            "                                          long_title  gcs_verbal  gcs_motor  \\\n",
            "0                           Intracerebral hemorrhage         0.0        1.0   \n",
            "1                           Intracerebral hemorrhage         4.0        6.0   \n",
            "2                           Intracerebral hemorrhage         0.0        5.0   \n",
            "3  Aphasia following nontraumatic intracerebral h...         0.0        5.0   \n",
            "4  Dysarthria following nontraumatic intracerebra...         1.0        4.0   \n",
            "\n",
            "   gcs_eyes  heart_rate   mbp  resp_rate   temperature   spo2  \\\n",
            "0       1.0        82.0  98.0       30.0          None  100.0   \n",
            "1       4.0        82.0  90.0       19.0          None   97.0   \n",
            "2       2.0        82.0  92.0       19.0          None   97.0   \n",
            "3       2.0        59.0  92.0       14.0  36.890000000   90.0   \n",
            "4       1.0        69.0  92.0       15.0          None   92.0   \n",
            "\n",
            "   readmitted_stay  readmitted  \n",
            "0         36052003           1  \n",
            "1         34949251           0  \n",
            "2         34949251           0  \n",
            "3         34949251           0  \n",
            "4         34949251           0  \n"
          ]
        }
      ],
      "source": [
        "print(df.head())"
      ]
    },
    {
      "cell_type": "code",
      "execution_count": 14,
      "metadata": {},
      "outputs": [
        {
          "name": "stdout",
          "output_type": "stream",
          "text": [
            "readmitted\n",
            "0    3222\n",
            "1     938\n",
            "Name: count, dtype: int64\n"
          ]
        },
        {
          "data": {
            "text/html": [
              "<style type=\"text/css\">\n",
              "#T_0a664_row11_col1 {\n",
              "  background-color: lightgreen;\n",
              "}\n",
              "</style>\n",
              "<table id=\"T_0a664\">\n",
              "  <thead>\n",
              "    <tr>\n",
              "      <th class=\"blank level0\" >&nbsp;</th>\n",
              "      <th id=\"T_0a664_level0_col0\" class=\"col_heading level0 col0\" >Description</th>\n",
              "      <th id=\"T_0a664_level0_col1\" class=\"col_heading level0 col1\" >Value</th>\n",
              "    </tr>\n",
              "  </thead>\n",
              "  <tbody>\n",
              "    <tr>\n",
              "      <th id=\"T_0a664_level0_row0\" class=\"row_heading level0 row0\" >0</th>\n",
              "      <td id=\"T_0a664_row0_col0\" class=\"data row0 col0\" >Session id</td>\n",
              "      <td id=\"T_0a664_row0_col1\" class=\"data row0 col1\" >123</td>\n",
              "    </tr>\n",
              "    <tr>\n",
              "      <th id=\"T_0a664_level0_row1\" class=\"row_heading level0 row1\" >1</th>\n",
              "      <td id=\"T_0a664_row1_col0\" class=\"data row1 col0\" >Target</td>\n",
              "      <td id=\"T_0a664_row1_col1\" class=\"data row1 col1\" >readmitted</td>\n",
              "    </tr>\n",
              "    <tr>\n",
              "      <th id=\"T_0a664_level0_row2\" class=\"row_heading level0 row2\" >2</th>\n",
              "      <td id=\"T_0a664_row2_col0\" class=\"data row2 col0\" >Target type</td>\n",
              "      <td id=\"T_0a664_row2_col1\" class=\"data row2 col1\" >Binary</td>\n",
              "    </tr>\n",
              "    <tr>\n",
              "      <th id=\"T_0a664_level0_row3\" class=\"row_heading level0 row3\" >3</th>\n",
              "      <td id=\"T_0a664_row3_col0\" class=\"data row3 col0\" >Original data shape</td>\n",
              "      <td id=\"T_0a664_row3_col1\" class=\"data row3 col1\" >(4160, 19)</td>\n",
              "    </tr>\n",
              "    <tr>\n",
              "      <th id=\"T_0a664_level0_row4\" class=\"row_heading level0 row4\" >4</th>\n",
              "      <td id=\"T_0a664_row4_col0\" class=\"data row4 col0\" >Transformed data shape</td>\n",
              "      <td id=\"T_0a664_row4_col1\" class=\"data row4 col1\" >(4160, 23)</td>\n",
              "    </tr>\n",
              "    <tr>\n",
              "      <th id=\"T_0a664_level0_row5\" class=\"row_heading level0 row5\" >5</th>\n",
              "      <td id=\"T_0a664_row5_col0\" class=\"data row5 col0\" >Transformed train set shape</td>\n",
              "      <td id=\"T_0a664_row5_col1\" class=\"data row5 col1\" >(2912, 23)</td>\n",
              "    </tr>\n",
              "    <tr>\n",
              "      <th id=\"T_0a664_level0_row6\" class=\"row_heading level0 row6\" >6</th>\n",
              "      <td id=\"T_0a664_row6_col0\" class=\"data row6 col0\" >Transformed test set shape</td>\n",
              "      <td id=\"T_0a664_row6_col1\" class=\"data row6 col1\" >(1248, 23)</td>\n",
              "    </tr>\n",
              "    <tr>\n",
              "      <th id=\"T_0a664_level0_row7\" class=\"row_heading level0 row7\" >7</th>\n",
              "      <td id=\"T_0a664_row7_col0\" class=\"data row7 col0\" >Numeric features</td>\n",
              "      <td id=\"T_0a664_row7_col1\" class=\"data row7 col1\" >12</td>\n",
              "    </tr>\n",
              "    <tr>\n",
              "      <th id=\"T_0a664_level0_row8\" class=\"row_heading level0 row8\" >8</th>\n",
              "      <td id=\"T_0a664_row8_col0\" class=\"data row8 col0\" >Date features</td>\n",
              "      <td id=\"T_0a664_row8_col1\" class=\"data row8 col1\" >2</td>\n",
              "    </tr>\n",
              "    <tr>\n",
              "      <th id=\"T_0a664_level0_row9\" class=\"row_heading level0 row9\" >9</th>\n",
              "      <td id=\"T_0a664_row9_col0\" class=\"data row9 col0\" >Categorical features</td>\n",
              "      <td id=\"T_0a664_row9_col1\" class=\"data row9 col1\" >4</td>\n",
              "    </tr>\n",
              "    <tr>\n",
              "      <th id=\"T_0a664_level0_row10\" class=\"row_heading level0 row10\" >10</th>\n",
              "      <td id=\"T_0a664_row10_col0\" class=\"data row10 col0\" >Rows with missing values</td>\n",
              "      <td id=\"T_0a664_row10_col1\" class=\"data row10 col1\" >75.9%</td>\n",
              "    </tr>\n",
              "    <tr>\n",
              "      <th id=\"T_0a664_level0_row11\" class=\"row_heading level0 row11\" >11</th>\n",
              "      <td id=\"T_0a664_row11_col0\" class=\"data row11 col0\" >Preprocess</td>\n",
              "      <td id=\"T_0a664_row11_col1\" class=\"data row11 col1\" >True</td>\n",
              "    </tr>\n",
              "    <tr>\n",
              "      <th id=\"T_0a664_level0_row12\" class=\"row_heading level0 row12\" >12</th>\n",
              "      <td id=\"T_0a664_row12_col0\" class=\"data row12 col0\" >Imputation type</td>\n",
              "      <td id=\"T_0a664_row12_col1\" class=\"data row12 col1\" >simple</td>\n",
              "    </tr>\n",
              "    <tr>\n",
              "      <th id=\"T_0a664_level0_row13\" class=\"row_heading level0 row13\" >13</th>\n",
              "      <td id=\"T_0a664_row13_col0\" class=\"data row13 col0\" >Numeric imputation</td>\n",
              "      <td id=\"T_0a664_row13_col1\" class=\"data row13 col1\" >mean</td>\n",
              "    </tr>\n",
              "    <tr>\n",
              "      <th id=\"T_0a664_level0_row14\" class=\"row_heading level0 row14\" >14</th>\n",
              "      <td id=\"T_0a664_row14_col0\" class=\"data row14 col0\" >Categorical imputation</td>\n",
              "      <td id=\"T_0a664_row14_col1\" class=\"data row14 col1\" >mode</td>\n",
              "    </tr>\n",
              "    <tr>\n",
              "      <th id=\"T_0a664_level0_row15\" class=\"row_heading level0 row15\" >15</th>\n",
              "      <td id=\"T_0a664_row15_col0\" class=\"data row15 col0\" >Maximum one-hot encoding</td>\n",
              "      <td id=\"T_0a664_row15_col1\" class=\"data row15 col1\" >25</td>\n",
              "    </tr>\n",
              "    <tr>\n",
              "      <th id=\"T_0a664_level0_row16\" class=\"row_heading level0 row16\" >16</th>\n",
              "      <td id=\"T_0a664_row16_col0\" class=\"data row16 col0\" >Encoding method</td>\n",
              "      <td id=\"T_0a664_row16_col1\" class=\"data row16 col1\" >None</td>\n",
              "    </tr>\n",
              "    <tr>\n",
              "      <th id=\"T_0a664_level0_row17\" class=\"row_heading level0 row17\" >17</th>\n",
              "      <td id=\"T_0a664_row17_col0\" class=\"data row17 col0\" >Fold Generator</td>\n",
              "      <td id=\"T_0a664_row17_col1\" class=\"data row17 col1\" >StratifiedKFold</td>\n",
              "    </tr>\n",
              "    <tr>\n",
              "      <th id=\"T_0a664_level0_row18\" class=\"row_heading level0 row18\" >18</th>\n",
              "      <td id=\"T_0a664_row18_col0\" class=\"data row18 col0\" >Fold Number</td>\n",
              "      <td id=\"T_0a664_row18_col1\" class=\"data row18 col1\" >10</td>\n",
              "    </tr>\n",
              "    <tr>\n",
              "      <th id=\"T_0a664_level0_row19\" class=\"row_heading level0 row19\" >19</th>\n",
              "      <td id=\"T_0a664_row19_col0\" class=\"data row19 col0\" >CPU Jobs</td>\n",
              "      <td id=\"T_0a664_row19_col1\" class=\"data row19 col1\" >-1</td>\n",
              "    </tr>\n",
              "    <tr>\n",
              "      <th id=\"T_0a664_level0_row20\" class=\"row_heading level0 row20\" >20</th>\n",
              "      <td id=\"T_0a664_row20_col0\" class=\"data row20 col0\" >Use GPU</td>\n",
              "      <td id=\"T_0a664_row20_col1\" class=\"data row20 col1\" >False</td>\n",
              "    </tr>\n",
              "    <tr>\n",
              "      <th id=\"T_0a664_level0_row21\" class=\"row_heading level0 row21\" >21</th>\n",
              "      <td id=\"T_0a664_row21_col0\" class=\"data row21 col0\" >Log Experiment</td>\n",
              "      <td id=\"T_0a664_row21_col1\" class=\"data row21 col1\" >False</td>\n",
              "    </tr>\n",
              "    <tr>\n",
              "      <th id=\"T_0a664_level0_row22\" class=\"row_heading level0 row22\" >22</th>\n",
              "      <td id=\"T_0a664_row22_col0\" class=\"data row22 col0\" >Experiment Name</td>\n",
              "      <td id=\"T_0a664_row22_col1\" class=\"data row22 col1\" >clf-default-name</td>\n",
              "    </tr>\n",
              "    <tr>\n",
              "      <th id=\"T_0a664_level0_row23\" class=\"row_heading level0 row23\" >23</th>\n",
              "      <td id=\"T_0a664_row23_col0\" class=\"data row23 col0\" >USI</td>\n",
              "      <td id=\"T_0a664_row23_col1\" class=\"data row23 col1\" >5302</td>\n",
              "    </tr>\n",
              "  </tbody>\n",
              "</table>\n"
            ],
            "text/plain": [
              "<pandas.io.formats.style.Styler at 0x325dd3670>"
            ]
          },
          "metadata": {},
          "output_type": "display_data"
        }
      ],
      "source": [
        "# Configurem entorn PyCaret\n",
        "# Handle readmitted_stay separately\n",
        "# Convert all non-zero values to 1 and leave 0 values as is\n",
        "import numpy as np\n",
        "\n",
        "df['readmitted_stay'] = np.where(df['readmitted_stay'].fillna(0) != 0, 1, 0)\n",
        "\n",
        "\n",
        "\n",
        "print(df['readmitted'].value_counts())\n",
        "\n",
        "clf = setup(data=df, target='readmitted', session_id=123, verbose=True)"
      ]
    },
    {
      "cell_type": "code",
      "execution_count": 15,
      "metadata": {},
      "outputs": [
        {
          "name": "stdout",
          "output_type": "stream",
          "text": [
            "\n",
            "Comparant models........ esperant........ pot tardar uns minuts...\n"
          ]
        },
        {
          "data": {
            "text/html": [],
            "text/plain": [
              "<IPython.core.display.HTML object>"
            ]
          },
          "metadata": {},
          "output_type": "display_data"
        },
        {
          "data": {
            "text/html": [
              "<style type=\"text/css\">\n",
              "#T_4a969 th {\n",
              "  text-align: left;\n",
              "}\n",
              "#T_4a969_row0_col0, #T_4a969_row0_col3, #T_4a969_row0_col5, #T_4a969_row0_col6, #T_4a969_row0_col7, #T_4a969_row1_col0, #T_4a969_row1_col1, #T_4a969_row1_col2, #T_4a969_row1_col3, #T_4a969_row1_col4, #T_4a969_row1_col5, #T_4a969_row2_col0, #T_4a969_row2_col1, #T_4a969_row2_col2, #T_4a969_row2_col3, #T_4a969_row2_col4, #T_4a969_row2_col5, #T_4a969_row2_col6, #T_4a969_row2_col7, #T_4a969_row3_col0, #T_4a969_row3_col1, #T_4a969_row3_col2, #T_4a969_row3_col4, #T_4a969_row3_col6, #T_4a969_row3_col7 {\n",
              "  text-align: left;\n",
              "}\n",
              "#T_4a969_row0_col1, #T_4a969_row0_col2, #T_4a969_row0_col4, #T_4a969_row1_col6, #T_4a969_row1_col7, #T_4a969_row3_col3, #T_4a969_row3_col5 {\n",
              "  text-align: left;\n",
              "  background-color: yellow;\n",
              "}\n",
              "#T_4a969_row0_col8, #T_4a969_row1_col8 {\n",
              "  text-align: left;\n",
              "  background-color: lightgrey;\n",
              "}\n",
              "#T_4a969_row2_col8, #T_4a969_row3_col8 {\n",
              "  text-align: left;\n",
              "  background-color: yellow;\n",
              "  background-color: lightgrey;\n",
              "}\n",
              "</style>\n",
              "<table id=\"T_4a969\">\n",
              "  <thead>\n",
              "    <tr>\n",
              "      <th class=\"blank level0\" >&nbsp;</th>\n",
              "      <th id=\"T_4a969_level0_col0\" class=\"col_heading level0 col0\" >Model</th>\n",
              "      <th id=\"T_4a969_level0_col1\" class=\"col_heading level0 col1\" >Accuracy</th>\n",
              "      <th id=\"T_4a969_level0_col2\" class=\"col_heading level0 col2\" >AUC</th>\n",
              "      <th id=\"T_4a969_level0_col3\" class=\"col_heading level0 col3\" >Recall</th>\n",
              "      <th id=\"T_4a969_level0_col4\" class=\"col_heading level0 col4\" >Prec.</th>\n",
              "      <th id=\"T_4a969_level0_col5\" class=\"col_heading level0 col5\" >F1</th>\n",
              "      <th id=\"T_4a969_level0_col6\" class=\"col_heading level0 col6\" >Kappa</th>\n",
              "      <th id=\"T_4a969_level0_col7\" class=\"col_heading level0 col7\" >MCC</th>\n",
              "      <th id=\"T_4a969_level0_col8\" class=\"col_heading level0 col8\" >TT (Sec)</th>\n",
              "    </tr>\n",
              "  </thead>\n",
              "  <tbody>\n",
              "    <tr>\n",
              "      <th id=\"T_4a969_level0_row0\" class=\"row_heading level0 row0\" >rf</th>\n",
              "      <td id=\"T_4a969_row0_col0\" class=\"data row0 col0\" >Random Forest Classifier</td>\n",
              "      <td id=\"T_4a969_row0_col1\" class=\"data row0 col1\" >0.7819</td>\n",
              "      <td id=\"T_4a969_row0_col2\" class=\"data row0 col2\" >0.6383</td>\n",
              "      <td id=\"T_4a969_row0_col3\" class=\"data row0 col3\" >0.0762</td>\n",
              "      <td id=\"T_4a969_row0_col4\" class=\"data row0 col4\" >0.6342</td>\n",
              "      <td id=\"T_4a969_row0_col5\" class=\"data row0 col5\" >0.1352</td>\n",
              "      <td id=\"T_4a969_row0_col6\" class=\"data row0 col6\" >0.0924</td>\n",
              "      <td id=\"T_4a969_row0_col7\" class=\"data row0 col7\" >0.1625</td>\n",
              "      <td id=\"T_4a969_row0_col8\" class=\"data row0 col8\" >0.0610</td>\n",
              "    </tr>\n",
              "    <tr>\n",
              "      <th id=\"T_4a969_level0_row1\" class=\"row_heading level0 row1\" >lightgbm</th>\n",
              "      <td id=\"T_4a969_row1_col0\" class=\"data row1 col0\" >Light Gradient Boosting Machine</td>\n",
              "      <td id=\"T_4a969_row1_col1\" class=\"data row1 col1\" >0.7785</td>\n",
              "      <td id=\"T_4a969_row1_col2\" class=\"data row1 col2\" >0.6018</td>\n",
              "      <td id=\"T_4a969_row1_col3\" class=\"data row1 col3\" >0.1554</td>\n",
              "      <td id=\"T_4a969_row1_col4\" class=\"data row1 col4\" >0.5465</td>\n",
              "      <td id=\"T_4a969_row1_col5\" class=\"data row1 col5\" >0.2391</td>\n",
              "      <td id=\"T_4a969_row1_col6\" class=\"data row1 col6\" >0.1539</td>\n",
              "      <td id=\"T_4a969_row1_col7\" class=\"data row1 col7\" >0.1974</td>\n",
              "      <td id=\"T_4a969_row1_col8\" class=\"data row1 col8\" >0.4460</td>\n",
              "    </tr>\n",
              "    <tr>\n",
              "      <th id=\"T_4a969_level0_row2\" class=\"row_heading level0 row2\" >dummy</th>\n",
              "      <td id=\"T_4a969_row2_col0\" class=\"data row2 col0\" >Dummy Classifier</td>\n",
              "      <td id=\"T_4a969_row2_col1\" class=\"data row2 col1\" >0.7744</td>\n",
              "      <td id=\"T_4a969_row2_col2\" class=\"data row2 col2\" >0.5000</td>\n",
              "      <td id=\"T_4a969_row2_col3\" class=\"data row2 col3\" >0.0000</td>\n",
              "      <td id=\"T_4a969_row2_col4\" class=\"data row2 col4\" >0.0000</td>\n",
              "      <td id=\"T_4a969_row2_col5\" class=\"data row2 col5\" >0.0000</td>\n",
              "      <td id=\"T_4a969_row2_col6\" class=\"data row2 col6\" >0.0000</td>\n",
              "      <td id=\"T_4a969_row2_col7\" class=\"data row2 col7\" >0.0000</td>\n",
              "      <td id=\"T_4a969_row2_col8\" class=\"data row2 col8\" >0.0120</td>\n",
              "    </tr>\n",
              "    <tr>\n",
              "      <th id=\"T_4a969_level0_row3\" class=\"row_heading level0 row3\" >dt</th>\n",
              "      <td id=\"T_4a969_row3_col0\" class=\"data row3 col0\" >Decision Tree Classifier</td>\n",
              "      <td id=\"T_4a969_row3_col1\" class=\"data row3 col1\" >0.6776</td>\n",
              "      <td id=\"T_4a969_row3_col2\" class=\"data row3 col2\" >0.5529</td>\n",
              "      <td id=\"T_4a969_row3_col3\" class=\"data row3 col3\" >0.3258</td>\n",
              "      <td id=\"T_4a969_row3_col4\" class=\"data row3 col4\" >0.3023</td>\n",
              "      <td id=\"T_4a969_row3_col5\" class=\"data row3 col5\" >0.3128</td>\n",
              "      <td id=\"T_4a969_row3_col6\" class=\"data row3 col6\" >0.1031</td>\n",
              "      <td id=\"T_4a969_row3_col7\" class=\"data row3 col7\" >0.1034</td>\n",
              "      <td id=\"T_4a969_row3_col8\" class=\"data row3 col8\" >0.0120</td>\n",
              "    </tr>\n",
              "  </tbody>\n",
              "</table>\n"
            ],
            "text/plain": [
              "<pandas.io.formats.style.Styler at 0x325e93700>"
            ]
          },
          "metadata": {},
          "output_type": "display_data"
        },
        {
          "data": {
            "text/html": [],
            "text/plain": [
              "<IPython.core.display.HTML object>"
            ]
          },
          "metadata": {},
          "output_type": "display_data"
        }
      ],
      "source": [
        "# Paso 4: Comparar Modelos\n",
        "print(\"\\nComparant models........ esperant........ pot tardar uns minuts...\")\n",
        "best_model = compare_models()"
      ]
    },
    {
      "cell_type": "code",
      "execution_count": 19,
      "metadata": {},
      "outputs": [
        {
          "name": "stdout",
          "output_type": "stream",
          "text": [
            "              precision    recall  f1-score   support\n",
            "\n",
            "           0       0.80      0.99      0.89       806\n",
            "           1       0.84      0.16      0.27       234\n",
            "\n",
            "    accuracy                           0.80      1040\n",
            "   macro avg       0.82      0.57      0.58      1040\n",
            "weighted avg       0.81      0.80      0.75      1040\n",
            "\n",
            "AUC: 0.6704285168925367\n"
          ]
        }
      ],
      "source": [
        "######## DE MOMENT NO CAL EXECUTAR AQUEST PAS #########\n",
        "\n",
        "from sklearn.ensemble import RandomForestClassifier\n",
        "from sklearn.metrics import classification_report, roc_auc_score\n",
        "\n",
        "X = features_scaled\n",
        "y = df['readmitted']\n",
        "\n",
        "X_train, X_test, y_train, y_test = train_test_split(X, y, stratify=y)\n",
        "\n",
        "model = RandomForestClassifier(n_estimators=100)\n",
        "model.fit(X_train, y_train)\n",
        "\n",
        "y_pred = model.predict(X_test)\n",
        "y_proba = model.predict_proba(X_test)[:,1]\n",
        "\n",
        "print(classification_report(y_test, y_pred))\n",
        "print(\"AUC:\", roc_auc_score(y_test, y_proba))"
      ]
    },
    {
      "cell_type": "code",
      "execution_count": 16,
      "metadata": {},
      "outputs": [
        {
          "data": {
            "text/html": [],
            "text/plain": [
              "<IPython.core.display.HTML object>"
            ]
          },
          "metadata": {},
          "output_type": "display_data"
        },
        {
          "data": {
            "text/html": [
              "<style type=\"text/css\">\n",
              "#T_379f8_row10_col0, #T_379f8_row10_col1, #T_379f8_row10_col2, #T_379f8_row10_col3, #T_379f8_row10_col4, #T_379f8_row10_col5, #T_379f8_row10_col6 {\n",
              "  background: yellow;\n",
              "}\n",
              "</style>\n",
              "<table id=\"T_379f8\">\n",
              "  <thead>\n",
              "    <tr>\n",
              "      <th class=\"blank level0\" >&nbsp;</th>\n",
              "      <th id=\"T_379f8_level0_col0\" class=\"col_heading level0 col0\" >Accuracy</th>\n",
              "      <th id=\"T_379f8_level0_col1\" class=\"col_heading level0 col1\" >AUC</th>\n",
              "      <th id=\"T_379f8_level0_col2\" class=\"col_heading level0 col2\" >Recall</th>\n",
              "      <th id=\"T_379f8_level0_col3\" class=\"col_heading level0 col3\" >Prec.</th>\n",
              "      <th id=\"T_379f8_level0_col4\" class=\"col_heading level0 col4\" >F1</th>\n",
              "      <th id=\"T_379f8_level0_col5\" class=\"col_heading level0 col5\" >Kappa</th>\n",
              "      <th id=\"T_379f8_level0_col6\" class=\"col_heading level0 col6\" >MCC</th>\n",
              "    </tr>\n",
              "    <tr>\n",
              "      <th class=\"index_name level0\" >Fold</th>\n",
              "      <th class=\"blank col0\" >&nbsp;</th>\n",
              "      <th class=\"blank col1\" >&nbsp;</th>\n",
              "      <th class=\"blank col2\" >&nbsp;</th>\n",
              "      <th class=\"blank col3\" >&nbsp;</th>\n",
              "      <th class=\"blank col4\" >&nbsp;</th>\n",
              "      <th class=\"blank col5\" >&nbsp;</th>\n",
              "      <th class=\"blank col6\" >&nbsp;</th>\n",
              "    </tr>\n",
              "  </thead>\n",
              "  <tbody>\n",
              "    <tr>\n",
              "      <th id=\"T_379f8_level0_row0\" class=\"row_heading level0 row0\" >0</th>\n",
              "      <td id=\"T_379f8_row0_col0\" class=\"data row0 col0\" >0.7877</td>\n",
              "      <td id=\"T_379f8_row0_col1\" class=\"data row0 col1\" >0.6080</td>\n",
              "      <td id=\"T_379f8_row0_col2\" class=\"data row0 col2\" >0.0758</td>\n",
              "      <td id=\"T_379f8_row0_col3\" class=\"data row0 col3\" >0.8333</td>\n",
              "      <td id=\"T_379f8_row0_col4\" class=\"data row0 col4\" >0.1389</td>\n",
              "      <td id=\"T_379f8_row0_col5\" class=\"data row0 col5\" >0.1052</td>\n",
              "      <td id=\"T_379f8_row0_col6\" class=\"data row0 col6\" >0.2103</td>\n",
              "    </tr>\n",
              "    <tr>\n",
              "      <th id=\"T_379f8_level0_row1\" class=\"row_heading level0 row1\" >1</th>\n",
              "      <td id=\"T_379f8_row1_col0\" class=\"data row1 col0\" >0.7740</td>\n",
              "      <td id=\"T_379f8_row1_col1\" class=\"data row1 col1\" >0.6315</td>\n",
              "      <td id=\"T_379f8_row1_col2\" class=\"data row1 col2\" >0.0909</td>\n",
              "      <td id=\"T_379f8_row1_col3\" class=\"data row1 col3\" >0.5000</td>\n",
              "      <td id=\"T_379f8_row1_col4\" class=\"data row1 col4\" >0.1538</td>\n",
              "      <td id=\"T_379f8_row1_col5\" class=\"data row1 col5\" >0.0906</td>\n",
              "      <td id=\"T_379f8_row1_col6\" class=\"data row1 col6\" >0.1356</td>\n",
              "    </tr>\n",
              "    <tr>\n",
              "      <th id=\"T_379f8_level0_row2\" class=\"row_heading level0 row2\" >2</th>\n",
              "      <td id=\"T_379f8_row2_col0\" class=\"data row2 col0\" >0.7938</td>\n",
              "      <td id=\"T_379f8_row2_col1\" class=\"data row2 col1\" >0.6279</td>\n",
              "      <td id=\"T_379f8_row2_col2\" class=\"data row2 col2\" >0.1077</td>\n",
              "      <td id=\"T_379f8_row2_col3\" class=\"data row2 col3\" >0.7778</td>\n",
              "      <td id=\"T_379f8_row2_col4\" class=\"data row2 col4\" >0.1892</td>\n",
              "      <td id=\"T_379f8_row2_col5\" class=\"data row2 col5\" >0.1426</td>\n",
              "      <td id=\"T_379f8_row2_col6\" class=\"data row2 col6\" >0.2378</td>\n",
              "    </tr>\n",
              "    <tr>\n",
              "      <th id=\"T_379f8_level0_row3\" class=\"row_heading level0 row3\" >3</th>\n",
              "      <td id=\"T_379f8_row3_col0\" class=\"data row3 col0\" >0.7973</td>\n",
              "      <td id=\"T_379f8_row3_col1\" class=\"data row3 col1\" >0.6443</td>\n",
              "      <td id=\"T_379f8_row3_col2\" class=\"data row3 col2\" >0.1231</td>\n",
              "      <td id=\"T_379f8_row3_col3\" class=\"data row3 col3\" >0.8000</td>\n",
              "      <td id=\"T_379f8_row3_col4\" class=\"data row3 col4\" >0.2133</td>\n",
              "      <td id=\"T_379f8_row3_col5\" class=\"data row3 col5\" >0.1635</td>\n",
              "      <td id=\"T_379f8_row3_col6\" class=\"data row3 col6\" >0.2612</td>\n",
              "    </tr>\n",
              "    <tr>\n",
              "      <th id=\"T_379f8_level0_row4\" class=\"row_heading level0 row4\" >4</th>\n",
              "      <td id=\"T_379f8_row4_col0\" class=\"data row4 col0\" >0.7801</td>\n",
              "      <td id=\"T_379f8_row4_col1\" class=\"data row4 col1\" >0.6632</td>\n",
              "      <td id=\"T_379f8_row4_col2\" class=\"data row4 col2\" >0.0769</td>\n",
              "      <td id=\"T_379f8_row4_col3\" class=\"data row4 col3\" >0.5556</td>\n",
              "      <td id=\"T_379f8_row4_col4\" class=\"data row4 col4\" >0.1351</td>\n",
              "      <td id=\"T_379f8_row4_col5\" class=\"data row4 col5\" >0.0854</td>\n",
              "      <td id=\"T_379f8_row4_col6\" class=\"data row4 col6\" >0.1425</td>\n",
              "    </tr>\n",
              "    <tr>\n",
              "      <th id=\"T_379f8_level0_row5\" class=\"row_heading level0 row5\" >5</th>\n",
              "      <td id=\"T_379f8_row5_col0\" class=\"data row5 col0\" >0.7938</td>\n",
              "      <td id=\"T_379f8_row5_col1\" class=\"data row5 col1\" >0.6517</td>\n",
              "      <td id=\"T_379f8_row5_col2\" class=\"data row5 col2\" >0.1061</td>\n",
              "      <td id=\"T_379f8_row5_col3\" class=\"data row5 col3\" >0.8750</td>\n",
              "      <td id=\"T_379f8_row5_col4\" class=\"data row5 col4\" >0.1892</td>\n",
              "      <td id=\"T_379f8_row5_col5\" class=\"data row5 col5\" >0.1474</td>\n",
              "      <td id=\"T_379f8_row5_col6\" class=\"data row5 col6\" >0.2602</td>\n",
              "    </tr>\n",
              "    <tr>\n",
              "      <th id=\"T_379f8_level0_row6\" class=\"row_heading level0 row6\" >6</th>\n",
              "      <td id=\"T_379f8_row6_col0\" class=\"data row6 col0\" >0.7698</td>\n",
              "      <td id=\"T_379f8_row6_col1\" class=\"data row6 col1\" >0.6303</td>\n",
              "      <td id=\"T_379f8_row6_col2\" class=\"data row6 col2\" >0.0303</td>\n",
              "      <td id=\"T_379f8_row6_col3\" class=\"data row6 col3\" >0.4000</td>\n",
              "      <td id=\"T_379f8_row6_col4\" class=\"data row6 col4\" >0.0563</td>\n",
              "      <td id=\"T_379f8_row6_col5\" class=\"data row6 col5\" >0.0252</td>\n",
              "      <td id=\"T_379f8_row6_col6\" class=\"data row6 col6\" >0.0547</td>\n",
              "    </tr>\n",
              "    <tr>\n",
              "      <th id=\"T_379f8_level0_row7\" class=\"row_heading level0 row7\" >7</th>\n",
              "      <td id=\"T_379f8_row7_col0\" class=\"data row7 col0\" >0.7560</td>\n",
              "      <td id=\"T_379f8_row7_col1\" class=\"data row7 col1\" >0.6418</td>\n",
              "      <td id=\"T_379f8_row7_col2\" class=\"data row7 col2\" >0.0152</td>\n",
              "      <td id=\"T_379f8_row7_col3\" class=\"data row7 col3\" >0.1429</td>\n",
              "      <td id=\"T_379f8_row7_col4\" class=\"data row7 col4\" >0.0274</td>\n",
              "      <td id=\"T_379f8_row7_col5\" class=\"data row7 col5\" >-0.0168</td>\n",
              "      <td id=\"T_379f8_row7_col6\" class=\"data row7 col6\" >-0.0315</td>\n",
              "    </tr>\n",
              "    <tr>\n",
              "      <th id=\"T_379f8_level0_row8\" class=\"row_heading level0 row8\" >8</th>\n",
              "      <td id=\"T_379f8_row8_col0\" class=\"data row8 col0\" >0.7904</td>\n",
              "      <td id=\"T_379f8_row8_col1\" class=\"data row8 col1\" >0.6848</td>\n",
              "      <td id=\"T_379f8_row8_col2\" class=\"data row8 col2\" >0.0909</td>\n",
              "      <td id=\"T_379f8_row8_col3\" class=\"data row8 col3\" >0.8571</td>\n",
              "      <td id=\"T_379f8_row8_col4\" class=\"data row8 col4\" >0.1644</td>\n",
              "      <td id=\"T_379f8_row8_col5\" class=\"data row8 col5\" >0.1264</td>\n",
              "      <td id=\"T_379f8_row8_col6\" class=\"data row8 col6\" >0.2363</td>\n",
              "    </tr>\n",
              "    <tr>\n",
              "      <th id=\"T_379f8_level0_row9\" class=\"row_heading level0 row9\" >9</th>\n",
              "      <td id=\"T_379f8_row9_col0\" class=\"data row9 col0\" >0.7766</td>\n",
              "      <td id=\"T_379f8_row9_col1\" class=\"data row9 col1\" >0.5999</td>\n",
              "      <td id=\"T_379f8_row9_col2\" class=\"data row9 col2\" >0.0455</td>\n",
              "      <td id=\"T_379f8_row9_col3\" class=\"data row9 col3\" >0.6000</td>\n",
              "      <td id=\"T_379f8_row9_col4\" class=\"data row9 col4\" >0.0845</td>\n",
              "      <td id=\"T_379f8_row9_col5\" class=\"data row9 col5\" >0.0543</td>\n",
              "      <td id=\"T_379f8_row9_col6\" class=\"data row9 col6\" >0.1178</td>\n",
              "    </tr>\n",
              "    <tr>\n",
              "      <th id=\"T_379f8_level0_row10\" class=\"row_heading level0 row10\" >Mean</th>\n",
              "      <td id=\"T_379f8_row10_col0\" class=\"data row10 col0\" >0.7819</td>\n",
              "      <td id=\"T_379f8_row10_col1\" class=\"data row10 col1\" >0.6383</td>\n",
              "      <td id=\"T_379f8_row10_col2\" class=\"data row10 col2\" >0.0762</td>\n",
              "      <td id=\"T_379f8_row10_col3\" class=\"data row10 col3\" >0.6342</td>\n",
              "      <td id=\"T_379f8_row10_col4\" class=\"data row10 col4\" >0.1352</td>\n",
              "      <td id=\"T_379f8_row10_col5\" class=\"data row10 col5\" >0.0924</td>\n",
              "      <td id=\"T_379f8_row10_col6\" class=\"data row10 col6\" >0.1625</td>\n",
              "    </tr>\n",
              "    <tr>\n",
              "      <th id=\"T_379f8_level0_row11\" class=\"row_heading level0 row11\" >Std</th>\n",
              "      <td id=\"T_379f8_row11_col0\" class=\"data row11 col0\" >0.0124</td>\n",
              "      <td id=\"T_379f8_row11_col1\" class=\"data row11 col1\" >0.0237</td>\n",
              "      <td id=\"T_379f8_row11_col2\" class=\"data row11 col2\" >0.0336</td>\n",
              "      <td id=\"T_379f8_row11_col3\" class=\"data row11 col3\" >0.2274</td>\n",
              "      <td id=\"T_379f8_row11_col4\" class=\"data row11 col4\" >0.0579</td>\n",
              "      <td id=\"T_379f8_row11_col5\" class=\"data row11 col5\" >0.0547</td>\n",
              "      <td id=\"T_379f8_row11_col6\" class=\"data row11 col6\" >0.0922</td>\n",
              "    </tr>\n",
              "  </tbody>\n",
              "</table>\n"
            ],
            "text/plain": [
              "<pandas.io.formats.style.Styler at 0x325d4fa00>"
            ]
          },
          "metadata": {},
          "output_type": "display_data"
        },
        {
          "data": {
            "text/html": [],
            "text/plain": [
              "<IPython.core.display.HTML object>"
            ]
          },
          "metadata": {},
          "output_type": "display_data"
        },
        {
          "data": {
            "application/vnd.jupyter.widget-view+json": {
              "model_id": "f9daa8fe00674ed48cb2a32a2d40f7e9",
              "version_major": 2,
              "version_minor": 0
            },
            "text/plain": [
              "interactive(children=(ToggleButtons(description='Plot Type:', icons=('',), options=(('Pipeline Plot', 'pipelin…"
            ]
          },
          "metadata": {},
          "output_type": "display_data"
        }
      ],
      "source": [
        "# MODELS PER COMPARAR\n",
        "# rf Random Forest Classifier\n",
        "\n",
        "random_forest_classifier_model = create_model('rf')\n",
        "evaluate_model(random_forest_classifier_model)\n"
      ]
    },
    {
      "cell_type": "code",
      "execution_count": 17,
      "metadata": {},
      "outputs": [
        {
          "name": "stdout",
          "output_type": "stream",
          "text": [
            "\n",
            "Afinant model Random Forest Classifier...\n"
          ]
        },
        {
          "data": {
            "text/html": [],
            "text/plain": [
              "<IPython.core.display.HTML object>"
            ]
          },
          "metadata": {},
          "output_type": "display_data"
        },
        {
          "data": {
            "text/html": [
              "<style type=\"text/css\">\n",
              "#T_6d9e9_row10_col0, #T_6d9e9_row10_col1, #T_6d9e9_row10_col2, #T_6d9e9_row10_col3, #T_6d9e9_row10_col4, #T_6d9e9_row10_col5, #T_6d9e9_row10_col6 {\n",
              "  background: yellow;\n",
              "}\n",
              "</style>\n",
              "<table id=\"T_6d9e9\">\n",
              "  <thead>\n",
              "    <tr>\n",
              "      <th class=\"blank level0\" >&nbsp;</th>\n",
              "      <th id=\"T_6d9e9_level0_col0\" class=\"col_heading level0 col0\" >Accuracy</th>\n",
              "      <th id=\"T_6d9e9_level0_col1\" class=\"col_heading level0 col1\" >AUC</th>\n",
              "      <th id=\"T_6d9e9_level0_col2\" class=\"col_heading level0 col2\" >Recall</th>\n",
              "      <th id=\"T_6d9e9_level0_col3\" class=\"col_heading level0 col3\" >Prec.</th>\n",
              "      <th id=\"T_6d9e9_level0_col4\" class=\"col_heading level0 col4\" >F1</th>\n",
              "      <th id=\"T_6d9e9_level0_col5\" class=\"col_heading level0 col5\" >Kappa</th>\n",
              "      <th id=\"T_6d9e9_level0_col6\" class=\"col_heading level0 col6\" >MCC</th>\n",
              "    </tr>\n",
              "    <tr>\n",
              "      <th class=\"index_name level0\" >Fold</th>\n",
              "      <th class=\"blank col0\" >&nbsp;</th>\n",
              "      <th class=\"blank col1\" >&nbsp;</th>\n",
              "      <th class=\"blank col2\" >&nbsp;</th>\n",
              "      <th class=\"blank col3\" >&nbsp;</th>\n",
              "      <th class=\"blank col4\" >&nbsp;</th>\n",
              "      <th class=\"blank col5\" >&nbsp;</th>\n",
              "      <th class=\"blank col6\" >&nbsp;</th>\n",
              "    </tr>\n",
              "  </thead>\n",
              "  <tbody>\n",
              "    <tr>\n",
              "      <th id=\"T_6d9e9_level0_row0\" class=\"row_heading level0 row0\" >0</th>\n",
              "      <td id=\"T_6d9e9_row0_col0\" class=\"data row0 col0\" >0.7740</td>\n",
              "      <td id=\"T_6d9e9_row0_col1\" class=\"data row0 col1\" >0.5000</td>\n",
              "      <td id=\"T_6d9e9_row0_col2\" class=\"data row0 col2\" >0.0000</td>\n",
              "      <td id=\"T_6d9e9_row0_col3\" class=\"data row0 col3\" >0.0000</td>\n",
              "      <td id=\"T_6d9e9_row0_col4\" class=\"data row0 col4\" >0.0000</td>\n",
              "      <td id=\"T_6d9e9_row0_col5\" class=\"data row0 col5\" >0.0000</td>\n",
              "      <td id=\"T_6d9e9_row0_col6\" class=\"data row0 col6\" >0.0000</td>\n",
              "    </tr>\n",
              "    <tr>\n",
              "      <th id=\"T_6d9e9_level0_row1\" class=\"row_heading level0 row1\" >1</th>\n",
              "      <td id=\"T_6d9e9_row1_col0\" class=\"data row1 col0\" >0.7740</td>\n",
              "      <td id=\"T_6d9e9_row1_col1\" class=\"data row1 col1\" >0.5000</td>\n",
              "      <td id=\"T_6d9e9_row1_col2\" class=\"data row1 col2\" >0.0000</td>\n",
              "      <td id=\"T_6d9e9_row1_col3\" class=\"data row1 col3\" >0.0000</td>\n",
              "      <td id=\"T_6d9e9_row1_col4\" class=\"data row1 col4\" >0.0000</td>\n",
              "      <td id=\"T_6d9e9_row1_col5\" class=\"data row1 col5\" >0.0000</td>\n",
              "      <td id=\"T_6d9e9_row1_col6\" class=\"data row1 col6\" >0.0000</td>\n",
              "    </tr>\n",
              "    <tr>\n",
              "      <th id=\"T_6d9e9_level0_row2\" class=\"row_heading level0 row2\" >2</th>\n",
              "      <td id=\"T_6d9e9_row2_col0\" class=\"data row2 col0\" >0.7766</td>\n",
              "      <td id=\"T_6d9e9_row2_col1\" class=\"data row2 col1\" >0.5000</td>\n",
              "      <td id=\"T_6d9e9_row2_col2\" class=\"data row2 col2\" >0.0000</td>\n",
              "      <td id=\"T_6d9e9_row2_col3\" class=\"data row2 col3\" >0.0000</td>\n",
              "      <td id=\"T_6d9e9_row2_col4\" class=\"data row2 col4\" >0.0000</td>\n",
              "      <td id=\"T_6d9e9_row2_col5\" class=\"data row2 col5\" >0.0000</td>\n",
              "      <td id=\"T_6d9e9_row2_col6\" class=\"data row2 col6\" >0.0000</td>\n",
              "    </tr>\n",
              "    <tr>\n",
              "      <th id=\"T_6d9e9_level0_row3\" class=\"row_heading level0 row3\" >3</th>\n",
              "      <td id=\"T_6d9e9_row3_col0\" class=\"data row3 col0\" >0.7766</td>\n",
              "      <td id=\"T_6d9e9_row3_col1\" class=\"data row3 col1\" >0.5000</td>\n",
              "      <td id=\"T_6d9e9_row3_col2\" class=\"data row3 col2\" >0.0000</td>\n",
              "      <td id=\"T_6d9e9_row3_col3\" class=\"data row3 col3\" >0.0000</td>\n",
              "      <td id=\"T_6d9e9_row3_col4\" class=\"data row3 col4\" >0.0000</td>\n",
              "      <td id=\"T_6d9e9_row3_col5\" class=\"data row3 col5\" >0.0000</td>\n",
              "      <td id=\"T_6d9e9_row3_col6\" class=\"data row3 col6\" >0.0000</td>\n",
              "    </tr>\n",
              "    <tr>\n",
              "      <th id=\"T_6d9e9_level0_row4\" class=\"row_heading level0 row4\" >4</th>\n",
              "      <td id=\"T_6d9e9_row4_col0\" class=\"data row4 col0\" >0.7766</td>\n",
              "      <td id=\"T_6d9e9_row4_col1\" class=\"data row4 col1\" >0.5000</td>\n",
              "      <td id=\"T_6d9e9_row4_col2\" class=\"data row4 col2\" >0.0000</td>\n",
              "      <td id=\"T_6d9e9_row4_col3\" class=\"data row4 col3\" >0.0000</td>\n",
              "      <td id=\"T_6d9e9_row4_col4\" class=\"data row4 col4\" >0.0000</td>\n",
              "      <td id=\"T_6d9e9_row4_col5\" class=\"data row4 col5\" >0.0000</td>\n",
              "      <td id=\"T_6d9e9_row4_col6\" class=\"data row4 col6\" >0.0000</td>\n",
              "    </tr>\n",
              "    <tr>\n",
              "      <th id=\"T_6d9e9_level0_row5\" class=\"row_heading level0 row5\" >5</th>\n",
              "      <td id=\"T_6d9e9_row5_col0\" class=\"data row5 col0\" >0.7732</td>\n",
              "      <td id=\"T_6d9e9_row5_col1\" class=\"data row5 col1\" >0.5000</td>\n",
              "      <td id=\"T_6d9e9_row5_col2\" class=\"data row5 col2\" >0.0000</td>\n",
              "      <td id=\"T_6d9e9_row5_col3\" class=\"data row5 col3\" >0.0000</td>\n",
              "      <td id=\"T_6d9e9_row5_col4\" class=\"data row5 col4\" >0.0000</td>\n",
              "      <td id=\"T_6d9e9_row5_col5\" class=\"data row5 col5\" >0.0000</td>\n",
              "      <td id=\"T_6d9e9_row5_col6\" class=\"data row5 col6\" >0.0000</td>\n",
              "    </tr>\n",
              "    <tr>\n",
              "      <th id=\"T_6d9e9_level0_row6\" class=\"row_heading level0 row6\" >6</th>\n",
              "      <td id=\"T_6d9e9_row6_col0\" class=\"data row6 col0\" >0.7732</td>\n",
              "      <td id=\"T_6d9e9_row6_col1\" class=\"data row6 col1\" >0.5000</td>\n",
              "      <td id=\"T_6d9e9_row6_col2\" class=\"data row6 col2\" >0.0000</td>\n",
              "      <td id=\"T_6d9e9_row6_col3\" class=\"data row6 col3\" >0.0000</td>\n",
              "      <td id=\"T_6d9e9_row6_col4\" class=\"data row6 col4\" >0.0000</td>\n",
              "      <td id=\"T_6d9e9_row6_col5\" class=\"data row6 col5\" >0.0000</td>\n",
              "      <td id=\"T_6d9e9_row6_col6\" class=\"data row6 col6\" >0.0000</td>\n",
              "    </tr>\n",
              "    <tr>\n",
              "      <th id=\"T_6d9e9_level0_row7\" class=\"row_heading level0 row7\" >7</th>\n",
              "      <td id=\"T_6d9e9_row7_col0\" class=\"data row7 col0\" >0.7732</td>\n",
              "      <td id=\"T_6d9e9_row7_col1\" class=\"data row7 col1\" >0.5000</td>\n",
              "      <td id=\"T_6d9e9_row7_col2\" class=\"data row7 col2\" >0.0000</td>\n",
              "      <td id=\"T_6d9e9_row7_col3\" class=\"data row7 col3\" >0.0000</td>\n",
              "      <td id=\"T_6d9e9_row7_col4\" class=\"data row7 col4\" >0.0000</td>\n",
              "      <td id=\"T_6d9e9_row7_col5\" class=\"data row7 col5\" >0.0000</td>\n",
              "      <td id=\"T_6d9e9_row7_col6\" class=\"data row7 col6\" >0.0000</td>\n",
              "    </tr>\n",
              "    <tr>\n",
              "      <th id=\"T_6d9e9_level0_row8\" class=\"row_heading level0 row8\" >8</th>\n",
              "      <td id=\"T_6d9e9_row8_col0\" class=\"data row8 col0\" >0.7732</td>\n",
              "      <td id=\"T_6d9e9_row8_col1\" class=\"data row8 col1\" >0.5000</td>\n",
              "      <td id=\"T_6d9e9_row8_col2\" class=\"data row8 col2\" >0.0000</td>\n",
              "      <td id=\"T_6d9e9_row8_col3\" class=\"data row8 col3\" >0.0000</td>\n",
              "      <td id=\"T_6d9e9_row8_col4\" class=\"data row8 col4\" >0.0000</td>\n",
              "      <td id=\"T_6d9e9_row8_col5\" class=\"data row8 col5\" >0.0000</td>\n",
              "      <td id=\"T_6d9e9_row8_col6\" class=\"data row8 col6\" >0.0000</td>\n",
              "    </tr>\n",
              "    <tr>\n",
              "      <th id=\"T_6d9e9_level0_row9\" class=\"row_heading level0 row9\" >9</th>\n",
              "      <td id=\"T_6d9e9_row9_col0\" class=\"data row9 col0\" >0.7732</td>\n",
              "      <td id=\"T_6d9e9_row9_col1\" class=\"data row9 col1\" >0.5000</td>\n",
              "      <td id=\"T_6d9e9_row9_col2\" class=\"data row9 col2\" >0.0000</td>\n",
              "      <td id=\"T_6d9e9_row9_col3\" class=\"data row9 col3\" >0.0000</td>\n",
              "      <td id=\"T_6d9e9_row9_col4\" class=\"data row9 col4\" >0.0000</td>\n",
              "      <td id=\"T_6d9e9_row9_col5\" class=\"data row9 col5\" >0.0000</td>\n",
              "      <td id=\"T_6d9e9_row9_col6\" class=\"data row9 col6\" >0.0000</td>\n",
              "    </tr>\n",
              "    <tr>\n",
              "      <th id=\"T_6d9e9_level0_row10\" class=\"row_heading level0 row10\" >Mean</th>\n",
              "      <td id=\"T_6d9e9_row10_col0\" class=\"data row10 col0\" >0.7744</td>\n",
              "      <td id=\"T_6d9e9_row10_col1\" class=\"data row10 col1\" >0.5000</td>\n",
              "      <td id=\"T_6d9e9_row10_col2\" class=\"data row10 col2\" >0.0000</td>\n",
              "      <td id=\"T_6d9e9_row10_col3\" class=\"data row10 col3\" >0.0000</td>\n",
              "      <td id=\"T_6d9e9_row10_col4\" class=\"data row10 col4\" >0.0000</td>\n",
              "      <td id=\"T_6d9e9_row10_col5\" class=\"data row10 col5\" >0.0000</td>\n",
              "      <td id=\"T_6d9e9_row10_col6\" class=\"data row10 col6\" >0.0000</td>\n",
              "    </tr>\n",
              "    <tr>\n",
              "      <th id=\"T_6d9e9_level0_row11\" class=\"row_heading level0 row11\" >Std</th>\n",
              "      <td id=\"T_6d9e9_row11_col0\" class=\"data row11 col0\" >0.0015</td>\n",
              "      <td id=\"T_6d9e9_row11_col1\" class=\"data row11 col1\" >0.0000</td>\n",
              "      <td id=\"T_6d9e9_row11_col2\" class=\"data row11 col2\" >0.0000</td>\n",
              "      <td id=\"T_6d9e9_row11_col3\" class=\"data row11 col3\" >0.0000</td>\n",
              "      <td id=\"T_6d9e9_row11_col4\" class=\"data row11 col4\" >0.0000</td>\n",
              "      <td id=\"T_6d9e9_row11_col5\" class=\"data row11 col5\" >0.0000</td>\n",
              "      <td id=\"T_6d9e9_row11_col6\" class=\"data row11 col6\" >0.0000</td>\n",
              "    </tr>\n",
              "  </tbody>\n",
              "</table>\n"
            ],
            "text/plain": [
              "<pandas.io.formats.style.Styler at 0x325d98040>"
            ]
          },
          "metadata": {},
          "output_type": "display_data"
        },
        {
          "data": {
            "text/html": [],
            "text/plain": [
              "<IPython.core.display.HTML object>"
            ]
          },
          "metadata": {},
          "output_type": "display_data"
        },
        {
          "name": "stdout",
          "output_type": "stream",
          "text": [
            "Fitting 10 folds for each of 10 candidates, totalling 100 fits\n",
            "Original model was better than the tuned model, hence it will be returned. NOTE: The display metrics are for the tuned model (not the original one).\n"
          ]
        }
      ],
      "source": [
        "# Pas 6: Afinar el Model\n",
        "print(\"\\nAfinant model Random Forest Classifier...\")\n",
        "random_forest_classifier_tunned = tune_model(random_forest_classifier_model)"
      ]
    },
    {
      "cell_type": "code",
      "execution_count": 18,
      "metadata": {},
      "outputs": [
        {
          "name": "stdout",
          "output_type": "stream",
          "text": [
            "\n",
            "Desant el model...\n",
            "Transformation Pipeline and Model Successfully Saved\n",
            "\n",
            "Carregant el model desat...\n",
            "Transformation Pipeline and Model Successfully Loaded\n"
          ]
        }
      ],
      "source": [
        "# Desar Model\n",
        "\n",
        "print(\"\\nDesant el model...\")\n",
        "save_model(random_forest_classifier_model, 'model_rf_afinat')\n",
        "\n",
        "# Cargar el modelo guardado\n",
        "print(\"\\nCarregant el model desat...\")\n",
        "loaded_model = load_model('model_rf_afinat')"
      ]
    },
    {
      "cell_type": "code",
      "execution_count": 19,
      "metadata": {},
      "outputs": [
        {
          "name": "stdout",
          "output_type": "stream",
          "text": [
            "Generando 'auc'...\n"
          ]
        },
        {
          "data": {
            "text/html": [],
            "text/plain": [
              "<IPython.core.display.HTML object>"
            ]
          },
          "metadata": {},
          "output_type": "display_data"
        },
        {
          "name": "stdout",
          "output_type": "stream",
          "text": [
            "→ Guardado en 'grafiques/auc.png'\n",
            "Generando 'confusion_matrix'...\n"
          ]
        },
        {
          "data": {
            "text/html": [],
            "text/plain": [
              "<IPython.core.display.HTML object>"
            ]
          },
          "metadata": {},
          "output_type": "display_data"
        },
        {
          "name": "stdout",
          "output_type": "stream",
          "text": [
            "→ Guardado en 'grafiques/confusion_matrix.png'\n",
            "Generando 'error'...\n"
          ]
        },
        {
          "data": {
            "text/html": [],
            "text/plain": [
              "<IPython.core.display.HTML object>"
            ]
          },
          "metadata": {},
          "output_type": "display_data"
        },
        {
          "name": "stdout",
          "output_type": "stream",
          "text": [
            "→ Guardado en 'grafiques/error.png'\n",
            "Generando 'class_report'...\n"
          ]
        },
        {
          "data": {
            "text/html": [],
            "text/plain": [
              "<IPython.core.display.HTML object>"
            ]
          },
          "metadata": {},
          "output_type": "display_data"
        },
        {
          "name": "stdout",
          "output_type": "stream",
          "text": [
            "→ Guardado en 'grafiques/class_report.png'\n",
            "Generando 'learning'...\n"
          ]
        },
        {
          "data": {
            "text/html": [],
            "text/plain": [
              "<IPython.core.display.HTML object>"
            ]
          },
          "metadata": {},
          "output_type": "display_data"
        },
        {
          "name": "stdout",
          "output_type": "stream",
          "text": [
            "→ Guardado en 'grafiques/learning.png'\n",
            "Generando 'vc'...\n"
          ]
        },
        {
          "data": {
            "text/html": [],
            "text/plain": [
              "<IPython.core.display.HTML object>"
            ]
          },
          "metadata": {},
          "output_type": "display_data"
        },
        {
          "name": "stdout",
          "output_type": "stream",
          "text": [
            "→ Guardado en 'grafiques/vc.png'\n",
            "Generando 'feature'...\n"
          ]
        },
        {
          "data": {
            "text/html": [],
            "text/plain": [
              "<IPython.core.display.HTML object>"
            ]
          },
          "metadata": {},
          "output_type": "display_data"
        },
        {
          "name": "stdout",
          "output_type": "stream",
          "text": [
            "→ Guardado en 'grafiques/feature.png'\n",
            "Generando 'feature_all'...\n"
          ]
        },
        {
          "data": {
            "text/html": [],
            "text/plain": [
              "<IPython.core.display.HTML object>"
            ]
          },
          "metadata": {},
          "output_type": "display_data"
        },
        {
          "name": "stdout",
          "output_type": "stream",
          "text": [
            "→ Guardado en 'grafiques/feature_all.png'\n",
            "Generando 'ks'...\n"
          ]
        },
        {
          "data": {
            "text/html": [],
            "text/plain": [
              "<IPython.core.display.HTML object>"
            ]
          },
          "metadata": {},
          "output_type": "display_data"
        },
        {
          "name": "stdout",
          "output_type": "stream",
          "text": [
            "→ Guardado en 'grafiques/ks.png'\n",
            "Generando 'pr'...\n"
          ]
        },
        {
          "data": {
            "text/html": [],
            "text/plain": [
              "<IPython.core.display.HTML object>"
            ]
          },
          "metadata": {},
          "output_type": "display_data"
        },
        {
          "name": "stdout",
          "output_type": "stream",
          "text": [
            "→ Guardado en 'grafiques/pr.png'\n",
            "Generando 'calibration'...\n"
          ]
        },
        {
          "data": {
            "text/html": [],
            "text/plain": [
              "<IPython.core.display.HTML object>"
            ]
          },
          "metadata": {},
          "output_type": "display_data"
        },
        {
          "name": "stdout",
          "output_type": "stream",
          "text": [
            "→ Guardado en 'grafiques/calibration.png'\n",
            "Generando 'lift'...\n"
          ]
        },
        {
          "data": {
            "text/html": [],
            "text/plain": [
              "<IPython.core.display.HTML object>"
            ]
          },
          "metadata": {},
          "output_type": "display_data"
        },
        {
          "name": "stdout",
          "output_type": "stream",
          "text": [
            "→ Guardado en 'grafiques/lift.png'\n",
            "Generando 'gain'...\n"
          ]
        },
        {
          "data": {
            "text/html": [],
            "text/plain": [
              "<IPython.core.display.HTML object>"
            ]
          },
          "metadata": {},
          "output_type": "display_data"
        },
        {
          "name": "stdout",
          "output_type": "stream",
          "text": [
            "→ Guardado en 'grafiques/gain.png'\n",
            "Generando 'threshold'...\n"
          ]
        },
        {
          "data": {
            "text/html": [],
            "text/plain": [
              "<IPython.core.display.HTML object>"
            ]
          },
          "metadata": {},
          "output_type": "display_data"
        },
        {
          "name": "stdout",
          "output_type": "stream",
          "text": [
            "→ Guardado en 'grafiques/threshold.png'\n"
          ]
        }
      ],
      "source": [
        "\n",
        "#  Crear grafiques del model dels 21 modelos d'evaluació \n",
        "\n",
        "# Crear carpeta 'grafiques' si no existeix\n",
        "os.makedirs(\"grafiques\", exist_ok=True)\n",
        "\n",
        "# Mapeig de codis de PyCaret -> nom d'arxiu generat internament\n",
        "\n",
        "name_map = {\n",
        "    'auc': \"AUC.png\",\n",
        "    'confusion_matrix': \"Confusion Matrix.png\",\n",
        "    'error': \"Prediction Error.png\",\n",
        "    'class_report': \"Class Report.png\",\n",
        "   # 'boundary': \"Decision Boundary.png\",\n",
        "    'learning': \"Learning Curve.png\",\n",
        "    'vc': \"Validation Curve.png\",\n",
        "    'feature': \"Feature Importance.png\",\n",
        "    'feature_all': \"Feature Importance (All).png\",\n",
        "    'ks': \"KS Statistic Plot.png\",\n",
        "    'pr': \"Precision Recall.png\",\n",
        "    'calibration': \"Calibration Curve.png\",\n",
        "    'lift': \"Lift Chart.png\",\n",
        "    'gain': \"Gain Chart.png\",    \n",
        "    # 'parameters': \"Hyperparameters.png\",\n",
        "    # 'dimension' se usa en PyCaret 2.x para \"Manifold Learning\"\n",
        "    # 'manifold' en PyCaret 3.x, etc.\n",
        "    #'dimension': \"Dimensions.png\",      \n",
        "    #'manifold': \"Manifold Learning.png\",\n",
        "    'threshold': \"Threshold.png\"\n",
        "}\n",
        "\n",
        "# Generar i desar cada plot\n",
        "for plot_code, generated_name in name_map.items():\n",
        "    print(f\"Generando '{plot_code}'...\")\n",
        "    \n",
        "    # 1) Genera la gràfica i desa el .png al directori actual\n",
        "    plot_model(loaded_model, plot=plot_code, save=True)\n",
        "    \n",
        "    # 2) Si l'arxiu s'ha generat correctament, el renombrem\n",
        "    #    i ho movem a la carpeta 'grafiques/' amb un nom més senzill\n",
        "    if os.path.exists(generated_name):\n",
        "        new_path = f\"grafiques/{plot_code}.png\"\n",
        "        # os.replace() sobrescribe si new_path ya existe\n",
        "        os.replace(generated_name, new_path)\n",
        "        print(f\"→ Guardado en '{new_path}'\")\n",
        "    else:\n",
        "        print(f\"⚠ No se encontró el archivo '{generated_name}' tras generar '{plot_code}'.\")\n"
      ]
    },
    {
      "cell_type": "code",
      "execution_count": 23,
      "metadata": {},
      "outputs": [
        {
          "data": {
            "text/html": [],
            "text/plain": [
              "<IPython.core.display.HTML object>"
            ]
          },
          "metadata": {},
          "output_type": "display_data"
        },
        {
          "data": {
            "text/html": [
              "<style type=\"text/css\">\n",
              "#T_c8c50_row10_col0, #T_c8c50_row10_col1, #T_c8c50_row10_col2, #T_c8c50_row10_col3, #T_c8c50_row10_col4, #T_c8c50_row10_col5, #T_c8c50_row10_col6 {\n",
              "  background: yellow;\n",
              "}\n",
              "</style>\n",
              "<table id=\"T_c8c50\">\n",
              "  <thead>\n",
              "    <tr>\n",
              "      <th class=\"blank level0\" >&nbsp;</th>\n",
              "      <th id=\"T_c8c50_level0_col0\" class=\"col_heading level0 col0\" >Accuracy</th>\n",
              "      <th id=\"T_c8c50_level0_col1\" class=\"col_heading level0 col1\" >AUC</th>\n",
              "      <th id=\"T_c8c50_level0_col2\" class=\"col_heading level0 col2\" >Recall</th>\n",
              "      <th id=\"T_c8c50_level0_col3\" class=\"col_heading level0 col3\" >Prec.</th>\n",
              "      <th id=\"T_c8c50_level0_col4\" class=\"col_heading level0 col4\" >F1</th>\n",
              "      <th id=\"T_c8c50_level0_col5\" class=\"col_heading level0 col5\" >Kappa</th>\n",
              "      <th id=\"T_c8c50_level0_col6\" class=\"col_heading level0 col6\" >MCC</th>\n",
              "    </tr>\n",
              "    <tr>\n",
              "      <th class=\"index_name level0\" >Fold</th>\n",
              "      <th class=\"blank col0\" >&nbsp;</th>\n",
              "      <th class=\"blank col1\" >&nbsp;</th>\n",
              "      <th class=\"blank col2\" >&nbsp;</th>\n",
              "      <th class=\"blank col3\" >&nbsp;</th>\n",
              "      <th class=\"blank col4\" >&nbsp;</th>\n",
              "      <th class=\"blank col5\" >&nbsp;</th>\n",
              "      <th class=\"blank col6\" >&nbsp;</th>\n",
              "    </tr>\n",
              "  </thead>\n",
              "  <tbody>\n",
              "    <tr>\n",
              "      <th id=\"T_c8c50_level0_row0\" class=\"row_heading level0 row0\" >0</th>\n",
              "      <td id=\"T_c8c50_row0_col0\" class=\"data row0 col0\" >0.6712</td>\n",
              "      <td id=\"T_c8c50_row0_col1\" class=\"data row0 col1\" >0.5570</td>\n",
              "      <td id=\"T_c8c50_row0_col2\" class=\"data row0 col2\" >0.3485</td>\n",
              "      <td id=\"T_c8c50_row0_col3\" class=\"data row0 col3\" >0.3026</td>\n",
              "      <td id=\"T_c8c50_row0_col4\" class=\"data row0 col4\" >0.3239</td>\n",
              "      <td id=\"T_c8c50_row0_col5\" class=\"data row0 col5\" >0.1082</td>\n",
              "      <td id=\"T_c8c50_row0_col6\" class=\"data row0 col6\" >0.1086</td>\n",
              "    </tr>\n",
              "    <tr>\n",
              "      <th id=\"T_c8c50_level0_row1\" class=\"row_heading level0 row1\" >1</th>\n",
              "      <td id=\"T_c8c50_row1_col0\" class=\"data row1 col0\" >0.6507</td>\n",
              "      <td id=\"T_c8c50_row1_col1\" class=\"data row1 col1\" >0.5383</td>\n",
              "      <td id=\"T_c8c50_row1_col2\" class=\"data row1 col2\" >0.3333</td>\n",
              "      <td id=\"T_c8c50_row1_col3\" class=\"data row1 col3\" >0.2750</td>\n",
              "      <td id=\"T_c8c50_row1_col4\" class=\"data row1 col4\" >0.3014</td>\n",
              "      <td id=\"T_c8c50_row1_col5\" class=\"data row1 col5\" >0.0713</td>\n",
              "      <td id=\"T_c8c50_row1_col6\" class=\"data row1 col6\" >0.0719</td>\n",
              "    </tr>\n",
              "    <tr>\n",
              "      <th id=\"T_c8c50_level0_row2\" class=\"row_heading level0 row2\" >2</th>\n",
              "      <td id=\"T_c8c50_row2_col0\" class=\"data row2 col0\" >0.6667</td>\n",
              "      <td id=\"T_c8c50_row2_col1\" class=\"data row2 col1\" >0.5498</td>\n",
              "      <td id=\"T_c8c50_row2_col2\" class=\"data row2 col2\" >0.3385</td>\n",
              "      <td id=\"T_c8c50_row2_col3\" class=\"data row2 col3\" >0.2895</td>\n",
              "      <td id=\"T_c8c50_row2_col4\" class=\"data row2 col4\" >0.3121</td>\n",
              "      <td id=\"T_c8c50_row2_col5\" class=\"data row2 col5\" >0.0939</td>\n",
              "      <td id=\"T_c8c50_row2_col6\" class=\"data row2 col6\" >0.0944</td>\n",
              "    </tr>\n",
              "    <tr>\n",
              "      <th id=\"T_c8c50_level0_row3\" class=\"row_heading level0 row3\" >3</th>\n",
              "      <td id=\"T_c8c50_row3_col0\" class=\"data row3 col0\" >0.6735</td>\n",
              "      <td id=\"T_c8c50_row3_col1\" class=\"data row3 col1\" >0.5487</td>\n",
              "      <td id=\"T_c8c50_row3_col2\" class=\"data row3 col2\" >0.3231</td>\n",
              "      <td id=\"T_c8c50_row3_col3\" class=\"data row3 col3\" >0.2917</td>\n",
              "      <td id=\"T_c8c50_row3_col4\" class=\"data row3 col4\" >0.3066</td>\n",
              "      <td id=\"T_c8c50_row3_col5\" class=\"data row3 col5\" >0.0938</td>\n",
              "      <td id=\"T_c8c50_row3_col6\" class=\"data row3 col6\" >0.0940</td>\n",
              "    </tr>\n",
              "    <tr>\n",
              "      <th id=\"T_c8c50_level0_row4\" class=\"row_heading level0 row4\" >4</th>\n",
              "      <td id=\"T_c8c50_row4_col0\" class=\"data row4 col0\" >0.6770</td>\n",
              "      <td id=\"T_c8c50_row4_col1\" class=\"data row4 col1\" >0.5674</td>\n",
              "      <td id=\"T_c8c50_row4_col2\" class=\"data row4 col2\" >0.3692</td>\n",
              "      <td id=\"T_c8c50_row4_col3\" class=\"data row4 col3\" >0.3117</td>\n",
              "      <td id=\"T_c8c50_row4_col4\" class=\"data row4 col4\" >0.3380</td>\n",
              "      <td id=\"T_c8c50_row4_col5\" class=\"data row4 col5\" >0.1264</td>\n",
              "      <td id=\"T_c8c50_row4_col6\" class=\"data row4 col6\" >0.1272</td>\n",
              "    </tr>\n",
              "    <tr>\n",
              "      <th id=\"T_c8c50_level0_row5\" class=\"row_heading level0 row5\" >5</th>\n",
              "      <td id=\"T_c8c50_row5_col0\" class=\"data row5 col0\" >0.6907</td>\n",
              "      <td id=\"T_c8c50_row5_col1\" class=\"data row5 col1\" >0.5323</td>\n",
              "      <td id=\"T_c8c50_row5_col2\" class=\"data row5 col2\" >0.2424</td>\n",
              "      <td id=\"T_c8c50_row5_col3\" class=\"data row5 col3\" >0.2857</td>\n",
              "      <td id=\"T_c8c50_row5_col4\" class=\"data row5 col4\" >0.2623</td>\n",
              "      <td id=\"T_c8c50_row5_col5\" class=\"data row5 col5\" >0.0683</td>\n",
              "      <td id=\"T_c8c50_row5_col6\" class=\"data row5 col6\" >0.0687</td>\n",
              "    </tr>\n",
              "    <tr>\n",
              "      <th id=\"T_c8c50_level0_row6\" class=\"row_heading level0 row6\" >6</th>\n",
              "      <td id=\"T_c8c50_row6_col0\" class=\"data row6 col0\" >0.7079</td>\n",
              "      <td id=\"T_c8c50_row6_col1\" class=\"data row6 col1\" >0.5809</td>\n",
              "      <td id=\"T_c8c50_row6_col2\" class=\"data row6 col2\" >0.3485</td>\n",
              "      <td id=\"T_c8c50_row6_col3\" class=\"data row6 col3\" >0.3538</td>\n",
              "      <td id=\"T_c8c50_row6_col4\" class=\"data row6 col4\" >0.3511</td>\n",
              "      <td id=\"T_c8c50_row6_col5\" class=\"data row6 col5\" >0.1627</td>\n",
              "      <td id=\"T_c8c50_row6_col6\" class=\"data row6 col6\" >0.1627</td>\n",
              "    </tr>\n",
              "    <tr>\n",
              "      <th id=\"T_c8c50_level0_row7\" class=\"row_heading level0 row7\" >7</th>\n",
              "      <td id=\"T_c8c50_row7_col0\" class=\"data row7 col0\" >0.7079</td>\n",
              "      <td id=\"T_c8c50_row7_col1\" class=\"data row7 col1\" >0.5916</td>\n",
              "      <td id=\"T_c8c50_row7_col2\" class=\"data row7 col2\" >0.3788</td>\n",
              "      <td id=\"T_c8c50_row7_col3\" class=\"data row7 col3\" >0.3623</td>\n",
              "      <td id=\"T_c8c50_row7_col4\" class=\"data row7 col4\" >0.3704</td>\n",
              "      <td id=\"T_c8c50_row7_col5\" class=\"data row7 col5\" >0.1803</td>\n",
              "      <td id=\"T_c8c50_row7_col6\" class=\"data row7 col6\" >0.1804</td>\n",
              "    </tr>\n",
              "    <tr>\n",
              "      <th id=\"T_c8c50_level0_row8\" class=\"row_heading level0 row8\" >8</th>\n",
              "      <td id=\"T_c8c50_row8_col0\" class=\"data row8 col0\" >0.6873</td>\n",
              "      <td id=\"T_c8c50_row8_col1\" class=\"data row8 col1\" >0.5515</td>\n",
              "      <td id=\"T_c8c50_row8_col2\" class=\"data row8 col2\" >0.3030</td>\n",
              "      <td id=\"T_c8c50_row8_col3\" class=\"data row8 col3\" >0.3077</td>\n",
              "      <td id=\"T_c8c50_row8_col4\" class=\"data row8 col4\" >0.3053</td>\n",
              "      <td id=\"T_c8c50_row8_col5\" class=\"data row8 col5\" >0.1036</td>\n",
              "      <td id=\"T_c8c50_row8_col6\" class=\"data row8 col6\" >0.1036</td>\n",
              "    </tr>\n",
              "    <tr>\n",
              "      <th id=\"T_c8c50_level0_row9\" class=\"row_heading level0 row9\" >9</th>\n",
              "      <td id=\"T_c8c50_row9_col0\" class=\"data row9 col0\" >0.6426</td>\n",
              "      <td id=\"T_c8c50_row9_col1\" class=\"data row9 col1\" >0.5119</td>\n",
              "      <td id=\"T_c8c50_row9_col2\" class=\"data row9 col2\" >0.2727</td>\n",
              "      <td id=\"T_c8c50_row9_col3\" class=\"data row9 col3\" >0.2432</td>\n",
              "      <td id=\"T_c8c50_row9_col4\" class=\"data row9 col4\" >0.2571</td>\n",
              "      <td id=\"T_c8c50_row9_col5\" class=\"data row9 col5\" >0.0229</td>\n",
              "      <td id=\"T_c8c50_row9_col6\" class=\"data row9 col6\" >0.0229</td>\n",
              "    </tr>\n",
              "    <tr>\n",
              "      <th id=\"T_c8c50_level0_row10\" class=\"row_heading level0 row10\" >Mean</th>\n",
              "      <td id=\"T_c8c50_row10_col0\" class=\"data row10 col0\" >0.6776</td>\n",
              "      <td id=\"T_c8c50_row10_col1\" class=\"data row10 col1\" >0.5529</td>\n",
              "      <td id=\"T_c8c50_row10_col2\" class=\"data row10 col2\" >0.3258</td>\n",
              "      <td id=\"T_c8c50_row10_col3\" class=\"data row10 col3\" >0.3023</td>\n",
              "      <td id=\"T_c8c50_row10_col4\" class=\"data row10 col4\" >0.3128</td>\n",
              "      <td id=\"T_c8c50_row10_col5\" class=\"data row10 col5\" >0.1031</td>\n",
              "      <td id=\"T_c8c50_row10_col6\" class=\"data row10 col6\" >0.1034</td>\n",
              "    </tr>\n",
              "    <tr>\n",
              "      <th id=\"T_c8c50_level0_row11\" class=\"row_heading level0 row11\" >Std</th>\n",
              "      <td id=\"T_c8c50_row11_col0\" class=\"data row11 col0\" >0.0206</td>\n",
              "      <td id=\"T_c8c50_row11_col1\" class=\"data row11 col1\" >0.0220</td>\n",
              "      <td id=\"T_c8c50_row11_col2\" class=\"data row11 col2\" >0.0403</td>\n",
              "      <td id=\"T_c8c50_row11_col3\" class=\"data row11 col3\" >0.0334</td>\n",
              "      <td id=\"T_c8c50_row11_col4\" class=\"data row11 col4\" >0.0338</td>\n",
              "      <td id=\"T_c8c50_row11_col5\" class=\"data row11 col5\" >0.0435</td>\n",
              "      <td id=\"T_c8c50_row11_col6\" class=\"data row11 col6\" >0.0435</td>\n",
              "    </tr>\n",
              "  </tbody>\n",
              "</table>\n"
            ],
            "text/plain": [
              "<pandas.io.formats.style.Styler at 0x325d86310>"
            ]
          },
          "metadata": {},
          "output_type": "display_data"
        },
        {
          "data": {
            "text/html": [],
            "text/plain": [
              "<IPython.core.display.HTML object>"
            ]
          },
          "metadata": {},
          "output_type": "display_data"
        },
        {
          "data": {
            "application/vnd.jupyter.widget-view+json": {
              "model_id": "12749b09459e4a8796ab66c41a9a718f",
              "version_major": 2,
              "version_minor": 0
            },
            "text/plain": [
              "interactive(children=(ToggleButtons(description='Plot Type:', icons=('',), options=(('Pipeline Plot', 'pipelin…"
            ]
          },
          "metadata": {},
          "output_type": "display_data"
        },
        {
          "data": {
            "text/plain": [
              "<Figure size 800x550 with 0 Axes>"
            ]
          },
          "metadata": {},
          "output_type": "display_data"
        }
      ],
      "source": [
        "# ALTRES MODELS PER COMPARAR\n",
        "# dt\tDecision Tree Classifier\n",
        "\n",
        "decision_tree_classifier_model = create_model('dt')\n",
        "evaluate_model(decision_tree_classifier_model)"
      ]
    },
    {
      "cell_type": "code",
      "execution_count": 24,
      "metadata": {},
      "outputs": [
        {
          "name": "stdout",
          "output_type": "stream",
          "text": [
            "\n",
            "Afinant model Decision Tree Classifier...\n"
          ]
        },
        {
          "data": {
            "text/html": [],
            "text/plain": [
              "<IPython.core.display.HTML object>"
            ]
          },
          "metadata": {},
          "output_type": "display_data"
        },
        {
          "data": {
            "text/html": [
              "<style type=\"text/css\">\n",
              "#T_644da_row10_col0, #T_644da_row10_col1, #T_644da_row10_col2, #T_644da_row10_col3, #T_644da_row10_col4, #T_644da_row10_col5, #T_644da_row10_col6 {\n",
              "  background: yellow;\n",
              "}\n",
              "</style>\n",
              "<table id=\"T_644da\">\n",
              "  <thead>\n",
              "    <tr>\n",
              "      <th class=\"blank level0\" >&nbsp;</th>\n",
              "      <th id=\"T_644da_level0_col0\" class=\"col_heading level0 col0\" >Accuracy</th>\n",
              "      <th id=\"T_644da_level0_col1\" class=\"col_heading level0 col1\" >AUC</th>\n",
              "      <th id=\"T_644da_level0_col2\" class=\"col_heading level0 col2\" >Recall</th>\n",
              "      <th id=\"T_644da_level0_col3\" class=\"col_heading level0 col3\" >Prec.</th>\n",
              "      <th id=\"T_644da_level0_col4\" class=\"col_heading level0 col4\" >F1</th>\n",
              "      <th id=\"T_644da_level0_col5\" class=\"col_heading level0 col5\" >Kappa</th>\n",
              "      <th id=\"T_644da_level0_col6\" class=\"col_heading level0 col6\" >MCC</th>\n",
              "    </tr>\n",
              "    <tr>\n",
              "      <th class=\"index_name level0\" >Fold</th>\n",
              "      <th class=\"blank col0\" >&nbsp;</th>\n",
              "      <th class=\"blank col1\" >&nbsp;</th>\n",
              "      <th class=\"blank col2\" >&nbsp;</th>\n",
              "      <th class=\"blank col3\" >&nbsp;</th>\n",
              "      <th class=\"blank col4\" >&nbsp;</th>\n",
              "      <th class=\"blank col5\" >&nbsp;</th>\n",
              "      <th class=\"blank col6\" >&nbsp;</th>\n",
              "    </tr>\n",
              "  </thead>\n",
              "  <tbody>\n",
              "    <tr>\n",
              "      <th id=\"T_644da_level0_row0\" class=\"row_heading level0 row0\" >0</th>\n",
              "      <td id=\"T_644da_row0_col0\" class=\"data row0 col0\" >0.7740</td>\n",
              "      <td id=\"T_644da_row0_col1\" class=\"data row0 col1\" >0.5000</td>\n",
              "      <td id=\"T_644da_row0_col2\" class=\"data row0 col2\" >0.0000</td>\n",
              "      <td id=\"T_644da_row0_col3\" class=\"data row0 col3\" >0.0000</td>\n",
              "      <td id=\"T_644da_row0_col4\" class=\"data row0 col4\" >0.0000</td>\n",
              "      <td id=\"T_644da_row0_col5\" class=\"data row0 col5\" >0.0000</td>\n",
              "      <td id=\"T_644da_row0_col6\" class=\"data row0 col6\" >0.0000</td>\n",
              "    </tr>\n",
              "    <tr>\n",
              "      <th id=\"T_644da_level0_row1\" class=\"row_heading level0 row1\" >1</th>\n",
              "      <td id=\"T_644da_row1_col0\" class=\"data row1 col0\" >0.7740</td>\n",
              "      <td id=\"T_644da_row1_col1\" class=\"data row1 col1\" >0.5000</td>\n",
              "      <td id=\"T_644da_row1_col2\" class=\"data row1 col2\" >0.0000</td>\n",
              "      <td id=\"T_644da_row1_col3\" class=\"data row1 col3\" >0.0000</td>\n",
              "      <td id=\"T_644da_row1_col4\" class=\"data row1 col4\" >0.0000</td>\n",
              "      <td id=\"T_644da_row1_col5\" class=\"data row1 col5\" >0.0000</td>\n",
              "      <td id=\"T_644da_row1_col6\" class=\"data row1 col6\" >0.0000</td>\n",
              "    </tr>\n",
              "    <tr>\n",
              "      <th id=\"T_644da_level0_row2\" class=\"row_heading level0 row2\" >2</th>\n",
              "      <td id=\"T_644da_row2_col0\" class=\"data row2 col0\" >0.7766</td>\n",
              "      <td id=\"T_644da_row2_col1\" class=\"data row2 col1\" >0.5000</td>\n",
              "      <td id=\"T_644da_row2_col2\" class=\"data row2 col2\" >0.0000</td>\n",
              "      <td id=\"T_644da_row2_col3\" class=\"data row2 col3\" >0.0000</td>\n",
              "      <td id=\"T_644da_row2_col4\" class=\"data row2 col4\" >0.0000</td>\n",
              "      <td id=\"T_644da_row2_col5\" class=\"data row2 col5\" >0.0000</td>\n",
              "      <td id=\"T_644da_row2_col6\" class=\"data row2 col6\" >0.0000</td>\n",
              "    </tr>\n",
              "    <tr>\n",
              "      <th id=\"T_644da_level0_row3\" class=\"row_heading level0 row3\" >3</th>\n",
              "      <td id=\"T_644da_row3_col0\" class=\"data row3 col0\" >0.7766</td>\n",
              "      <td id=\"T_644da_row3_col1\" class=\"data row3 col1\" >0.5000</td>\n",
              "      <td id=\"T_644da_row3_col2\" class=\"data row3 col2\" >0.0000</td>\n",
              "      <td id=\"T_644da_row3_col3\" class=\"data row3 col3\" >0.0000</td>\n",
              "      <td id=\"T_644da_row3_col4\" class=\"data row3 col4\" >0.0000</td>\n",
              "      <td id=\"T_644da_row3_col5\" class=\"data row3 col5\" >0.0000</td>\n",
              "      <td id=\"T_644da_row3_col6\" class=\"data row3 col6\" >0.0000</td>\n",
              "    </tr>\n",
              "    <tr>\n",
              "      <th id=\"T_644da_level0_row4\" class=\"row_heading level0 row4\" >4</th>\n",
              "      <td id=\"T_644da_row4_col0\" class=\"data row4 col0\" >0.7766</td>\n",
              "      <td id=\"T_644da_row4_col1\" class=\"data row4 col1\" >0.5000</td>\n",
              "      <td id=\"T_644da_row4_col2\" class=\"data row4 col2\" >0.0000</td>\n",
              "      <td id=\"T_644da_row4_col3\" class=\"data row4 col3\" >0.0000</td>\n",
              "      <td id=\"T_644da_row4_col4\" class=\"data row4 col4\" >0.0000</td>\n",
              "      <td id=\"T_644da_row4_col5\" class=\"data row4 col5\" >0.0000</td>\n",
              "      <td id=\"T_644da_row4_col6\" class=\"data row4 col6\" >0.0000</td>\n",
              "    </tr>\n",
              "    <tr>\n",
              "      <th id=\"T_644da_level0_row5\" class=\"row_heading level0 row5\" >5</th>\n",
              "      <td id=\"T_644da_row5_col0\" class=\"data row5 col0\" >0.7732</td>\n",
              "      <td id=\"T_644da_row5_col1\" class=\"data row5 col1\" >0.5000</td>\n",
              "      <td id=\"T_644da_row5_col2\" class=\"data row5 col2\" >0.0000</td>\n",
              "      <td id=\"T_644da_row5_col3\" class=\"data row5 col3\" >0.0000</td>\n",
              "      <td id=\"T_644da_row5_col4\" class=\"data row5 col4\" >0.0000</td>\n",
              "      <td id=\"T_644da_row5_col5\" class=\"data row5 col5\" >0.0000</td>\n",
              "      <td id=\"T_644da_row5_col6\" class=\"data row5 col6\" >0.0000</td>\n",
              "    </tr>\n",
              "    <tr>\n",
              "      <th id=\"T_644da_level0_row6\" class=\"row_heading level0 row6\" >6</th>\n",
              "      <td id=\"T_644da_row6_col0\" class=\"data row6 col0\" >0.7732</td>\n",
              "      <td id=\"T_644da_row6_col1\" class=\"data row6 col1\" >0.5000</td>\n",
              "      <td id=\"T_644da_row6_col2\" class=\"data row6 col2\" >0.0000</td>\n",
              "      <td id=\"T_644da_row6_col3\" class=\"data row6 col3\" >0.0000</td>\n",
              "      <td id=\"T_644da_row6_col4\" class=\"data row6 col4\" >0.0000</td>\n",
              "      <td id=\"T_644da_row6_col5\" class=\"data row6 col5\" >0.0000</td>\n",
              "      <td id=\"T_644da_row6_col6\" class=\"data row6 col6\" >0.0000</td>\n",
              "    </tr>\n",
              "    <tr>\n",
              "      <th id=\"T_644da_level0_row7\" class=\"row_heading level0 row7\" >7</th>\n",
              "      <td id=\"T_644da_row7_col0\" class=\"data row7 col0\" >0.7732</td>\n",
              "      <td id=\"T_644da_row7_col1\" class=\"data row7 col1\" >0.5000</td>\n",
              "      <td id=\"T_644da_row7_col2\" class=\"data row7 col2\" >0.0000</td>\n",
              "      <td id=\"T_644da_row7_col3\" class=\"data row7 col3\" >0.0000</td>\n",
              "      <td id=\"T_644da_row7_col4\" class=\"data row7 col4\" >0.0000</td>\n",
              "      <td id=\"T_644da_row7_col5\" class=\"data row7 col5\" >0.0000</td>\n",
              "      <td id=\"T_644da_row7_col6\" class=\"data row7 col6\" >0.0000</td>\n",
              "    </tr>\n",
              "    <tr>\n",
              "      <th id=\"T_644da_level0_row8\" class=\"row_heading level0 row8\" >8</th>\n",
              "      <td id=\"T_644da_row8_col0\" class=\"data row8 col0\" >0.7732</td>\n",
              "      <td id=\"T_644da_row8_col1\" class=\"data row8 col1\" >0.5000</td>\n",
              "      <td id=\"T_644da_row8_col2\" class=\"data row8 col2\" >0.0000</td>\n",
              "      <td id=\"T_644da_row8_col3\" class=\"data row8 col3\" >0.0000</td>\n",
              "      <td id=\"T_644da_row8_col4\" class=\"data row8 col4\" >0.0000</td>\n",
              "      <td id=\"T_644da_row8_col5\" class=\"data row8 col5\" >0.0000</td>\n",
              "      <td id=\"T_644da_row8_col6\" class=\"data row8 col6\" >0.0000</td>\n",
              "    </tr>\n",
              "    <tr>\n",
              "      <th id=\"T_644da_level0_row9\" class=\"row_heading level0 row9\" >9</th>\n",
              "      <td id=\"T_644da_row9_col0\" class=\"data row9 col0\" >0.7732</td>\n",
              "      <td id=\"T_644da_row9_col1\" class=\"data row9 col1\" >0.5000</td>\n",
              "      <td id=\"T_644da_row9_col2\" class=\"data row9 col2\" >0.0000</td>\n",
              "      <td id=\"T_644da_row9_col3\" class=\"data row9 col3\" >0.0000</td>\n",
              "      <td id=\"T_644da_row9_col4\" class=\"data row9 col4\" >0.0000</td>\n",
              "      <td id=\"T_644da_row9_col5\" class=\"data row9 col5\" >0.0000</td>\n",
              "      <td id=\"T_644da_row9_col6\" class=\"data row9 col6\" >0.0000</td>\n",
              "    </tr>\n",
              "    <tr>\n",
              "      <th id=\"T_644da_level0_row10\" class=\"row_heading level0 row10\" >Mean</th>\n",
              "      <td id=\"T_644da_row10_col0\" class=\"data row10 col0\" >0.7744</td>\n",
              "      <td id=\"T_644da_row10_col1\" class=\"data row10 col1\" >0.5000</td>\n",
              "      <td id=\"T_644da_row10_col2\" class=\"data row10 col2\" >0.0000</td>\n",
              "      <td id=\"T_644da_row10_col3\" class=\"data row10 col3\" >0.0000</td>\n",
              "      <td id=\"T_644da_row10_col4\" class=\"data row10 col4\" >0.0000</td>\n",
              "      <td id=\"T_644da_row10_col5\" class=\"data row10 col5\" >0.0000</td>\n",
              "      <td id=\"T_644da_row10_col6\" class=\"data row10 col6\" >0.0000</td>\n",
              "    </tr>\n",
              "    <tr>\n",
              "      <th id=\"T_644da_level0_row11\" class=\"row_heading level0 row11\" >Std</th>\n",
              "      <td id=\"T_644da_row11_col0\" class=\"data row11 col0\" >0.0015</td>\n",
              "      <td id=\"T_644da_row11_col1\" class=\"data row11 col1\" >0.0000</td>\n",
              "      <td id=\"T_644da_row11_col2\" class=\"data row11 col2\" >0.0000</td>\n",
              "      <td id=\"T_644da_row11_col3\" class=\"data row11 col3\" >0.0000</td>\n",
              "      <td id=\"T_644da_row11_col4\" class=\"data row11 col4\" >0.0000</td>\n",
              "      <td id=\"T_644da_row11_col5\" class=\"data row11 col5\" >0.0000</td>\n",
              "      <td id=\"T_644da_row11_col6\" class=\"data row11 col6\" >0.0000</td>\n",
              "    </tr>\n",
              "  </tbody>\n",
              "</table>\n"
            ],
            "text/plain": [
              "<pandas.io.formats.style.Styler at 0x325b7cfd0>"
            ]
          },
          "metadata": {},
          "output_type": "display_data"
        },
        {
          "data": {
            "text/html": [],
            "text/plain": [
              "<IPython.core.display.HTML object>"
            ]
          },
          "metadata": {},
          "output_type": "display_data"
        },
        {
          "name": "stdout",
          "output_type": "stream",
          "text": [
            "Fitting 10 folds for each of 10 candidates, totalling 100 fits\n"
          ]
        }
      ],
      "source": [
        "####### NOU PAS ######\n",
        "\n",
        "# Paso 6: Afinar el Modelo\n",
        "print(\"\\nAfinant model Decision Tree Classifier...\")\n",
        "decision_tree_classifier_tunned = tune_model(decision_tree_classifier_model)"
      ]
    },
    {
      "cell_type": "code",
      "execution_count": 25,
      "metadata": {},
      "outputs": [
        {
          "name": "stdout",
          "output_type": "stream",
          "text": [
            "\n",
            "Desant el model...\n",
            "Transformation Pipeline and Model Successfully Saved\n",
            "\n",
            "Carregant el model desat...\n",
            "Transformation Pipeline and Model Successfully Loaded\n"
          ]
        }
      ],
      "source": [
        "####### NOU PAS ######\n",
        "\n",
        "print(\"\\nDesant el model...\")\n",
        "save_model(decision_tree_classifier_model, 'model_dt_afinat')\n",
        "\n",
        "# Cargar el modelo guardado\n",
        "print(\"\\nCarregant el model desat...\")\n",
        "loaded_model_2 = load_model('model_dt_afinat')"
      ]
    },
    {
      "cell_type": "code",
      "execution_count": 26,
      "metadata": {},
      "outputs": [
        {
          "name": "stdout",
          "output_type": "stream",
          "text": [
            "Generando 'auc'...\n"
          ]
        },
        {
          "data": {
            "text/html": [],
            "text/plain": [
              "<IPython.core.display.HTML object>"
            ]
          },
          "metadata": {},
          "output_type": "display_data"
        },
        {
          "name": "stdout",
          "output_type": "stream",
          "text": [
            "→ Guardado en 'grafiques_2/auc.png'\n",
            "Generando 'confusion_matrix'...\n"
          ]
        },
        {
          "data": {
            "text/html": [],
            "text/plain": [
              "<IPython.core.display.HTML object>"
            ]
          },
          "metadata": {},
          "output_type": "display_data"
        },
        {
          "name": "stdout",
          "output_type": "stream",
          "text": [
            "→ Guardado en 'grafiques_2/confusion_matrix.png'\n",
            "Generando 'error'...\n"
          ]
        },
        {
          "data": {
            "text/html": [],
            "text/plain": [
              "<IPython.core.display.HTML object>"
            ]
          },
          "metadata": {},
          "output_type": "display_data"
        },
        {
          "name": "stdout",
          "output_type": "stream",
          "text": [
            "→ Guardado en 'grafiques_2/error.png'\n",
            "Generando 'class_report'...\n"
          ]
        },
        {
          "data": {
            "text/html": [],
            "text/plain": [
              "<IPython.core.display.HTML object>"
            ]
          },
          "metadata": {},
          "output_type": "display_data"
        },
        {
          "name": "stdout",
          "output_type": "stream",
          "text": [
            "→ Guardado en 'grafiques_2/class_report.png'\n",
            "Generando 'learning'...\n"
          ]
        },
        {
          "data": {
            "text/html": [],
            "text/plain": [
              "<IPython.core.display.HTML object>"
            ]
          },
          "metadata": {},
          "output_type": "display_data"
        },
        {
          "name": "stdout",
          "output_type": "stream",
          "text": [
            "→ Guardado en 'grafiques_2/learning.png'\n",
            "Generando 'vc'...\n"
          ]
        },
        {
          "data": {
            "text/html": [],
            "text/plain": [
              "<IPython.core.display.HTML object>"
            ]
          },
          "metadata": {},
          "output_type": "display_data"
        },
        {
          "name": "stdout",
          "output_type": "stream",
          "text": [
            "→ Guardado en 'grafiques_2/vc.png'\n",
            "Generando 'feature'...\n"
          ]
        },
        {
          "data": {
            "text/html": [],
            "text/plain": [
              "<IPython.core.display.HTML object>"
            ]
          },
          "metadata": {},
          "output_type": "display_data"
        },
        {
          "name": "stdout",
          "output_type": "stream",
          "text": [
            "→ Guardado en 'grafiques_2/feature.png'\n",
            "Generando 'feature_all'...\n"
          ]
        },
        {
          "data": {
            "text/html": [],
            "text/plain": [
              "<IPython.core.display.HTML object>"
            ]
          },
          "metadata": {},
          "output_type": "display_data"
        },
        {
          "name": "stdout",
          "output_type": "stream",
          "text": [
            "→ Guardado en 'grafiques_2/feature_all.png'\n",
            "Generando 'ks'...\n"
          ]
        },
        {
          "data": {
            "text/html": [],
            "text/plain": [
              "<IPython.core.display.HTML object>"
            ]
          },
          "metadata": {},
          "output_type": "display_data"
        },
        {
          "name": "stdout",
          "output_type": "stream",
          "text": [
            "→ Guardado en 'grafiques_2/ks.png'\n",
            "Generando 'pr'...\n"
          ]
        },
        {
          "data": {
            "text/html": [],
            "text/plain": [
              "<IPython.core.display.HTML object>"
            ]
          },
          "metadata": {},
          "output_type": "display_data"
        },
        {
          "name": "stdout",
          "output_type": "stream",
          "text": [
            "→ Guardado en 'grafiques_2/pr.png'\n",
            "Generando 'calibration'...\n"
          ]
        },
        {
          "data": {
            "text/html": [],
            "text/plain": [
              "<IPython.core.display.HTML object>"
            ]
          },
          "metadata": {},
          "output_type": "display_data"
        },
        {
          "name": "stdout",
          "output_type": "stream",
          "text": [
            "→ Guardado en 'grafiques_2/calibration.png'\n",
            "Generando 'lift'...\n"
          ]
        },
        {
          "data": {
            "text/html": [],
            "text/plain": [
              "<IPython.core.display.HTML object>"
            ]
          },
          "metadata": {},
          "output_type": "display_data"
        },
        {
          "name": "stdout",
          "output_type": "stream",
          "text": [
            "→ Guardado en 'grafiques_2/lift.png'\n",
            "Generando 'gain'...\n"
          ]
        },
        {
          "data": {
            "text/html": [],
            "text/plain": [
              "<IPython.core.display.HTML object>"
            ]
          },
          "metadata": {},
          "output_type": "display_data"
        },
        {
          "name": "stdout",
          "output_type": "stream",
          "text": [
            "→ Guardado en 'grafiques_2/gain.png'\n",
            "Generando 'threshold'...\n"
          ]
        },
        {
          "data": {
            "text/html": [],
            "text/plain": [
              "<IPython.core.display.HTML object>"
            ]
          },
          "metadata": {},
          "output_type": "display_data"
        },
        {
          "name": "stdout",
          "output_type": "stream",
          "text": [
            "→ Guardado en 'grafiques_2/threshold.png'\n"
          ]
        }
      ],
      "source": [
        "#  Crear grafiques del model dels 21 modelos d'evaluació \n",
        "\n",
        "# Crear carpeta 'grafiques' si no existeix\n",
        "os.makedirs(\"grafiques_2\", exist_ok=True)\n",
        "\n",
        "# Mapeig de codis de PyCaret -> nom d'arxiu generat internament\n",
        "\n",
        "name_map = {\n",
        "    'auc': \"AUC.png\",\n",
        "    'confusion_matrix': \"Confusion Matrix.png\",\n",
        "    'error': \"Prediction Error.png\",\n",
        "    'class_report': \"Class Report.png\",\n",
        "   # 'boundary': \"Decision Boundary.png\",\n",
        "    'learning': \"Learning Curve.png\",\n",
        "    'vc': \"Validation Curve.png\",\n",
        "    'feature': \"Feature Importance.png\",\n",
        "    'feature_all': \"Feature Importance (All).png\",\n",
        "    'ks': \"KS Statistic Plot.png\",\n",
        "    'pr': \"Precision Recall.png\",\n",
        "    'calibration': \"Calibration Curve.png\",\n",
        "    'lift': \"Lift Chart.png\",\n",
        "    'gain': \"Gain Chart.png\",    \n",
        "    # 'parameters': \"Hyperparameters.png\",\n",
        "    # 'dimension' se usa en PyCaret 2.x para \"Manifold Learning\"\n",
        "    # 'manifold' en PyCaret 3.x, etc.\n",
        "    #'dimension': \"Dimensions.png\",      \n",
        "    #'manifold': \"Manifold Learning.png\",\n",
        "    'threshold': \"Threshold.png\"\n",
        "}\n",
        "\n",
        "# Generar i desar cada plot\n",
        "for plot_code, generated_name in name_map.items():\n",
        "    print(f\"Generando '{plot_code}'...\")\n",
        "    \n",
        "    # 1) Genera la gràfica i desa el .png al directori actual\n",
        "    plot_model(loaded_model_2, plot=plot_code, save=True)\n",
        "    \n",
        "    # 2) Si l'arxiu s'ha generat correctament, el renombrem\n",
        "    #    i ho movem a la carpeta 'grafiques/' amb un nom més senzill\n",
        "    if os.path.exists(generated_name):\n",
        "        new_path = f\"grafiques_2/{plot_code}.png\"\n",
        "        # os.replace() sobrescribe si new_path ya existe\n",
        "        os.replace(generated_name, new_path)\n",
        "        print(f\"→ Guardado en '{new_path}'\")\n",
        "    else:\n",
        "        print(f\"⚠ No se encontró el archivo '{generated_name}' tras generar '{plot_code}'.\")"
      ]
    },
    {
      "cell_type": "code",
      "execution_count": 27,
      "metadata": {},
      "outputs": [
        {
          "data": {
            "text/html": [],
            "text/plain": [
              "<IPython.core.display.HTML object>"
            ]
          },
          "metadata": {},
          "output_type": "display_data"
        },
        {
          "data": {
            "text/html": [
              "<style type=\"text/css\">\n",
              "#T_fe2f5_row10_col0, #T_fe2f5_row10_col1, #T_fe2f5_row10_col2, #T_fe2f5_row10_col3, #T_fe2f5_row10_col4, #T_fe2f5_row10_col5, #T_fe2f5_row10_col6 {\n",
              "  background: yellow;\n",
              "}\n",
              "</style>\n",
              "<table id=\"T_fe2f5\">\n",
              "  <thead>\n",
              "    <tr>\n",
              "      <th class=\"blank level0\" >&nbsp;</th>\n",
              "      <th id=\"T_fe2f5_level0_col0\" class=\"col_heading level0 col0\" >Accuracy</th>\n",
              "      <th id=\"T_fe2f5_level0_col1\" class=\"col_heading level0 col1\" >AUC</th>\n",
              "      <th id=\"T_fe2f5_level0_col2\" class=\"col_heading level0 col2\" >Recall</th>\n",
              "      <th id=\"T_fe2f5_level0_col3\" class=\"col_heading level0 col3\" >Prec.</th>\n",
              "      <th id=\"T_fe2f5_level0_col4\" class=\"col_heading level0 col4\" >F1</th>\n",
              "      <th id=\"T_fe2f5_level0_col5\" class=\"col_heading level0 col5\" >Kappa</th>\n",
              "      <th id=\"T_fe2f5_level0_col6\" class=\"col_heading level0 col6\" >MCC</th>\n",
              "    </tr>\n",
              "    <tr>\n",
              "      <th class=\"index_name level0\" >Fold</th>\n",
              "      <th class=\"blank col0\" >&nbsp;</th>\n",
              "      <th class=\"blank col1\" >&nbsp;</th>\n",
              "      <th class=\"blank col2\" >&nbsp;</th>\n",
              "      <th class=\"blank col3\" >&nbsp;</th>\n",
              "      <th class=\"blank col4\" >&nbsp;</th>\n",
              "      <th class=\"blank col5\" >&nbsp;</th>\n",
              "      <th class=\"blank col6\" >&nbsp;</th>\n",
              "    </tr>\n",
              "  </thead>\n",
              "  <tbody>\n",
              "    <tr>\n",
              "      <th id=\"T_fe2f5_level0_row0\" class=\"row_heading level0 row0\" >0</th>\n",
              "      <td id=\"T_fe2f5_row0_col0\" class=\"data row0 col0\" >0.7808</td>\n",
              "      <td id=\"T_fe2f5_row0_col1\" class=\"data row0 col1\" >0.5538</td>\n",
              "      <td id=\"T_fe2f5_row0_col2\" class=\"data row0 col2\" >0.1212</td>\n",
              "      <td id=\"T_fe2f5_row0_col3\" class=\"data row0 col3\" >0.5714</td>\n",
              "      <td id=\"T_fe2f5_row0_col4\" class=\"data row0 col4\" >0.2000</td>\n",
              "      <td id=\"T_fe2f5_row0_col5\" class=\"data row0 col5\" >0.1313</td>\n",
              "      <td id=\"T_fe2f5_row0_col6\" class=\"data row0 col6\" >0.1853</td>\n",
              "    </tr>\n",
              "    <tr>\n",
              "      <th id=\"T_fe2f5_level0_row1\" class=\"row_heading level0 row1\" >1</th>\n",
              "      <td id=\"T_fe2f5_row1_col0\" class=\"data row1 col0\" >0.7637</td>\n",
              "      <td id=\"T_fe2f5_row1_col1\" class=\"data row1 col1\" >0.6201</td>\n",
              "      <td id=\"T_fe2f5_row1_col2\" class=\"data row1 col2\" >0.1970</td>\n",
              "      <td id=\"T_fe2f5_row1_col3\" class=\"data row1 col3\" >0.4483</td>\n",
              "      <td id=\"T_fe2f5_row1_col4\" class=\"data row1 col4\" >0.2737</td>\n",
              "      <td id=\"T_fe2f5_row1_col5\" class=\"data row1 col5\" >0.1574</td>\n",
              "      <td id=\"T_fe2f5_row1_col6\" class=\"data row1 col6\" >0.1764</td>\n",
              "    </tr>\n",
              "    <tr>\n",
              "      <th id=\"T_fe2f5_level0_row2\" class=\"row_heading level0 row2\" >2</th>\n",
              "      <td id=\"T_fe2f5_row2_col0\" class=\"data row2 col0\" >0.7835</td>\n",
              "      <td id=\"T_fe2f5_row2_col1\" class=\"data row2 col1\" >0.6035</td>\n",
              "      <td id=\"T_fe2f5_row2_col2\" class=\"data row2 col2\" >0.1846</td>\n",
              "      <td id=\"T_fe2f5_row2_col3\" class=\"data row2 col3\" >0.5455</td>\n",
              "      <td id=\"T_fe2f5_row2_col4\" class=\"data row2 col4\" >0.2759</td>\n",
              "      <td id=\"T_fe2f5_row2_col5\" class=\"data row2 col5\" >0.1836</td>\n",
              "      <td id=\"T_fe2f5_row2_col6\" class=\"data row2 col6\" >0.2212</td>\n",
              "    </tr>\n",
              "    <tr>\n",
              "      <th id=\"T_fe2f5_level0_row3\" class=\"row_heading level0 row3\" >3</th>\n",
              "      <td id=\"T_fe2f5_row3_col0\" class=\"data row3 col0\" >0.7869</td>\n",
              "      <td id=\"T_fe2f5_row3_col1\" class=\"data row3 col1\" >0.6069</td>\n",
              "      <td id=\"T_fe2f5_row3_col2\" class=\"data row3 col2\" >0.2000</td>\n",
              "      <td id=\"T_fe2f5_row3_col3\" class=\"data row3 col3\" >0.5652</td>\n",
              "      <td id=\"T_fe2f5_row3_col4\" class=\"data row3 col4\" >0.2955</td>\n",
              "      <td id=\"T_fe2f5_row3_col5\" class=\"data row3 col5\" >0.2023</td>\n",
              "      <td id=\"T_fe2f5_row3_col6\" class=\"data row3 col6\" >0.2404</td>\n",
              "    </tr>\n",
              "    <tr>\n",
              "      <th id=\"T_fe2f5_level0_row4\" class=\"row_heading level0 row4\" >4</th>\n",
              "      <td id=\"T_fe2f5_row4_col0\" class=\"data row4 col0\" >0.7732</td>\n",
              "      <td id=\"T_fe2f5_row4_col1\" class=\"data row4 col1\" >0.6044</td>\n",
              "      <td id=\"T_fe2f5_row4_col2\" class=\"data row4 col2\" >0.1692</td>\n",
              "      <td id=\"T_fe2f5_row4_col3\" class=\"data row4 col3\" >0.4783</td>\n",
              "      <td id=\"T_fe2f5_row4_col4\" class=\"data row4 col4\" >0.2500</td>\n",
              "      <td id=\"T_fe2f5_row4_col5\" class=\"data row4 col5\" >0.1509</td>\n",
              "      <td id=\"T_fe2f5_row4_col6\" class=\"data row4 col6\" >0.1793</td>\n",
              "    </tr>\n",
              "    <tr>\n",
              "      <th id=\"T_fe2f5_level0_row5\" class=\"row_heading level0 row5\" >5</th>\n",
              "      <td id=\"T_fe2f5_row5_col0\" class=\"data row5 col0\" >0.7904</td>\n",
              "      <td id=\"T_fe2f5_row5_col1\" class=\"data row5 col1\" >0.6132</td>\n",
              "      <td id=\"T_fe2f5_row5_col2\" class=\"data row5 col2\" >0.1364</td>\n",
              "      <td id=\"T_fe2f5_row5_col3\" class=\"data row5 col3\" >0.6923</td>\n",
              "      <td id=\"T_fe2f5_row5_col4\" class=\"data row5 col4\" >0.2278</td>\n",
              "      <td id=\"T_fe2f5_row5_col5\" class=\"data row5 col5\" >0.1656</td>\n",
              "      <td id=\"T_fe2f5_row5_col6\" class=\"data row5 col6\" >0.2404</td>\n",
              "    </tr>\n",
              "    <tr>\n",
              "      <th id=\"T_fe2f5_level0_row6\" class=\"row_heading level0 row6\" >6</th>\n",
              "      <td id=\"T_fe2f5_row6_col0\" class=\"data row6 col0\" >0.7835</td>\n",
              "      <td id=\"T_fe2f5_row6_col1\" class=\"data row6 col1\" >0.6054</td>\n",
              "      <td id=\"T_fe2f5_row6_col2\" class=\"data row6 col2\" >0.1364</td>\n",
              "      <td id=\"T_fe2f5_row6_col3\" class=\"data row6 col3\" >0.6000</td>\n",
              "      <td id=\"T_fe2f5_row6_col4\" class=\"data row6 col4\" >0.2222</td>\n",
              "      <td id=\"T_fe2f5_row6_col5\" class=\"data row6 col5\" >0.1509</td>\n",
              "      <td id=\"T_fe2f5_row6_col6\" class=\"data row6 col6\" >0.2078</td>\n",
              "    </tr>\n",
              "    <tr>\n",
              "      <th id=\"T_fe2f5_level0_row7\" class=\"row_heading level0 row7\" >7</th>\n",
              "      <td id=\"T_fe2f5_row7_col0\" class=\"data row7 col0\" >0.7629</td>\n",
              "      <td id=\"T_fe2f5_row7_col1\" class=\"data row7 col1\" >0.6230</td>\n",
              "      <td id=\"T_fe2f5_row7_col2\" class=\"data row7 col2\" >0.1212</td>\n",
              "      <td id=\"T_fe2f5_row7_col3\" class=\"data row7 col3\" >0.4211</td>\n",
              "      <td id=\"T_fe2f5_row7_col4\" class=\"data row7 col4\" >0.1882</td>\n",
              "      <td id=\"T_fe2f5_row7_col5\" class=\"data row7 col5\" >0.0966</td>\n",
              "      <td id=\"T_fe2f5_row7_col6\" class=\"data row7 col6\" >0.1226</td>\n",
              "    </tr>\n",
              "    <tr>\n",
              "      <th id=\"T_fe2f5_level0_row8\" class=\"row_heading level0 row8\" >8</th>\n",
              "      <td id=\"T_fe2f5_row8_col0\" class=\"data row8 col0\" >0.7869</td>\n",
              "      <td id=\"T_fe2f5_row8_col1\" class=\"data row8 col1\" >0.6411</td>\n",
              "      <td id=\"T_fe2f5_row8_col2\" class=\"data row8 col2\" >0.1364</td>\n",
              "      <td id=\"T_fe2f5_row8_col3\" class=\"data row8 col3\" >0.6429</td>\n",
              "      <td id=\"T_fe2f5_row8_col4\" class=\"data row8 col4\" >0.2250</td>\n",
              "      <td id=\"T_fe2f5_row8_col5\" class=\"data row8 col5\" >0.1582</td>\n",
              "      <td id=\"T_fe2f5_row8_col6\" class=\"data row8 col6\" >0.2234</td>\n",
              "    </tr>\n",
              "    <tr>\n",
              "      <th id=\"T_fe2f5_level0_row9\" class=\"row_heading level0 row9\" >9</th>\n",
              "      <td id=\"T_fe2f5_row9_col0\" class=\"data row9 col0\" >0.7732</td>\n",
              "      <td id=\"T_fe2f5_row9_col1\" class=\"data row9 col1\" >0.5461</td>\n",
              "      <td id=\"T_fe2f5_row9_col2\" class=\"data row9 col2\" >0.1515</td>\n",
              "      <td id=\"T_fe2f5_row9_col3\" class=\"data row9 col3\" >0.5000</td>\n",
              "      <td id=\"T_fe2f5_row9_col4\" class=\"data row9 col4\" >0.2326</td>\n",
              "      <td id=\"T_fe2f5_row9_col5\" class=\"data row9 col5\" >0.1421</td>\n",
              "      <td id=\"T_fe2f5_row9_col6\" class=\"data row9 col6\" >0.1772</td>\n",
              "    </tr>\n",
              "    <tr>\n",
              "      <th id=\"T_fe2f5_level0_row10\" class=\"row_heading level0 row10\" >Mean</th>\n",
              "      <td id=\"T_fe2f5_row10_col0\" class=\"data row10 col0\" >0.7785</td>\n",
              "      <td id=\"T_fe2f5_row10_col1\" class=\"data row10 col1\" >0.6018</td>\n",
              "      <td id=\"T_fe2f5_row10_col2\" class=\"data row10 col2\" >0.1554</td>\n",
              "      <td id=\"T_fe2f5_row10_col3\" class=\"data row10 col3\" >0.5465</td>\n",
              "      <td id=\"T_fe2f5_row10_col4\" class=\"data row10 col4\" >0.2391</td>\n",
              "      <td id=\"T_fe2f5_row10_col5\" class=\"data row10 col5\" >0.1539</td>\n",
              "      <td id=\"T_fe2f5_row10_col6\" class=\"data row10 col6\" >0.1974</td>\n",
              "    </tr>\n",
              "    <tr>\n",
              "      <th id=\"T_fe2f5_level0_row11\" class=\"row_heading level0 row11\" >Std</th>\n",
              "      <td id=\"T_fe2f5_row11_col0\" class=\"data row11 col0\" >0.0093</td>\n",
              "      <td id=\"T_fe2f5_row11_col1\" class=\"data row11 col1\" >0.0281</td>\n",
              "      <td id=\"T_fe2f5_row11_col2\" class=\"data row11 col2\" >0.0286</td>\n",
              "      <td id=\"T_fe2f5_row11_col3\" class=\"data row11 col3\" >0.0816</td>\n",
              "      <td id=\"T_fe2f5_row11_col4\" class=\"data row11 col4\" >0.0326</td>\n",
              "      <td id=\"T_fe2f5_row11_col5\" class=\"data row11 col5\" >0.0271</td>\n",
              "      <td id=\"T_fe2f5_row11_col6\" class=\"data row11 col6\" >0.0346</td>\n",
              "    </tr>\n",
              "  </tbody>\n",
              "</table>\n"
            ],
            "text/plain": [
              "<pandas.io.formats.style.Styler at 0x3298ef940>"
            ]
          },
          "metadata": {},
          "output_type": "display_data"
        },
        {
          "data": {
            "text/html": [],
            "text/plain": [
              "<IPython.core.display.HTML object>"
            ]
          },
          "metadata": {},
          "output_type": "display_data"
        },
        {
          "data": {
            "application/vnd.jupyter.widget-view+json": {
              "model_id": "bafdded5c59f4024b27a09971e38870b",
              "version_major": 2,
              "version_minor": 0
            },
            "text/plain": [
              "interactive(children=(ToggleButtons(description='Plot Type:', icons=('',), options=(('Pipeline Plot', 'pipelin…"
            ]
          },
          "metadata": {},
          "output_type": "display_data"
        }
      ],
      "source": [
        "# ALTRES MODELS PER COMPARAR\n",
        "# dt\tDecision Tree Classifier\n",
        "# lightgbm\tLight Gradient Boosting Machine\n",
        "# dummy\tDummy Classifier\n",
        "\n",
        "light_gradient_boosting_machine_model = create_model('lightgbm')\n",
        "evaluate_model(light_gradient_boosting_machine_model)"
      ]
    },
    {
      "cell_type": "code",
      "execution_count": 28,
      "metadata": {},
      "outputs": [
        {
          "name": "stdout",
          "output_type": "stream",
          "text": [
            "\n",
            "Afinant model Light Gradient Boosting...\n"
          ]
        },
        {
          "data": {
            "text/html": [],
            "text/plain": [
              "<IPython.core.display.HTML object>"
            ]
          },
          "metadata": {},
          "output_type": "display_data"
        },
        {
          "data": {
            "text/html": [
              "<style type=\"text/css\">\n",
              "#T_e0331_row10_col0, #T_e0331_row10_col1, #T_e0331_row10_col2, #T_e0331_row10_col3, #T_e0331_row10_col4, #T_e0331_row10_col5, #T_e0331_row10_col6 {\n",
              "  background: yellow;\n",
              "}\n",
              "</style>\n",
              "<table id=\"T_e0331\">\n",
              "  <thead>\n",
              "    <tr>\n",
              "      <th class=\"blank level0\" >&nbsp;</th>\n",
              "      <th id=\"T_e0331_level0_col0\" class=\"col_heading level0 col0\" >Accuracy</th>\n",
              "      <th id=\"T_e0331_level0_col1\" class=\"col_heading level0 col1\" >AUC</th>\n",
              "      <th id=\"T_e0331_level0_col2\" class=\"col_heading level0 col2\" >Recall</th>\n",
              "      <th id=\"T_e0331_level0_col3\" class=\"col_heading level0 col3\" >Prec.</th>\n",
              "      <th id=\"T_e0331_level0_col4\" class=\"col_heading level0 col4\" >F1</th>\n",
              "      <th id=\"T_e0331_level0_col5\" class=\"col_heading level0 col5\" >Kappa</th>\n",
              "      <th id=\"T_e0331_level0_col6\" class=\"col_heading level0 col6\" >MCC</th>\n",
              "    </tr>\n",
              "    <tr>\n",
              "      <th class=\"index_name level0\" >Fold</th>\n",
              "      <th class=\"blank col0\" >&nbsp;</th>\n",
              "      <th class=\"blank col1\" >&nbsp;</th>\n",
              "      <th class=\"blank col2\" >&nbsp;</th>\n",
              "      <th class=\"blank col3\" >&nbsp;</th>\n",
              "      <th class=\"blank col4\" >&nbsp;</th>\n",
              "      <th class=\"blank col5\" >&nbsp;</th>\n",
              "      <th class=\"blank col6\" >&nbsp;</th>\n",
              "    </tr>\n",
              "  </thead>\n",
              "  <tbody>\n",
              "    <tr>\n",
              "      <th id=\"T_e0331_level0_row0\" class=\"row_heading level0 row0\" >0</th>\n",
              "      <td id=\"T_e0331_row0_col0\" class=\"data row0 col0\" >0.7740</td>\n",
              "      <td id=\"T_e0331_row0_col1\" class=\"data row0 col1\" >0.5039</td>\n",
              "      <td id=\"T_e0331_row0_col2\" class=\"data row0 col2\" >0.0000</td>\n",
              "      <td id=\"T_e0331_row0_col3\" class=\"data row0 col3\" >0.0000</td>\n",
              "      <td id=\"T_e0331_row0_col4\" class=\"data row0 col4\" >0.0000</td>\n",
              "      <td id=\"T_e0331_row0_col5\" class=\"data row0 col5\" >0.0000</td>\n",
              "      <td id=\"T_e0331_row0_col6\" class=\"data row0 col6\" >0.0000</td>\n",
              "    </tr>\n",
              "    <tr>\n",
              "      <th id=\"T_e0331_level0_row1\" class=\"row_heading level0 row1\" >1</th>\n",
              "      <td id=\"T_e0331_row1_col0\" class=\"data row1 col0\" >0.7740</td>\n",
              "      <td id=\"T_e0331_row1_col1\" class=\"data row1 col1\" >0.5847</td>\n",
              "      <td id=\"T_e0331_row1_col2\" class=\"data row1 col2\" >0.0000</td>\n",
              "      <td id=\"T_e0331_row1_col3\" class=\"data row1 col3\" >0.0000</td>\n",
              "      <td id=\"T_e0331_row1_col4\" class=\"data row1 col4\" >0.0000</td>\n",
              "      <td id=\"T_e0331_row1_col5\" class=\"data row1 col5\" >0.0000</td>\n",
              "      <td id=\"T_e0331_row1_col6\" class=\"data row1 col6\" >0.0000</td>\n",
              "    </tr>\n",
              "    <tr>\n",
              "      <th id=\"T_e0331_level0_row2\" class=\"row_heading level0 row2\" >2</th>\n",
              "      <td id=\"T_e0331_row2_col0\" class=\"data row2 col0\" >0.7766</td>\n",
              "      <td id=\"T_e0331_row2_col1\" class=\"data row2 col1\" >0.6027</td>\n",
              "      <td id=\"T_e0331_row2_col2\" class=\"data row2 col2\" >0.0000</td>\n",
              "      <td id=\"T_e0331_row2_col3\" class=\"data row2 col3\" >0.0000</td>\n",
              "      <td id=\"T_e0331_row2_col4\" class=\"data row2 col4\" >0.0000</td>\n",
              "      <td id=\"T_e0331_row2_col5\" class=\"data row2 col5\" >0.0000</td>\n",
              "      <td id=\"T_e0331_row2_col6\" class=\"data row2 col6\" >0.0000</td>\n",
              "    </tr>\n",
              "    <tr>\n",
              "      <th id=\"T_e0331_level0_row3\" class=\"row_heading level0 row3\" >3</th>\n",
              "      <td id=\"T_e0331_row3_col0\" class=\"data row3 col0\" >0.7766</td>\n",
              "      <td id=\"T_e0331_row3_col1\" class=\"data row3 col1\" >0.5763</td>\n",
              "      <td id=\"T_e0331_row3_col2\" class=\"data row3 col2\" >0.0000</td>\n",
              "      <td id=\"T_e0331_row3_col3\" class=\"data row3 col3\" >0.0000</td>\n",
              "      <td id=\"T_e0331_row3_col4\" class=\"data row3 col4\" >0.0000</td>\n",
              "      <td id=\"T_e0331_row3_col5\" class=\"data row3 col5\" >0.0000</td>\n",
              "      <td id=\"T_e0331_row3_col6\" class=\"data row3 col6\" >0.0000</td>\n",
              "    </tr>\n",
              "    <tr>\n",
              "      <th id=\"T_e0331_level0_row4\" class=\"row_heading level0 row4\" >4</th>\n",
              "      <td id=\"T_e0331_row4_col0\" class=\"data row4 col0\" >0.7766</td>\n",
              "      <td id=\"T_e0331_row4_col1\" class=\"data row4 col1\" >0.5290</td>\n",
              "      <td id=\"T_e0331_row4_col2\" class=\"data row4 col2\" >0.0000</td>\n",
              "      <td id=\"T_e0331_row4_col3\" class=\"data row4 col3\" >0.0000</td>\n",
              "      <td id=\"T_e0331_row4_col4\" class=\"data row4 col4\" >0.0000</td>\n",
              "      <td id=\"T_e0331_row4_col5\" class=\"data row4 col5\" >0.0000</td>\n",
              "      <td id=\"T_e0331_row4_col6\" class=\"data row4 col6\" >0.0000</td>\n",
              "    </tr>\n",
              "    <tr>\n",
              "      <th id=\"T_e0331_level0_row5\" class=\"row_heading level0 row5\" >5</th>\n",
              "      <td id=\"T_e0331_row5_col0\" class=\"data row5 col0\" >0.7732</td>\n",
              "      <td id=\"T_e0331_row5_col1\" class=\"data row5 col1\" >0.5741</td>\n",
              "      <td id=\"T_e0331_row5_col2\" class=\"data row5 col2\" >0.0000</td>\n",
              "      <td id=\"T_e0331_row5_col3\" class=\"data row5 col3\" >0.0000</td>\n",
              "      <td id=\"T_e0331_row5_col4\" class=\"data row5 col4\" >0.0000</td>\n",
              "      <td id=\"T_e0331_row5_col5\" class=\"data row5 col5\" >0.0000</td>\n",
              "      <td id=\"T_e0331_row5_col6\" class=\"data row5 col6\" >0.0000</td>\n",
              "    </tr>\n",
              "    <tr>\n",
              "      <th id=\"T_e0331_level0_row6\" class=\"row_heading level0 row6\" >6</th>\n",
              "      <td id=\"T_e0331_row6_col0\" class=\"data row6 col0\" >0.7732</td>\n",
              "      <td id=\"T_e0331_row6_col1\" class=\"data row6 col1\" >0.5949</td>\n",
              "      <td id=\"T_e0331_row6_col2\" class=\"data row6 col2\" >0.0000</td>\n",
              "      <td id=\"T_e0331_row6_col3\" class=\"data row6 col3\" >0.0000</td>\n",
              "      <td id=\"T_e0331_row6_col4\" class=\"data row6 col4\" >0.0000</td>\n",
              "      <td id=\"T_e0331_row6_col5\" class=\"data row6 col5\" >0.0000</td>\n",
              "      <td id=\"T_e0331_row6_col6\" class=\"data row6 col6\" >0.0000</td>\n",
              "    </tr>\n",
              "    <tr>\n",
              "      <th id=\"T_e0331_level0_row7\" class=\"row_heading level0 row7\" >7</th>\n",
              "      <td id=\"T_e0331_row7_col0\" class=\"data row7 col0\" >0.7732</td>\n",
              "      <td id=\"T_e0331_row7_col1\" class=\"data row7 col1\" >0.5757</td>\n",
              "      <td id=\"T_e0331_row7_col2\" class=\"data row7 col2\" >0.0000</td>\n",
              "      <td id=\"T_e0331_row7_col3\" class=\"data row7 col3\" >0.0000</td>\n",
              "      <td id=\"T_e0331_row7_col4\" class=\"data row7 col4\" >0.0000</td>\n",
              "      <td id=\"T_e0331_row7_col5\" class=\"data row7 col5\" >0.0000</td>\n",
              "      <td id=\"T_e0331_row7_col6\" class=\"data row7 col6\" >0.0000</td>\n",
              "    </tr>\n",
              "    <tr>\n",
              "      <th id=\"T_e0331_level0_row8\" class=\"row_heading level0 row8\" >8</th>\n",
              "      <td id=\"T_e0331_row8_col0\" class=\"data row8 col0\" >0.7732</td>\n",
              "      <td id=\"T_e0331_row8_col1\" class=\"data row8 col1\" >0.6209</td>\n",
              "      <td id=\"T_e0331_row8_col2\" class=\"data row8 col2\" >0.0000</td>\n",
              "      <td id=\"T_e0331_row8_col3\" class=\"data row8 col3\" >0.0000</td>\n",
              "      <td id=\"T_e0331_row8_col4\" class=\"data row8 col4\" >0.0000</td>\n",
              "      <td id=\"T_e0331_row8_col5\" class=\"data row8 col5\" >0.0000</td>\n",
              "      <td id=\"T_e0331_row8_col6\" class=\"data row8 col6\" >0.0000</td>\n",
              "    </tr>\n",
              "    <tr>\n",
              "      <th id=\"T_e0331_level0_row9\" class=\"row_heading level0 row9\" >9</th>\n",
              "      <td id=\"T_e0331_row9_col0\" class=\"data row9 col0\" >0.7732</td>\n",
              "      <td id=\"T_e0331_row9_col1\" class=\"data row9 col1\" >0.5443</td>\n",
              "      <td id=\"T_e0331_row9_col2\" class=\"data row9 col2\" >0.0000</td>\n",
              "      <td id=\"T_e0331_row9_col3\" class=\"data row9 col3\" >0.0000</td>\n",
              "      <td id=\"T_e0331_row9_col4\" class=\"data row9 col4\" >0.0000</td>\n",
              "      <td id=\"T_e0331_row9_col5\" class=\"data row9 col5\" >0.0000</td>\n",
              "      <td id=\"T_e0331_row9_col6\" class=\"data row9 col6\" >0.0000</td>\n",
              "    </tr>\n",
              "    <tr>\n",
              "      <th id=\"T_e0331_level0_row10\" class=\"row_heading level0 row10\" >Mean</th>\n",
              "      <td id=\"T_e0331_row10_col0\" class=\"data row10 col0\" >0.7744</td>\n",
              "      <td id=\"T_e0331_row10_col1\" class=\"data row10 col1\" >0.5706</td>\n",
              "      <td id=\"T_e0331_row10_col2\" class=\"data row10 col2\" >0.0000</td>\n",
              "      <td id=\"T_e0331_row10_col3\" class=\"data row10 col3\" >0.0000</td>\n",
              "      <td id=\"T_e0331_row10_col4\" class=\"data row10 col4\" >0.0000</td>\n",
              "      <td id=\"T_e0331_row10_col5\" class=\"data row10 col5\" >0.0000</td>\n",
              "      <td id=\"T_e0331_row10_col6\" class=\"data row10 col6\" >0.0000</td>\n",
              "    </tr>\n",
              "    <tr>\n",
              "      <th id=\"T_e0331_level0_row11\" class=\"row_heading level0 row11\" >Std</th>\n",
              "      <td id=\"T_e0331_row11_col0\" class=\"data row11 col0\" >0.0015</td>\n",
              "      <td id=\"T_e0331_row11_col1\" class=\"data row11 col1\" >0.0336</td>\n",
              "      <td id=\"T_e0331_row11_col2\" class=\"data row11 col2\" >0.0000</td>\n",
              "      <td id=\"T_e0331_row11_col3\" class=\"data row11 col3\" >0.0000</td>\n",
              "      <td id=\"T_e0331_row11_col4\" class=\"data row11 col4\" >0.0000</td>\n",
              "      <td id=\"T_e0331_row11_col5\" class=\"data row11 col5\" >0.0000</td>\n",
              "      <td id=\"T_e0331_row11_col6\" class=\"data row11 col6\" >0.0000</td>\n",
              "    </tr>\n",
              "  </tbody>\n",
              "</table>\n"
            ],
            "text/plain": [
              "<pandas.io.formats.style.Styler at 0x325e93100>"
            ]
          },
          "metadata": {},
          "output_type": "display_data"
        },
        {
          "data": {
            "text/html": [],
            "text/plain": [
              "<IPython.core.display.HTML object>"
            ]
          },
          "metadata": {},
          "output_type": "display_data"
        },
        {
          "name": "stdout",
          "output_type": "stream",
          "text": [
            "Fitting 10 folds for each of 10 candidates, totalling 100 fits\n",
            "Original model was better than the tuned model, hence it will be returned. NOTE: The display metrics are for the tuned model (not the original one).\n",
            "\n",
            "Desant el model...\n",
            "Transformation Pipeline and Model Successfully Saved\n",
            "\n",
            "Carregant el model desat...\n",
            "Transformation Pipeline and Model Successfully Loaded\n",
            "Generando 'auc'...\n"
          ]
        },
        {
          "data": {
            "text/html": [],
            "text/plain": [
              "<IPython.core.display.HTML object>"
            ]
          },
          "metadata": {},
          "output_type": "display_data"
        },
        {
          "name": "stdout",
          "output_type": "stream",
          "text": [
            "→ Guardado en 'grafiques_3/auc.png'\n",
            "Generando 'confusion_matrix'...\n"
          ]
        },
        {
          "data": {
            "text/html": [],
            "text/plain": [
              "<IPython.core.display.HTML object>"
            ]
          },
          "metadata": {},
          "output_type": "display_data"
        },
        {
          "name": "stdout",
          "output_type": "stream",
          "text": [
            "→ Guardado en 'grafiques_3/confusion_matrix.png'\n",
            "Generando 'error'...\n"
          ]
        },
        {
          "data": {
            "text/html": [],
            "text/plain": [
              "<IPython.core.display.HTML object>"
            ]
          },
          "metadata": {},
          "output_type": "display_data"
        },
        {
          "name": "stdout",
          "output_type": "stream",
          "text": [
            "→ Guardado en 'grafiques_3/error.png'\n",
            "Generando 'class_report'...\n"
          ]
        },
        {
          "data": {
            "text/html": [],
            "text/plain": [
              "<IPython.core.display.HTML object>"
            ]
          },
          "metadata": {},
          "output_type": "display_data"
        },
        {
          "name": "stdout",
          "output_type": "stream",
          "text": [
            "→ Guardado en 'grafiques_3/class_report.png'\n",
            "Generando 'learning'...\n"
          ]
        },
        {
          "data": {
            "text/html": [],
            "text/plain": [
              "<IPython.core.display.HTML object>"
            ]
          },
          "metadata": {},
          "output_type": "display_data"
        },
        {
          "name": "stdout",
          "output_type": "stream",
          "text": [
            "→ Guardado en 'grafiques_3/learning.png'\n",
            "Generando 'vc'...\n"
          ]
        },
        {
          "data": {
            "text/html": [],
            "text/plain": [
              "<IPython.core.display.HTML object>"
            ]
          },
          "metadata": {},
          "output_type": "display_data"
        },
        {
          "name": "stdout",
          "output_type": "stream",
          "text": [
            "→ Guardado en 'grafiques_3/vc.png'\n",
            "Generando 'feature'...\n"
          ]
        },
        {
          "data": {
            "text/html": [],
            "text/plain": [
              "<IPython.core.display.HTML object>"
            ]
          },
          "metadata": {},
          "output_type": "display_data"
        },
        {
          "name": "stdout",
          "output_type": "stream",
          "text": [
            "→ Guardado en 'grafiques_3/feature.png'\n",
            "Generando 'feature_all'...\n"
          ]
        },
        {
          "data": {
            "text/html": [],
            "text/plain": [
              "<IPython.core.display.HTML object>"
            ]
          },
          "metadata": {},
          "output_type": "display_data"
        },
        {
          "name": "stdout",
          "output_type": "stream",
          "text": [
            "→ Guardado en 'grafiques_3/feature_all.png'\n",
            "Generando 'ks'...\n"
          ]
        },
        {
          "data": {
            "text/html": [],
            "text/plain": [
              "<IPython.core.display.HTML object>"
            ]
          },
          "metadata": {},
          "output_type": "display_data"
        },
        {
          "name": "stdout",
          "output_type": "stream",
          "text": [
            "→ Guardado en 'grafiques_3/ks.png'\n",
            "Generando 'pr'...\n"
          ]
        },
        {
          "data": {
            "text/html": [],
            "text/plain": [
              "<IPython.core.display.HTML object>"
            ]
          },
          "metadata": {},
          "output_type": "display_data"
        },
        {
          "name": "stdout",
          "output_type": "stream",
          "text": [
            "→ Guardado en 'grafiques_3/pr.png'\n",
            "Generando 'calibration'...\n"
          ]
        },
        {
          "data": {
            "text/html": [],
            "text/plain": [
              "<IPython.core.display.HTML object>"
            ]
          },
          "metadata": {},
          "output_type": "display_data"
        },
        {
          "name": "stdout",
          "output_type": "stream",
          "text": [
            "→ Guardado en 'grafiques_3/calibration.png'\n",
            "Generando 'lift'...\n"
          ]
        },
        {
          "data": {
            "text/html": [],
            "text/plain": [
              "<IPython.core.display.HTML object>"
            ]
          },
          "metadata": {},
          "output_type": "display_data"
        },
        {
          "name": "stdout",
          "output_type": "stream",
          "text": [
            "→ Guardado en 'grafiques_3/lift.png'\n",
            "Generando 'gain'...\n"
          ]
        },
        {
          "data": {
            "text/html": [],
            "text/plain": [
              "<IPython.core.display.HTML object>"
            ]
          },
          "metadata": {},
          "output_type": "display_data"
        },
        {
          "name": "stdout",
          "output_type": "stream",
          "text": [
            "→ Guardado en 'grafiques_3/gain.png'\n",
            "Generando 'threshold'...\n"
          ]
        },
        {
          "data": {
            "text/html": [],
            "text/plain": [
              "<IPython.core.display.HTML object>"
            ]
          },
          "metadata": {},
          "output_type": "display_data"
        },
        {
          "name": "stdout",
          "output_type": "stream",
          "text": [
            "→ Guardado en 'grafiques_3/threshold.png'\n"
          ]
        }
      ],
      "source": [
        "####### NOU PAS ######\n",
        "\n",
        "# Paso 6: Afinar el Modelo\n",
        "print(\"\\nAfinant model Light Gradient Boosting...\")\n",
        "light_gradient_boosting_machine_tunned = tune_model(light_gradient_boosting_machine_model)\n",
        "\n",
        "\n",
        "####### NOU PAS ######\n",
        "\n",
        "print(\"\\nDesant el model...\")\n",
        "save_model(light_gradient_boosting_machine_model, 'model_lightgbm_afinat')\n",
        "\n",
        "# Cargar el modelo guardado\n",
        "print(\"\\nCarregant el model desat...\")\n",
        "loaded_model_3 = load_model('model_lightgbm_afinat')\n",
        "\n",
        "\n",
        "\n",
        "\n",
        "#  Crear grafiques del model dels 21 modelos d'evaluació \n",
        "\n",
        "# Crear carpeta 'grafiques' si no existeix\n",
        "os.makedirs(\"grafiques_3\", exist_ok=True)\n",
        "\n",
        "# Mapeig de codis de PyCaret -> nom d'arxiu generat internament\n",
        "\n",
        "name_map = {\n",
        "    'auc': \"AUC.png\",\n",
        "    'confusion_matrix': \"Confusion Matrix.png\",\n",
        "    'error': \"Prediction Error.png\",\n",
        "    'class_report': \"Class Report.png\",\n",
        "   # 'boundary': \"Decision Boundary.png\",\n",
        "    'learning': \"Learning Curve.png\",\n",
        "    'vc': \"Validation Curve.png\",\n",
        "    'feature': \"Feature Importance.png\",\n",
        "    'feature_all': \"Feature Importance (All).png\",\n",
        "    'ks': \"KS Statistic Plot.png\",\n",
        "    'pr': \"Precision Recall.png\",\n",
        "    'calibration': \"Calibration Curve.png\",\n",
        "    'lift': \"Lift Chart.png\",\n",
        "    'gain': \"Gain Chart.png\",    \n",
        "    # 'parameters': \"Hyperparameters.png\",\n",
        "    # 'dimension' se usa en PyCaret 2.x para \"Manifold Learning\"\n",
        "    # 'manifold' en PyCaret 3.x, etc.\n",
        "    #'dimension': \"Dimensions.png\",      \n",
        "    #'manifold': \"Manifold Learning.png\",\n",
        "    'threshold': \"Threshold.png\"\n",
        "}\n",
        "\n",
        "# Generar i desar cada plot\n",
        "for plot_code, generated_name in name_map.items():\n",
        "    print(f\"Generando '{plot_code}'...\")\n",
        "    \n",
        "    # 1) Genera la gràfica i desa el .png al directori actual\n",
        "    plot_model(loaded_model_3, plot=plot_code, save=True)\n",
        "    \n",
        "    # 2) Si l'arxiu s'ha generat correctament, el renombrem\n",
        "    #    i ho movem a la carpeta 'grafiques/' amb un nom més senzill\n",
        "    if os.path.exists(generated_name):\n",
        "        new_path = f\"grafiques_3/{plot_code}.png\"\n",
        "        # os.replace() sobrescribe si new_path ya existe\n",
        "        os.replace(generated_name, new_path)\n",
        "        print(f\"→ Guardado en '{new_path}'\")\n",
        "    else:\n",
        "        print(f\"⚠ No se encontró el archivo '{generated_name}' tras generar '{plot_code}'.\")"
      ]
    },
    {
      "cell_type": "code",
      "execution_count": 45,
      "metadata": {},
      "outputs": [
        {
          "data": {
            "text/html": [],
            "text/plain": [
              "<IPython.core.display.HTML object>"
            ]
          },
          "metadata": {},
          "output_type": "display_data"
        },
        {
          "data": {
            "text/html": [
              "<style type=\"text/css\">\n",
              "#T_e2bf8_row10_col0, #T_e2bf8_row10_col1, #T_e2bf8_row10_col2, #T_e2bf8_row10_col3, #T_e2bf8_row10_col4, #T_e2bf8_row10_col5, #T_e2bf8_row10_col6 {\n",
              "  background: yellow;\n",
              "}\n",
              "</style>\n",
              "<table id=\"T_e2bf8\">\n",
              "  <thead>\n",
              "    <tr>\n",
              "      <th class=\"blank level0\" >&nbsp;</th>\n",
              "      <th id=\"T_e2bf8_level0_col0\" class=\"col_heading level0 col0\" >Accuracy</th>\n",
              "      <th id=\"T_e2bf8_level0_col1\" class=\"col_heading level0 col1\" >AUC</th>\n",
              "      <th id=\"T_e2bf8_level0_col2\" class=\"col_heading level0 col2\" >Recall</th>\n",
              "      <th id=\"T_e2bf8_level0_col3\" class=\"col_heading level0 col3\" >Prec.</th>\n",
              "      <th id=\"T_e2bf8_level0_col4\" class=\"col_heading level0 col4\" >F1</th>\n",
              "      <th id=\"T_e2bf8_level0_col5\" class=\"col_heading level0 col5\" >Kappa</th>\n",
              "      <th id=\"T_e2bf8_level0_col6\" class=\"col_heading level0 col6\" >MCC</th>\n",
              "    </tr>\n",
              "    <tr>\n",
              "      <th class=\"index_name level0\" >Fold</th>\n",
              "      <th class=\"blank col0\" >&nbsp;</th>\n",
              "      <th class=\"blank col1\" >&nbsp;</th>\n",
              "      <th class=\"blank col2\" >&nbsp;</th>\n",
              "      <th class=\"blank col3\" >&nbsp;</th>\n",
              "      <th class=\"blank col4\" >&nbsp;</th>\n",
              "      <th class=\"blank col5\" >&nbsp;</th>\n",
              "      <th class=\"blank col6\" >&nbsp;</th>\n",
              "    </tr>\n",
              "  </thead>\n",
              "  <tbody>\n",
              "    <tr>\n",
              "      <th id=\"T_e2bf8_level0_row0\" class=\"row_heading level0 row0\" >0</th>\n",
              "      <td id=\"T_e2bf8_row0_col0\" class=\"data row0 col0\" >0.7740</td>\n",
              "      <td id=\"T_e2bf8_row0_col1\" class=\"data row0 col1\" >0.5000</td>\n",
              "      <td id=\"T_e2bf8_row0_col2\" class=\"data row0 col2\" >0.0000</td>\n",
              "      <td id=\"T_e2bf8_row0_col3\" class=\"data row0 col3\" >0.0000</td>\n",
              "      <td id=\"T_e2bf8_row0_col4\" class=\"data row0 col4\" >0.0000</td>\n",
              "      <td id=\"T_e2bf8_row0_col5\" class=\"data row0 col5\" >0.0000</td>\n",
              "      <td id=\"T_e2bf8_row0_col6\" class=\"data row0 col6\" >0.0000</td>\n",
              "    </tr>\n",
              "    <tr>\n",
              "      <th id=\"T_e2bf8_level0_row1\" class=\"row_heading level0 row1\" >1</th>\n",
              "      <td id=\"T_e2bf8_row1_col0\" class=\"data row1 col0\" >0.7740</td>\n",
              "      <td id=\"T_e2bf8_row1_col1\" class=\"data row1 col1\" >0.5000</td>\n",
              "      <td id=\"T_e2bf8_row1_col2\" class=\"data row1 col2\" >0.0000</td>\n",
              "      <td id=\"T_e2bf8_row1_col3\" class=\"data row1 col3\" >0.0000</td>\n",
              "      <td id=\"T_e2bf8_row1_col4\" class=\"data row1 col4\" >0.0000</td>\n",
              "      <td id=\"T_e2bf8_row1_col5\" class=\"data row1 col5\" >0.0000</td>\n",
              "      <td id=\"T_e2bf8_row1_col6\" class=\"data row1 col6\" >0.0000</td>\n",
              "    </tr>\n",
              "    <tr>\n",
              "      <th id=\"T_e2bf8_level0_row2\" class=\"row_heading level0 row2\" >2</th>\n",
              "      <td id=\"T_e2bf8_row2_col0\" class=\"data row2 col0\" >0.7766</td>\n",
              "      <td id=\"T_e2bf8_row2_col1\" class=\"data row2 col1\" >0.5000</td>\n",
              "      <td id=\"T_e2bf8_row2_col2\" class=\"data row2 col2\" >0.0000</td>\n",
              "      <td id=\"T_e2bf8_row2_col3\" class=\"data row2 col3\" >0.0000</td>\n",
              "      <td id=\"T_e2bf8_row2_col4\" class=\"data row2 col4\" >0.0000</td>\n",
              "      <td id=\"T_e2bf8_row2_col5\" class=\"data row2 col5\" >0.0000</td>\n",
              "      <td id=\"T_e2bf8_row2_col6\" class=\"data row2 col6\" >0.0000</td>\n",
              "    </tr>\n",
              "    <tr>\n",
              "      <th id=\"T_e2bf8_level0_row3\" class=\"row_heading level0 row3\" >3</th>\n",
              "      <td id=\"T_e2bf8_row3_col0\" class=\"data row3 col0\" >0.7766</td>\n",
              "      <td id=\"T_e2bf8_row3_col1\" class=\"data row3 col1\" >0.5000</td>\n",
              "      <td id=\"T_e2bf8_row3_col2\" class=\"data row3 col2\" >0.0000</td>\n",
              "      <td id=\"T_e2bf8_row3_col3\" class=\"data row3 col3\" >0.0000</td>\n",
              "      <td id=\"T_e2bf8_row3_col4\" class=\"data row3 col4\" >0.0000</td>\n",
              "      <td id=\"T_e2bf8_row3_col5\" class=\"data row3 col5\" >0.0000</td>\n",
              "      <td id=\"T_e2bf8_row3_col6\" class=\"data row3 col6\" >0.0000</td>\n",
              "    </tr>\n",
              "    <tr>\n",
              "      <th id=\"T_e2bf8_level0_row4\" class=\"row_heading level0 row4\" >4</th>\n",
              "      <td id=\"T_e2bf8_row4_col0\" class=\"data row4 col0\" >0.7766</td>\n",
              "      <td id=\"T_e2bf8_row4_col1\" class=\"data row4 col1\" >0.5000</td>\n",
              "      <td id=\"T_e2bf8_row4_col2\" class=\"data row4 col2\" >0.0000</td>\n",
              "      <td id=\"T_e2bf8_row4_col3\" class=\"data row4 col3\" >0.0000</td>\n",
              "      <td id=\"T_e2bf8_row4_col4\" class=\"data row4 col4\" >0.0000</td>\n",
              "      <td id=\"T_e2bf8_row4_col5\" class=\"data row4 col5\" >0.0000</td>\n",
              "      <td id=\"T_e2bf8_row4_col6\" class=\"data row4 col6\" >0.0000</td>\n",
              "    </tr>\n",
              "    <tr>\n",
              "      <th id=\"T_e2bf8_level0_row5\" class=\"row_heading level0 row5\" >5</th>\n",
              "      <td id=\"T_e2bf8_row5_col0\" class=\"data row5 col0\" >0.7732</td>\n",
              "      <td id=\"T_e2bf8_row5_col1\" class=\"data row5 col1\" >0.5000</td>\n",
              "      <td id=\"T_e2bf8_row5_col2\" class=\"data row5 col2\" >0.0000</td>\n",
              "      <td id=\"T_e2bf8_row5_col3\" class=\"data row5 col3\" >0.0000</td>\n",
              "      <td id=\"T_e2bf8_row5_col4\" class=\"data row5 col4\" >0.0000</td>\n",
              "      <td id=\"T_e2bf8_row5_col5\" class=\"data row5 col5\" >0.0000</td>\n",
              "      <td id=\"T_e2bf8_row5_col6\" class=\"data row5 col6\" >0.0000</td>\n",
              "    </tr>\n",
              "    <tr>\n",
              "      <th id=\"T_e2bf8_level0_row6\" class=\"row_heading level0 row6\" >6</th>\n",
              "      <td id=\"T_e2bf8_row6_col0\" class=\"data row6 col0\" >0.7732</td>\n",
              "      <td id=\"T_e2bf8_row6_col1\" class=\"data row6 col1\" >0.5000</td>\n",
              "      <td id=\"T_e2bf8_row6_col2\" class=\"data row6 col2\" >0.0000</td>\n",
              "      <td id=\"T_e2bf8_row6_col3\" class=\"data row6 col3\" >0.0000</td>\n",
              "      <td id=\"T_e2bf8_row6_col4\" class=\"data row6 col4\" >0.0000</td>\n",
              "      <td id=\"T_e2bf8_row6_col5\" class=\"data row6 col5\" >0.0000</td>\n",
              "      <td id=\"T_e2bf8_row6_col6\" class=\"data row6 col6\" >0.0000</td>\n",
              "    </tr>\n",
              "    <tr>\n",
              "      <th id=\"T_e2bf8_level0_row7\" class=\"row_heading level0 row7\" >7</th>\n",
              "      <td id=\"T_e2bf8_row7_col0\" class=\"data row7 col0\" >0.7732</td>\n",
              "      <td id=\"T_e2bf8_row7_col1\" class=\"data row7 col1\" >0.5000</td>\n",
              "      <td id=\"T_e2bf8_row7_col2\" class=\"data row7 col2\" >0.0000</td>\n",
              "      <td id=\"T_e2bf8_row7_col3\" class=\"data row7 col3\" >0.0000</td>\n",
              "      <td id=\"T_e2bf8_row7_col4\" class=\"data row7 col4\" >0.0000</td>\n",
              "      <td id=\"T_e2bf8_row7_col5\" class=\"data row7 col5\" >0.0000</td>\n",
              "      <td id=\"T_e2bf8_row7_col6\" class=\"data row7 col6\" >0.0000</td>\n",
              "    </tr>\n",
              "    <tr>\n",
              "      <th id=\"T_e2bf8_level0_row8\" class=\"row_heading level0 row8\" >8</th>\n",
              "      <td id=\"T_e2bf8_row8_col0\" class=\"data row8 col0\" >0.7732</td>\n",
              "      <td id=\"T_e2bf8_row8_col1\" class=\"data row8 col1\" >0.5000</td>\n",
              "      <td id=\"T_e2bf8_row8_col2\" class=\"data row8 col2\" >0.0000</td>\n",
              "      <td id=\"T_e2bf8_row8_col3\" class=\"data row8 col3\" >0.0000</td>\n",
              "      <td id=\"T_e2bf8_row8_col4\" class=\"data row8 col4\" >0.0000</td>\n",
              "      <td id=\"T_e2bf8_row8_col5\" class=\"data row8 col5\" >0.0000</td>\n",
              "      <td id=\"T_e2bf8_row8_col6\" class=\"data row8 col6\" >0.0000</td>\n",
              "    </tr>\n",
              "    <tr>\n",
              "      <th id=\"T_e2bf8_level0_row9\" class=\"row_heading level0 row9\" >9</th>\n",
              "      <td id=\"T_e2bf8_row9_col0\" class=\"data row9 col0\" >0.7732</td>\n",
              "      <td id=\"T_e2bf8_row9_col1\" class=\"data row9 col1\" >0.5000</td>\n",
              "      <td id=\"T_e2bf8_row9_col2\" class=\"data row9 col2\" >0.0000</td>\n",
              "      <td id=\"T_e2bf8_row9_col3\" class=\"data row9 col3\" >0.0000</td>\n",
              "      <td id=\"T_e2bf8_row9_col4\" class=\"data row9 col4\" >0.0000</td>\n",
              "      <td id=\"T_e2bf8_row9_col5\" class=\"data row9 col5\" >0.0000</td>\n",
              "      <td id=\"T_e2bf8_row9_col6\" class=\"data row9 col6\" >0.0000</td>\n",
              "    </tr>\n",
              "    <tr>\n",
              "      <th id=\"T_e2bf8_level0_row10\" class=\"row_heading level0 row10\" >Mean</th>\n",
              "      <td id=\"T_e2bf8_row10_col0\" class=\"data row10 col0\" >0.7744</td>\n",
              "      <td id=\"T_e2bf8_row10_col1\" class=\"data row10 col1\" >0.5000</td>\n",
              "      <td id=\"T_e2bf8_row10_col2\" class=\"data row10 col2\" >0.0000</td>\n",
              "      <td id=\"T_e2bf8_row10_col3\" class=\"data row10 col3\" >0.0000</td>\n",
              "      <td id=\"T_e2bf8_row10_col4\" class=\"data row10 col4\" >0.0000</td>\n",
              "      <td id=\"T_e2bf8_row10_col5\" class=\"data row10 col5\" >0.0000</td>\n",
              "      <td id=\"T_e2bf8_row10_col6\" class=\"data row10 col6\" >0.0000</td>\n",
              "    </tr>\n",
              "    <tr>\n",
              "      <th id=\"T_e2bf8_level0_row11\" class=\"row_heading level0 row11\" >Std</th>\n",
              "      <td id=\"T_e2bf8_row11_col0\" class=\"data row11 col0\" >0.0015</td>\n",
              "      <td id=\"T_e2bf8_row11_col1\" class=\"data row11 col1\" >0.0000</td>\n",
              "      <td id=\"T_e2bf8_row11_col2\" class=\"data row11 col2\" >0.0000</td>\n",
              "      <td id=\"T_e2bf8_row11_col3\" class=\"data row11 col3\" >0.0000</td>\n",
              "      <td id=\"T_e2bf8_row11_col4\" class=\"data row11 col4\" >0.0000</td>\n",
              "      <td id=\"T_e2bf8_row11_col5\" class=\"data row11 col5\" >0.0000</td>\n",
              "      <td id=\"T_e2bf8_row11_col6\" class=\"data row11 col6\" >0.0000</td>\n",
              "    </tr>\n",
              "  </tbody>\n",
              "</table>\n"
            ],
            "text/plain": [
              "<pandas.io.formats.style.Styler at 0x32c090940>"
            ]
          },
          "metadata": {},
          "output_type": "display_data"
        },
        {
          "data": {
            "text/html": [],
            "text/plain": [
              "<IPython.core.display.HTML object>"
            ]
          },
          "metadata": {},
          "output_type": "display_data"
        },
        {
          "data": {
            "application/vnd.jupyter.widget-view+json": {
              "model_id": "3ea6f8a15c7140b4a795b14e4c26d282",
              "version_major": 2,
              "version_minor": 0
            },
            "text/plain": [
              "interactive(children=(ToggleButtons(description='Plot Type:', icons=('',), options=(('Pipeline Plot', 'pipelin…"
            ]
          },
          "metadata": {},
          "output_type": "display_data"
        }
      ],
      "source": [
        "# ALTRES MODELS PER COMPARAR\n",
        "# Dummy Classifier\n",
        "\n",
        "dummy_classifier_model = create_model('dummy')\n",
        "evaluate_model(dummy_classifier_model)\n",
        "\n",
        "\n"
      ]
    },
    {
      "cell_type": "code",
      "execution_count": 38,
      "metadata": {},
      "outputs": [
        {
          "name": "stdout",
          "output_type": "stream",
          "text": [
            "\n",
            "Afinant model Dummy Classifier...\n"
          ]
        },
        {
          "data": {
            "text/html": [],
            "text/plain": [
              "<IPython.core.display.HTML object>"
            ]
          },
          "metadata": {},
          "output_type": "display_data"
        },
        {
          "data": {
            "text/html": [
              "<style type=\"text/css\">\n",
              "#T_2157e_row10_col0, #T_2157e_row10_col1, #T_2157e_row10_col2, #T_2157e_row10_col3, #T_2157e_row10_col4, #T_2157e_row10_col5, #T_2157e_row10_col6 {\n",
              "  background: yellow;\n",
              "}\n",
              "</style>\n",
              "<table id=\"T_2157e\">\n",
              "  <thead>\n",
              "    <tr>\n",
              "      <th class=\"blank level0\" >&nbsp;</th>\n",
              "      <th id=\"T_2157e_level0_col0\" class=\"col_heading level0 col0\" >Accuracy</th>\n",
              "      <th id=\"T_2157e_level0_col1\" class=\"col_heading level0 col1\" >AUC</th>\n",
              "      <th id=\"T_2157e_level0_col2\" class=\"col_heading level0 col2\" >Recall</th>\n",
              "      <th id=\"T_2157e_level0_col3\" class=\"col_heading level0 col3\" >Prec.</th>\n",
              "      <th id=\"T_2157e_level0_col4\" class=\"col_heading level0 col4\" >F1</th>\n",
              "      <th id=\"T_2157e_level0_col5\" class=\"col_heading level0 col5\" >Kappa</th>\n",
              "      <th id=\"T_2157e_level0_col6\" class=\"col_heading level0 col6\" >MCC</th>\n",
              "    </tr>\n",
              "    <tr>\n",
              "      <th class=\"index_name level0\" >Fold</th>\n",
              "      <th class=\"blank col0\" >&nbsp;</th>\n",
              "      <th class=\"blank col1\" >&nbsp;</th>\n",
              "      <th class=\"blank col2\" >&nbsp;</th>\n",
              "      <th class=\"blank col3\" >&nbsp;</th>\n",
              "      <th class=\"blank col4\" >&nbsp;</th>\n",
              "      <th class=\"blank col5\" >&nbsp;</th>\n",
              "      <th class=\"blank col6\" >&nbsp;</th>\n",
              "    </tr>\n",
              "  </thead>\n",
              "  <tbody>\n",
              "    <tr>\n",
              "      <th id=\"T_2157e_level0_row0\" class=\"row_heading level0 row0\" >0</th>\n",
              "      <td id=\"T_2157e_row0_col0\" class=\"data row0 col0\" >0.7740</td>\n",
              "      <td id=\"T_2157e_row0_col1\" class=\"data row0 col1\" >0.5000</td>\n",
              "      <td id=\"T_2157e_row0_col2\" class=\"data row0 col2\" >0.0000</td>\n",
              "      <td id=\"T_2157e_row0_col3\" class=\"data row0 col3\" >0.0000</td>\n",
              "      <td id=\"T_2157e_row0_col4\" class=\"data row0 col4\" >0.0000</td>\n",
              "      <td id=\"T_2157e_row0_col5\" class=\"data row0 col5\" >0.0000</td>\n",
              "      <td id=\"T_2157e_row0_col6\" class=\"data row0 col6\" >0.0000</td>\n",
              "    </tr>\n",
              "    <tr>\n",
              "      <th id=\"T_2157e_level0_row1\" class=\"row_heading level0 row1\" >1</th>\n",
              "      <td id=\"T_2157e_row1_col0\" class=\"data row1 col0\" >0.7740</td>\n",
              "      <td id=\"T_2157e_row1_col1\" class=\"data row1 col1\" >0.5000</td>\n",
              "      <td id=\"T_2157e_row1_col2\" class=\"data row1 col2\" >0.0000</td>\n",
              "      <td id=\"T_2157e_row1_col3\" class=\"data row1 col3\" >0.0000</td>\n",
              "      <td id=\"T_2157e_row1_col4\" class=\"data row1 col4\" >0.0000</td>\n",
              "      <td id=\"T_2157e_row1_col5\" class=\"data row1 col5\" >0.0000</td>\n",
              "      <td id=\"T_2157e_row1_col6\" class=\"data row1 col6\" >0.0000</td>\n",
              "    </tr>\n",
              "    <tr>\n",
              "      <th id=\"T_2157e_level0_row2\" class=\"row_heading level0 row2\" >2</th>\n",
              "      <td id=\"T_2157e_row2_col0\" class=\"data row2 col0\" >0.7766</td>\n",
              "      <td id=\"T_2157e_row2_col1\" class=\"data row2 col1\" >0.5000</td>\n",
              "      <td id=\"T_2157e_row2_col2\" class=\"data row2 col2\" >0.0000</td>\n",
              "      <td id=\"T_2157e_row2_col3\" class=\"data row2 col3\" >0.0000</td>\n",
              "      <td id=\"T_2157e_row2_col4\" class=\"data row2 col4\" >0.0000</td>\n",
              "      <td id=\"T_2157e_row2_col5\" class=\"data row2 col5\" >0.0000</td>\n",
              "      <td id=\"T_2157e_row2_col6\" class=\"data row2 col6\" >0.0000</td>\n",
              "    </tr>\n",
              "    <tr>\n",
              "      <th id=\"T_2157e_level0_row3\" class=\"row_heading level0 row3\" >3</th>\n",
              "      <td id=\"T_2157e_row3_col0\" class=\"data row3 col0\" >0.7766</td>\n",
              "      <td id=\"T_2157e_row3_col1\" class=\"data row3 col1\" >0.5000</td>\n",
              "      <td id=\"T_2157e_row3_col2\" class=\"data row3 col2\" >0.0000</td>\n",
              "      <td id=\"T_2157e_row3_col3\" class=\"data row3 col3\" >0.0000</td>\n",
              "      <td id=\"T_2157e_row3_col4\" class=\"data row3 col4\" >0.0000</td>\n",
              "      <td id=\"T_2157e_row3_col5\" class=\"data row3 col5\" >0.0000</td>\n",
              "      <td id=\"T_2157e_row3_col6\" class=\"data row3 col6\" >0.0000</td>\n",
              "    </tr>\n",
              "    <tr>\n",
              "      <th id=\"T_2157e_level0_row4\" class=\"row_heading level0 row4\" >4</th>\n",
              "      <td id=\"T_2157e_row4_col0\" class=\"data row4 col0\" >0.7766</td>\n",
              "      <td id=\"T_2157e_row4_col1\" class=\"data row4 col1\" >0.5000</td>\n",
              "      <td id=\"T_2157e_row4_col2\" class=\"data row4 col2\" >0.0000</td>\n",
              "      <td id=\"T_2157e_row4_col3\" class=\"data row4 col3\" >0.0000</td>\n",
              "      <td id=\"T_2157e_row4_col4\" class=\"data row4 col4\" >0.0000</td>\n",
              "      <td id=\"T_2157e_row4_col5\" class=\"data row4 col5\" >0.0000</td>\n",
              "      <td id=\"T_2157e_row4_col6\" class=\"data row4 col6\" >0.0000</td>\n",
              "    </tr>\n",
              "    <tr>\n",
              "      <th id=\"T_2157e_level0_row5\" class=\"row_heading level0 row5\" >5</th>\n",
              "      <td id=\"T_2157e_row5_col0\" class=\"data row5 col0\" >0.7732</td>\n",
              "      <td id=\"T_2157e_row5_col1\" class=\"data row5 col1\" >0.5000</td>\n",
              "      <td id=\"T_2157e_row5_col2\" class=\"data row5 col2\" >0.0000</td>\n",
              "      <td id=\"T_2157e_row5_col3\" class=\"data row5 col3\" >0.0000</td>\n",
              "      <td id=\"T_2157e_row5_col4\" class=\"data row5 col4\" >0.0000</td>\n",
              "      <td id=\"T_2157e_row5_col5\" class=\"data row5 col5\" >0.0000</td>\n",
              "      <td id=\"T_2157e_row5_col6\" class=\"data row5 col6\" >0.0000</td>\n",
              "    </tr>\n",
              "    <tr>\n",
              "      <th id=\"T_2157e_level0_row6\" class=\"row_heading level0 row6\" >6</th>\n",
              "      <td id=\"T_2157e_row6_col0\" class=\"data row6 col0\" >0.7732</td>\n",
              "      <td id=\"T_2157e_row6_col1\" class=\"data row6 col1\" >0.5000</td>\n",
              "      <td id=\"T_2157e_row6_col2\" class=\"data row6 col2\" >0.0000</td>\n",
              "      <td id=\"T_2157e_row6_col3\" class=\"data row6 col3\" >0.0000</td>\n",
              "      <td id=\"T_2157e_row6_col4\" class=\"data row6 col4\" >0.0000</td>\n",
              "      <td id=\"T_2157e_row6_col5\" class=\"data row6 col5\" >0.0000</td>\n",
              "      <td id=\"T_2157e_row6_col6\" class=\"data row6 col6\" >0.0000</td>\n",
              "    </tr>\n",
              "    <tr>\n",
              "      <th id=\"T_2157e_level0_row7\" class=\"row_heading level0 row7\" >7</th>\n",
              "      <td id=\"T_2157e_row7_col0\" class=\"data row7 col0\" >0.7732</td>\n",
              "      <td id=\"T_2157e_row7_col1\" class=\"data row7 col1\" >0.5000</td>\n",
              "      <td id=\"T_2157e_row7_col2\" class=\"data row7 col2\" >0.0000</td>\n",
              "      <td id=\"T_2157e_row7_col3\" class=\"data row7 col3\" >0.0000</td>\n",
              "      <td id=\"T_2157e_row7_col4\" class=\"data row7 col4\" >0.0000</td>\n",
              "      <td id=\"T_2157e_row7_col5\" class=\"data row7 col5\" >0.0000</td>\n",
              "      <td id=\"T_2157e_row7_col6\" class=\"data row7 col6\" >0.0000</td>\n",
              "    </tr>\n",
              "    <tr>\n",
              "      <th id=\"T_2157e_level0_row8\" class=\"row_heading level0 row8\" >8</th>\n",
              "      <td id=\"T_2157e_row8_col0\" class=\"data row8 col0\" >0.7732</td>\n",
              "      <td id=\"T_2157e_row8_col1\" class=\"data row8 col1\" >0.5000</td>\n",
              "      <td id=\"T_2157e_row8_col2\" class=\"data row8 col2\" >0.0000</td>\n",
              "      <td id=\"T_2157e_row8_col3\" class=\"data row8 col3\" >0.0000</td>\n",
              "      <td id=\"T_2157e_row8_col4\" class=\"data row8 col4\" >0.0000</td>\n",
              "      <td id=\"T_2157e_row8_col5\" class=\"data row8 col5\" >0.0000</td>\n",
              "      <td id=\"T_2157e_row8_col6\" class=\"data row8 col6\" >0.0000</td>\n",
              "    </tr>\n",
              "    <tr>\n",
              "      <th id=\"T_2157e_level0_row9\" class=\"row_heading level0 row9\" >9</th>\n",
              "      <td id=\"T_2157e_row9_col0\" class=\"data row9 col0\" >0.7732</td>\n",
              "      <td id=\"T_2157e_row9_col1\" class=\"data row9 col1\" >0.5000</td>\n",
              "      <td id=\"T_2157e_row9_col2\" class=\"data row9 col2\" >0.0000</td>\n",
              "      <td id=\"T_2157e_row9_col3\" class=\"data row9 col3\" >0.0000</td>\n",
              "      <td id=\"T_2157e_row9_col4\" class=\"data row9 col4\" >0.0000</td>\n",
              "      <td id=\"T_2157e_row9_col5\" class=\"data row9 col5\" >0.0000</td>\n",
              "      <td id=\"T_2157e_row9_col6\" class=\"data row9 col6\" >0.0000</td>\n",
              "    </tr>\n",
              "    <tr>\n",
              "      <th id=\"T_2157e_level0_row10\" class=\"row_heading level0 row10\" >Mean</th>\n",
              "      <td id=\"T_2157e_row10_col0\" class=\"data row10 col0\" >0.7744</td>\n",
              "      <td id=\"T_2157e_row10_col1\" class=\"data row10 col1\" >0.5000</td>\n",
              "      <td id=\"T_2157e_row10_col2\" class=\"data row10 col2\" >0.0000</td>\n",
              "      <td id=\"T_2157e_row10_col3\" class=\"data row10 col3\" >0.0000</td>\n",
              "      <td id=\"T_2157e_row10_col4\" class=\"data row10 col4\" >0.0000</td>\n",
              "      <td id=\"T_2157e_row10_col5\" class=\"data row10 col5\" >0.0000</td>\n",
              "      <td id=\"T_2157e_row10_col6\" class=\"data row10 col6\" >0.0000</td>\n",
              "    </tr>\n",
              "    <tr>\n",
              "      <th id=\"T_2157e_level0_row11\" class=\"row_heading level0 row11\" >Std</th>\n",
              "      <td id=\"T_2157e_row11_col0\" class=\"data row11 col0\" >0.0015</td>\n",
              "      <td id=\"T_2157e_row11_col1\" class=\"data row11 col1\" >0.0000</td>\n",
              "      <td id=\"T_2157e_row11_col2\" class=\"data row11 col2\" >0.0000</td>\n",
              "      <td id=\"T_2157e_row11_col3\" class=\"data row11 col3\" >0.0000</td>\n",
              "      <td id=\"T_2157e_row11_col4\" class=\"data row11 col4\" >0.0000</td>\n",
              "      <td id=\"T_2157e_row11_col5\" class=\"data row11 col5\" >0.0000</td>\n",
              "      <td id=\"T_2157e_row11_col6\" class=\"data row11 col6\" >0.0000</td>\n",
              "    </tr>\n",
              "  </tbody>\n",
              "</table>\n"
            ],
            "text/plain": [
              "<pandas.io.formats.style.Styler at 0x3297596a0>"
            ]
          },
          "metadata": {},
          "output_type": "display_data"
        },
        {
          "data": {
            "text/html": [],
            "text/plain": [
              "<IPython.core.display.HTML object>"
            ]
          },
          "metadata": {},
          "output_type": "display_data"
        },
        {
          "name": "stdout",
          "output_type": "stream",
          "text": [
            "Fitting 10 folds for each of 4 candidates, totalling 40 fits\n",
            "Original model was better than the tuned model, hence it will be returned. NOTE: The display metrics are for the tuned model (not the original one).\n"
          ]
        }
      ],
      "source": [
        "####### NOU PAS ######\n",
        "\n",
        "# Paso 6: Afinar el Modelo\n",
        "print(\"\\nAfinant model Dummy Classifier...\")\n",
        "dummy_classifier_model_tunned = tune_model(dummy_classifier_model)\n"
      ]
    },
    {
      "cell_type": "code",
      "execution_count": 39,
      "metadata": {},
      "outputs": [
        {
          "name": "stdout",
          "output_type": "stream",
          "text": [
            "\n",
            "Desant el model...\n",
            "Transformation Pipeline and Model Successfully Saved\n",
            "\n",
            "Carregant el model desat...\n",
            "Transformation Pipeline and Model Successfully Loaded\n"
          ]
        }
      ],
      "source": [
        "\n",
        "####### NOU PAS ######\n",
        "\n",
        "print(\"\\nDesant el model...\")\n",
        "save_model(dummy_classifier_model, 'model_dummy_afinat')\n",
        "\n",
        "# Cargar el modelo guardado\n",
        "print(\"\\nCarregant el model desat...\")\n",
        "loaded_model_4 = load_model('model_dummy_afinat')\n",
        "\n"
      ]
    },
    {
      "cell_type": "code",
      "execution_count": 41,
      "metadata": {},
      "outputs": [
        {
          "name": "stdout",
          "output_type": "stream",
          "text": [
            "Generando 'auc'...\n"
          ]
        },
        {
          "data": {
            "text/html": [],
            "text/plain": [
              "<IPython.core.display.HTML object>"
            ]
          },
          "metadata": {},
          "output_type": "display_data"
        },
        {
          "name": "stdout",
          "output_type": "stream",
          "text": [
            "→ Guardado en 'grafiques_4/auc.png'\n",
            "Generando 'confusion_matrix'...\n"
          ]
        },
        {
          "data": {
            "text/html": [],
            "text/plain": [
              "<IPython.core.display.HTML object>"
            ]
          },
          "metadata": {},
          "output_type": "display_data"
        },
        {
          "name": "stdout",
          "output_type": "stream",
          "text": [
            "→ Guardado en 'grafiques_4/confusion_matrix.png'\n",
            "Generando 'error'...\n"
          ]
        },
        {
          "data": {
            "text/html": [],
            "text/plain": [
              "<IPython.core.display.HTML object>"
            ]
          },
          "metadata": {},
          "output_type": "display_data"
        },
        {
          "name": "stdout",
          "output_type": "stream",
          "text": [
            "→ Guardado en 'grafiques_4/error.png'\n",
            "Generando 'class_report'...\n"
          ]
        },
        {
          "data": {
            "text/html": [],
            "text/plain": [
              "<IPython.core.display.HTML object>"
            ]
          },
          "metadata": {},
          "output_type": "display_data"
        },
        {
          "name": "stdout",
          "output_type": "stream",
          "text": [
            "→ Guardado en 'grafiques_4/class_report.png'\n",
            "Generando 'learning'...\n"
          ]
        },
        {
          "data": {
            "text/html": [],
            "text/plain": [
              "<IPython.core.display.HTML object>"
            ]
          },
          "metadata": {},
          "output_type": "display_data"
        },
        {
          "name": "stdout",
          "output_type": "stream",
          "text": [
            "→ Guardado en 'grafiques_4/learning.png'\n",
            "Generando 'ks'...\n"
          ]
        },
        {
          "data": {
            "text/html": [],
            "text/plain": [
              "<IPython.core.display.HTML object>"
            ]
          },
          "metadata": {},
          "output_type": "display_data"
        },
        {
          "name": "stdout",
          "output_type": "stream",
          "text": [
            "→ Guardado en 'grafiques_4/ks.png'\n",
            "Generando 'pr'...\n"
          ]
        },
        {
          "data": {
            "text/html": [],
            "text/plain": [
              "<IPython.core.display.HTML object>"
            ]
          },
          "metadata": {},
          "output_type": "display_data"
        },
        {
          "name": "stdout",
          "output_type": "stream",
          "text": [
            "→ Guardado en 'grafiques_4/pr.png'\n",
            "Generando 'calibration'...\n"
          ]
        },
        {
          "data": {
            "text/html": [],
            "text/plain": [
              "<IPython.core.display.HTML object>"
            ]
          },
          "metadata": {},
          "output_type": "display_data"
        },
        {
          "name": "stdout",
          "output_type": "stream",
          "text": [
            "→ Guardado en 'grafiques_4/calibration.png'\n",
            "Generando 'lift'...\n"
          ]
        },
        {
          "data": {
            "text/html": [],
            "text/plain": [
              "<IPython.core.display.HTML object>"
            ]
          },
          "metadata": {},
          "output_type": "display_data"
        },
        {
          "name": "stdout",
          "output_type": "stream",
          "text": [
            "→ Guardado en 'grafiques_4/lift.png'\n",
            "Generando 'gain'...\n"
          ]
        },
        {
          "data": {
            "text/html": [],
            "text/plain": [
              "<IPython.core.display.HTML object>"
            ]
          },
          "metadata": {},
          "output_type": "display_data"
        },
        {
          "name": "stdout",
          "output_type": "stream",
          "text": [
            "→ Guardado en 'grafiques_4/gain.png'\n",
            "Generando 'threshold'...\n"
          ]
        },
        {
          "data": {
            "text/html": [],
            "text/plain": [
              "<IPython.core.display.HTML object>"
            ]
          },
          "metadata": {},
          "output_type": "display_data"
        },
        {
          "name": "stdout",
          "output_type": "stream",
          "text": [
            "→ Guardado en 'grafiques_4/threshold.png'\n"
          ]
        }
      ],
      "source": [
        "#  Crear grafiques del model dels 21 modelos d'evaluació \n",
        "\n",
        "# Crear carpeta 'grafiques' si no existeix\n",
        "os.makedirs(\"grafiques_4\", exist_ok=True)\n",
        "\n",
        "# Mapeig de codis de PyCaret -> nom d'arxiu generat internament\n",
        "\n",
        "name_map = {\n",
        "    'auc': \"AUC.png\",\n",
        "    'confusion_matrix': \"Confusion Matrix.png\",\n",
        "    'error': \"Prediction Error.png\",\n",
        "    'class_report': \"Class Report.png\",\n",
        "   # 'boundary': \"Decision Boundary.png\",\n",
        "    'learning': \"Learning Curve.png\",\n",
        "  ##  'vc': \"Validation Curve.png\",\n",
        "  ##  'feature': \"Feature Importance.png\",\n",
        "  ##  'feature_all': \"Feature Importance (All).png\",\n",
        "    'ks': \"KS Statistic Plot.png\",\n",
        "    'pr': \"Precision Recall.png\",\n",
        "    'calibration': \"Calibration Curve.png\",\n",
        "    'lift': \"Lift Chart.png\",\n",
        "    'gain': \"Gain Chart.png\",    \n",
        "    # 'parameters': \"Hyperparameters.png\",\n",
        "    # 'dimension' se usa en PyCaret 2.x para \"Manifold Learning\"\n",
        "    # 'manifold' en PyCaret 3.x, etc.\n",
        "    #'dimension': \"Dimensions.png\",      \n",
        "    #'manifold': \"Manifold Learning.png\",\n",
        "    'threshold': \"Threshold.png\"\n",
        "}\n",
        "\n",
        "# Generar i desar cada plot\n",
        "for plot_code, generated_name in name_map.items():\n",
        "    print(f\"Generando '{plot_code}'...\")\n",
        "    \n",
        "    # 1) Genera la gràfica i desa el .png al directori actual\n",
        "    plot_model(loaded_model_4, plot=plot_code, save=True)\n",
        "    \n",
        "    # 2) Si l'arxiu s'ha generat correctament, el renombrem\n",
        "    #    i ho movem a la carpeta 'grafiques/' amb un nom més senzill\n",
        "    if os.path.exists(generated_name):\n",
        "        new_path = f\"grafiques_4/{plot_code}.png\"\n",
        "        # os.replace() sobrescribe si new_path ya existe\n",
        "        os.replace(generated_name, new_path)\n",
        "        print(f\"→ Guardado en '{new_path}'\")\n",
        "    else:\n",
        "        print(f\"⚠ No se encontró el archivo '{generated_name}' tras generar '{plot_code}'.\")"
      ]
    },
    {
      "cell_type": "markdown",
      "metadata": {},
      "source": [
        "## 5. 📈 Visualización de Resultados"
      ]
    },
    {
      "cell_type": "code",
      "execution_count": 33,
      "metadata": {},
      "outputs": [
        {
          "data": {
            "image/png": "[encoded data removed]",
            "text/plain": [
              "<Figure size 800x550 with 1 Axes>"
            ]
          },
          "metadata": {},
          "output_type": "display_data"
        }
      ],
      "source": [
        "import matplotlib.pyplot as plt\n",
        "from sklearn.metrics import roc_curve\n",
        "\n",
        "fpr, tpr, _ = roc_curve(y_test, y_proba)\n",
        "plt.plot(fpr, tpr)\n",
        "plt.xlabel(\"FPR\")\n",
        "plt.ylabel(\"TPR\")\n",
        "plt.title(\"Curva ROC\")\n",
        "plt.show()"
      ]
    },
    {
      "cell_type": "code",
      "execution_count": null,
      "metadata": {},
      "outputs": [],
      "source": [
        "\n",
        "\n",
        "\n",
        "\n",
        "\n",
        "\n",
        "\n",
        "\n",
        "\n",
        "\n",
        "\n",
        "\n",
        "\n",
        "\n",
        "\n",
        "\n",
        "\n"
      ]
    },
    {
      "cell_type": "code",
      "execution_count": null,
      "metadata": {},
      "outputs": [],
      "source": [
        "\n",
        "\n",
        "\n",
        "\n",
        "\n",
        "\n"
      ]
    },
    {
      "cell_type": "markdown",
      "metadata": {},
      "source": [
        "## 6. 🚀 Despliegue (Futuro)\n",
        "Se puede utilizar Hugging Face Spaces o Streamlit Cloud para desplegar un frontend que permita:\n",
        "- Cargar variables clínicas\n",
        "- Obtener un score de riesgo\n",
        "- Visualizar el gráfico ROC o una matriz de confusión"
      ]
    }
  ],
  "metadata": {
    "kernelspec": {
      "display_name": "ogi",
      "language": "python",
      "name": "python3"
    },
    "language_info": {
      "codemirror_mode": {
        "name": "ipython",
        "version": 3
      },
      "file_extension": ".py",
      "mimetype": "text/x-python",
      "name": "python",
      "nbconvert_exporter": "python",
      "pygments_lexer": "ipython3",
      "version": "3.9.22"
    }
  },
  "nbformat": 4,
  "nbformat_minor": 2
}
