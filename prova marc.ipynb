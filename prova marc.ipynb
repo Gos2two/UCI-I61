{
  "cells": [
    {
      "cell_type": "markdown",
      "metadata": {},
      "source": [
        "# 🧠 Análisis de la Readmisión a la UCI en Pacientes con Hemorragia Intracerebral (MIMIC-IV)"
      ]
    },
    {
      "cell_type": "markdown",
      "metadata": {},
      "source": [
        "## 1. 🔧 Configuración Inicial"
      ]
    },
    {
      "cell_type": "code",
      "execution_count": 1,
      "metadata": {},
      "outputs": [
        {
          "name": "stdout",
          "output_type": "stream",
          "text": [
            "Requirement already satisfied: google-cloud-bigquery in /opt/homebrew/Caskroom/miniforge/base/envs/ogi/lib/python3.9/site-packages (3.31.0)\n",
            "Requirement already satisfied: google-api-core<3.0.0,>=2.11.1 in /opt/homebrew/Caskroom/miniforge/base/envs/ogi/lib/python3.9/site-packages (from google-api-core[grpc]<3.0.0,>=2.11.1->google-cloud-bigquery) (2.24.2)\n",
            "Requirement already satisfied: google-auth<3.0.0,>=2.14.1 in /opt/homebrew/Caskroom/miniforge/base/envs/ogi/lib/python3.9/site-packages (from google-cloud-bigquery) (2.40.0)\n",
            "Requirement already satisfied: google-cloud-core<3.0.0,>=2.4.1 in /opt/homebrew/Caskroom/miniforge/base/envs/ogi/lib/python3.9/site-packages (from google-cloud-bigquery) (2.4.3)\n",
            "Requirement already satisfied: google-resumable-media<3.0.0,>=2.0.0 in /opt/homebrew/Caskroom/miniforge/base/envs/ogi/lib/python3.9/site-packages (from google-cloud-bigquery) (2.7.2)\n",
            "Requirement already satisfied: packaging>=24.2.0 in /opt/homebrew/Caskroom/miniforge/base/envs/ogi/lib/python3.9/site-packages (from google-cloud-bigquery) (25.0)\n",
            "Requirement already satisfied: python-dateutil<3.0.0,>=2.8.2 in /opt/homebrew/Caskroom/miniforge/base/envs/ogi/lib/python3.9/site-packages (from google-cloud-bigquery) (2.9.0.post0)\n",
            "Requirement already satisfied: requests<3.0.0,>=2.21.0 in /opt/homebrew/Caskroom/miniforge/base/envs/ogi/lib/python3.9/site-packages (from google-cloud-bigquery) (2.32.3)\n",
            "Requirement already satisfied: googleapis-common-protos<2.0.0,>=1.56.2 in /opt/homebrew/Caskroom/miniforge/base/envs/ogi/lib/python3.9/site-packages (from google-api-core<3.0.0,>=2.11.1->google-api-core[grpc]<3.0.0,>=2.11.1->google-cloud-bigquery) (1.70.0)\n",
            "Requirement already satisfied: protobuf!=3.20.0,!=3.20.1,!=4.21.0,!=4.21.1,!=4.21.2,!=4.21.3,!=4.21.4,!=4.21.5,<7.0.0,>=3.19.5 in /opt/homebrew/Caskroom/miniforge/base/envs/ogi/lib/python3.9/site-packages (from google-api-core<3.0.0,>=2.11.1->google-api-core[grpc]<3.0.0,>=2.11.1->google-cloud-bigquery) (6.31.0rc2)\n",
            "Requirement already satisfied: proto-plus<2.0.0,>=1.22.3 in /opt/homebrew/Caskroom/miniforge/base/envs/ogi/lib/python3.9/site-packages (from google-api-core<3.0.0,>=2.11.1->google-api-core[grpc]<3.0.0,>=2.11.1->google-cloud-bigquery) (1.26.1)\n",
            "Requirement already satisfied: grpcio<2.0dev,>=1.33.2 in /opt/homebrew/Caskroom/miniforge/base/envs/ogi/lib/python3.9/site-packages (from google-api-core[grpc]<3.0.0,>=2.11.1->google-cloud-bigquery) (1.72.0rc1)\n",
            "Requirement already satisfied: grpcio-status<2.0.dev0,>=1.33.2 in /opt/homebrew/Caskroom/miniforge/base/envs/ogi/lib/python3.9/site-packages (from google-api-core[grpc]<3.0.0,>=2.11.1->google-cloud-bigquery) (1.72.0rc1)\n",
            "Requirement already satisfied: cachetools<6.0,>=2.0.0 in /opt/homebrew/Caskroom/miniforge/base/envs/ogi/lib/python3.9/site-packages (from google-auth<3.0.0,>=2.14.1->google-cloud-bigquery) (5.5.2)\n",
            "Requirement already satisfied: pyasn1-modules>=0.2.1 in /opt/homebrew/Caskroom/miniforge/base/envs/ogi/lib/python3.9/site-packages (from google-auth<3.0.0,>=2.14.1->google-cloud-bigquery) (0.4.2)\n",
            "Requirement already satisfied: rsa<5,>=3.1.4 in /opt/homebrew/Caskroom/miniforge/base/envs/ogi/lib/python3.9/site-packages (from google-auth<3.0.0,>=2.14.1->google-cloud-bigquery) (4.9.1)\n",
            "Requirement already satisfied: google-crc32c<2.0dev,>=1.0 in /opt/homebrew/Caskroom/miniforge/base/envs/ogi/lib/python3.9/site-packages (from google-resumable-media<3.0.0,>=2.0.0->google-cloud-bigquery) (1.7.1)\n",
            "Requirement already satisfied: six>=1.5 in /opt/homebrew/Caskroom/miniforge/base/envs/ogi/lib/python3.9/site-packages (from python-dateutil<3.0.0,>=2.8.2->google-cloud-bigquery) (1.17.0)\n",
            "Requirement already satisfied: charset-normalizer<4,>=2 in /opt/homebrew/Caskroom/miniforge/base/envs/ogi/lib/python3.9/site-packages (from requests<3.0.0,>=2.21.0->google-cloud-bigquery) (3.4.2)\n",
            "Requirement already satisfied: idna<4,>=2.5 in /opt/homebrew/Caskroom/miniforge/base/envs/ogi/lib/python3.9/site-packages (from requests<3.0.0,>=2.21.0->google-cloud-bigquery) (3.10)\n",
            "Requirement already satisfied: urllib3<3,>=1.21.1 in /opt/homebrew/Caskroom/miniforge/base/envs/ogi/lib/python3.9/site-packages (from requests<3.0.0,>=2.21.0->google-cloud-bigquery) (2.4.0)\n",
            "Requirement already satisfied: certifi>=2017.4.17 in /opt/homebrew/Caskroom/miniforge/base/envs/ogi/lib/python3.9/site-packages (from requests<3.0.0,>=2.21.0->google-cloud-bigquery) (2025.4.26)\n",
            "Requirement already satisfied: pyasn1>=0.1.3 in /opt/homebrew/Caskroom/miniforge/base/envs/ogi/lib/python3.9/site-packages (from rsa<5,>=3.1.4->google-auth<3.0.0,>=2.14.1->google-cloud-bigquery) (0.6.1)\n",
            "Note: you may need to restart the kernel to use updated packages.\n"
          ]
        }
      ],
      "source": [
        "pip install google-cloud-bigquery"
      ]
    },
    {
      "cell_type": "code",
      "execution_count": 3,
      "metadata": {},
      "outputs": [
        {
          "name": "stdout",
          "output_type": "stream",
          "text": [
            "Hello, World!\n"
          ]
        }
      ],
      "source": [
        "from google.cloud import bigquery\n",
        "from google.oauth2 import service_account\n",
        "\n",
        "# Path to your service account key file\n",
        "SERVICE_ACCOUNT_FILE = \"mimic-sergi.json\"\n",
        "PROJECT_ID = \"ogi-uci-i61\"\n",
        "\n",
        "# Create credentials and client\n",
        "credentials = service_account.Credentials.from_service_account_file(\n",
        "    SERVICE_ACCOUNT_FILE)\n",
        "\n",
        "client = bigquery.Client(credentials=credentials, project=PROJECT_ID)\n",
        "\n",
        "# Example query\n",
        "query = \"SELECT 'Hello, World!' AS greeting\"\n",
        "query_job = client.query(query)\n",
        "\n",
        "# Fetch results\n",
        "results = query_job.result()\n",
        "\n",
        "for row in results:\n",
        "    print(row.greeting)"
      ]
    },
    {
      "cell_type": "markdown",
      "metadata": {},
      "source": [
        "## 2. 📦 Extracción de Datos"
      ]
    },
    {
      "cell_type": "code",
      "execution_count": 2,
      "metadata": {},
      "outputs": [
        {
          "name": "stdout",
          "output_type": "stream",
          "text": [
            "Defaulting to user installation because normal site-packages is not writeable\n",
            "Requirement already satisfied: pandas in /Users/marc/Library/Python/3.9/lib/python/site-packages (2.2.3)\n",
            "Requirement already satisfied: tzdata>=2022.7 in /Users/marc/Library/Python/3.9/lib/python/site-packages (from pandas) (2025.2)\n",
            "Requirement already satisfied: numpy>=1.22.4 in /Users/marc/Library/Python/3.9/lib/python/site-packages (from pandas) (1.26.4)\n",
            "Requirement already satisfied: pytz>=2020.1 in /Users/marc/Library/Python/3.9/lib/python/site-packages (from pandas) (2025.2)\n",
            "Requirement already satisfied: python-dateutil>=2.8.2 in /Users/marc/Library/Python/3.9/lib/python/site-packages (from pandas) (2.9.0.post0)\n",
            "Requirement already satisfied: six>=1.5 in /Applications/Xcode.app/Contents/Developer/Library/Frameworks/Python3.framework/Versions/3.9/lib/python3.9/site-packages (from python-dateutil>=2.8.2->pandas) (1.15.0)\n",
            "\u001b[33mWARNING: You are using pip version 21.2.4; however, version 25.1.1 is available.\n",
            "You should consider upgrading via the '/Applications/Xcode.app/Contents/Developer/usr/bin/python3 -m pip install --upgrade pip' command.\u001b[0m\n",
            "Note: you may need to restart the kernel to use updated packages.\n"
          ]
        }
      ],
      "source": [
        "pip install pandas"
      ]
    },
    {
      "cell_type": "code",
      "execution_count": 3,
      "metadata": {},
      "outputs": [
        {
          "name": "stdout",
          "output_type": "stream",
          "text": [
            "2.1.4\n"
          ]
        }
      ],
      "source": [
        "import pandas as pd\n",
        "print(pd.__version__)  # Hauria de mostrar la versió (ex: '2.1.3')"
      ]
    },
    {
      "cell_type": "code",
      "execution_count": 22,
      "metadata": {},
      "outputs": [
        {
          "name": "stdout",
          "output_type": "stream",
          "text": [
            "Defaulting to user installation because normal site-packages is not writeable\n",
            "Requirement already satisfied: pandas in /Users/marc/Library/Python/3.9/lib/python/site-packages (2.1.4)\n",
            "Collecting pandas\n",
            "  Using cached pandas-2.2.3-cp39-cp39-macosx_11_0_arm64.whl (11.3 MB)\n",
            "Requirement already satisfied: google-cloud-bigquery in /Users/marc/Library/Python/3.9/lib/python/site-packages (3.31.0)\n",
            "Requirement already satisfied: tzdata>=2022.7 in /Users/marc/Library/Python/3.9/lib/python/site-packages (from pandas) (2025.2)\n",
            "Requirement already satisfied: python-dateutil>=2.8.2 in /Users/marc/Library/Python/3.9/lib/python/site-packages (from pandas) (2.9.0.post0)\n",
            "Requirement already satisfied: pytz>=2020.1 in /Users/marc/Library/Python/3.9/lib/python/site-packages (from pandas) (2025.2)\n",
            "Requirement already satisfied: numpy>=1.22.4 in /Users/marc/Library/Python/3.9/lib/python/site-packages (from pandas) (1.26.4)\n",
            "Requirement already satisfied: google-api-core[grpc]<3.0.0,>=2.11.1 in /Users/marc/Library/Python/3.9/lib/python/site-packages (from google-cloud-bigquery) (2.24.2)\n",
            "Requirement already satisfied: google-auth<3.0.0,>=2.14.1 in /Users/marc/Library/Python/3.9/lib/python/site-packages (from google-cloud-bigquery) (2.39.0)\n",
            "Requirement already satisfied: packaging>=24.2.0 in /Users/marc/Library/Python/3.9/lib/python/site-packages (from google-cloud-bigquery) (25.0)\n",
            "Requirement already satisfied: google-cloud-core<3.0.0,>=2.4.1 in /Users/marc/Library/Python/3.9/lib/python/site-packages (from google-cloud-bigquery) (2.4.3)\n",
            "Requirement already satisfied: requests<3.0.0,>=2.21.0 in /Users/marc/Library/Python/3.9/lib/python/site-packages (from google-cloud-bigquery) (2.32.3)\n",
            "Requirement already satisfied: google-resumable-media<3.0.0,>=2.0.0 in /Users/marc/Library/Python/3.9/lib/python/site-packages (from google-cloud-bigquery) (2.7.2)\n",
            "Requirement already satisfied: protobuf!=3.20.0,!=3.20.1,!=4.21.0,!=4.21.1,!=4.21.2,!=4.21.3,!=4.21.4,!=4.21.5,<7.0.0,>=3.19.5 in /Users/marc/Library/Python/3.9/lib/python/site-packages (from google-api-core[grpc]<3.0.0,>=2.11.1->google-cloud-bigquery) (5.29.4)\n",
            "Requirement already satisfied: googleapis-common-protos<2.0.0,>=1.56.2 in /Users/marc/Library/Python/3.9/lib/python/site-packages (from google-api-core[grpc]<3.0.0,>=2.11.1->google-cloud-bigquery) (1.70.0)\n",
            "Requirement already satisfied: proto-plus<2.0.0,>=1.22.3 in /Users/marc/Library/Python/3.9/lib/python/site-packages (from google-api-core[grpc]<3.0.0,>=2.11.1->google-cloud-bigquery) (1.26.1)\n",
            "Requirement already satisfied: grpcio-status<2.0.dev0,>=1.33.2 in /Users/marc/Library/Python/3.9/lib/python/site-packages (from google-api-core[grpc]<3.0.0,>=2.11.1->google-cloud-bigquery) (1.71.0)\n",
            "Requirement already satisfied: grpcio<2.0dev,>=1.33.2 in /Users/marc/Library/Python/3.9/lib/python/site-packages (from google-api-core[grpc]<3.0.0,>=2.11.1->google-cloud-bigquery) (1.71.0)\n",
            "Requirement already satisfied: cachetools<6.0,>=2.0.0 in /Users/marc/Library/Python/3.9/lib/python/site-packages (from google-auth<3.0.0,>=2.14.1->google-cloud-bigquery) (5.5.2)\n",
            "Requirement already satisfied: rsa<5,>=3.1.4 in /Users/marc/Library/Python/3.9/lib/python/site-packages (from google-auth<3.0.0,>=2.14.1->google-cloud-bigquery) (4.9.1)\n",
            "Requirement already satisfied: pyasn1-modules>=0.2.1 in /Users/marc/Library/Python/3.9/lib/python/site-packages (from google-auth<3.0.0,>=2.14.1->google-cloud-bigquery) (0.4.2)\n",
            "Requirement already satisfied: google-crc32c<2.0dev,>=1.0 in /Users/marc/Library/Python/3.9/lib/python/site-packages (from google-resumable-media<3.0.0,>=2.0.0->google-cloud-bigquery) (1.7.1)\n",
            "Requirement already satisfied: pyasn1<0.7.0,>=0.6.1 in /Users/marc/Library/Python/3.9/lib/python/site-packages (from pyasn1-modules>=0.2.1->google-auth<3.0.0,>=2.14.1->google-cloud-bigquery) (0.6.1)\n",
            "Requirement already satisfied: six>=1.5 in /Applications/Xcode.app/Contents/Developer/Library/Frameworks/Python3.framework/Versions/3.9/lib/python3.9/site-packages (from python-dateutil>=2.8.2->pandas) (1.15.0)\n",
            "Requirement already satisfied: urllib3<3,>=1.21.1 in /Users/marc/Library/Python/3.9/lib/python/site-packages (from requests<3.0.0,>=2.21.0->google-cloud-bigquery) (2.4.0)\n",
            "Requirement already satisfied: certifi>=2017.4.17 in /Users/marc/Library/Python/3.9/lib/python/site-packages (from requests<3.0.0,>=2.21.0->google-cloud-bigquery) (2025.4.26)\n",
            "Requirement already satisfied: charset-normalizer<4,>=2 in /Users/marc/Library/Python/3.9/lib/python/site-packages (from requests<3.0.0,>=2.21.0->google-cloud-bigquery) (3.4.2)\n",
            "Requirement already satisfied: idna<4,>=2.5 in /Users/marc/Library/Python/3.9/lib/python/site-packages (from requests<3.0.0,>=2.21.0->google-cloud-bigquery) (3.10)\n",
            "Installing collected packages: pandas\n",
            "  Attempting uninstall: pandas\n",
            "    Found existing installation: pandas 2.1.4\n",
            "    Uninstalling pandas-2.1.4:\n",
            "      Successfully uninstalled pandas-2.1.4\n",
            "\u001b[31mERROR: pip's dependency resolver does not currently take into account all the packages that are installed. This behaviour is the source of the following dependency conflicts.\n",
            "sktime 0.26.0 requires pandas<2.2.0,>=1.1, but you have pandas 2.2.3 which is incompatible.\n",
            "pycaret 3.3.2 requires pandas<2.2.0, but you have pandas 2.2.3 which is incompatible.\u001b[0m\n",
            "Successfully installed pandas-2.2.3\n",
            "\u001b[33mWARNING: You are using pip version 21.2.4; however, version 25.1.1 is available.\n",
            "You should consider upgrading via the '/Applications/Xcode.app/Contents/Developer/usr/bin/python3 -m pip install --upgrade pip' command.\u001b[0m\n",
            "Note: you may need to restart the kernel to use updated packages.\n"
          ]
        }
      ],
      "source": [
        "pip install --upgrade pandas google-cloud-bigquery"
      ]
    },
    {
      "cell_type": "code",
      "execution_count": 1,
      "metadata": {},
      "outputs": [
        {
          "name": "stdout",
          "output_type": "stream",
          "text": [
            "1.4.2\n"
          ]
        }
      ],
      "source": [
        "import db_dtypes\n",
        "print(db_dtypes.__version__)  # Hauria de mostrar la versió (ex: 1.2.0)\n"
      ]
    },
    {
      "cell_type": "code",
      "execution_count": 4,
      "metadata": {},
      "outputs": [
        {
          "name": "stderr",
          "output_type": "stream",
          "text": [
            "/opt/homebrew/Caskroom/miniforge/base/envs/ogi/lib/python3.9/site-packages/google/cloud/bigquery/table.py:1933: UserWarning: BigQuery Storage module not found, fetch data with the REST endpoint instead.\n",
            "  warnings.warn(\n"
          ]
        }
      ],
      "source": [
        "query = \"\"\"\n",
        "SELECT\n",
        "  a.subject_id,\n",
        "  a.hadm_id,\n",
        "  a.stay_id,\n",
        "  p.gender,\n",
        "  a.intime,\n",
        "  a.outtime,\n",
        "  i.icd_code,\n",
        "  d.icd_version,\n",
        "  d.long_title,\n",
        "  s.gcs_verbal,\n",
        "  s.gcs_motor,\n",
        "  s.gcs_eyes,\n",
        "  vitals.heart_rate,\n",
        "  vitals.mbp,\n",
        "  vitals.resp_rate,\n",
        "  vitals.temperature,\n",
        "  vitals.spo2,\n",
        "  readmit.stay_id AS readmitted_stay\n",
        "FROM\n",
        "  `ogi-uci-i61.mimiciv_icu.icustays` a\n",
        "JOIN\n",
        "  `ogi-uci-i61.mimiciv_hosp.patients` p\n",
        "  ON a.subject_id = p.subject_id\n",
        "JOIN\n",
        "  `ogi-uci-i61.mimiciv_hosp.diagnoses_icd` i\n",
        "  ON a.hadm_id = i.hadm_id\n",
        "JOIN\n",
        "  `ogi-uci-i61.mimiciv_hosp.d_icd_diagnoses` d\n",
        "  ON i.icd_code = d.icd_code AND i.icd_version = d.icd_version\n",
        "LEFT JOIN (\n",
        "  -- Select first GCS per stay\n",
        "  SELECT\n",
        "    stay_id,\n",
        "    gcs_verbal,\n",
        "    gcs_motor,\n",
        "    gcs_eyes,\n",
        "    ROW_NUMBER() OVER (PARTITION BY stay_id ORDER BY charttime) AS rn\n",
        "  FROM\n",
        "    `ogi-uci-i61.mimiciv_derived.gcs`\n",
        ") s\n",
        "  ON a.stay_id = s.stay_id AND s.rn = 1\n",
        "LEFT JOIN (\n",
        "  -- Select first vitals per stay\n",
        "  SELECT\n",
        "    stay_id,\n",
        "    heart_rate,\n",
        "    mbp,\n",
        "    resp_rate,\n",
        "    temperature,\n",
        "    spo2,\n",
        "    ROW_NUMBER() OVER (PARTITION BY stay_id ORDER BY charttime) AS rn\n",
        "  FROM\n",
        "    `ogi-uci-i61.mimiciv_derived.vitalsign`\n",
        ") vitals\n",
        "  ON a.stay_id = vitals.stay_id AND vitals.rn = 1\n",
        "LEFT JOIN (\n",
        "  -- Identify next stay as readmission\n",
        "  SELECT\n",
        "    a1.subject_id,\n",
        "    a1.stay_id,\n",
        "    MIN(a2.stay_id) AS readmitted_stay\n",
        "  FROM\n",
        "    `ogi-uci-i61.mimiciv_icu.icustays` a1\n",
        "  JOIN\n",
        "    `ogi-uci-i61.mimiciv_icu.icustays` a2\n",
        "    ON a1.subject_id = a2.subject_id\n",
        "    AND a2.intime > a1.outtime\n",
        "  GROUP BY\n",
        "    a1.subject_id, a1.stay_id\n",
        ") readmit\n",
        "  ON a.subject_id = readmit.subject_id AND a.stay_id = readmit.stay_id\n",
        "WHERE\n",
        "  LOWER(d.long_title) LIKE '%intracerebral hemorrhage%'\n",
        "\"\"\"\n",
        "df = client.query(query).to_dataframe()"
      ]
    },
    {
      "cell_type": "code",
      "execution_count": 7,
      "metadata": {},
      "outputs": [
        {
          "name": "stdout",
          "output_type": "stream",
          "text": [
            "Defaulting to user installation because normal site-packages is not writeable\n",
            "Requirement already satisfied: sklearn in /Users/marc/Library/Python/3.9/lib/python/site-packages (0.0)\n",
            "Requirement already satisfied: scikit-learn in /Users/marc/Library/Python/3.9/lib/python/site-packages (from sklearn) (1.2.2)\n",
            "Requirement already satisfied: scipy>=1.3.2 in /Users/marc/Library/Python/3.9/lib/python/site-packages (from scikit-learn->sklearn) (1.13.1)\n",
            "Requirement already satisfied: joblib>=1.1.1 in /Users/marc/Library/Python/3.9/lib/python/site-packages (from scikit-learn->sklearn) (1.5.0)\n",
            "Requirement already satisfied: threadpoolctl>=2.0.0 in /Users/marc/Library/Python/3.9/lib/python/site-packages (from scikit-learn->sklearn) (3.6.0)\n",
            "Requirement already satisfied: numpy>=1.17.3 in /Users/marc/Library/Python/3.9/lib/python/site-packages (from scikit-learn->sklearn) (1.26.4)\n",
            "\u001b[33mWARNING: You are using pip version 21.2.4; however, version 25.1.1 is available.\n",
            "You should consider upgrading via the '/Applications/Xcode.app/Contents/Developer/usr/bin/python3 -m pip install --upgrade pip' command.\u001b[0m\n",
            "Note: you may need to restart the kernel to use updated packages.\n"
          ]
        }
      ],
      "source": [
        "pip install sklearn"
      ]
    },
    {
      "cell_type": "markdown",
      "metadata": {},
      "source": [
        "## 3. 🧽 Preprocesamiento"
      ]
    },
    {
      "cell_type": "code",
      "execution_count": 5,
      "metadata": {},
      "outputs": [
        {
          "name": "stdout",
          "output_type": "stream",
          "text": [
            "subject_id                  Int64\n",
            "hadm_id                     Int64\n",
            "stay_id                     Int64\n",
            "gender                     object\n",
            "intime             datetime64[us]\n",
            "outtime            datetime64[us]\n",
            "icd_code                   object\n",
            "icd_version                 Int64\n",
            "long_title                 object\n",
            "gcs_verbal                float64\n",
            "gcs_motor                 float64\n",
            "gcs_eyes                  float64\n",
            "heart_rate                float64\n",
            "mbp                       float64\n",
            "resp_rate                 float64\n",
            "temperature                object\n",
            "spo2                      float64\n",
            "readmitted_stay             Int64\n",
            "dtype: object\n"
          ]
        }
      ],
      "source": [
        "import pandas as pd\n",
        "from sklearn.preprocessing import StandardScaler\n",
        "from sklearn.model_selection import train_test_split\n",
        "\n",
        "\n",
        "# Relleno de valores nulos\n",
        "# df.fillna(df.median(numeric_only=True), inplace=True) ## NO FUNCIONA pq estem intentant\n",
        "# reemplaçar tipus int a float.\n",
        "\n",
        "# Primer hauríem de mirar quins tipus de dades conté cada columna\n",
        "print(df.dtypes)\n",
        "\n",
        "# podem convertir totes les columnes Int64 a float64 ja que la funció median()\n",
        "# retorna sempre un valor float\n",
        "# com que hi ha columnes que contenen strings (object) no podem fer mediana , però \n",
        "# podem codificar-les amb la funció OneHotEncoder, que donarà valors 0 i 1 a strings\n",
        "# com de gènere home 'M' o dona 'F' (ex: 'M' → 0, 'F' → 1)\n"
      ]
    },
    {
      "cell_type": "code",
      "execution_count": 6,
      "metadata": {},
      "outputs": [],
      "source": [
        "from sklearn.preprocessing import OneHotEncoder\n",
        "\n",
        "# Codifica 'gender' (ex: 'M' → 0, 'F' → 1)\n",
        "encoder = OneHotEncoder()\n",
        "encoded_gender = encoder.fit_transform(df[['gender']]).toarray()\n",
        "\n",
        "# Reemplaça la columna original amb les noves columnes codificades\n",
        "df_encoded = pd.concat([df.drop(columns=['gender']), pd.DataFrame(encoded_gender, columns=encoder.get_feature_names_out(['gender']))], axis=1)"
      ]
    },
    {
      "cell_type": "code",
      "execution_count": 7,
      "metadata": {},
      "outputs": [],
      "source": [
        "# CODI ORIGINAL --> REVISAT OKK\n",
        "\n",
        "# Escalado de características numéricas\n",
        "scaler = StandardScaler()\n",
        "features_scaled = scaler.fit_transform(df.select_dtypes(include='number'))\n",
        "\n",
        "# Target: readmisión\n",
        "df['readmitted'] = df['readmitted_stay'].notnull().astype(int)"
      ]
    },
    {
      "cell_type": "markdown",
      "metadata": {},
      "source": [
        "## 4. 📊 Modelado Predictivo"
      ]
    },
    {
      "cell_type": "code",
      "execution_count": 9,
      "metadata": {},
      "outputs": [
        {
          "name": "stdout",
          "output_type": "stream",
          "text": [
            "Collecting gradio\n",
            "  Downloading gradio-4.44.1-py3-none-any.whl.metadata (15 kB)\n",
            "Collecting aiofiles<24.0,>=22.0 (from gradio)\n",
            "  Downloading aiofiles-23.2.1-py3-none-any.whl.metadata (9.7 kB)\n",
            "Collecting anyio<5.0,>=3.0 (from gradio)\n",
            "  Downloading anyio-4.9.0-py3-none-any.whl.metadata (4.7 kB)\n",
            "Collecting fastapi<1.0 (from gradio)\n",
            "  Downloading fastapi-0.115.12-py3-none-any.whl.metadata (27 kB)\n",
            "Collecting ffmpy (from gradio)\n",
            "  Downloading ffmpy-0.5.0-py3-none-any.whl.metadata (3.0 kB)\n",
            "Collecting gradio-client==1.3.0 (from gradio)\n",
            "  Downloading gradio_client-1.3.0-py3-none-any.whl.metadata (7.1 kB)\n",
            "Collecting httpx>=0.24.1 (from gradio)\n",
            "  Downloading httpx-0.28.1-py3-none-any.whl.metadata (7.1 kB)\n",
            "Collecting huggingface-hub>=0.19.3 (from gradio)\n",
            "  Downloading huggingface_hub-0.30.2-py3-none-any.whl.metadata (13 kB)\n",
            "Requirement already satisfied: importlib-resources<7.0,>=1.3 in /opt/homebrew/Caskroom/miniforge/base/envs/ogi/lib/python3.9/site-packages (from gradio) (6.5.2)\n",
            "Requirement already satisfied: jinja2<4.0 in /opt/homebrew/Caskroom/miniforge/base/envs/ogi/lib/python3.9/site-packages (from gradio) (3.1.6)\n",
            "Collecting markupsafe~=2.0 (from gradio)\n",
            "  Downloading MarkupSafe-2.1.5-cp39-cp39-macosx_10_9_universal2.whl.metadata (3.0 kB)\n",
            "Requirement already satisfied: matplotlib~=3.0 in /opt/homebrew/Caskroom/miniforge/base/envs/ogi/lib/python3.9/site-packages (from gradio) (3.7.5)\n",
            "Requirement already satisfied: numpy<3.0,>=1.0 in /opt/homebrew/Caskroom/miniforge/base/envs/ogi/lib/python3.9/site-packages (from gradio) (1.26.4)\n",
            "Requirement already satisfied: orjson~=3.0 in /opt/homebrew/Caskroom/miniforge/base/envs/ogi/lib/python3.9/site-packages (from gradio) (3.10.18)\n",
            "Requirement already satisfied: packaging in /opt/homebrew/Caskroom/miniforge/base/envs/ogi/lib/python3.9/site-packages (from gradio) (25.0)\n",
            "Requirement already satisfied: pandas<3.0,>=1.0 in /opt/homebrew/Caskroom/miniforge/base/envs/ogi/lib/python3.9/site-packages (from gradio) (2.1.4)\n",
            "Collecting pillow<11.0,>=8.0 (from gradio)\n",
            "  Downloading pillow-10.4.0-cp39-cp39-macosx_11_0_arm64.whl.metadata (9.2 kB)\n",
            "Collecting pydantic>=2.0 (from gradio)\n",
            "  Downloading pydantic-2.11.4-py3-none-any.whl.metadata (66 kB)\n",
            "Collecting pydub (from gradio)\n",
            "  Downloading pydub-0.25.1-py2.py3-none-any.whl.metadata (1.4 kB)\n",
            "Collecting python-multipart>=0.0.9 (from gradio)\n",
            "  Downloading python_multipart-0.0.20-py3-none-any.whl.metadata (1.8 kB)\n",
            "Collecting pyyaml<7.0,>=5.0 (from gradio)\n",
            "  Downloading PyYAML-6.0.2-cp39-cp39-macosx_11_0_arm64.whl.metadata (2.1 kB)\n",
            "Collecting ruff>=0.2.2 (from gradio)\n",
            "  Downloading ruff-0.11.8-py3-none-macosx_11_0_arm64.whl.metadata (25 kB)\n",
            "Collecting semantic-version~=2.0 (from gradio)\n",
            "  Downloading semantic_version-2.10.0-py2.py3-none-any.whl.metadata (9.7 kB)\n",
            "Collecting tomlkit==0.12.0 (from gradio)\n",
            "  Downloading tomlkit-0.12.0-py3-none-any.whl.metadata (2.7 kB)\n",
            "Collecting typer<1.0,>=0.12 (from gradio)\n",
            "  Downloading typer-0.15.3-py3-none-any.whl.metadata (15 kB)\n",
            "Requirement already satisfied: typing-extensions~=4.0 in /opt/homebrew/Caskroom/miniforge/base/envs/ogi/lib/python3.9/site-packages (from gradio) (4.13.2)\n",
            "Requirement already satisfied: urllib3~=2.0 in /opt/homebrew/Caskroom/miniforge/base/envs/ogi/lib/python3.9/site-packages (from gradio) (2.4.0)\n",
            "Collecting uvicorn>=0.14.0 (from gradio)\n",
            "  Downloading uvicorn-0.34.2-py3-none-any.whl.metadata (6.5 kB)\n",
            "Collecting fsspec (from gradio-client==1.3.0->gradio)\n",
            "  Downloading fsspec-2025.3.2-py3-none-any.whl.metadata (11 kB)\n",
            "Collecting websockets<13.0,>=10.0 (from gradio-client==1.3.0->gradio)\n",
            "  Downloading websockets-12.0-cp39-cp39-macosx_11_0_arm64.whl.metadata (6.6 kB)\n",
            "Requirement already satisfied: exceptiongroup>=1.0.2 in /opt/homebrew/Caskroom/miniforge/base/envs/ogi/lib/python3.9/site-packages (from anyio<5.0,>=3.0->gradio) (1.2.2)\n",
            "Requirement already satisfied: idna>=2.8 in /opt/homebrew/Caskroom/miniforge/base/envs/ogi/lib/python3.9/site-packages (from anyio<5.0,>=3.0->gradio) (3.10)\n",
            "Collecting sniffio>=1.1 (from anyio<5.0,>=3.0->gradio)\n",
            "  Downloading sniffio-1.3.1-py3-none-any.whl.metadata (3.9 kB)\n",
            "Collecting starlette<0.47.0,>=0.40.0 (from fastapi<1.0->gradio)\n",
            "  Downloading starlette-0.46.2-py3-none-any.whl.metadata (6.2 kB)\n",
            "Requirement already satisfied: zipp>=3.1.0 in /opt/homebrew/Caskroom/miniforge/base/envs/ogi/lib/python3.9/site-packages (from importlib-resources<7.0,>=1.3->gradio) (3.21.0)\n",
            "Requirement already satisfied: contourpy>=1.0.1 in /opt/homebrew/Caskroom/miniforge/base/envs/ogi/lib/python3.9/site-packages (from matplotlib~=3.0->gradio) (1.3.0)\n",
            "Requirement already satisfied: cycler>=0.10 in /opt/homebrew/Caskroom/miniforge/base/envs/ogi/lib/python3.9/site-packages (from matplotlib~=3.0->gradio) (0.12.1)\n",
            "Requirement already satisfied: fonttools>=4.22.0 in /opt/homebrew/Caskroom/miniforge/base/envs/ogi/lib/python3.9/site-packages (from matplotlib~=3.0->gradio) (4.57.0)\n",
            "Requirement already satisfied: kiwisolver>=1.0.1 in /opt/homebrew/Caskroom/miniforge/base/envs/ogi/lib/python3.9/site-packages (from matplotlib~=3.0->gradio) (1.4.7)\n",
            "Requirement already satisfied: pyparsing>=2.3.1 in /opt/homebrew/Caskroom/miniforge/base/envs/ogi/lib/python3.9/site-packages (from matplotlib~=3.0->gradio) (3.2.3)\n",
            "Requirement already satisfied: python-dateutil>=2.7 in /opt/homebrew/Caskroom/miniforge/base/envs/ogi/lib/python3.9/site-packages (from matplotlib~=3.0->gradio) (2.9.0.post0)\n",
            "Requirement already satisfied: pytz>=2020.1 in /opt/homebrew/Caskroom/miniforge/base/envs/ogi/lib/python3.9/site-packages (from pandas<3.0,>=1.0->gradio) (2025.2)\n",
            "Requirement already satisfied: tzdata>=2022.1 in /opt/homebrew/Caskroom/miniforge/base/envs/ogi/lib/python3.9/site-packages (from pandas<3.0,>=1.0->gradio) (2025.2)\n",
            "Collecting annotated-types>=0.6.0 (from pydantic>=2.0->gradio)\n",
            "  Downloading annotated_types-0.7.0-py3-none-any.whl.metadata (15 kB)\n",
            "Collecting pydantic-core==2.33.2 (from pydantic>=2.0->gradio)\n",
            "  Downloading pydantic_core-2.33.2-cp39-cp39-macosx_11_0_arm64.whl.metadata (6.8 kB)\n",
            "Collecting typing-inspection>=0.4.0 (from pydantic>=2.0->gradio)\n",
            "  Downloading typing_inspection-0.4.0-py3-none-any.whl.metadata (2.6 kB)\n",
            "Requirement already satisfied: click>=8.0.0 in /opt/homebrew/Caskroom/miniforge/base/envs/ogi/lib/python3.9/site-packages (from typer<1.0,>=0.12->gradio) (8.1.8)\n",
            "Collecting shellingham>=1.3.0 (from typer<1.0,>=0.12->gradio)\n",
            "  Downloading shellingham-1.5.4-py2.py3-none-any.whl.metadata (3.5 kB)\n",
            "Collecting rich>=10.11.0 (from typer<1.0,>=0.12->gradio)\n",
            "  Downloading rich-14.0.0-py3-none-any.whl.metadata (18 kB)\n",
            "Requirement already satisfied: certifi in /opt/homebrew/Caskroom/miniforge/base/envs/ogi/lib/python3.9/site-packages (from httpx>=0.24.1->gradio) (2025.4.26)\n",
            "Collecting httpcore==1.* (from httpx>=0.24.1->gradio)\n",
            "  Downloading httpcore-1.0.9-py3-none-any.whl.metadata (21 kB)\n",
            "Collecting h11>=0.16 (from httpcore==1.*->httpx>=0.24.1->gradio)\n",
            "  Downloading h11-0.16.0-py3-none-any.whl.metadata (8.3 kB)\n",
            "Collecting filelock (from huggingface-hub>=0.19.3->gradio)\n",
            "  Downloading filelock-3.18.0-py3-none-any.whl.metadata (2.9 kB)\n",
            "Requirement already satisfied: requests in /opt/homebrew/Caskroom/miniforge/base/envs/ogi/lib/python3.9/site-packages (from huggingface-hub>=0.19.3->gradio) (2.32.3)\n",
            "Requirement already satisfied: tqdm>=4.42.1 in /opt/homebrew/Caskroom/miniforge/base/envs/ogi/lib/python3.9/site-packages (from huggingface-hub>=0.19.3->gradio) (4.67.1)\n",
            "Requirement already satisfied: six>=1.5 in /opt/homebrew/Caskroom/miniforge/base/envs/ogi/lib/python3.9/site-packages (from python-dateutil>=2.7->matplotlib~=3.0->gradio) (1.17.0)\n",
            "Collecting markdown-it-py>=2.2.0 (from rich>=10.11.0->typer<1.0,>=0.12->gradio)\n",
            "  Downloading markdown_it_py-3.0.0-py3-none-any.whl.metadata (6.9 kB)\n",
            "Requirement already satisfied: pygments<3.0.0,>=2.13.0 in /opt/homebrew/Caskroom/miniforge/base/envs/ogi/lib/python3.9/site-packages (from rich>=10.11.0->typer<1.0,>=0.12->gradio) (2.19.1)\n",
            "Collecting mdurl~=0.1 (from markdown-it-py>=2.2.0->rich>=10.11.0->typer<1.0,>=0.12->gradio)\n",
            "  Downloading mdurl-0.1.2-py3-none-any.whl.metadata (1.6 kB)\n",
            "Requirement already satisfied: charset-normalizer<4,>=2 in /opt/homebrew/Caskroom/miniforge/base/envs/ogi/lib/python3.9/site-packages (from requests->huggingface-hub>=0.19.3->gradio) (3.4.2)\n",
            "Downloading gradio-4.44.1-py3-none-any.whl (18.1 MB)\n",
            "\u001b[2K   \u001b[90m━━━━━━━━━━━━━━━━━━━━━━━━━━━━━━━━━━━━━━━━\u001b[0m \u001b[32m18.1/18.1 MB\u001b[0m \u001b[31m35.7 MB/s\u001b[0m eta \u001b[36m0:00:00\u001b[0ma \u001b[36m0:00:01\u001b[0m\n",
            "\u001b[?25hDownloading gradio_client-1.3.0-py3-none-any.whl (318 kB)\n",
            "Downloading tomlkit-0.12.0-py3-none-any.whl (37 kB)\n",
            "Downloading aiofiles-23.2.1-py3-none-any.whl (15 kB)\n",
            "Downloading anyio-4.9.0-py3-none-any.whl (100 kB)\n",
            "Downloading fastapi-0.115.12-py3-none-any.whl (95 kB)\n",
            "Downloading MarkupSafe-2.1.5-cp39-cp39-macosx_10_9_universal2.whl (18 kB)\n",
            "Downloading pillow-10.4.0-cp39-cp39-macosx_11_0_arm64.whl (3.4 MB)\n",
            "\u001b[2K   \u001b[90m━━━━━━━━━━━━━━━━━━━━━━━━━━━━━━━━━━━━━━━━\u001b[0m \u001b[32m3.4/3.4 MB\u001b[0m \u001b[31m47.6 MB/s\u001b[0m eta \u001b[36m0:00:00\u001b[0m\n",
            "\u001b[?25hDownloading pydantic-2.11.4-py3-none-any.whl (443 kB)\n",
            "Downloading pydantic_core-2.33.2-cp39-cp39-macosx_11_0_arm64.whl (1.9 MB)\n",
            "\u001b[2K   \u001b[90m━━━━━━━━━━━━━━━━━━━━━━━━━━━━━━━━━━━━━━━━\u001b[0m \u001b[32m1.9/1.9 MB\u001b[0m \u001b[31m32.1 MB/s\u001b[0m eta \u001b[36m0:00:00\u001b[0m\n",
            "\u001b[?25hDownloading PyYAML-6.0.2-cp39-cp39-macosx_11_0_arm64.whl (172 kB)\n",
            "Downloading semantic_version-2.10.0-py2.py3-none-any.whl (15 kB)\n",
            "Downloading starlette-0.46.2-py3-none-any.whl (72 kB)\n",
            "Downloading typer-0.15.3-py3-none-any.whl (45 kB)\n",
            "Downloading websockets-12.0-cp39-cp39-macosx_11_0_arm64.whl (121 kB)\n",
            "Downloading annotated_types-0.7.0-py3-none-any.whl (13 kB)\n",
            "Downloading httpx-0.28.1-py3-none-any.whl (73 kB)\n",
            "Downloading httpcore-1.0.9-py3-none-any.whl (78 kB)\n",
            "Downloading h11-0.16.0-py3-none-any.whl (37 kB)\n",
            "Downloading huggingface_hub-0.30.2-py3-none-any.whl (481 kB)\n",
            "Downloading fsspec-2025.3.2-py3-none-any.whl (194 kB)\n",
            "Downloading python_multipart-0.0.20-py3-none-any.whl (24 kB)\n",
            "Downloading rich-14.0.0-py3-none-any.whl (243 kB)\n",
            "Downloading markdown_it_py-3.0.0-py3-none-any.whl (87 kB)\n",
            "Downloading mdurl-0.1.2-py3-none-any.whl (10.0 kB)\n",
            "Downloading ruff-0.11.8-py3-none-macosx_11_0_arm64.whl (10.4 MB)\n",
            "\u001b[2K   \u001b[90m━━━━━━━━━━━━━━━━━━━━━━━━━━━━━━━━━━━━━━━━\u001b[0m \u001b[32m10.4/10.4 MB\u001b[0m \u001b[31m43.9 MB/s\u001b[0m eta \u001b[36m0:00:00\u001b[0m \u001b[36m0:00:01\u001b[0m\n",
            "\u001b[?25hDownloading shellingham-1.5.4-py2.py3-none-any.whl (9.8 kB)\n",
            "Downloading sniffio-1.3.1-py3-none-any.whl (10 kB)\n",
            "Downloading typing_inspection-0.4.0-py3-none-any.whl (14 kB)\n",
            "Downloading uvicorn-0.34.2-py3-none-any.whl (62 kB)\n",
            "Downloading ffmpy-0.5.0-py3-none-any.whl (6.0 kB)\n",
            "Downloading filelock-3.18.0-py3-none-any.whl (16 kB)\n",
            "Downloading pydub-0.25.1-py2.py3-none-any.whl (32 kB)\n",
            "Installing collected packages: pydub, websockets, typing-inspection, tomlkit, sniffio, shellingham, semantic-version, ruff, pyyaml, python-multipart, pydantic-core, pillow, mdurl, markupsafe, h11, fsspec, filelock, ffmpy, annotated-types, aiofiles, uvicorn, pydantic, markdown-it-py, huggingface-hub, httpcore, anyio, starlette, rich, httpx, typer, gradio-client, fastapi, gradio\n",
            "\u001b[2K  Attempting uninstall: pillow\u001b[90m━━━━━━━━━━━━━━━━━━━━━━━━━━━━━━━\u001b[0m \u001b[32m 7/33\u001b[0m [ruff]\n",
            "\u001b[2K    Found existing installation: pillow 11.2.1━━━━━━━━━━━━━━━━\u001b[0m \u001b[32m 7/33\u001b[0m [ruff]\n",
            "\u001b[2K    Uninstalling pillow-11.2.1:━━━━━━━━━━━━━━━━━━━━━━━━━━━━━━━\u001b[0m \u001b[32m 7/33\u001b[0m [ruff]\n",
            "\u001b[2K      Successfully uninstalled pillow-11.2.1━━━━━━━━━━━━━━━━━━\u001b[0m \u001b[32m 7/33\u001b[0m [ruff]\n",
            "\u001b[2K  Attempting uninstall: markupsafem\u001b[90m━━━━━━━━━━━━━━━━━━━━━━━━━━\u001b[0m \u001b[32m11/33\u001b[0m [pillow]\n",
            "\u001b[2K    Found existing installation: MarkupSafe 3.0.2━━━━━━━━━━━━━\u001b[0m \u001b[32m11/33\u001b[0m [pillow]\n",
            "\u001b[2K    Uninstalling MarkupSafe-3.0.2:0m━━━━━━━━━━━━━━━━━━━━━━━━━━\u001b[0m \u001b[32m11/33\u001b[0m [pillow]\n",
            "\u001b[2K      Successfully uninstalled MarkupSafe-3.0.2━━━━━━━━━━━━━━━\u001b[0m \u001b[32m11/33\u001b[0m [pillow]\n",
            "\u001b[2K   \u001b[90m━━━━━━━━━━━━━━━━━━━━━━━━━━━━━━━━━━━━━━━━\u001b[0m \u001b[32m33/33\u001b[0m [gradio]32/33\u001b[0m [gradio]face-hub]\n",
            "\u001b[1A\u001b[2KSuccessfully installed aiofiles-23.2.1 annotated-types-0.7.0 anyio-4.9.0 fastapi-0.115.12 ffmpy-0.5.0 filelock-3.18.0 fsspec-2025.3.2 gradio-4.44.1 gradio-client-1.3.0 h11-0.16.0 httpcore-1.0.9 httpx-0.28.1 huggingface-hub-0.30.2 markdown-it-py-3.0.0 markupsafe-2.1.5 mdurl-0.1.2 pillow-10.4.0 pydantic-2.11.4 pydantic-core-2.33.2 pydub-0.25.1 python-multipart-0.0.20 pyyaml-6.0.2 rich-14.0.0 ruff-0.11.8 semantic-version-2.10.0 shellingham-1.5.4 sniffio-1.3.1 starlette-0.46.2 tomlkit-0.12.0 typer-0.15.3 typing-inspection-0.4.0 uvicorn-0.34.2 websockets-12.0\n",
            "Note: you may need to restart the kernel to use updated packages.\n"
          ]
        }
      ],
      "source": [
        "pip install gradio"
      ]
    },
    {
      "cell_type": "code",
      "execution_count": 10,
      "metadata": {},
      "outputs": [],
      "source": [
        "import gradio as gr"
      ]
    },
    {
      "cell_type": "code",
      "execution_count": 16,
      "metadata": {},
      "outputs": [
        {
          "ename": "SyntaxError",
          "evalue": "invalid syntax (1558059053.py, line 3)",
          "output_type": "error",
          "traceback": [
            "\u001b[0;36m  Cell \u001b[0;32mIn[16], line 3\u001b[0;36m\u001b[0m\n\u001b[0;31m    pip install Pycaret\u001b[0m\n\u001b[0m        ^\u001b[0m\n\u001b[0;31mSyntaxError\u001b[0m\u001b[0;31m:\u001b[0m invalid syntax\n"
          ]
        }
      ],
      "source": [
        "# Instal·lem Pycaret per provar diferents ALGORITMES DE MACHINE LEARNING\n",
        "\n",
        "pip install Pycaret"
      ]
    },
    {
      "cell_type": "code",
      "execution_count": 17,
      "metadata": {},
      "outputs": [
        {
          "name": "stdout",
          "output_type": "stream",
          "text": [
            "Defaulting to user installation because normal site-packages is not writeable\n",
            "Collecting pycaret\n",
            "  Using cached pycaret-3.3.2-py3-none-any.whl (486 kB)\n",
            "Requirement already satisfied: lightgbm>=3.0.0 in /Users/marc/Library/Python/3.9/lib/python/site-packages (from pycaret) (4.6.0)\n",
            "Requirement already satisfied: matplotlib<3.8.0 in /Users/marc/Library/Python/3.9/lib/python/site-packages (from pycaret) (3.7.5)\n",
            "Requirement already satisfied: category-encoders>=2.4.0 in /Users/marc/Library/Python/3.9/lib/python/site-packages (from pycaret) (2.6.4)\n",
            "Requirement already satisfied: deprecation>=2.1.0 in /Users/marc/Library/Python/3.9/lib/python/site-packages (from pycaret) (2.1.0)\n",
            "Requirement already satisfied: schemdraw==0.15 in /Users/marc/Library/Python/3.9/lib/python/site-packages (from pycaret) (0.15)\n",
            "Requirement already satisfied: markupsafe>=2.0.1 in /Users/marc/Library/Python/3.9/lib/python/site-packages (from pycaret) (2.1.5)\n",
            "Requirement already satisfied: nbformat>=4.2.0 in /Users/marc/Library/Python/3.9/lib/python/site-packages (from pycaret) (5.10.4)\n",
            "Requirement already satisfied: tbats>=1.1.3 in /Users/marc/Library/Python/3.9/lib/python/site-packages (from pycaret) (1.1.3)\n",
            "Requirement already satisfied: plotly>=5.14.0 in /Users/marc/Library/Python/3.9/lib/python/site-packages (from pycaret) (5.24.1)\n",
            "Requirement already satisfied: importlib-metadata>=4.12.0 in /Users/marc/Library/Python/3.9/lib/python/site-packages (from pycaret) (8.7.0)\n",
            "Requirement already satisfied: xxhash in /Users/marc/Library/Python/3.9/lib/python/site-packages (from pycaret) (3.5.0)\n",
            "Requirement already satisfied: requests>=2.27.1 in /Users/marc/Library/Python/3.9/lib/python/site-packages (from pycaret) (2.32.3)\n",
            "Collecting pandas<2.2.0\n",
            "  Using cached pandas-2.1.4-cp39-cp39-macosx_11_0_arm64.whl (11.0 MB)\n",
            "Requirement already satisfied: ipywidgets>=7.6.5 in /Users/marc/Library/Python/3.9/lib/python/site-packages (from pycaret) (8.1.7)\n",
            "Requirement already satisfied: wurlitzer in /Users/marc/Library/Python/3.9/lib/python/site-packages (from pycaret) (3.1.1)\n",
            "Requirement already satisfied: plotly-resampler>=0.8.3.1 in /Users/marc/Library/Python/3.9/lib/python/site-packages (from pycaret) (0.10.0)\n",
            "Requirement already satisfied: psutil>=5.9.0 in /Users/marc/Library/Python/3.9/lib/python/site-packages (from pycaret) (7.0.0)\n",
            "Requirement already satisfied: scikit-plot>=0.3.7 in /Users/marc/Library/Python/3.9/lib/python/site-packages (from pycaret) (0.3.7)\n",
            "Requirement already satisfied: ipython>=5.5.0 in /Users/marc/Library/Python/3.9/lib/python/site-packages (from pycaret) (8.18.1)\n",
            "Requirement already satisfied: kaleido>=0.2.1 in /Users/marc/Library/Python/3.9/lib/python/site-packages (from pycaret) (0.2.1)\n",
            "Requirement already satisfied: pmdarima>=2.0.4 in /Users/marc/Library/Python/3.9/lib/python/site-packages (from pycaret) (2.0.4)\n",
            "Requirement already satisfied: imbalanced-learn>=0.12.0 in /Users/marc/Library/Python/3.9/lib/python/site-packages (from pycaret) (0.12.4)\n",
            "Requirement already satisfied: jinja2>=3 in /Users/marc/Library/Python/3.9/lib/python/site-packages (from pycaret) (3.1.6)\n",
            "Requirement already satisfied: sktime==0.26.0 in /Users/marc/Library/Python/3.9/lib/python/site-packages (from pycaret) (0.26.0)\n",
            "Requirement already satisfied: pyod>=1.1.3 in /Users/marc/Library/Python/3.9/lib/python/site-packages (from pycaret) (2.0.5)\n",
            "Collecting joblib<1.4,>=1.2.0\n",
            "  Using cached joblib-1.3.2-py3-none-any.whl (302 kB)\n",
            "Requirement already satisfied: yellowbrick>=1.4 in /Users/marc/Library/Python/3.9/lib/python/site-packages (from pycaret) (1.5)\n",
            "Requirement already satisfied: numpy<1.27,>=1.21 in /Users/marc/Library/Python/3.9/lib/python/site-packages (from pycaret) (1.26.4)\n",
            "Collecting scikit-learn>1.4.0\n",
            "  Using cached scikit_learn-1.6.1-cp39-cp39-macosx_12_0_arm64.whl (11.1 MB)\n",
            "Requirement already satisfied: statsmodels>=0.12.1 in /Users/marc/Library/Python/3.9/lib/python/site-packages (from pycaret) (0.14.4)\n",
            "Requirement already satisfied: tqdm>=4.62.0 in /Users/marc/Library/Python/3.9/lib/python/site-packages (from pycaret) (4.67.1)\n",
            "Collecting scipy<=1.11.4,>=1.6.1\n",
            "  Using cached scipy-1.11.4-cp39-cp39-macosx_12_0_arm64.whl (29.7 MB)\n",
            "Requirement already satisfied: numba>=0.55.0 in /Users/marc/Library/Python/3.9/lib/python/site-packages (from pycaret) (0.60.0)\n",
            "Requirement already satisfied: cloudpickle in /Users/marc/Library/Python/3.9/lib/python/site-packages (from pycaret) (3.1.1)\n",
            "Collecting scikit-learn>1.4.0\n",
            "  Using cached scikit_learn-1.4.2-cp39-cp39-macosx_12_0_arm64.whl (10.5 MB)\n",
            "Requirement already satisfied: packaging in /Users/marc/Library/Python/3.9/lib/python/site-packages (from sktime==0.26.0->pycaret) (25.0)\n",
            "Requirement already satisfied: scikit-base<0.8.0 in /Users/marc/Library/Python/3.9/lib/python/site-packages (from sktime==0.26.0->pycaret) (0.7.8)\n",
            "Requirement already satisfied: patsy>=0.5.1 in /Users/marc/Library/Python/3.9/lib/python/site-packages (from category-encoders>=2.4.0->pycaret) (1.0.1)\n",
            "Requirement already satisfied: threadpoolctl>=2.0.0 in /Users/marc/Library/Python/3.9/lib/python/site-packages (from imbalanced-learn>=0.12.0->pycaret) (3.6.0)\n",
            "Requirement already satisfied: zipp>=3.20 in /Users/marc/Library/Python/3.9/lib/python/site-packages (from importlib-metadata>=4.12.0->pycaret) (3.21.0)\n",
            "Requirement already satisfied: jedi>=0.16 in /Users/marc/Library/Python/3.9/lib/python/site-packages (from ipython>=5.5.0->pycaret) (0.19.2)\n",
            "Requirement already satisfied: stack-data in /Users/marc/Library/Python/3.9/lib/python/site-packages (from ipython>=5.5.0->pycaret) (0.6.3)\n",
            "Requirement already satisfied: exceptiongroup in /Users/marc/Library/Python/3.9/lib/python/site-packages (from ipython>=5.5.0->pycaret) (1.2.2)\n",
            "Requirement already satisfied: pexpect>4.3 in /Users/marc/Library/Python/3.9/lib/python/site-packages (from ipython>=5.5.0->pycaret) (4.9.0)\n",
            "Requirement already satisfied: typing-extensions in /Users/marc/Library/Python/3.9/lib/python/site-packages (from ipython>=5.5.0->pycaret) (4.13.2)\n",
            "Requirement already satisfied: pygments>=2.4.0 in /Users/marc/Library/Python/3.9/lib/python/site-packages (from ipython>=5.5.0->pycaret) (2.19.1)\n",
            "Requirement already satisfied: prompt-toolkit<3.1.0,>=3.0.41 in /Users/marc/Library/Python/3.9/lib/python/site-packages (from ipython>=5.5.0->pycaret) (3.0.51)\n",
            "Requirement already satisfied: matplotlib-inline in /Users/marc/Library/Python/3.9/lib/python/site-packages (from ipython>=5.5.0->pycaret) (0.1.7)\n",
            "Requirement already satisfied: traitlets>=5 in /Users/marc/Library/Python/3.9/lib/python/site-packages (from ipython>=5.5.0->pycaret) (5.14.3)\n",
            "Requirement already satisfied: decorator in /Users/marc/Library/Python/3.9/lib/python/site-packages (from ipython>=5.5.0->pycaret) (5.2.1)\n",
            "Requirement already satisfied: widgetsnbextension~=4.0.14 in /Users/marc/Library/Python/3.9/lib/python/site-packages (from ipywidgets>=7.6.5->pycaret) (4.0.14)\n",
            "Requirement already satisfied: jupyterlab_widgets~=3.0.15 in /Users/marc/Library/Python/3.9/lib/python/site-packages (from ipywidgets>=7.6.5->pycaret) (3.0.15)\n",
            "Requirement already satisfied: comm>=0.1.3 in /Users/marc/Library/Python/3.9/lib/python/site-packages (from ipywidgets>=7.6.5->pycaret) (0.2.2)\n",
            "Requirement already satisfied: parso<0.9.0,>=0.8.4 in /Users/marc/Library/Python/3.9/lib/python/site-packages (from jedi>=0.16->ipython>=5.5.0->pycaret) (0.8.4)\n",
            "Requirement already satisfied: cycler>=0.10 in /Users/marc/Library/Python/3.9/lib/python/site-packages (from matplotlib<3.8.0->pycaret) (0.12.1)\n",
            "Requirement already satisfied: python-dateutil>=2.7 in /Users/marc/Library/Python/3.9/lib/python/site-packages (from matplotlib<3.8.0->pycaret) (2.9.0.post0)\n",
            "Requirement already satisfied: fonttools>=4.22.0 in /Users/marc/Library/Python/3.9/lib/python/site-packages (from matplotlib<3.8.0->pycaret) (4.57.0)\n",
            "Requirement already satisfied: kiwisolver>=1.0.1 in /Users/marc/Library/Python/3.9/lib/python/site-packages (from matplotlib<3.8.0->pycaret) (1.4.7)\n",
            "Requirement already satisfied: pyparsing>=2.3.1 in /Users/marc/Library/Python/3.9/lib/python/site-packages (from matplotlib<3.8.0->pycaret) (3.2.3)\n",
            "Requirement already satisfied: contourpy>=1.0.1 in /Users/marc/Library/Python/3.9/lib/python/site-packages (from matplotlib<3.8.0->pycaret) (1.3.0)\n",
            "Requirement already satisfied: pillow>=6.2.0 in /Users/marc/Library/Python/3.9/lib/python/site-packages (from matplotlib<3.8.0->pycaret) (10.4.0)\n",
            "Requirement already satisfied: importlib-resources>=3.2.0 in /Users/marc/Library/Python/3.9/lib/python/site-packages (from matplotlib<3.8.0->pycaret) (6.5.2)\n",
            "Requirement already satisfied: fastjsonschema>=2.15 in /Users/marc/Library/Python/3.9/lib/python/site-packages (from nbformat>=4.2.0->pycaret) (2.21.1)\n",
            "Requirement already satisfied: jupyter-core!=5.0.*,>=4.12 in /Users/marc/Library/Python/3.9/lib/python/site-packages (from nbformat>=4.2.0->pycaret) (5.7.2)\n",
            "Requirement already satisfied: jsonschema>=2.6 in /Users/marc/Library/Python/3.9/lib/python/site-packages (from nbformat>=4.2.0->pycaret) (4.23.0)\n",
            "Requirement already satisfied: rpds-py>=0.7.1 in /Users/marc/Library/Python/3.9/lib/python/site-packages (from jsonschema>=2.6->nbformat>=4.2.0->pycaret) (0.24.0)\n",
            "Requirement already satisfied: referencing>=0.28.4 in /Users/marc/Library/Python/3.9/lib/python/site-packages (from jsonschema>=2.6->nbformat>=4.2.0->pycaret) (0.36.2)\n",
            "Requirement already satisfied: jsonschema-specifications>=2023.03.6 in /Users/marc/Library/Python/3.9/lib/python/site-packages (from jsonschema>=2.6->nbformat>=4.2.0->pycaret) (2025.4.1)\n",
            "Requirement already satisfied: attrs>=22.2.0 in /Users/marc/Library/Python/3.9/lib/python/site-packages (from jsonschema>=2.6->nbformat>=4.2.0->pycaret) (25.3.0)\n",
            "Requirement already satisfied: platformdirs>=2.5 in /Users/marc/Library/Python/3.9/lib/python/site-packages (from jupyter-core!=5.0.*,>=4.12->nbformat>=4.2.0->pycaret) (4.3.7)\n",
            "Requirement already satisfied: llvmlite<0.44,>=0.43.0dev0 in /Users/marc/Library/Python/3.9/lib/python/site-packages (from numba>=0.55.0->pycaret) (0.43.0)\n",
            "Requirement already satisfied: tzdata>=2022.1 in /Users/marc/Library/Python/3.9/lib/python/site-packages (from pandas<2.2.0->pycaret) (2025.2)\n",
            "Requirement already satisfied: pytz>=2020.1 in /Users/marc/Library/Python/3.9/lib/python/site-packages (from pandas<2.2.0->pycaret) (2025.2)\n",
            "Requirement already satisfied: ptyprocess>=0.5 in /Users/marc/Library/Python/3.9/lib/python/site-packages (from pexpect>4.3->ipython>=5.5.0->pycaret) (0.7.0)\n",
            "Requirement already satisfied: tenacity>=6.2.0 in /Users/marc/Library/Python/3.9/lib/python/site-packages (from plotly>=5.14.0->pycaret) (9.1.2)\n",
            "Requirement already satisfied: dash>=2.9.0 in /Users/marc/Library/Python/3.9/lib/python/site-packages (from plotly-resampler>=0.8.3.1->pycaret) (3.0.4)\n",
            "Requirement already satisfied: tsdownsample>=0.1.3 in /Users/marc/Library/Python/3.9/lib/python/site-packages (from plotly-resampler>=0.8.3.1->pycaret) (0.1.4.1)\n",
            "Requirement already satisfied: orjson<4.0.0,>=3.8.0 in /Users/marc/Library/Python/3.9/lib/python/site-packages (from plotly-resampler>=0.8.3.1->pycaret) (3.10.18)\n",
            "Requirement already satisfied: Werkzeug<3.1 in /Users/marc/Library/Python/3.9/lib/python/site-packages (from dash>=2.9.0->plotly-resampler>=0.8.3.1->pycaret) (3.0.6)\n",
            "Requirement already satisfied: Flask<3.1,>=1.0.4 in /Users/marc/Library/Python/3.9/lib/python/site-packages (from dash>=2.9.0->plotly-resampler>=0.8.3.1->pycaret) (3.0.3)\n",
            "Requirement already satisfied: setuptools in /Applications/Xcode.app/Contents/Developer/Library/Frameworks/Python3.framework/Versions/3.9/lib/python3.9/site-packages (from dash>=2.9.0->plotly-resampler>=0.8.3.1->pycaret) (58.0.4)\n",
            "Requirement already satisfied: nest-asyncio in /Users/marc/Library/Python/3.9/lib/python/site-packages (from dash>=2.9.0->plotly-resampler>=0.8.3.1->pycaret) (1.6.0)\n",
            "Requirement already satisfied: retrying in /Users/marc/Library/Python/3.9/lib/python/site-packages (from dash>=2.9.0->plotly-resampler>=0.8.3.1->pycaret) (1.3.4)\n",
            "Requirement already satisfied: itsdangerous>=2.1.2 in /Users/marc/Library/Python/3.9/lib/python/site-packages (from Flask<3.1,>=1.0.4->dash>=2.9.0->plotly-resampler>=0.8.3.1->pycaret) (2.2.0)\n",
            "Requirement already satisfied: blinker>=1.6.2 in /Users/marc/Library/Python/3.9/lib/python/site-packages (from Flask<3.1,>=1.0.4->dash>=2.9.0->plotly-resampler>=0.8.3.1->pycaret) (1.9.0)\n",
            "Requirement already satisfied: click>=8.1.3 in /Users/marc/Library/Python/3.9/lib/python/site-packages (from Flask<3.1,>=1.0.4->dash>=2.9.0->plotly-resampler>=0.8.3.1->pycaret) (8.1.8)\n",
            "Requirement already satisfied: Cython!=0.29.18,!=0.29.31,>=0.29 in /Users/marc/Library/Python/3.9/lib/python/site-packages (from pmdarima>=2.0.4->pycaret) (3.0.12)\n",
            "Requirement already satisfied: urllib3 in /Users/marc/Library/Python/3.9/lib/python/site-packages (from pmdarima>=2.0.4->pycaret) (2.4.0)\n",
            "Requirement already satisfied: wcwidth in /Users/marc/Library/Python/3.9/lib/python/site-packages (from prompt-toolkit<3.1.0,>=3.0.41->ipython>=5.5.0->pycaret) (0.2.13)\n",
            "Requirement already satisfied: six>=1.5 in /Applications/Xcode.app/Contents/Developer/Library/Frameworks/Python3.framework/Versions/3.9/lib/python3.9/site-packages (from python-dateutil>=2.7->matplotlib<3.8.0->pycaret) (1.15.0)\n",
            "Requirement already satisfied: certifi>=2017.4.17 in /Users/marc/Library/Python/3.9/lib/python/site-packages (from requests>=2.27.1->pycaret) (2025.4.26)\n",
            "Requirement already satisfied: charset-normalizer<4,>=2 in /Users/marc/Library/Python/3.9/lib/python/site-packages (from requests>=2.27.1->pycaret) (3.4.2)\n",
            "Requirement already satisfied: idna<4,>=2.5 in /Users/marc/Library/Python/3.9/lib/python/site-packages (from requests>=2.27.1->pycaret) (3.10)\n",
            "Requirement already satisfied: pure-eval in /Users/marc/Library/Python/3.9/lib/python/site-packages (from stack-data->ipython>=5.5.0->pycaret) (0.2.3)\n",
            "Requirement already satisfied: asttokens>=2.1.0 in /Users/marc/Library/Python/3.9/lib/python/site-packages (from stack-data->ipython>=5.5.0->pycaret) (3.0.0)\n",
            "Requirement already satisfied: executing>=1.2.0 in /Users/marc/Library/Python/3.9/lib/python/site-packages (from stack-data->ipython>=5.5.0->pycaret) (2.2.0)\n",
            "Installing collected packages: scipy, pandas, joblib, scikit-learn, pycaret\n",
            "  Attempting uninstall: scipy\n",
            "    Found existing installation: scipy 1.13.1\n",
            "    Uninstalling scipy-1.13.1:\n",
            "      Successfully uninstalled scipy-1.13.1\n",
            "  Attempting uninstall: pandas\n",
            "    Found existing installation: pandas 2.2.3\n",
            "    Uninstalling pandas-2.2.3:\n",
            "      Successfully uninstalled pandas-2.2.3\n",
            "  Attempting uninstall: joblib\n",
            "    Found existing installation: joblib 1.5.0\n",
            "    Uninstalling joblib-1.5.0:\n",
            "      Successfully uninstalled joblib-1.5.0\n",
            "  Attempting uninstall: scikit-learn\n",
            "    Found existing installation: scikit-learn 1.2.2\n",
            "    Uninstalling scikit-learn-1.2.2:\n",
            "      Successfully uninstalled scikit-learn-1.2.2\n",
            "Successfully installed joblib-1.3.2 pandas-2.1.4 pycaret-3.3.2 scikit-learn-1.4.2 scipy-1.11.4\n",
            "\u001b[33mWARNING: You are using pip version 21.2.4; however, version 25.1.1 is available.\n",
            "You should consider upgrading via the '/Applications/Xcode.app/Contents/Developer/usr/bin/python3 -m pip install --upgrade pip' command.\u001b[0m\n",
            "Note: you may need to restart the kernel to use updated packages.\n"
          ]
        }
      ],
      "source": [
        "pip install --upgrade pycaret"
      ]
    },
    {
      "cell_type": "code",
      "execution_count": 11,
      "metadata": {},
      "outputs": [
        {
          "name": "stdout",
          "output_type": "stream",
          "text": [
            "scikit-learn: 1.4.2\n",
            "PyCaret: 3.3.2\n"
          ]
        }
      ],
      "source": [
        "import sklearn\n",
        "print(\"scikit-learn:\", sklearn.__version__)  # Hauria de ser 1.2.2\n",
        "import pycaret\n",
        "print(\"PyCaret:\", pycaret.__version__)      # Hauria de ser >= 3.0.0"
      ]
    },
    {
      "cell_type": "code",
      "execution_count": 12,
      "metadata": {},
      "outputs": [],
      "source": [
        "\n",
        "# Paso 1: Importar las Bibliotecas Necesarias y Crear un Dataset Ficticio\n",
        "\n",
        "from pycaret.classification import *\n",
        "import os\n",
        "from pycaret.classification import plot_model\n",
        "from pycaret.classification import predict_model, pull, load_model\n"
      ]
    },
    {
      "cell_type": "code",
      "execution_count": 13,
      "metadata": {},
      "outputs": [
        {
          "name": "stdout",
          "output_type": "stream",
          "text": [
            "icd_code\n",
            "431       1420\n",
            "I618       573\n",
            "I615       564\n",
            "I611       499\n",
            "I619       278\n",
            "I610       231\n",
            "I614       188\n",
            "I612        91\n",
            "I613        71\n",
            "I69198      49\n",
            "I69151      43\n",
            "I616        39\n",
            "I69120      24\n",
            "I69154      23\n",
            "I69192      18\n",
            "I69122      16\n",
            "I69191      11\n",
            "I69119       3\n",
            "I69112       2\n",
            "I69193       2\n",
            "I69128       2\n",
            "I69121       2\n",
            "I69134       2\n",
            "I69131       2\n",
            "I6911        2\n",
            "I69153       1\n",
            "I69165       1\n",
            "I69152       1\n",
            "I69144       1\n",
            "I69118       1\n",
            "Name: count, dtype: int64\n"
          ]
        }
      ],
      "source": [
        "print(df['icd_code'].value_counts())"
      ]
    },
    {
      "cell_type": "code",
      "execution_count": 14,
      "metadata": {},
      "outputs": [
        {
          "data": {
            "text/html": [
              "<div>\n",
              "<style scoped>\n",
              "    .dataframe tbody tr th:only-of-type {\n",
              "        vertical-align: middle;\n",
              "    }\n",
              "\n",
              "    .dataframe tbody tr th {\n",
              "        vertical-align: top;\n",
              "    }\n",
              "\n",
              "    .dataframe thead th {\n",
              "        text-align: right;\n",
              "    }\n",
              "</style>\n",
              "<table border=\"1\" class=\"dataframe\">\n",
              "  <thead>\n",
              "    <tr style=\"text-align: right;\">\n",
              "      <th></th>\n",
              "      <th>subject_id</th>\n",
              "      <th>hadm_id</th>\n",
              "      <th>stay_id</th>\n",
              "      <th>gender</th>\n",
              "      <th>intime</th>\n",
              "      <th>outtime</th>\n",
              "      <th>icd_code</th>\n",
              "      <th>icd_version</th>\n",
              "      <th>long_title</th>\n",
              "      <th>gcs_verbal</th>\n",
              "      <th>gcs_motor</th>\n",
              "      <th>gcs_eyes</th>\n",
              "      <th>heart_rate</th>\n",
              "      <th>mbp</th>\n",
              "      <th>resp_rate</th>\n",
              "      <th>temperature</th>\n",
              "      <th>spo2</th>\n",
              "      <th>readmitted_stay</th>\n",
              "      <th>readmitted</th>\n",
              "    </tr>\n",
              "  </thead>\n",
              "  <tbody>\n",
              "    <tr>\n",
              "      <th>0</th>\n",
              "      <td>10763729</td>\n",
              "      <td>25978404</td>\n",
              "      <td>36052003</td>\n",
              "      <td>M</td>\n",
              "      <td>2181-11-22 00:59:00</td>\n",
              "      <td>2181-12-07 17:27:23</td>\n",
              "      <td>431</td>\n",
              "      <td>9</td>\n",
              "      <td>Intracerebral hemorrhage</td>\n",
              "      <td>0.0</td>\n",
              "      <td>1.0</td>\n",
              "      <td>1.0</td>\n",
              "      <td>NaN</td>\n",
              "      <td>98.0</td>\n",
              "      <td>30.0</td>\n",
              "      <td>None</td>\n",
              "      <td>100.0</td>\n",
              "      <td>36052003</td>\n",
              "      <td>1</td>\n",
              "    </tr>\n",
              "    <tr>\n",
              "      <th>1</th>\n",
              "      <td>10763729</td>\n",
              "      <td>25978404</td>\n",
              "      <td>36434459</td>\n",
              "      <td>M</td>\n",
              "      <td>2181-12-09 01:21:42</td>\n",
              "      <td>2181-12-12 16:58:04</td>\n",
              "      <td>431</td>\n",
              "      <td>9</td>\n",
              "      <td>Intracerebral hemorrhage</td>\n",
              "      <td>4.0</td>\n",
              "      <td>6.0</td>\n",
              "      <td>4.0</td>\n",
              "      <td>NaN</td>\n",
              "      <td>90.0</td>\n",
              "      <td>NaN</td>\n",
              "      <td>None</td>\n",
              "      <td>NaN</td>\n",
              "      <td>&lt;NA&gt;</td>\n",
              "      <td>0</td>\n",
              "    </tr>\n",
              "    <tr>\n",
              "      <th>2</th>\n",
              "      <td>14306582</td>\n",
              "      <td>20415671</td>\n",
              "      <td>36446573</td>\n",
              "      <td>M</td>\n",
              "      <td>2158-12-01 07:36:00</td>\n",
              "      <td>2158-12-17 21:58:12</td>\n",
              "      <td>431</td>\n",
              "      <td>9</td>\n",
              "      <td>Intracerebral hemorrhage</td>\n",
              "      <td>0.0</td>\n",
              "      <td>5.0</td>\n",
              "      <td>2.0</td>\n",
              "      <td>NaN</td>\n",
              "      <td>NaN</td>\n",
              "      <td>NaN</td>\n",
              "      <td>None</td>\n",
              "      <td>NaN</td>\n",
              "      <td>&lt;NA&gt;</td>\n",
              "      <td>0</td>\n",
              "    </tr>\n",
              "    <tr>\n",
              "      <th>3</th>\n",
              "      <td>10173219</td>\n",
              "      <td>22913226</td>\n",
              "      <td>32333688</td>\n",
              "      <td>M</td>\n",
              "      <td>2153-11-24 17:45:48</td>\n",
              "      <td>2154-01-12 15:57:12</td>\n",
              "      <td>I69120</td>\n",
              "      <td>10</td>\n",
              "      <td>Aphasia following nontraumatic intracerebral h...</td>\n",
              "      <td>0.0</td>\n",
              "      <td>5.0</td>\n",
              "      <td>2.0</td>\n",
              "      <td>59.0</td>\n",
              "      <td>NaN</td>\n",
              "      <td>14.0</td>\n",
              "      <td>36.890000000</td>\n",
              "      <td>90.0</td>\n",
              "      <td>&lt;NA&gt;</td>\n",
              "      <td>0</td>\n",
              "    </tr>\n",
              "    <tr>\n",
              "      <th>4</th>\n",
              "      <td>10208612</td>\n",
              "      <td>26337634</td>\n",
              "      <td>37520781</td>\n",
              "      <td>M</td>\n",
              "      <td>2183-11-08 14:10:00</td>\n",
              "      <td>2183-11-09 13:06:17</td>\n",
              "      <td>I69122</td>\n",
              "      <td>10</td>\n",
              "      <td>Dysarthria following nontraumatic intracerebra...</td>\n",
              "      <td>1.0</td>\n",
              "      <td>4.0</td>\n",
              "      <td>1.0</td>\n",
              "      <td>69.0</td>\n",
              "      <td>NaN</td>\n",
              "      <td>15.0</td>\n",
              "      <td>None</td>\n",
              "      <td>92.0</td>\n",
              "      <td>&lt;NA&gt;</td>\n",
              "      <td>0</td>\n",
              "    </tr>\n",
              "  </tbody>\n",
              "</table>\n",
              "</div>"
            ],
            "text/plain": [
              "   subject_id   hadm_id   stay_id gender              intime  \\\n",
              "0    10763729  25978404  36052003      M 2181-11-22 00:59:00   \n",
              "1    10763729  25978404  36434459      M 2181-12-09 01:21:42   \n",
              "2    14306582  20415671  36446573      M 2158-12-01 07:36:00   \n",
              "3    10173219  22913226  32333688      M 2153-11-24 17:45:48   \n",
              "4    10208612  26337634  37520781      M 2183-11-08 14:10:00   \n",
              "\n",
              "              outtime icd_code  icd_version  \\\n",
              "0 2181-12-07 17:27:23      431            9   \n",
              "1 2181-12-12 16:58:04      431            9   \n",
              "2 2158-12-17 21:58:12      431            9   \n",
              "3 2154-01-12 15:57:12   I69120           10   \n",
              "4 2183-11-09 13:06:17   I69122           10   \n",
              "\n",
              "                                          long_title  gcs_verbal  gcs_motor  \\\n",
              "0                           Intracerebral hemorrhage         0.0        1.0   \n",
              "1                           Intracerebral hemorrhage         4.0        6.0   \n",
              "2                           Intracerebral hemorrhage         0.0        5.0   \n",
              "3  Aphasia following nontraumatic intracerebral h...         0.0        5.0   \n",
              "4  Dysarthria following nontraumatic intracerebra...         1.0        4.0   \n",
              "\n",
              "   gcs_eyes  heart_rate   mbp  resp_rate   temperature   spo2  \\\n",
              "0       1.0         NaN  98.0       30.0          None  100.0   \n",
              "1       4.0         NaN  90.0        NaN          None    NaN   \n",
              "2       2.0         NaN   NaN        NaN          None    NaN   \n",
              "3       2.0        59.0   NaN       14.0  36.890000000   90.0   \n",
              "4       1.0        69.0   NaN       15.0          None   92.0   \n",
              "\n",
              "   readmitted_stay  readmitted  \n",
              "0         36052003           1  \n",
              "1             <NA>           0  \n",
              "2             <NA>           0  \n",
              "3             <NA>           0  \n",
              "4             <NA>           0  "
            ]
          },
          "execution_count": 14,
          "metadata": {},
          "output_type": "execute_result"
        }
      ],
      "source": [
        "df.head()\n"
      ]
    },
    {
      "cell_type": "code",
      "execution_count": null,
      "metadata": {},
      "outputs": [],
      "source": [
        "\n",
        "\n",
        "\n",
        "\n",
        "\n",
        "\n",
        "\n",
        "\n"
      ]
    },
    {
      "cell_type": "code",
      "execution_count": 16,
      "metadata": {},
      "outputs": [
        {
          "ename": "ValueError",
          "evalue": "3222 missing values found in the target column: readmitted_stay. To proceed, remove the respective rows from the data. ",
          "output_type": "error",
          "traceback": [
            "\u001b[0;31m---------------------------------------------------------------------------\u001b[0m",
            "\u001b[0;31mValueError\u001b[0m                                Traceback (most recent call last)",
            "Cell \u001b[0;32mIn[16], line 3\u001b[0m\n\u001b[1;32m      1\u001b[0m \u001b[38;5;66;03m# Configurem entorn PyCaret\u001b[39;00m\n\u001b[0;32m----> 3\u001b[0m clf \u001b[38;5;241m=\u001b[39m \u001b[43msetup\u001b[49m\u001b[43m(\u001b[49m\u001b[43mdata\u001b[49m\u001b[38;5;241;43m=\u001b[39;49m\u001b[43mdf\u001b[49m\u001b[43m,\u001b[49m\u001b[43m \u001b[49m\u001b[43mtarget\u001b[49m\u001b[38;5;241;43m=\u001b[39;49m\u001b[38;5;124;43m'\u001b[39;49m\u001b[38;5;124;43mreadmitted_stay\u001b[39;49m\u001b[38;5;124;43m'\u001b[39;49m\u001b[43m,\u001b[49m\u001b[43m \u001b[49m\u001b[43msession_id\u001b[49m\u001b[38;5;241;43m=\u001b[39;49m\u001b[38;5;241;43m123\u001b[39;49m\u001b[43m,\u001b[49m\u001b[43m \u001b[49m\u001b[43mverbose\u001b[49m\u001b[38;5;241;43m=\u001b[39;49m\u001b[38;5;28;43;01mTrue\u001b[39;49;00m\u001b[43m)\u001b[49m\n",
            "File \u001b[0;32m/opt/homebrew/Caskroom/miniforge/base/envs/ogi/lib/python3.9/site-packages/pycaret/classification/functional.py:595\u001b[0m, in \u001b[0;36msetup\u001b[0;34m(data, data_func, target, index, train_size, test_data, ordinal_features, numeric_features, categorical_features, date_features, text_features, ignore_features, keep_features, preprocess, create_date_columns, imputation_type, numeric_imputation, categorical_imputation, iterative_imputation_iters, numeric_iterative_imputer, categorical_iterative_imputer, text_features_method, max_encoding_ohe, encoding_method, rare_to_value, rare_value, polynomial_features, polynomial_degree, low_variance_threshold, group_features, drop_groups, remove_multicollinearity, multicollinearity_threshold, bin_numeric_features, remove_outliers, outliers_method, outliers_threshold, fix_imbalance, fix_imbalance_method, transformation, transformation_method, normalize, normalize_method, pca, pca_method, pca_components, feature_selection, feature_selection_method, feature_selection_estimator, n_features_to_select, custom_pipeline, custom_pipeline_position, data_split_shuffle, data_split_stratify, fold_strategy, fold, fold_shuffle, fold_groups, n_jobs, use_gpu, html, session_id, system_log, log_experiment, experiment_name, experiment_custom_tags, log_plots, log_profile, log_data, verbose, memory, profile, profile_kwargs)\u001b[0m\n\u001b[1;32m    593\u001b[0m exp \u001b[38;5;241m=\u001b[39m _EXPERIMENT_CLASS()\n\u001b[1;32m    594\u001b[0m set_current_experiment(exp)\n\u001b[0;32m--> 595\u001b[0m \u001b[38;5;28;01mreturn\u001b[39;00m \u001b[43mexp\u001b[49m\u001b[38;5;241;43m.\u001b[39;49m\u001b[43msetup\u001b[49m\u001b[43m(\u001b[49m\n\u001b[1;32m    596\u001b[0m \u001b[43m    \u001b[49m\u001b[43mdata\u001b[49m\u001b[38;5;241;43m=\u001b[39;49m\u001b[43mdata\u001b[49m\u001b[43m,\u001b[49m\n\u001b[1;32m    597\u001b[0m \u001b[43m    \u001b[49m\u001b[43mdata_func\u001b[49m\u001b[38;5;241;43m=\u001b[39;49m\u001b[43mdata_func\u001b[49m\u001b[43m,\u001b[49m\n\u001b[1;32m    598\u001b[0m \u001b[43m    \u001b[49m\u001b[43mtarget\u001b[49m\u001b[38;5;241;43m=\u001b[39;49m\u001b[43mtarget\u001b[49m\u001b[43m,\u001b[49m\n\u001b[1;32m    599\u001b[0m \u001b[43m    \u001b[49m\u001b[43mindex\u001b[49m\u001b[38;5;241;43m=\u001b[39;49m\u001b[43mindex\u001b[49m\u001b[43m,\u001b[49m\n\u001b[1;32m    600\u001b[0m \u001b[43m    \u001b[49m\u001b[43mtrain_size\u001b[49m\u001b[38;5;241;43m=\u001b[39;49m\u001b[43mtrain_size\u001b[49m\u001b[43m,\u001b[49m\n\u001b[1;32m    601\u001b[0m \u001b[43m    \u001b[49m\u001b[43mtest_data\u001b[49m\u001b[38;5;241;43m=\u001b[39;49m\u001b[43mtest_data\u001b[49m\u001b[43m,\u001b[49m\n\u001b[1;32m    602\u001b[0m \u001b[43m    \u001b[49m\u001b[43mordinal_features\u001b[49m\u001b[38;5;241;43m=\u001b[39;49m\u001b[43mordinal_features\u001b[49m\u001b[43m,\u001b[49m\n\u001b[1;32m    603\u001b[0m \u001b[43m    \u001b[49m\u001b[43mnumeric_features\u001b[49m\u001b[38;5;241;43m=\u001b[39;49m\u001b[43mnumeric_features\u001b[49m\u001b[43m,\u001b[49m\n\u001b[1;32m    604\u001b[0m \u001b[43m    \u001b[49m\u001b[43mcategorical_features\u001b[49m\u001b[38;5;241;43m=\u001b[39;49m\u001b[43mcategorical_features\u001b[49m\u001b[43m,\u001b[49m\n\u001b[1;32m    605\u001b[0m \u001b[43m    \u001b[49m\u001b[43mdate_features\u001b[49m\u001b[38;5;241;43m=\u001b[39;49m\u001b[43mdate_features\u001b[49m\u001b[43m,\u001b[49m\n\u001b[1;32m    606\u001b[0m \u001b[43m    \u001b[49m\u001b[43mtext_features\u001b[49m\u001b[38;5;241;43m=\u001b[39;49m\u001b[43mtext_features\u001b[49m\u001b[43m,\u001b[49m\n\u001b[1;32m    607\u001b[0m \u001b[43m    \u001b[49m\u001b[43mignore_features\u001b[49m\u001b[38;5;241;43m=\u001b[39;49m\u001b[43mignore_features\u001b[49m\u001b[43m,\u001b[49m\n\u001b[1;32m    608\u001b[0m \u001b[43m    \u001b[49m\u001b[43mkeep_features\u001b[49m\u001b[38;5;241;43m=\u001b[39;49m\u001b[43mkeep_features\u001b[49m\u001b[43m,\u001b[49m\n\u001b[1;32m    609\u001b[0m \u001b[43m    \u001b[49m\u001b[43mpreprocess\u001b[49m\u001b[38;5;241;43m=\u001b[39;49m\u001b[43mpreprocess\u001b[49m\u001b[43m,\u001b[49m\n\u001b[1;32m    610\u001b[0m \u001b[43m    \u001b[49m\u001b[43mcreate_date_columns\u001b[49m\u001b[38;5;241;43m=\u001b[39;49m\u001b[43mcreate_date_columns\u001b[49m\u001b[43m,\u001b[49m\n\u001b[1;32m    611\u001b[0m \u001b[43m    \u001b[49m\u001b[43mimputation_type\u001b[49m\u001b[38;5;241;43m=\u001b[39;49m\u001b[43mimputation_type\u001b[49m\u001b[43m,\u001b[49m\n\u001b[1;32m    612\u001b[0m \u001b[43m    \u001b[49m\u001b[43mnumeric_imputation\u001b[49m\u001b[38;5;241;43m=\u001b[39;49m\u001b[43mnumeric_imputation\u001b[49m\u001b[43m,\u001b[49m\n\u001b[1;32m    613\u001b[0m \u001b[43m    \u001b[49m\u001b[43mcategorical_imputation\u001b[49m\u001b[38;5;241;43m=\u001b[39;49m\u001b[43mcategorical_imputation\u001b[49m\u001b[43m,\u001b[49m\n\u001b[1;32m    614\u001b[0m \u001b[43m    \u001b[49m\u001b[43miterative_imputation_iters\u001b[49m\u001b[38;5;241;43m=\u001b[39;49m\u001b[43miterative_imputation_iters\u001b[49m\u001b[43m,\u001b[49m\n\u001b[1;32m    615\u001b[0m \u001b[43m    \u001b[49m\u001b[43mnumeric_iterative_imputer\u001b[49m\u001b[38;5;241;43m=\u001b[39;49m\u001b[43mnumeric_iterative_imputer\u001b[49m\u001b[43m,\u001b[49m\n\u001b[1;32m    616\u001b[0m \u001b[43m    \u001b[49m\u001b[43mcategorical_iterative_imputer\u001b[49m\u001b[38;5;241;43m=\u001b[39;49m\u001b[43mcategorical_iterative_imputer\u001b[49m\u001b[43m,\u001b[49m\n\u001b[1;32m    617\u001b[0m \u001b[43m    \u001b[49m\u001b[43mtext_features_method\u001b[49m\u001b[38;5;241;43m=\u001b[39;49m\u001b[43mtext_features_method\u001b[49m\u001b[43m,\u001b[49m\n\u001b[1;32m    618\u001b[0m \u001b[43m    \u001b[49m\u001b[43mmax_encoding_ohe\u001b[49m\u001b[38;5;241;43m=\u001b[39;49m\u001b[43mmax_encoding_ohe\u001b[49m\u001b[43m,\u001b[49m\n\u001b[1;32m    619\u001b[0m \u001b[43m    \u001b[49m\u001b[43mencoding_method\u001b[49m\u001b[38;5;241;43m=\u001b[39;49m\u001b[43mencoding_method\u001b[49m\u001b[43m,\u001b[49m\n\u001b[1;32m    620\u001b[0m \u001b[43m    \u001b[49m\u001b[43mrare_to_value\u001b[49m\u001b[38;5;241;43m=\u001b[39;49m\u001b[43mrare_to_value\u001b[49m\u001b[43m,\u001b[49m\n\u001b[1;32m    621\u001b[0m \u001b[43m    \u001b[49m\u001b[43mrare_value\u001b[49m\u001b[38;5;241;43m=\u001b[39;49m\u001b[43mrare_value\u001b[49m\u001b[43m,\u001b[49m\n\u001b[1;32m    622\u001b[0m \u001b[43m    \u001b[49m\u001b[43mpolynomial_features\u001b[49m\u001b[38;5;241;43m=\u001b[39;49m\u001b[43mpolynomial_features\u001b[49m\u001b[43m,\u001b[49m\n\u001b[1;32m    623\u001b[0m \u001b[43m    \u001b[49m\u001b[43mpolynomial_degree\u001b[49m\u001b[38;5;241;43m=\u001b[39;49m\u001b[43mpolynomial_degree\u001b[49m\u001b[43m,\u001b[49m\n\u001b[1;32m    624\u001b[0m \u001b[43m    \u001b[49m\u001b[43mlow_variance_threshold\u001b[49m\u001b[38;5;241;43m=\u001b[39;49m\u001b[43mlow_variance_threshold\u001b[49m\u001b[43m,\u001b[49m\n\u001b[1;32m    625\u001b[0m \u001b[43m    \u001b[49m\u001b[43mgroup_features\u001b[49m\u001b[38;5;241;43m=\u001b[39;49m\u001b[43mgroup_features\u001b[49m\u001b[43m,\u001b[49m\n\u001b[1;32m    626\u001b[0m \u001b[43m    \u001b[49m\u001b[43mdrop_groups\u001b[49m\u001b[38;5;241;43m=\u001b[39;49m\u001b[43mdrop_groups\u001b[49m\u001b[43m,\u001b[49m\n\u001b[1;32m    627\u001b[0m \u001b[43m    \u001b[49m\u001b[43mremove_multicollinearity\u001b[49m\u001b[38;5;241;43m=\u001b[39;49m\u001b[43mremove_multicollinearity\u001b[49m\u001b[43m,\u001b[49m\n\u001b[1;32m    628\u001b[0m \u001b[43m    \u001b[49m\u001b[43mmulticollinearity_threshold\u001b[49m\u001b[38;5;241;43m=\u001b[39;49m\u001b[43mmulticollinearity_threshold\u001b[49m\u001b[43m,\u001b[49m\n\u001b[1;32m    629\u001b[0m \u001b[43m    \u001b[49m\u001b[43mbin_numeric_features\u001b[49m\u001b[38;5;241;43m=\u001b[39;49m\u001b[43mbin_numeric_features\u001b[49m\u001b[43m,\u001b[49m\n\u001b[1;32m    630\u001b[0m \u001b[43m    \u001b[49m\u001b[43mremove_outliers\u001b[49m\u001b[38;5;241;43m=\u001b[39;49m\u001b[43mremove_outliers\u001b[49m\u001b[43m,\u001b[49m\n\u001b[1;32m    631\u001b[0m \u001b[43m    \u001b[49m\u001b[43moutliers_method\u001b[49m\u001b[38;5;241;43m=\u001b[39;49m\u001b[43moutliers_method\u001b[49m\u001b[43m,\u001b[49m\n\u001b[1;32m    632\u001b[0m \u001b[43m    \u001b[49m\u001b[43moutliers_threshold\u001b[49m\u001b[38;5;241;43m=\u001b[39;49m\u001b[43moutliers_threshold\u001b[49m\u001b[43m,\u001b[49m\n\u001b[1;32m    633\u001b[0m \u001b[43m    \u001b[49m\u001b[43mfix_imbalance\u001b[49m\u001b[38;5;241;43m=\u001b[39;49m\u001b[43mfix_imbalance\u001b[49m\u001b[43m,\u001b[49m\n\u001b[1;32m    634\u001b[0m \u001b[43m    \u001b[49m\u001b[43mfix_imbalance_method\u001b[49m\u001b[38;5;241;43m=\u001b[39;49m\u001b[43mfix_imbalance_method\u001b[49m\u001b[43m,\u001b[49m\n\u001b[1;32m    635\u001b[0m \u001b[43m    \u001b[49m\u001b[43mtransformation\u001b[49m\u001b[38;5;241;43m=\u001b[39;49m\u001b[43mtransformation\u001b[49m\u001b[43m,\u001b[49m\n\u001b[1;32m    636\u001b[0m \u001b[43m    \u001b[49m\u001b[43mtransformation_method\u001b[49m\u001b[38;5;241;43m=\u001b[39;49m\u001b[43mtransformation_method\u001b[49m\u001b[43m,\u001b[49m\n\u001b[1;32m    637\u001b[0m \u001b[43m    \u001b[49m\u001b[43mnormalize\u001b[49m\u001b[38;5;241;43m=\u001b[39;49m\u001b[43mnormalize\u001b[49m\u001b[43m,\u001b[49m\n\u001b[1;32m    638\u001b[0m \u001b[43m    \u001b[49m\u001b[43mnormalize_method\u001b[49m\u001b[38;5;241;43m=\u001b[39;49m\u001b[43mnormalize_method\u001b[49m\u001b[43m,\u001b[49m\n\u001b[1;32m    639\u001b[0m \u001b[43m    \u001b[49m\u001b[43mpca\u001b[49m\u001b[38;5;241;43m=\u001b[39;49m\u001b[43mpca\u001b[49m\u001b[43m,\u001b[49m\n\u001b[1;32m    640\u001b[0m \u001b[43m    \u001b[49m\u001b[43mpca_method\u001b[49m\u001b[38;5;241;43m=\u001b[39;49m\u001b[43mpca_method\u001b[49m\u001b[43m,\u001b[49m\n\u001b[1;32m    641\u001b[0m \u001b[43m    \u001b[49m\u001b[43mpca_components\u001b[49m\u001b[38;5;241;43m=\u001b[39;49m\u001b[43mpca_components\u001b[49m\u001b[43m,\u001b[49m\n\u001b[1;32m    642\u001b[0m \u001b[43m    \u001b[49m\u001b[43mfeature_selection\u001b[49m\u001b[38;5;241;43m=\u001b[39;49m\u001b[43mfeature_selection\u001b[49m\u001b[43m,\u001b[49m\n\u001b[1;32m    643\u001b[0m \u001b[43m    \u001b[49m\u001b[43mfeature_selection_method\u001b[49m\u001b[38;5;241;43m=\u001b[39;49m\u001b[43mfeature_selection_method\u001b[49m\u001b[43m,\u001b[49m\n\u001b[1;32m    644\u001b[0m \u001b[43m    \u001b[49m\u001b[43mfeature_selection_estimator\u001b[49m\u001b[38;5;241;43m=\u001b[39;49m\u001b[43mfeature_selection_estimator\u001b[49m\u001b[43m,\u001b[49m\n\u001b[1;32m    645\u001b[0m \u001b[43m    \u001b[49m\u001b[43mn_features_to_select\u001b[49m\u001b[38;5;241;43m=\u001b[39;49m\u001b[43mn_features_to_select\u001b[49m\u001b[43m,\u001b[49m\n\u001b[1;32m    646\u001b[0m \u001b[43m    \u001b[49m\u001b[43mcustom_pipeline\u001b[49m\u001b[38;5;241;43m=\u001b[39;49m\u001b[43mcustom_pipeline\u001b[49m\u001b[43m,\u001b[49m\n\u001b[1;32m    647\u001b[0m \u001b[43m    \u001b[49m\u001b[43mcustom_pipeline_position\u001b[49m\u001b[38;5;241;43m=\u001b[39;49m\u001b[43mcustom_pipeline_position\u001b[49m\u001b[43m,\u001b[49m\n\u001b[1;32m    648\u001b[0m \u001b[43m    \u001b[49m\u001b[43mdata_split_shuffle\u001b[49m\u001b[38;5;241;43m=\u001b[39;49m\u001b[43mdata_split_shuffle\u001b[49m\u001b[43m,\u001b[49m\n\u001b[1;32m    649\u001b[0m \u001b[43m    \u001b[49m\u001b[43mdata_split_stratify\u001b[49m\u001b[38;5;241;43m=\u001b[39;49m\u001b[43mdata_split_stratify\u001b[49m\u001b[43m,\u001b[49m\n\u001b[1;32m    650\u001b[0m \u001b[43m    \u001b[49m\u001b[43mfold_strategy\u001b[49m\u001b[38;5;241;43m=\u001b[39;49m\u001b[43mfold_strategy\u001b[49m\u001b[43m,\u001b[49m\n\u001b[1;32m    651\u001b[0m \u001b[43m    \u001b[49m\u001b[43mfold\u001b[49m\u001b[38;5;241;43m=\u001b[39;49m\u001b[43mfold\u001b[49m\u001b[43m,\u001b[49m\n\u001b[1;32m    652\u001b[0m \u001b[43m    \u001b[49m\u001b[43mfold_shuffle\u001b[49m\u001b[38;5;241;43m=\u001b[39;49m\u001b[43mfold_shuffle\u001b[49m\u001b[43m,\u001b[49m\n\u001b[1;32m    653\u001b[0m \u001b[43m    \u001b[49m\u001b[43mfold_groups\u001b[49m\u001b[38;5;241;43m=\u001b[39;49m\u001b[43mfold_groups\u001b[49m\u001b[43m,\u001b[49m\n\u001b[1;32m    654\u001b[0m \u001b[43m    \u001b[49m\u001b[43mn_jobs\u001b[49m\u001b[38;5;241;43m=\u001b[39;49m\u001b[43mn_jobs\u001b[49m\u001b[43m,\u001b[49m\n\u001b[1;32m    655\u001b[0m \u001b[43m    \u001b[49m\u001b[43muse_gpu\u001b[49m\u001b[38;5;241;43m=\u001b[39;49m\u001b[43muse_gpu\u001b[49m\u001b[43m,\u001b[49m\n\u001b[1;32m    656\u001b[0m \u001b[43m    \u001b[49m\u001b[43mhtml\u001b[49m\u001b[38;5;241;43m=\u001b[39;49m\u001b[43mhtml\u001b[49m\u001b[43m,\u001b[49m\n\u001b[1;32m    657\u001b[0m \u001b[43m    \u001b[49m\u001b[43msession_id\u001b[49m\u001b[38;5;241;43m=\u001b[39;49m\u001b[43msession_id\u001b[49m\u001b[43m,\u001b[49m\n\u001b[1;32m    658\u001b[0m \u001b[43m    \u001b[49m\u001b[43msystem_log\u001b[49m\u001b[38;5;241;43m=\u001b[39;49m\u001b[43msystem_log\u001b[49m\u001b[43m,\u001b[49m\n\u001b[1;32m    659\u001b[0m \u001b[43m    \u001b[49m\u001b[43mlog_experiment\u001b[49m\u001b[38;5;241;43m=\u001b[39;49m\u001b[43mlog_experiment\u001b[49m\u001b[43m,\u001b[49m\n\u001b[1;32m    660\u001b[0m \u001b[43m    \u001b[49m\u001b[43mexperiment_name\u001b[49m\u001b[38;5;241;43m=\u001b[39;49m\u001b[43mexperiment_name\u001b[49m\u001b[43m,\u001b[49m\n\u001b[1;32m    661\u001b[0m \u001b[43m    \u001b[49m\u001b[43mexperiment_custom_tags\u001b[49m\u001b[38;5;241;43m=\u001b[39;49m\u001b[43mexperiment_custom_tags\u001b[49m\u001b[43m,\u001b[49m\n\u001b[1;32m    662\u001b[0m \u001b[43m    \u001b[49m\u001b[43mlog_plots\u001b[49m\u001b[38;5;241;43m=\u001b[39;49m\u001b[43mlog_plots\u001b[49m\u001b[43m,\u001b[49m\n\u001b[1;32m    663\u001b[0m \u001b[43m    \u001b[49m\u001b[43mlog_profile\u001b[49m\u001b[38;5;241;43m=\u001b[39;49m\u001b[43mlog_profile\u001b[49m\u001b[43m,\u001b[49m\n\u001b[1;32m    664\u001b[0m \u001b[43m    \u001b[49m\u001b[43mlog_data\u001b[49m\u001b[38;5;241;43m=\u001b[39;49m\u001b[43mlog_data\u001b[49m\u001b[43m,\u001b[49m\n\u001b[1;32m    665\u001b[0m \u001b[43m    \u001b[49m\u001b[43mverbose\u001b[49m\u001b[38;5;241;43m=\u001b[39;49m\u001b[43mverbose\u001b[49m\u001b[43m,\u001b[49m\n\u001b[1;32m    666\u001b[0m \u001b[43m    \u001b[49m\u001b[43mmemory\u001b[49m\u001b[38;5;241;43m=\u001b[39;49m\u001b[43mmemory\u001b[49m\u001b[43m,\u001b[49m\n\u001b[1;32m    667\u001b[0m \u001b[43m    \u001b[49m\u001b[43mprofile\u001b[49m\u001b[38;5;241;43m=\u001b[39;49m\u001b[43mprofile\u001b[49m\u001b[43m,\u001b[49m\n\u001b[1;32m    668\u001b[0m \u001b[43m    \u001b[49m\u001b[43mprofile_kwargs\u001b[49m\u001b[38;5;241;43m=\u001b[39;49m\u001b[43mprofile_kwargs\u001b[49m\u001b[43m,\u001b[49m\n\u001b[1;32m    669\u001b[0m \u001b[43m\u001b[49m\u001b[43m)\u001b[49m\n",
            "File \u001b[0;32m/opt/homebrew/Caskroom/miniforge/base/envs/ogi/lib/python3.9/site-packages/pycaret/classification/oop.py:744\u001b[0m, in \u001b[0;36mClassificationExperiment.setup\u001b[0;34m(self, data, data_func, target, index, train_size, test_data, ordinal_features, numeric_features, categorical_features, date_features, text_features, ignore_features, keep_features, preprocess, create_date_columns, imputation_type, numeric_imputation, categorical_imputation, iterative_imputation_iters, numeric_iterative_imputer, categorical_iterative_imputer, text_features_method, max_encoding_ohe, encoding_method, rare_to_value, rare_value, polynomial_features, polynomial_degree, low_variance_threshold, group_features, drop_groups, remove_multicollinearity, multicollinearity_threshold, bin_numeric_features, remove_outliers, outliers_method, outliers_threshold, fix_imbalance, fix_imbalance_method, transformation, transformation_method, normalize, normalize_method, pca, pca_method, pca_components, feature_selection, feature_selection_method, feature_selection_estimator, n_features_to_select, custom_pipeline, custom_pipeline_position, data_split_shuffle, data_split_stratify, fold_strategy, fold, fold_shuffle, fold_groups, n_jobs, use_gpu, html, session_id, system_log, log_experiment, experiment_name, experiment_custom_tags, log_plots, log_profile, log_data, engine, verbose, memory, profile, profile_kwargs)\u001b[0m\n\u001b[1;32m    741\u001b[0m \u001b[38;5;28;01mif\u001b[39;00m data_func \u001b[38;5;129;01mis\u001b[39;00m \u001b[38;5;129;01mnot\u001b[39;00m \u001b[38;5;28;01mNone\u001b[39;00m:\n\u001b[1;32m    742\u001b[0m     data \u001b[38;5;241m=\u001b[39m data_func()\n\u001b[0;32m--> 744\u001b[0m \u001b[38;5;28mself\u001b[39m\u001b[38;5;241m.\u001b[39mdata \u001b[38;5;241m=\u001b[39m \u001b[38;5;28;43mself\u001b[39;49m\u001b[38;5;241;43m.\u001b[39;49m\u001b[43m_prepare_dataset\u001b[49m\u001b[43m(\u001b[49m\u001b[43mdata\u001b[49m\u001b[43m,\u001b[49m\u001b[43m \u001b[49m\u001b[43mtarget\u001b[49m\u001b[43m)\u001b[49m\n\u001b[1;32m    745\u001b[0m \u001b[38;5;28mself\u001b[39m\u001b[38;5;241m.\u001b[39mtarget_param \u001b[38;5;241m=\u001b[39m \u001b[38;5;28mself\u001b[39m\u001b[38;5;241m.\u001b[39mdata\u001b[38;5;241m.\u001b[39mcolumns[\u001b[38;5;241m-\u001b[39m\u001b[38;5;241m1\u001b[39m]\n\u001b[1;32m    746\u001b[0m \u001b[38;5;28mself\u001b[39m\u001b[38;5;241m.\u001b[39mindex \u001b[38;5;241m=\u001b[39m index\n",
            "File \u001b[0;32m/opt/homebrew/Caskroom/miniforge/base/envs/ogi/lib/python3.9/site-packages/pycaret/internal/preprocess/preprocessor.py:165\u001b[0m, in \u001b[0;36mPreprocessor._prepare_dataset\u001b[0;34m(self, X, y)\u001b[0m\n\u001b[1;32m    163\u001b[0m \u001b[38;5;66;03m# Check that y has no missing values\u001b[39;00m\n\u001b[1;32m    164\u001b[0m \u001b[38;5;28;01mif\u001b[39;00m y\u001b[38;5;241m.\u001b[39misna()\u001b[38;5;241m.\u001b[39many():\n\u001b[0;32m--> 165\u001b[0m     \u001b[38;5;28;01mraise\u001b[39;00m \u001b[38;5;167;01mValueError\u001b[39;00m(\n\u001b[1;32m    166\u001b[0m         \u001b[38;5;124mf\u001b[39m\u001b[38;5;124m\"\u001b[39m\u001b[38;5;132;01m{\u001b[39;00my\u001b[38;5;241m.\u001b[39misna()\u001b[38;5;241m.\u001b[39msum()\u001b[38;5;132;01m}\u001b[39;00m\u001b[38;5;124m missing values found in the target column: \u001b[39m\u001b[38;5;124m\"\u001b[39m\n\u001b[1;32m    167\u001b[0m         \u001b[38;5;124mf\u001b[39m\u001b[38;5;124m\"\u001b[39m\u001b[38;5;132;01m{\u001b[39;00my\u001b[38;5;241m.\u001b[39mname\u001b[38;5;132;01m}\u001b[39;00m\u001b[38;5;124m. To proceed, remove the respective rows from the data. \u001b[39m\u001b[38;5;124m\"\u001b[39m\n\u001b[1;32m    168\u001b[0m     )\n\u001b[1;32m    170\u001b[0m \u001b[38;5;28;01mreturn\u001b[39;00m df_shrink_dtypes(\n\u001b[1;32m    171\u001b[0m     X\u001b[38;5;241m.\u001b[39mmerge(y\u001b[38;5;241m.\u001b[39mto_frame(), left_index\u001b[38;5;241m=\u001b[39m\u001b[38;5;28;01mTrue\u001b[39;00m, right_index\u001b[38;5;241m=\u001b[39m\u001b[38;5;28;01mTrue\u001b[39;00m)\n\u001b[1;32m    172\u001b[0m )\n",
            "\u001b[0;31mValueError\u001b[0m: 3222 missing values found in the target column: readmitted_stay. To proceed, remove the respective rows from the data. "
          ]
        }
      ],
      "source": [
        "# Configurem entorn PyCaret\n",
        "\n",
        "clf = setup(data=df, target='readmitted_stay', session_id=123, verbose=True)"
      ]
    },
    {
      "cell_type": "code",
      "execution_count": 46,
      "metadata": {},
      "outputs": [
        {
          "name": "stdout",
          "output_type": "stream",
          "text": [
            "\n",
            "Comparant models........ esperant........ pot tardar uns minuts...\n"
          ]
        },
        {
          "ename": "RuntimeError",
          "evalue": "This function/method requires the users to run setup() first.\nMore info: https://pycaret.gitbook.io/docs/get-started/quickstart",
          "output_type": "error",
          "traceback": [
            "\u001b[0;31m---------------------------------------------------------------------------\u001b[0m",
            "\u001b[0;31mRuntimeError\u001b[0m                              Traceback (most recent call last)",
            "Cell \u001b[0;32mIn[46], line 3\u001b[0m\n\u001b[1;32m      1\u001b[0m \u001b[38;5;66;03m# Paso 4: Comparar Modelos\u001b[39;00m\n\u001b[1;32m      2\u001b[0m \u001b[38;5;28mprint\u001b[39m(\u001b[38;5;124m\"\u001b[39m\u001b[38;5;130;01m\\n\u001b[39;00m\u001b[38;5;124mComparant models........ esperant........ pot tardar uns minuts...\u001b[39m\u001b[38;5;124m\"\u001b[39m)\n\u001b[0;32m----> 3\u001b[0m best_model \u001b[38;5;241m=\u001b[39m \u001b[43mcompare_models\u001b[49m\u001b[43m(\u001b[49m\u001b[43m)\u001b[49m\n",
            "File \u001b[0;32m~/Library/Python/3.9/lib/python/site-packages/pycaret/utils/generic.py:964\u001b[0m, in \u001b[0;36mcheck_if_global_is_not_none.<locals>.decorator.<locals>.wrapper\u001b[0;34m(*args, **kwargs)\u001b[0m\n\u001b[1;32m    962\u001b[0m     \u001b[38;5;28;01mif\u001b[39;00m globals_d[name] \u001b[38;5;129;01mis\u001b[39;00m \u001b[38;5;28;01mNone\u001b[39;00m:\n\u001b[1;32m    963\u001b[0m         \u001b[38;5;28;01mraise\u001b[39;00m \u001b[38;5;167;01mValueError\u001b[39;00m(message)\n\u001b[0;32m--> 964\u001b[0m \u001b[38;5;28;01mreturn\u001b[39;00m \u001b[43mfunc\u001b[49m\u001b[43m(\u001b[49m\u001b[38;5;241;43m*\u001b[39;49m\u001b[43margs\u001b[49m\u001b[43m,\u001b[49m\u001b[43m \u001b[49m\u001b[38;5;241;43m*\u001b[39;49m\u001b[38;5;241;43m*\u001b[39;49m\u001b[43mkwargs\u001b[49m\u001b[43m)\u001b[49m\n",
            "File \u001b[0;32m~/Library/Python/3.9/lib/python/site-packages/pycaret/classification/functional.py:814\u001b[0m, in \u001b[0;36mcompare_models\u001b[0;34m(include, exclude, fold, round, cross_validation, sort, n_select, budget_time, turbo, errors, fit_kwargs, groups, experiment_custom_tags, probability_threshold, engine, verbose, parallel)\u001b[0m\n\u001b[1;32m    672\u001b[0m \u001b[38;5;129m@check_if_global_is_not_none\u001b[39m(\u001b[38;5;28mglobals\u001b[39m(), _CURRENT_EXPERIMENT_DECORATOR_DICT)\n\u001b[1;32m    673\u001b[0m \u001b[38;5;28;01mdef\u001b[39;00m\u001b[38;5;250m \u001b[39m\u001b[38;5;21mcompare_models\u001b[39m(\n\u001b[1;32m    674\u001b[0m     include: Optional[List[Union[\u001b[38;5;28mstr\u001b[39m, Any]]] \u001b[38;5;241m=\u001b[39m \u001b[38;5;28;01mNone\u001b[39;00m,\n\u001b[0;32m   (...)\u001b[0m\n\u001b[1;32m    690\u001b[0m     parallel: Optional[ParallelBackend] \u001b[38;5;241m=\u001b[39m \u001b[38;5;28;01mNone\u001b[39;00m,\n\u001b[1;32m    691\u001b[0m ) \u001b[38;5;241m-\u001b[39m\u001b[38;5;241m>\u001b[39m Union[Any, List[Any]]:\n\u001b[1;32m    692\u001b[0m \u001b[38;5;250m    \u001b[39m\u001b[38;5;124;03m\"\"\"\u001b[39;00m\n\u001b[1;32m    693\u001b[0m \u001b[38;5;124;03m    This function trains and evaluates performance of all estimators available in the\u001b[39;00m\n\u001b[1;32m    694\u001b[0m \u001b[38;5;124;03m    model library using cross validation. The output of this function is a score grid\u001b[39;00m\n\u001b[0;32m   (...)\u001b[0m\n\u001b[1;32m    811\u001b[0m \u001b[38;5;124;03m    - No models are logged in ``MLFlow`` when ``cross_validation`` parameter is False.\u001b[39;00m\n\u001b[1;32m    812\u001b[0m \u001b[38;5;124;03m    \"\"\"\u001b[39;00m\n\u001b[0;32m--> 814\u001b[0m     \u001b[38;5;28;01mreturn\u001b[39;00m \u001b[43m_CURRENT_EXPERIMENT\u001b[49m\u001b[38;5;241;43m.\u001b[39;49m\u001b[43mcompare_models\u001b[49m\u001b[43m(\u001b[49m\n\u001b[1;32m    815\u001b[0m \u001b[43m        \u001b[49m\u001b[43minclude\u001b[49m\u001b[38;5;241;43m=\u001b[39;49m\u001b[43minclude\u001b[49m\u001b[43m,\u001b[49m\n\u001b[1;32m    816\u001b[0m \u001b[43m        \u001b[49m\u001b[43mexclude\u001b[49m\u001b[38;5;241;43m=\u001b[39;49m\u001b[43mexclude\u001b[49m\u001b[43m,\u001b[49m\n\u001b[1;32m    817\u001b[0m \u001b[43m        \u001b[49m\u001b[43mfold\u001b[49m\u001b[38;5;241;43m=\u001b[39;49m\u001b[43mfold\u001b[49m\u001b[43m,\u001b[49m\n\u001b[1;32m    818\u001b[0m \u001b[43m        \u001b[49m\u001b[38;5;28;43mround\u001b[39;49m\u001b[38;5;241;43m=\u001b[39;49m\u001b[38;5;28;43mround\u001b[39;49m\u001b[43m,\u001b[49m\n\u001b[1;32m    819\u001b[0m \u001b[43m        \u001b[49m\u001b[43mcross_validation\u001b[49m\u001b[38;5;241;43m=\u001b[39;49m\u001b[43mcross_validation\u001b[49m\u001b[43m,\u001b[49m\n\u001b[1;32m    820\u001b[0m \u001b[43m        \u001b[49m\u001b[43msort\u001b[49m\u001b[38;5;241;43m=\u001b[39;49m\u001b[43msort\u001b[49m\u001b[43m,\u001b[49m\n\u001b[1;32m    821\u001b[0m \u001b[43m        \u001b[49m\u001b[43mn_select\u001b[49m\u001b[38;5;241;43m=\u001b[39;49m\u001b[43mn_select\u001b[49m\u001b[43m,\u001b[49m\n\u001b[1;32m    822\u001b[0m \u001b[43m        \u001b[49m\u001b[43mbudget_time\u001b[49m\u001b[38;5;241;43m=\u001b[39;49m\u001b[43mbudget_time\u001b[49m\u001b[43m,\u001b[49m\n\u001b[1;32m    823\u001b[0m \u001b[43m        \u001b[49m\u001b[43mturbo\u001b[49m\u001b[38;5;241;43m=\u001b[39;49m\u001b[43mturbo\u001b[49m\u001b[43m,\u001b[49m\n\u001b[1;32m    824\u001b[0m \u001b[43m        \u001b[49m\u001b[43merrors\u001b[49m\u001b[38;5;241;43m=\u001b[39;49m\u001b[43merrors\u001b[49m\u001b[43m,\u001b[49m\n\u001b[1;32m    825\u001b[0m \u001b[43m        \u001b[49m\u001b[43mfit_kwargs\u001b[49m\u001b[38;5;241;43m=\u001b[39;49m\u001b[43mfit_kwargs\u001b[49m\u001b[43m,\u001b[49m\n\u001b[1;32m    826\u001b[0m \u001b[43m        \u001b[49m\u001b[43mgroups\u001b[49m\u001b[38;5;241;43m=\u001b[39;49m\u001b[43mgroups\u001b[49m\u001b[43m,\u001b[49m\n\u001b[1;32m    827\u001b[0m \u001b[43m        \u001b[49m\u001b[43mexperiment_custom_tags\u001b[49m\u001b[38;5;241;43m=\u001b[39;49m\u001b[43mexperiment_custom_tags\u001b[49m\u001b[43m,\u001b[49m\n\u001b[1;32m    828\u001b[0m \u001b[43m        \u001b[49m\u001b[43mprobability_threshold\u001b[49m\u001b[38;5;241;43m=\u001b[39;49m\u001b[43mprobability_threshold\u001b[49m\u001b[43m,\u001b[49m\n\u001b[1;32m    829\u001b[0m \u001b[43m        \u001b[49m\u001b[43mengine\u001b[49m\u001b[38;5;241;43m=\u001b[39;49m\u001b[43mengine\u001b[49m\u001b[43m,\u001b[49m\n\u001b[1;32m    830\u001b[0m \u001b[43m        \u001b[49m\u001b[43mverbose\u001b[49m\u001b[38;5;241;43m=\u001b[39;49m\u001b[43mverbose\u001b[49m\u001b[43m,\u001b[49m\n\u001b[1;32m    831\u001b[0m \u001b[43m        \u001b[49m\u001b[43mparallel\u001b[49m\u001b[38;5;241;43m=\u001b[39;49m\u001b[43mparallel\u001b[49m\u001b[43m,\u001b[49m\n\u001b[1;32m    832\u001b[0m \u001b[43m    \u001b[49m\u001b[43m)\u001b[49m\n",
            "File \u001b[0;32m~/Library/Python/3.9/lib/python/site-packages/pycaret/classification/oop.py:1180\u001b[0m, in \u001b[0;36mClassificationExperiment.compare_models\u001b[0;34m(self, include, exclude, fold, round, cross_validation, sort, n_select, budget_time, turbo, errors, fit_kwargs, groups, experiment_custom_tags, probability_threshold, engine, verbose, parallel)\u001b[0m\n\u001b[1;32m   1177\u001b[0m         \u001b[38;5;28mself\u001b[39m\u001b[38;5;241m.\u001b[39m_set_engine(estimator\u001b[38;5;241m=\u001b[39mestimator, engine\u001b[38;5;241m=\u001b[39meng, severity\u001b[38;5;241m=\u001b[39m\u001b[38;5;124m\"\u001b[39m\u001b[38;5;124merror\u001b[39m\u001b[38;5;124m\"\u001b[39m)\n\u001b[1;32m   1179\u001b[0m \u001b[38;5;28;01mtry\u001b[39;00m:\n\u001b[0;32m-> 1180\u001b[0m     return_values \u001b[38;5;241m=\u001b[39m \u001b[38;5;28;43msuper\u001b[39;49m\u001b[43m(\u001b[49m\u001b[43m)\u001b[49m\u001b[38;5;241;43m.\u001b[39;49m\u001b[43mcompare_models\u001b[49m\u001b[43m(\u001b[49m\n\u001b[1;32m   1181\u001b[0m \u001b[43m        \u001b[49m\u001b[43minclude\u001b[49m\u001b[38;5;241;43m=\u001b[39;49m\u001b[43minclude\u001b[49m\u001b[43m,\u001b[49m\n\u001b[1;32m   1182\u001b[0m \u001b[43m        \u001b[49m\u001b[43mexclude\u001b[49m\u001b[38;5;241;43m=\u001b[39;49m\u001b[43mexclude\u001b[49m\u001b[43m,\u001b[49m\n\u001b[1;32m   1183\u001b[0m \u001b[43m        \u001b[49m\u001b[43mfold\u001b[49m\u001b[38;5;241;43m=\u001b[39;49m\u001b[43mfold\u001b[49m\u001b[43m,\u001b[49m\n\u001b[1;32m   1184\u001b[0m \u001b[43m        \u001b[49m\u001b[38;5;28;43mround\u001b[39;49m\u001b[38;5;241;43m=\u001b[39;49m\u001b[38;5;28;43mround\u001b[39;49m\u001b[43m,\u001b[49m\n\u001b[1;32m   1185\u001b[0m \u001b[43m        \u001b[49m\u001b[43mcross_validation\u001b[49m\u001b[38;5;241;43m=\u001b[39;49m\u001b[43mcross_validation\u001b[49m\u001b[43m,\u001b[49m\n\u001b[1;32m   1186\u001b[0m \u001b[43m        \u001b[49m\u001b[43msort\u001b[49m\u001b[38;5;241;43m=\u001b[39;49m\u001b[43msort\u001b[49m\u001b[43m,\u001b[49m\n\u001b[1;32m   1187\u001b[0m \u001b[43m        \u001b[49m\u001b[43mn_select\u001b[49m\u001b[38;5;241;43m=\u001b[39;49m\u001b[43mn_select\u001b[49m\u001b[43m,\u001b[49m\n\u001b[1;32m   1188\u001b[0m \u001b[43m        \u001b[49m\u001b[43mbudget_time\u001b[49m\u001b[38;5;241;43m=\u001b[39;49m\u001b[43mbudget_time\u001b[49m\u001b[43m,\u001b[49m\n\u001b[1;32m   1189\u001b[0m \u001b[43m        \u001b[49m\u001b[43mturbo\u001b[49m\u001b[38;5;241;43m=\u001b[39;49m\u001b[43mturbo\u001b[49m\u001b[43m,\u001b[49m\n\u001b[1;32m   1190\u001b[0m \u001b[43m        \u001b[49m\u001b[43merrors\u001b[49m\u001b[38;5;241;43m=\u001b[39;49m\u001b[43merrors\u001b[49m\u001b[43m,\u001b[49m\n\u001b[1;32m   1191\u001b[0m \u001b[43m        \u001b[49m\u001b[43mfit_kwargs\u001b[49m\u001b[38;5;241;43m=\u001b[39;49m\u001b[43mfit_kwargs\u001b[49m\u001b[43m,\u001b[49m\n\u001b[1;32m   1192\u001b[0m \u001b[43m        \u001b[49m\u001b[43mgroups\u001b[49m\u001b[38;5;241;43m=\u001b[39;49m\u001b[43mgroups\u001b[49m\u001b[43m,\u001b[49m\n\u001b[1;32m   1193\u001b[0m \u001b[43m        \u001b[49m\u001b[43mexperiment_custom_tags\u001b[49m\u001b[38;5;241;43m=\u001b[39;49m\u001b[43mexperiment_custom_tags\u001b[49m\u001b[43m,\u001b[49m\n\u001b[1;32m   1194\u001b[0m \u001b[43m        \u001b[49m\u001b[43mverbose\u001b[49m\u001b[38;5;241;43m=\u001b[39;49m\u001b[43mverbose\u001b[49m\u001b[43m,\u001b[49m\n\u001b[1;32m   1195\u001b[0m \u001b[43m        \u001b[49m\u001b[43mprobability_threshold\u001b[49m\u001b[38;5;241;43m=\u001b[39;49m\u001b[43mprobability_threshold\u001b[49m\u001b[43m,\u001b[49m\n\u001b[1;32m   1196\u001b[0m \u001b[43m        \u001b[49m\u001b[43mparallel\u001b[49m\u001b[38;5;241;43m=\u001b[39;49m\u001b[43mparallel\u001b[49m\u001b[43m,\u001b[49m\n\u001b[1;32m   1197\u001b[0m \u001b[43m        \u001b[49m\u001b[43mcaller_params\u001b[49m\u001b[38;5;241;43m=\u001b[39;49m\u001b[43mcaller_params\u001b[49m\u001b[43m,\u001b[49m\n\u001b[1;32m   1198\u001b[0m \u001b[43m    \u001b[49m\u001b[43m)\u001b[49m\n\u001b[1;32m   1199\u001b[0m \u001b[38;5;28;01mfinally\u001b[39;00m:\n\u001b[1;32m   1200\u001b[0m     \u001b[38;5;28;01mif\u001b[39;00m engine \u001b[38;5;129;01mis\u001b[39;00m \u001b[38;5;129;01mnot\u001b[39;00m \u001b[38;5;28;01mNone\u001b[39;00m:\n\u001b[1;32m   1201\u001b[0m         \u001b[38;5;66;03m# Reset the models back to the default engines\u001b[39;00m\n",
            "File \u001b[0;32m~/Library/Python/3.9/lib/python/site-packages/pycaret/internal/pycaret_experiment/supervised_experiment.py:532\u001b[0m, in \u001b[0;36m_SupervisedExperiment.compare_models\u001b[0;34m(self, include, exclude, fold, round, cross_validation, sort, n_select, budget_time, turbo, errors, fit_kwargs, groups, experiment_custom_tags, probability_threshold, verbose, parallel, caller_params)\u001b[0m\n\u001b[1;32m    370\u001b[0m \u001b[38;5;28;01mdef\u001b[39;00m\u001b[38;5;250m \u001b[39m\u001b[38;5;21mcompare_models\u001b[39m(\n\u001b[1;32m    371\u001b[0m     \u001b[38;5;28mself\u001b[39m,\n\u001b[1;32m    372\u001b[0m     include: Optional[\n\u001b[0;32m   (...)\u001b[0m\n\u001b[1;32m    392\u001b[0m     caller_params: Optional[\u001b[38;5;28mdict\u001b[39m] \u001b[38;5;241m=\u001b[39m \u001b[38;5;28;01mNone\u001b[39;00m,\n\u001b[1;32m    393\u001b[0m ) \u001b[38;5;241m-\u001b[39m\u001b[38;5;241m>\u001b[39m List[Any]:\n\u001b[1;32m    394\u001b[0m \u001b[38;5;250m    \u001b[39m\u001b[38;5;124;03m\"\"\"\u001b[39;00m\n\u001b[1;32m    395\u001b[0m \u001b[38;5;124;03m    This function train all the models available in the model library and scores them\u001b[39;00m\n\u001b[1;32m    396\u001b[0m \u001b[38;5;124;03m    using Cross Validation. The output prints a score grid with Accuracy,\u001b[39;00m\n\u001b[0;32m   (...)\u001b[0m\n\u001b[1;32m    530\u001b[0m \n\u001b[1;32m    531\u001b[0m \u001b[38;5;124;03m    \"\"\"\u001b[39;00m\n\u001b[0;32m--> 532\u001b[0m     \u001b[38;5;28;43mself\u001b[39;49m\u001b[38;5;241;43m.\u001b[39;49m\u001b[43m_check_setup_ran\u001b[49m\u001b[43m(\u001b[49m\u001b[43m)\u001b[49m\n\u001b[1;32m    534\u001b[0m     \u001b[38;5;28;01mif\u001b[39;00m parallel \u001b[38;5;129;01mis\u001b[39;00m \u001b[38;5;129;01mnot\u001b[39;00m \u001b[38;5;28;01mNone\u001b[39;00m:\n\u001b[1;32m    535\u001b[0m         \u001b[38;5;28;01mreturn\u001b[39;00m \u001b[38;5;28mself\u001b[39m\u001b[38;5;241m.\u001b[39m_parallel_compare_models(parallel, caller_params, turbo\u001b[38;5;241m=\u001b[39mturbo)\n",
            "File \u001b[0;32m~/Library/Python/3.9/lib/python/site-packages/pycaret/internal/pycaret_experiment/pycaret_experiment.py:138\u001b[0m, in \u001b[0;36m_PyCaretExperiment._check_setup_ran\u001b[0;34m(self)\u001b[0m\n\u001b[1;32m    127\u001b[0m \u001b[38;5;250m\u001b[39m\u001b[38;5;124;03m\"\"\"Checks to see if setup has been run or not. If it has not been run, then\u001b[39;00m\n\u001b[1;32m    128\u001b[0m \u001b[38;5;124;03man error is raised. Useful for operations that require setup to be run before\u001b[39;00m\n\u001b[1;32m    129\u001b[0m \u001b[38;5;124;03mthey can be executed. e.g. in some experiments, setup must be run first before\u001b[39;00m\n\u001b[0;32m   (...)\u001b[0m\n\u001b[1;32m    135\u001b[0m \u001b[38;5;124;03m    If setup has not been run.\u001b[39;00m\n\u001b[1;32m    136\u001b[0m \u001b[38;5;124;03m\"\"\"\u001b[39;00m\n\u001b[1;32m    137\u001b[0m \u001b[38;5;28;01mif\u001b[39;00m \u001b[38;5;129;01mnot\u001b[39;00m \u001b[38;5;28mself\u001b[39m\u001b[38;5;241m.\u001b[39m_setup_ran:\n\u001b[0;32m--> 138\u001b[0m     \u001b[38;5;28;01mraise\u001b[39;00m \u001b[38;5;167;01mRuntimeError\u001b[39;00m(\n\u001b[1;32m    139\u001b[0m         \u001b[38;5;124m\"\u001b[39m\u001b[38;5;124mThis function/method requires the users to run setup() first.\u001b[39m\u001b[38;5;124m\"\u001b[39m\n\u001b[1;32m    140\u001b[0m         \u001b[38;5;124m\"\u001b[39m\u001b[38;5;130;01m\\n\u001b[39;00m\u001b[38;5;124mMore info: https://pycaret.gitbook.io/docs/get-started/quickstart\u001b[39m\u001b[38;5;124m\"\u001b[39m\n\u001b[1;32m    141\u001b[0m     )\n",
            "\u001b[0;31mRuntimeError\u001b[0m: This function/method requires the users to run setup() first.\nMore info: https://pycaret.gitbook.io/docs/get-started/quickstart"
          ]
        }
      ],
      "source": [
        "# Paso 4: Comparar Modelos\n",
        "print(\"\\nComparant models........ esperant........ pot tardar uns minuts...\")\n",
        "best_model = compare_models()"
      ]
    },
    {
      "cell_type": "code",
      "execution_count": 59,
      "metadata": {},
      "outputs": [
        {
          "name": "stdout",
          "output_type": "stream",
          "text": [
            "              precision    recall  f1-score   support\n",
            "\n",
            "           0       1.00      1.00      1.00       806\n",
            "           1       1.00      1.00      1.00       234\n",
            "\n",
            "    accuracy                           1.00      1040\n",
            "   macro avg       1.00      1.00      1.00      1040\n",
            "weighted avg       1.00      1.00      1.00      1040\n",
            "\n",
            "AUC: 1.0\n"
          ]
        }
      ],
      "source": [
        "from sklearn.ensemble import RandomForestClassifier\n",
        "from sklearn.metrics import classification_report, roc_auc_score\n",
        "\n",
        "X = features_scaled\n",
        "y = df['readmitted']\n",
        "\n",
        "X_train, X_test, y_train, y_test = train_test_split(X, y, stratify=y)\n",
        "\n",
        "model = RandomForestClassifier(n_estimators=100)\n",
        "model.fit(X_train, y_train)\n",
        "\n",
        "y_pred = model.predict(X_test)\n",
        "y_proba = model.predict_proba(X_test)[:,1]\n",
        "\n",
        "print(classification_report(y_test, y_pred))\n",
        "print(\"AUC:\", roc_auc_score(y_test, y_proba))"
      ]
    },
    {
      "cell_type": "markdown",
      "metadata": {},
      "source": [
        "## 5. 📈 Visualización de Resultados"
      ]
    },
    {
      "cell_type": "code",
      "execution_count": 39,
      "metadata": {},
      "outputs": [
        {
          "data": {
            "image/png": "[encoded data removed]",
            "text/plain": [
              "<Figure size 800x550 with 1 Axes>"
            ]
          },
          "metadata": {},
          "output_type": "display_data"
        }
      ],
      "source": [
        "import matplotlib.pyplot as plt\n",
        "from sklearn.metrics import roc_curve\n",
        "\n",
        "fpr, tpr, _ = roc_curve(y_test, y_proba)\n",
        "plt.plot(fpr, tpr)\n",
        "plt.xlabel(\"FPR\")\n",
        "plt.ylabel(\"TPR\")\n",
        "plt.title(\"Curva ROC\")\n",
        "plt.show()"
      ]
    },
    {
      "cell_type": "code",
      "execution_count": null,
      "metadata": {},
      "outputs": [],
      "source": []
    },
    {
      "cell_type": "code",
      "execution_count": null,
      "metadata": {},
      "outputs": [],
      "source": []
    },
    {
      "cell_type": "markdown",
      "metadata": {},
      "source": [
        "## 6. 🚀 Despliegue (Futuro)\n",
        "Se puede utilizar Hugging Face Spaces o Streamlit Cloud para desplegar un frontend que permita:\n",
        "- Cargar variables clínicas\n",
        "- Obtener un score de riesgo\n",
        "- Visualizar el gráfico ROC o una matriz de confusión"
      ]
    }
  ],
  "metadata": {
    "kernelspec": {
      "display_name": "ogi",
      "language": "python",
      "name": "python3"
    },
    "language_info": {
      "codemirror_mode": {
        "name": "ipython",
        "version": 3
      },
      "file_extension": ".py",
      "mimetype": "text/x-python",
      "name": "python",
      "nbconvert_exporter": "python",
      "pygments_lexer": "ipython3",
      "version": "3.9.22"
    }
  },
  "nbformat": 4,
  "nbformat_minor": 2
}
