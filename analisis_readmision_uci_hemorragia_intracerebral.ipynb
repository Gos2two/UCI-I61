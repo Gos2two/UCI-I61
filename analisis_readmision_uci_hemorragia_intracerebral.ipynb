{
  "cells": [
    {
      "cell_type": "markdown",
      "metadata": {},
      "source": [
        "# 🧠 Análisis de la Readmisión a la UCI en Pacientes con Hemorragia Intracerebral (MIMIC-IV)"
      ]
    },
    {
      "cell_type": "markdown",
      "metadata": {},
      "source": [
        "## 1. 🔧 Configuración Inicial"
      ]
    },
    {
      "cell_type": "code",
      "execution_count": null,
      "metadata": {},
      "outputs": [
        {
          "name": "stderr",
          "output_type": "stream",
          "text": [
            "/Users/marc/Library/Python/3.9/lib/python/site-packages/urllib3/__init__.py:35: NotOpenSSLWarning: urllib3 v2 only supports OpenSSL 1.1.1+, currently the 'ssl' module is compiled with 'LibreSSL 2.8.3'. See: https://github.com/urllib3/urllib3/issues/3020\n",
            "  warnings.warn(\n"
          ]
        },
        {
          "name": "stdout",
          "output_type": "stream",
          "text": [
            "Hello, World!\n"
          ]
        }
      ],
      "source": [
        "from google.cloud import bigquery\n",
        "from google.oauth2 import service_account\n",
        "\n",
        "# Path to your service account key file\n",
        "SERVICE_ACCOUNT_FILE = \"mimic-sergi.json\"\n",
        "PROJECT_ID = \"ogi-uci-i61\"\n",
        "\n",
        "# Create credentials and client\n",
        "credentials = service_account.Credentials.from_service_account_file(\n",
        "    SERVICE_ACCOUNT_FILE)\n",
        "\n",
        "client = bigquery.Client(credentials=credentials, project=PROJECT_ID)\n",
        "\n",
        "# Example query\n",
        "query = \"SELECT 'Hello, World!' AS greeting\"\n",
        "query_job = client.query(query)\n",
        "\n",
        "# Fetch results\n",
        "results = query_job.result()\n",
        "\n",
        "for row in results:\n",
        "    print(row.greeting)"
      ]
    },
    {
      "cell_type": "markdown",
      "metadata": {},
      "source": [
        "## 2. 📦 Extracción de Datos"
      ]
    },
    {
      "cell_type": "code",
      "execution_count": 34,
      "metadata": {},
      "outputs": [
        {
          "name": "stderr",
          "output_type": "stream",
          "text": [
            "/Users/marc/Library/Python/3.9/lib/python/site-packages/google/cloud/bigquery/table.py:1933: UserWarning: BigQuery Storage module not found, fetch data with the REST endpoint instead.\n",
            "  warnings.warn(\n"
          ]
        }
      ],
      "source": [
        "query = \"\"\"\n",
        "SELECT\n",
        "  a.subject_id,\n",
        "  a.hadm_id,\n",
        "  a.stay_id,\n",
        "  p.gender,\n",
        "  a.intime,\n",
        "  a.outtime,\n",
        "  i.icd_code,\n",
        "  d.icd_version,\n",
        "  d.long_title,\n",
        "  s.gcs_verbal,\n",
        "  s.gcs_motor,\n",
        "  s.gcs_eyes,\n",
        "  vitals.heart_rate,\n",
        "  vitals.mbp,\n",
        "  vitals.resp_rate,\n",
        "  vitals.temperature,\n",
        "  vitals.spo2,\n",
        "  readmit.stay_id AS readmitted_stay\n",
        "FROM\n",
        "  `ogi-uci-i61.mimiciv_icu.icustays` a\n",
        "JOIN\n",
        "  `ogi-uci-i61.mimiciv_hosp.patients` p\n",
        "  ON a.subject_id = p.subject_id\n",
        "JOIN\n",
        "  `ogi-uci-i61.mimiciv_hosp.diagnoses_icd` i\n",
        "  ON a.hadm_id = i.hadm_id\n",
        "JOIN\n",
        "  `ogi-uci-i61.mimiciv_hosp.d_icd_diagnoses` d\n",
        "  ON i.icd_code = d.icd_code AND i.icd_version = d.icd_version\n",
        "LEFT JOIN (\n",
        "  -- Select first GCS per stay\n",
        "  SELECT\n",
        "    stay_id,\n",
        "    gcs_verbal,\n",
        "    gcs_motor,\n",
        "    gcs_eyes,\n",
        "    ROW_NUMBER() OVER (PARTITION BY stay_id ORDER BY charttime) AS rn\n",
        "  FROM\n",
        "    `ogi-uci-i61.mimiciv_derived.gcs`\n",
        ") s\n",
        "  ON a.stay_id = s.stay_id AND s.rn = 1\n",
        "LEFT JOIN (\n",
        "  -- Select first vitals per stay\n",
        "  SELECT\n",
        "    stay_id,\n",
        "    heart_rate,\n",
        "    mbp,\n",
        "    resp_rate,\n",
        "    temperature,\n",
        "    spo2,\n",
        "    ROW_NUMBER() OVER (PARTITION BY stay_id ORDER BY charttime) AS rn\n",
        "  FROM\n",
        "    `ogi-uci-i61.mimiciv_derived.vitalsign`\n",
        ") vitals\n",
        "  ON a.stay_id = vitals.stay_id AND vitals.rn = 1\n",
        "LEFT JOIN (\n",
        "  -- Identify next stay as readmission\n",
        "  SELECT\n",
        "    a1.subject_id,\n",
        "    a1.stay_id,\n",
        "    MIN(a2.stay_id) AS readmitted_stay\n",
        "  FROM\n",
        "    `ogi-uci-i61.mimiciv_icu.icustays` a1\n",
        "  JOIN\n",
        "    `ogi-uci-i61.mimiciv_icu.icustays` a2\n",
        "    ON a1.subject_id = a2.subject_id\n",
        "    AND a2.intime > a1.outtime\n",
        "  GROUP BY\n",
        "    a1.subject_id, a1.stay_id\n",
        ") readmit\n",
        "  ON a.subject_id = readmit.subject_id AND a.stay_id = readmit.stay_id\n",
        "WHERE\n",
        "  LOWER(d.long_title) LIKE '%intracerebral hemorrhage%'\n",
        "\"\"\"\n",
        "df = client.query(query).to_dataframe()"
      ]
    },
    {
      "cell_type": "markdown",
      "metadata": {},
      "source": [
        "## 3. 🧽 Preprocesamiento\n",
        "\n"
      ]
    },
    {
      "cell_type": "code",
      "execution_count": 37,
      "metadata": {},
      "outputs": [
        {
          "name": "stdout",
          "output_type": "stream",
          "text": [
            "Nulls in readmitted_stay before fillna: 0\n",
            "readmitted_stay summary: count             4160.0\n",
            "mean     34967555.332212\n",
            "std       1366595.957037\n",
            "min           30024491.0\n",
            "25%           34949251.0\n",
            "50%           34949251.0\n",
            "75%           34949251.0\n",
            "max           39979862.0\n",
            "Name: readmitted_stay, dtype: Float64\n",
            "Class distribution in readmitted: readmitted\n",
            "1    4160\n",
            "Name: count, dtype: int64\n"
          ]
        },
        {
          "ename": "ValueError",
          "evalue": "readmitted has only one class. Redefine the target.",
          "output_type": "error",
          "traceback": [
            "\u001b[0;31m---------------------------------------------------------------------------\u001b[0m",
            "\u001b[0;31mValueError\u001b[0m                                Traceback (most recent call last)",
            "Cell \u001b[0;32mIn[37], line 15\u001b[0m\n\u001b[1;32m     13\u001b[0m \u001b[38;5;28mprint\u001b[39m(\u001b[38;5;124m\"\u001b[39m\u001b[38;5;124mClass distribution in readmitted:\u001b[39m\u001b[38;5;124m\"\u001b[39m, df[\u001b[38;5;124m'\u001b[39m\u001b[38;5;124mreadmitted\u001b[39m\u001b[38;5;124m'\u001b[39m]\u001b[38;5;241m.\u001b[39mvalue_counts())\n\u001b[1;32m     14\u001b[0m \u001b[38;5;28;01mif\u001b[39;00m \u001b[38;5;28mlen\u001b[39m(df[\u001b[38;5;124m'\u001b[39m\u001b[38;5;124mreadmitted\u001b[39m\u001b[38;5;124m'\u001b[39m]\u001b[38;5;241m.\u001b[39munique()) \u001b[38;5;241m<\u001b[39m \u001b[38;5;241m2\u001b[39m:\n\u001b[0;32m---> 15\u001b[0m     \u001b[38;5;28;01mraise\u001b[39;00m \u001b[38;5;167;01mValueError\u001b[39;00m(\u001b[38;5;124m\"\u001b[39m\u001b[38;5;124mreadmitted has only one class. Redefine the target.\u001b[39m\u001b[38;5;124m\"\u001b[39m)\n\u001b[1;32m     17\u001b[0m \u001b[38;5;66;03m# Identify integer columns\u001b[39;00m\n\u001b[1;32m     18\u001b[0m int_columns \u001b[38;5;241m=\u001b[39m df\u001b[38;5;241m.\u001b[39mselect_dtypes(include\u001b[38;5;241m=\u001b[39m[\u001b[38;5;124m'\u001b[39m\u001b[38;5;124mInt64\u001b[39m\u001b[38;5;124m'\u001b[39m, \u001b[38;5;124m'\u001b[39m\u001b[38;5;124mint64\u001b[39m\u001b[38;5;124m'\u001b[39m])\u001b[38;5;241m.\u001b[39mcolumns\n",
            "\u001b[0;31mValueError\u001b[0m: readmitted has only one class. Redefine the target."
          ]
        }
      ],
      "source": [
        "import pandas as pd\n",
        "from sklearn.preprocessing import StandardScaler\n",
        "from sklearn.model_selection import train_test_split\n",
        "\n",
        "# Inspect readmitted_stay\n",
        "print(\"Nulls in readmitted_stay before fillna:\", df['readmitted_stay'].isnull().sum())\n",
        "print(\"readmitted_stay summary:\", df['readmitted_stay'].describe())\n",
        "\n",
        "# Create readmitted (adjust based on readmitted_stay's meaning)\n",
        "df['readmitted'] = df['readmitted_stay'].notnull().astype(int)  # Or (df['readmitted_stay'] > 0).astype(int)\n",
        "\n",
        "# Verify readmitted\n",
        "print(\"Class distribution in readmitted:\", df['readmitted'].value_counts())\n",
        "if len(df['readmitted'].unique()) < 2:\n",
        "    raise ValueError(\"readmitted has only one class. Redefine the target.\")\n",
        "\n",
        "# Identify integer columns\n",
        "int_columns = df.select_dtypes(include=['Int64', 'int64']).columns\n",
        "\n",
        "# Fill NaNs with rounded medians for integer columns\n",
        "for col in int_columns:\n",
        "    median_val = df[col].median()\n",
        "    if not pd.isna(median_val):\n",
        "        df[col] = df[col].fillna(int(median_val))\n",
        "\n",
        "# Fill NaNs for other numeric columns, excluding readmitted_stay\n",
        "numeric_cols = df.select_dtypes(include='number').columns.difference(['readmitted_stay'])\n",
        "df[numeric_cols] = df[numeric_cols].fillna(df[numeric_cols].median())\n",
        "\n",
        "# Handle readmitted_stay separately\n",
        "df['readmitted_stay'] = df['readmitted_stay'].fillna(0)\n",
        "\n",
        "# Scale features\n",
        "# Inspect readmitted_stay\n",
        "print(\"Nulls in readmitted_stay before fillna:\", df['readmitted_stay'].isnull().sum())\n",
        "print(\"readmitted_stay summary:\", df['readmitted_stay'].describe())\n",
        "\n",
        "# Create readmitted (adjust based on readmitted_stay's meaning)\n",
        "df['readmitted'] = df['readmitted_stay'].notnull().astype(int)  # Or (df['readmitted_stay'] > 0).astype(int)\n",
        "\n",
        "# Verify readmitted\n",
        "print(\"Class distribution in readmitted:\", df['readmitted'].value_counts())\n",
        "if len(df['readmitted'].unique()) < 2:\n",
        "    raise ValueError(\"readmitted has only one class. Redefine the target.\")\n",
        "\n",
        "# Identify integer columns\n",
        "int_columns = df.select_dtypes(include=['Int64', 'int64']).columns\n",
        "\n",
        "# Fill NaNs with rounded medians for integer columns\n",
        "for col in int_columns:\n",
        "    median_val = df[col].median()\n",
        "    if not pd.isna(median_val):\n",
        "        df[col] = df[col].fillna(int(median_val))\n",
        "\n",
        "# Fill NaNs for other numeric columns, excluding readmitted_stay\n",
        "numeric_cols = df.select_dtypes(include='number').columns.difference(['readmitted_stay'])\n",
        "df[numeric_cols] = df[numeric_cols].fillna(df[numeric_cols].median())\n",
        "\n",
        "# Handle readmitted_stay separately\n",
        "df['readmitted_stay'] = df['readmitted_stay'].fillna(0)\n",
        "\n",
        "# Scale features\n",
        "\n",
        "scaler = StandardScaler()\n",
        "# Select numeric columns, excluding readmitted_stay and readmitted\n",
        "numeric_cols = df.select_dtypes(include='number').columns.difference(['readmitted_stay', 'readmitted'])\n",
        "features_scaled = scaler.fit_transform(df[numeric_cols])"
        "# Select numeric columns, excluding readmitted_stay and readmitted\n",
        "numeric_cols = df.select_dtypes(include='number').columns.difference(['readmitted_stay', 'readmitted'])\n",
        "features_scaled = scaler.fit_transform(df[numeric_cols])"
      ]
    },
    {
      "cell_type": "markdown",
      "metadata": {},
      "source": [
        "## 4. 📊 Modelado Predictivo"
      ]
    },
    {
      "cell_type": "code",
      "execution_count": 36,
      "metadata": {},
      "outputs": [
        {
          "name": "stdout",
          "output_type": "stream",
          "text": [
            "y value counts: readmitted\n",
            "0    3222\n",
            "1     938\n",
            "Name: count, dtype: int64\n",
            "y unique values: [1 0]\n",
            "              precision    recall  f1-score   support\n",
            "\n",
            "           0       0.80      0.99      0.89       806\n",
            "           1       0.84      0.16      0.27       234\n",
            "\n",
            "    accuracy                           0.80      1040\n",
            "   macro avg       0.82      0.57      0.58      1040\n",
            "weighted avg       0.81      0.80      0.75      1040\n",
            "\n",
            "AUC: 0.6376826578439483\n"
          ]
        }
      ],
      "source": [
        "from sklearn.ensemble import RandomForestClassifier\n",
        "from sklearn.metrics import classification_report, roc_auc_score\n",
        "\n",
        "y = df['readmitted']\n",
        "print(\"y value counts:\", y.value_counts())\n",
        "print(\"y unique values:\", y.unique())\n",
        "\n",
        "X = features_scaled\n",
        "\n",
        "X_train, X_test, y_train, y_test = train_test_split(X, y, stratify=y)\n",
        "\n",
        "model = RandomForestClassifier(n_estimators=100)\n",
        "model.fit(X_train, y_train)\n",
        "\n",
        "y_pred = model.predict(X_test)\n",
        "y_proba = model.predict_proba(X_test)[:,1]\n",
        "\n",
        "print(classification_report(y_test, y_pred))\n",
        "print(\"AUC:\", roc_auc_score(y_test, y_proba))"
      ]
    },
    {
      "cell_type": "code",
      "execution_count": null,
      "metadata": {},
      "outputs": [],
      "source": []
    },
    {
      "cell_type": "markdown",
      "metadata": {},
      "source": [
        "## 5. 📈 Visualización de Resultados"
      ]
    },
    {
      "cell_type": "code",
      "execution_count": 25,
      "metadata": {},
      "outputs": [
        {
          "data": {
            "image/png": "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",
            "text/plain": [
              "<Figure size 640x480 with 1 Axes>"
            ]
          },
          "metadata": {},
          "output_type": "display_data"
        }
      ],
      "source": [
        "import matplotlib.pyplot as plt\n",
        "from sklearn.metrics import roc_curve\n",
        "\n",
        "fpr, tpr, _ = roc_curve(y_test, y_proba)\n",
        "plt.plot(fpr, tpr)\n",
        "plt.xlabel(\"FPR\")\n",
        "plt.ylabel(\"TPR\")\n",
        "plt.title(\"Curva ROC\")\n",
        "plt.show()"
      ]
    },
    {
      "cell_type": "markdown",
      "metadata": {},
      "source": [
        "## 6. 🚀 Despliegue (Futuro)\n",
        "Se puede utilizar Hugging Face Spaces o Streamlit Cloud para desplegar un frontend que permita:\n",
        "- Cargar variables clínicas\n",
        "- Obtener un score de riesgo\n",
        "- Visualizar el gráfico ROC o una matriz de confusión"
      ]
    }
  ],
  "metadata": {
    "kernelspec": {
      "display_name": "Python 3",
      "language": "python",
      "name": "python3"
    },
    "language_info": {
      "codemirror_mode": {
        "name": "ipython",
        "version": 3
      },
      "file_extension": ".py",
      "mimetype": "text/x-python",
      "name": "python",
      "nbconvert_exporter": "python",
      "pygments_lexer": "ipython3",
      "version": "3.9.6"
    }
  },
  "nbformat": 4,
  "nbformat_minor": 2
}
